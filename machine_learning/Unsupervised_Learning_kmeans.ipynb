{
  "nbformat": 4,
  "nbformat_minor": 0,
  "metadata": {
    "colab": {
      "private_outputs": true,
      "provenance": [],
      "authorship_tag": "ABX9TyNoHb6rBAwhZ1BzqX2wcsOl",
      "include_colab_link": true
    },
    "kernelspec": {
      "name": "python3",
      "display_name": "Python 3"
    },
    "language_info": {
      "name": "python"
    }
  },
  "cells": [
    {
      "cell_type": "markdown",
      "metadata": {
        "id": "view-in-github",
        "colab_type": "text"
      },
      "source": [
        "<a href=\"https://colab.research.google.com/github/mayait/ClaseAnalisisDatos/blob/main/machine_learning/Unsupervised_Learning_kmeans.ipynb\" target=\"_parent\"><img src=\"https://colab.research.google.com/assets/colab-badge.svg\" alt=\"Open In Colab\"/></a>"
      ]
    },
    {
      "cell_type": "code",
      "execution_count": null,
      "metadata": {
        "id": "iu9XDht394sN"
      },
      "outputs": [],
      "source": [
        "import matplotlib.pyplot as plt\n",
        "from sklearn.datasets import load_iris\n",
        "import numpy as np\n",
        "import pandas as pd\n",
        "\n"
      ]
    },
    {
      "cell_type": "code",
      "source": [
        "# @title Setup\n",
        "\n",
        "# Iris\n",
        "iris = load_iris()\n",
        "iris_data = iris.data\n",
        "\n",
        "# Points\n",
        "from sklearn.datasets import make_blobs\n",
        "points, _ = make_blobs(n_samples=300, centers=3, cluster_std=0.50, random_state=0)\n",
        "new_points, _ = make_blobs(n_samples=60, centers=3, cluster_std=0.20, random_state=0)\n",
        "\n",
        "# Grains\n",
        "grains = pd.read_csv('https://raw.githubusercontent.com/mayait/ClaseAnalisisDatos/main/machine_learning/datasets/grains.csv')\n",
        "samples = grains.iloc[:, 0:7].to_numpy()\n",
        "varieties = grains.iloc[:, 8].to_numpy()"
      ],
      "metadata": {
        "id": "TL9gwyEG-ZOI"
      },
      "execution_count": null,
      "outputs": []
    },
    {
      "cell_type": "code",
      "source": [],
      "metadata": {
        "id": "3I2YynvTV4zh"
      },
      "execution_count": null,
      "outputs": []
    },
    {
      "cell_type": "markdown",
      "source": [
        "### 🌶️ 1\n",
        "\n",
        "---\n",
        "\n",
        "**¿Cuántos Clústeres?**\n",
        "\n",
        "Se te proporciona un arreglo llamado `points` de tamaño 300x2, donde cada fila proporciona las coordenadas (x, y) de un punto en un mapa. Realiza un gráfico de dispersión de estos puntos y utiliza el gráfico para estimar cuántos clústeres hay.\n",
        "\n",
        "1. Crea un arreglo llamado `xs` que contenga los valores de `points[:,0]` - es decir, la columna 0 de `points`.\n",
        "2. Crea un arreglo llamado `ys` que contenga los valores de `points[:,1]` - es decir, la columna 1 de `points`.\n",
        "3. Realiza un gráfico de dispersión pasando `xs` y `ys` a la función `plt.scatter()`.\n",
        "4. Llama a la función `plt.show()` para mostrar tu gráfico.\n",
        "5. ¿Cuántos clústeres observas?"
      ],
      "metadata": {
        "id": "CRWZofzD_lcs"
      }
    },
    {
      "cell_type": "code",
      "source": [
        "# Creamos los arreglos xs y ys que contienen las coordenadas x e y de los puntos\n",
        "xs = ____\n",
        "ys = ____\n",
        "\n",
        "# Realizamos un gráfico de dispersión de los puntos\n",
        "plt.figure(figsize=(10, 8))\n",
        "plt.scatter(xs, ys)\n",
        "plt.xlabel('Coordenada X')\n",
        "plt.ylabel('Coordenada Y')\n",
        "plt.show()"
      ],
      "metadata": {
        "id": "EVYNWYeUxTVH"
      },
      "execution_count": null,
      "outputs": []
    },
    {
      "cell_type": "markdown",
      "source": [
        "## 2 🌶️\n",
        "**2D Clustering**\n",
        "\n",
        "Del gráfico de dispersión del ejercicio anterior, observaste que los puntos parecen separarse en N clústeres. Ahora crearás un modelo KMeans para encontrar esos N clústeres y lo ajustarás a los puntos de datos del ejercicio anterior.\n",
        "\n",
        "Después de que el modelo se haya ajustado, obtendrás las etiquetas de clúster para algunos puntos nuevos utilizando el método `.predict()`.\n",
        "\n",
        "**Instrucciones**\n",
        "1. Importa `KMeans` de `sklearn.cluster`.\n",
        "2. Utilizando `KMeans()`, crea una instancia de `KMeans` llamada `model` para encontrar 3 clústeres. Para especificar el número de clústeres, utiliza el argumento de palabra clave `n_clusters`.\n",
        "3. Usa el método `.fit()` de `model` para ajustar el modelo al arreglo de puntos `points`.\n",
        "4. Usa el método `.predict()` de `model` para predecir las etiquetas de clúster de `new_points`, asignando el resultado a `labels`.\n",
        "\n",
        "**Tip**\n",
        "\n",
        "- Para crear una instancia de `KMeans` con 3 clústeres, usa la clase `KMeans()` junto con el argumento de palabra clave `n_clusters=3`.\n",
        "- Utiliza `model.fit(points)` para ajustar el modelo a los datos.\n",
        "- Usa `model.predict(new_points)` para predecir las etiquetas de clúster de los nuevos datos.\n"
      ],
      "metadata": {
        "id": "1_Qkp5-ZwTNe"
      }
    },
    {
      "cell_type": "code",
      "source": [
        "# Import KMeans\n",
        "from sklearn.____ import _______\n",
        "\n",
        "# Crear una instancia de KMeans para encontrar 3 clústeres\n",
        "model = ____\n",
        "\n",
        "# Ajustar el modelo al arreglo de puntos 'points'\n",
        "____\n",
        "\n",
        "# Predecir las etiquetas de clúster de 'new_points' usando el modelo entrenado\n",
        "labels = ____\n",
        "\n",
        "# Mostrar las etiquetas de clúster predichas\n",
        "print(labels)"
      ],
      "metadata": {
        "id": "ou9QMJcRwSS2"
      },
      "execution_count": null,
      "outputs": []
    },
    {
      "cell_type": "markdown",
      "source": [
        "#🌶️ 3\n",
        "\n",
        "---\n",
        "\n",
        "**¿Cómo quedo?**\n",
        "¡Revisemos el agrupamiento que hiciste en el ejercicio anterior!\n",
        "\n",
        "Ya tienes `new_points` con los puntos nuevos y `labels` que son las etiquetas de sus clústeres para estos puntos.\n",
        "\n",
        "**Instrucciones**\n",
        "1. Asegurate que tienes importado `matplotlib.pyplot` como `plt`.\n",
        "2. Asigna la primera columna de `new_points` a `xs` y la segunda a `ys`.\n",
        "3. Haz un scatterplot de `xs` y `ys`, incluyendo el argumento `c=labels` para colorear los puntos según la etiqueta de su clúster. También especifica `alpha=0.5` para más chevre.\n",
        "4. Calcula las coordenadas de los centroides utilizando el atributo `.cluster_centers_` del modelo.\n",
        "5. Asigna la primera columna de `centroids` a `centroids_x` y la segunda a `centroids_y`.\n",
        "6. Haz un scatterplot de `centroids_x` y `centroids_y`, usando 'D' (un diamante) como marcador especificando el parámetro `marker = 'D'` y `s=50`.\n",
        "\n",
        "**Consejo**\n",
        "\n",
        "- Puedes extraer la columna 0 y la columna 1 de `new_points` usando `new_points[:,0]` y `new_points[:,1]`.\n",
        "- Para crear el primer gráfico de dispersión, pasa `xs`, `ys`, `c=labels` y `alpha=0.5` a `plt.scatter()`.\n",
        "- Puedes calcular las coordenadas de los centros de clúster usando `model.cluster_centers_`.\n",
        "- Puedes extraer la columna 0 y la columna 1 de `centroids` usando `centroids[:,0]` y `centroids[:,1]`.\n",
        "- Para crear el segundo gráfico de dispersión, pasa `centroids_x`, `centroids_y`, `marker='D'` y `s=50` a `plt.scatter()`.\n"
      ],
      "metadata": {
        "id": "BLrz_65h0gWn"
      }
    },
    {
      "cell_type": "code",
      "source": [
        "# Importamos matplotlib.pyplot como plt\n",
        "____\n",
        "\n",
        "# Asignamos las columnas de new_points: xs y ys\n",
        "xs = ____\n",
        "ys = ____\n",
        "\n",
        "# Realizamos un gráfico de dispersión de xs y ys, utilizando labels para definir los colores\n",
        "____\n",
        "\n",
        "# Asignamos los centros de los clústeres: centroids\n",
        "centroids = ____\n",
        "\n",
        "# Asignamos las columnas de centroids: centroids_x, centroids_y\n",
        "centroids_x = centroids[:,0]\n",
        "centroids_y = centroids[:,1]\n",
        "\n",
        "# Realizamos un gráfico de dispersión de centroids_x y centroids_y\n",
        "____\n",
        "plt.show()\n"
      ],
      "metadata": {
        "id": "abISzZvZ2omU"
      },
      "execution_count": null,
      "outputs": []
    },
    {
      "cell_type": "markdown",
      "source": [
        "# 🌶️ 4\n",
        "#### ¿Cuántos clústeres?\n",
        "Ya sabes cómo elegir un buen número de clústeres para un conjunto de datos usando el gráfico de inercia de k-means.\n",
        "\n",
        "Tienes un array llamado `samples` que contiene las medidas (como área, perímetro, longitud y varias otras) de muestras de grano. **¿Cuál es un buen número de clústeres en este caso?**\n",
        "\n",
        "Para cada uno de los valores dados de `k`, realiza los siguientes pasos:\n",
        "\n",
        "1. Crea una instancia de KMeans llamada `model` con `k` clústeres.\n",
        "2. Ajusta el modelo a los datos de las muestras de grano.\n",
        "3. Anexa el valor del atributo `inertia_` de `model` a la lista `inertias`.\n",
        "El código para graficar `ks` vs `inertias` ya ha sido escrito para ti, así que pulsa enviar para ver el gráfico.\n",
        "\n",
        "#### tips\n",
        "Utiliza `KMeans()` y especifica el parámetro `n_clusters` para crear una instancia de KMeans con el número deseado de clústeres.\n",
        "\n",
        "Para ajustar el modelo a los datos, utiliza el método `.fit()` en `model` con `samples` como argumento.\n",
        "\n",
        "Primero, calcula la inercia del modelo usando `model.inertia_`. Luego, coloca esto dentro de una llamada a `inertias.append()` para añadirlo a `inertias`."
      ],
      "metadata": {
        "id": "MiLeqSJgTQmC"
      }
    },
    {
      "cell_type": "code",
      "source": [
        "# 🌶️ 4\n",
        "# Rango de valores de k para probar\n",
        "ks = range(1, 6)\n",
        "inertias = []\n",
        "\n",
        "for k in ks:\n",
        "    # Crea una instancia de KMeans con k clústeres:\n",
        "    model = ____\n",
        "\n",
        "    # Ajusta el modelo a samples\n",
        "    ____\n",
        "\n",
        "    # Agrega la inercia a la lista de inertias\n",
        "    ____\n",
        "\n",
        "# Grafica ks vs inertias\n",
        "plt.plot(ks, inertias, '-o')\n",
        "plt.xlabel('número de clústeres, k')\n",
        "plt.ylabel('inercia')\n",
        "plt.xticks(ks)\n",
        "plt.show()\n"
      ],
      "metadata": {
        "id": "tD76OpfCTQG2"
      },
      "execution_count": null,
      "outputs": []
    },
    {
      "cell_type": "markdown",
      "source": [
        "# 🌶️ 5\n",
        "\n",
        "#### Evaluación del clustering del grano\n",
        "Ya viste en el gráfico de inercia que 3 es un buen número de clústeres para los datos del grano.\n",
        "De hecho, las muestras de grano provienen de una mezcla de 3 variedades diferentes de grano: \"Kama\", \"Rosa\" y \"Canadiense\".\n",
        "\n",
        "En este ejercicio, agrupa las muestras de grano en tres clústeres y compara los clústeres con las variedades de grano utilizando una tabulación cruzada.\n",
        "\n",
        "\n",
        "1. Crea un modelo KMeans llamado `model` con 3 clústeres.\n",
        "2. Usa el método `.fit_predict()` de `model` para ajustarlo a `samples` y obtener las etiquetas de los clústeres. Usar `.fit_predict()` es lo mismo que usar `.fit()` seguido de `.predict()`.\n",
        "3. Crea un DataFrame `df` con dos columnas llamadas 'labels' y 'varieties', utilizando `labels` y `varieties`, respectivamente, para los valores de las columnas. Esto ya ha sido hecho para ti.\n",
        "4. Usa la función `pd.crosstab()` en `df['labels']` y `df['varieties']` hacer una tabla cruzada de los datos. Asigna el resultado a `ct`.\n",
        "\n",
        "-- Usa `KMeans()` y especifica el parámetro `n_clusters` para crear un modelo KMeans con el número deseado de clústeres.\n",
        "-- Usa `samples` como argumento en `model.fit_predict()` para ajustar el modelo y obtener etiquetas de clúster.\n",
        "-- Usa `df['labels']` y `df['varieties']` como argumentos en `pd.crosstab()` para crear la tabulación cruzada."
      ],
      "metadata": {
        "id": "2fscuuYkVIma"
      }
    },
    {
      "cell_type": "code",
      "source": [
        "# 🌶️ 5\n",
        "# Crea un modelo KMeans con 3 clústeres:\n",
        "model = ____\n",
        "\n",
        "# Usa fit_predict para ajustar el modelo y obtener etiquetas de clúster: labels\n",
        "labels = ____\n",
        "\n",
        "# Crea un DataFrame con etiquetas y variedades como columnas: df\n",
        "df = pd.DataFrame({'labels': labels, 'varieties': varieties})\n",
        "\n",
        "# Crea una tabulación cruzada: ct\n",
        "ct = pd.crosstab(df['________'], df['________'])\n",
        "\n",
        "ct\n"
      ],
      "metadata": {
        "id": "ROxE3PNCWTu_"
      },
      "execution_count": null,
      "outputs": []
    },
    {
      "cell_type": "markdown",
      "source": [
        "# SOLUCIONES"
      ],
      "metadata": {
        "id": "KSxuRihBTOzb"
      }
    },
    {
      "cell_type": "code",
      "source": [
        "# SOLUCION 1\n",
        "# Creamos los arreglos xs y ys que contienen las coordenadas x e y de los puntos\n",
        "xs = points[:,0]\n",
        "ys = points[:,1]\n",
        "\n",
        "# Realizamos un gráfico de dispersión de los puntos\n",
        "plt.figure(figsize=(10, 8))\n",
        "plt.scatter(xs, ys)\n",
        "plt.xlabel('Coordenada X')\n",
        "plt.ylabel('Coordenada Y')\n",
        "plt.show()"
      ],
      "metadata": {
        "id": "zs6uSYUJ-myD"
      },
      "execution_count": null,
      "outputs": []
    },
    {
      "cell_type": "code",
      "source": [
        "# Solución 2\n",
        "from sklearn.cluster import KMeans\n",
        "\n",
        "# Crear una instancia de KMeans para encontrar 3 clústeres\n",
        "model = KMeans(n_clusters=3)\n",
        "\n",
        "# Ajustar el modelo al arreglo de puntos 'points'\n",
        "model.fit(points)\n",
        "\n",
        "# Predecir las etiquetas de clúster de 'new_points' usando el modelo\n",
        "labels = model.predict(new_points)\n",
        "\n",
        "# Mostrar las etiquetas de clúster predichas\n",
        "print(labels)"
      ],
      "metadata": {
        "id": "pKv4xNdWxRKW"
      },
      "execution_count": null,
      "outputs": []
    },
    {
      "cell_type": "code",
      "source": [
        "# Solución 3\n",
        "# Asignamos las columnas de new_points: xs y ys\n",
        "xs = new_points[:,0]\n",
        "ys = new_points[:,1]\n",
        "\n",
        "# Realizamos un gráfico de dispersión de xs y ys, utilizando labels para definir los colores\n",
        "plt.scatter(xs, ys, c=labels, alpha=0.5)\n",
        "\n",
        "# Asignamos los centros de los clústeres: centroids\n",
        "centroids = model.cluster_centers_\n",
        "\n",
        "# Asignamos las columnas de centroids: centroids_x, centroids_y\n",
        "centroids_x = centroids[:,0]\n",
        "centroids_y = centroids[:,1]\n",
        "\n",
        "# Realizamos un gráfico de dispersión de centroids_x y centroids_y\n",
        "plt.scatter(centroids_x, centroids_y, marker='D', s=50)\n",
        "plt.show()"
      ],
      "metadata": {
        "id": "touJKWcMzUcd"
      },
      "execution_count": null,
      "outputs": []
    },
    {
      "cell_type": "code",
      "source": [
        "# SOLUCION 4\n",
        "# Rango de valores de k para probar\n",
        "ks = range(1, 6)\n",
        "inertias = []\n",
        "\n",
        "for k in ks:\n",
        "    # Crea una instancia de KMeans con k clústeres: model\n",
        "    model = KMeans(n_clusters=k)\n",
        "\n",
        "    # Ajusta el modelo a las muestras\n",
        "    model.fit(samples)\n",
        "\n",
        "    # Anexa la inercia a la lista de inertias\n",
        "    inertias.append(model.inertia_)\n",
        "\n",
        "# Grafica ks vs inertias\n",
        "plt.plot(ks, inertias, '-o')\n",
        "plt.xlabel('número de clústeres, k')\n",
        "plt.ylabel('inercia')\n",
        "plt.xticks(ks)\n",
        "plt.show()\n"
      ],
      "metadata": {
        "id": "HFS_pLCR12Mg"
      },
      "execution_count": null,
      "outputs": []
    },
    {
      "cell_type": "code",
      "source": [
        "# 🌶️ SOLUCIÓN 5\n",
        "# Preparación de datos (esto sería proporcionado si no está incluido en el cuaderno)\n",
        "import pandas as pd\n",
        "from sklearn.cluster import KMeans\n",
        "\n",
        "# Supongamos que 'samples' y 'varieties' ya han sido definidos o cargados previamente en el cuaderno\n",
        "# samples = ...\n",
        "# varieties = ...\n",
        "\n",
        "# Crea un modelo KMeans con 3 clústeres: model\n",
        "model = KMeans(n_clusters=3)\n",
        "\n",
        "# Usa fit_predict para ajustar el modelo y obtener etiquetas de clúster: labels\n",
        "labels = model.fit_predict(samples)\n",
        "\n",
        "# Crea un DataFrame con etiquetas y variedades como columnas: df\n",
        "df = pd.DataFrame({'labels': labels, 'varieties': varieties})\n",
        "\n",
        "# Crea una tabulación cruzada: ct\n",
        "ct = pd.crosstab(df['labels'], df['varieties'])\n",
        "\n",
        "# Muestra la tabulación cruzada\n",
        "ct\n"
      ],
      "metadata": {
        "id": "612uaTfvUSRm"
      },
      "execution_count": null,
      "outputs": []
    },
    {
      "cell_type": "code",
      "source": [],
      "metadata": {
        "id": "gNknb9xSVyDt"
      },
      "execution_count": null,
      "outputs": []
    }
  ]
}