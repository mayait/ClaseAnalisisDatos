{
  "nbformat": 4,
  "nbformat_minor": 0,
  "metadata": {
    "colab": {
      "private_outputs": true,
      "provenance": [],
      "authorship_tag": "ABX9TyO7Y9hBq0txonSlLoWnsRk/",
      "include_colab_link": true
    },
    "kernelspec": {
      "name": "python3",
      "display_name": "Python 3"
    },
    "language_info": {
      "name": "python"
    }
  },
  "cells": [
    {
      "cell_type": "markdown",
      "metadata": {
        "id": "view-in-github",
        "colab_type": "text"
      },
      "source": [
        "<a href=\"https://colab.research.google.com/github/mayait/ClaseAnalisisDatos/blob/main/machine_learning/Supervised_Learning_Notes.ipynb\" target=\"_parent\"><img src=\"https://colab.research.google.com/assets/colab-badge.svg\" alt=\"Open In Colab\"/></a>"
      ]
    },
    {
      "cell_type": "markdown",
      "source": [
        "**k-Nearest Neighbors: Fit**\n",
        "\n",
        "In this exercise, you will build your first classification model using the churn_df dataset, which has been preloaded for the remainder of the chapter.\n",
        "\n",
        "The features to use will be \"account_length\" and \"customer_service_calls\". The target, \"churn\", needs to be a single column with the same number of observations as the feature data.\n",
        "\n",
        "You will convert the features and the target variable into NumPy arrays, create an instance of a KNN classifier, and then fit it to the data.\n",
        "\n",
        "numpy has also been preloaded for you as np."
      ],
      "metadata": {
        "id": "U0DQzAANyCHk"
      }
    },
    {
      "cell_type": "markdown",
      "source": [
        "**Instructions**\n",
        "* Import KNeighborsClassifier from sklearn.neighbors.\n",
        "* Create an array called X containing values from the \"account_length\" and \"customer_service_calls\" columns, and an array called y for the values of the \"churn\" column.\n",
        "* Instantiate a KNeighborsClassifier called knn with 6 neighbors.\n",
        "Fit the classifier to the data using the .fit() method."
      ],
      "metadata": {
        "id": "gvfUdAfyyMSm"
      }
    },
    {
      "cell_type": "markdown",
      "source": [
        "# NOTAS\n",
        "**Dataset**\n",
        "https://archive.ics.uci.edu/ml/datasets/Iranian+Churn+Dataset\n",
        "https://www.kaggle.com/datasets/royjafari/customer-churn\n",
        "\n",
        "\n",
        "**Data Dictionary**\n",
        "\n",
        "*   Column\tExplanation\n",
        "*   Call Failure\tnumber of call failures\n",
        "*   Complaints\tbinary (0: No complaint, 1: complaint)\n",
        "*   Subscription Length\ttotal months of subscription\n",
        "*   Charge Amount\tordinal attribute (0: lowest amount, 9: highest amount)\n",
        "*   Seconds of Use\ttotal seconds of calls\n",
        "*   Frequency of use\ttotal number of calls\n",
        "*   Frequency of SMS\ttotal number of text messages\n",
        "*   Distinct Called Numbers\ttotal number of distinct phone calls\n",
        "*   Age Group\tordinal attribute (1: younger age, 5: older age)\n",
        "*   Tariff Plan\tbinary (1: Pay as you go, 2: contractual)\n",
        "*   Status\tbinary (1: active, 2: non-active)\n",
        "*   Age\tage of customer\n",
        "*   Customer Value\tthe calculated value of customer\n",
        "*   Churn\tclass label (1: churn, 0: non-churn)"
      ],
      "metadata": {
        "id": "JFRoUM4Z07RD"
      }
    },
    {
      "cell_type": "code",
      "source": [
        "import numpy as np\n",
        "import pandas as pd\n",
        "churn_df = pd.read_csv(\"telecom_churn_clean.csv\")"
      ],
      "metadata": {
        "id": "Ue_lhW4J1tLF"
      },
      "execution_count": null,
      "outputs": []
    },
    {
      "cell_type": "code",
      "execution_count": null,
      "metadata": {
        "id": "JbrvBmaox1ob"
      },
      "outputs": [],
      "source": [
        "# Import KNeighborsClassifier\n",
        "from ____.____ import ____ \n",
        "\n",
        "# Create arrays for the features and the target variable\n",
        "y = ____[\"____\"].values\n",
        "X = ____[[\"____\", \"____\"]].values\n",
        "\n",
        "# Create a KNN classifier with 6 neighbors\n",
        "knn = ____\n",
        "\n",
        "# Fit the classifier to the data\n",
        "knn.____(____, ____)"
      ]
    },
    {
      "cell_type": "code",
      "source": [
        "# Import KNeighborsClassifier\n",
        "import numpy as np\n",
        "from sklearn.neighbors import KNeighborsClassifier \n",
        "\n",
        "# Create arrays for the features and the target variable\n",
        "y = churn_df[\"churn\"].values\n",
        "X = churn_df[[\"account_length\", \"customer_service_calls\"]].values\n",
        "\n",
        "# Create a KNN classifier with 6 neighbors\n",
        "knn = KNeighborsClassifier(n_neighbors = 6)\n",
        "\n",
        "# Fit the classifier to the data\n",
        "knn.fit(X,y)"
      ],
      "metadata": {
        "id": "TN3uFY3hzNdw"
      },
      "execution_count": null,
      "outputs": []
    },
    {
      "cell_type": "markdown",
      "source": [
        "**k-Nearest Neighbors: Predict**\n",
        "Now you have fit a KNN classifier, you can use it to predict the label of new data points. All available data was used for training, however, fortunately, there are new observations available. These have been preloaded for you as X_new.\n",
        "\n",
        "The model knn, which you created and fit the data in the last exercise, has been preloaded for you. You will use your classifier to predict the labels of a set of new data points:\n",
        "\n",
        "```\n",
        "X_new = np.array([[30.0, 17.5],\n",
        "                  [107.0, 24.1],\n",
        "                  [213.0, 10.9]])\n",
        "```"
      ],
      "metadata": {
        "id": "19aRNGtD3sld"
      }
    },
    {
      "cell_type": "code",
      "source": [],
      "metadata": {
        "id": "ckWwqmwa2i3V"
      },
      "execution_count": null,
      "outputs": []
    }
  ]
}