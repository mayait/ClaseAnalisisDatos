{
  "nbformat": 4,
  "nbformat_minor": 0,
  "metadata": {
    "colab": {
      "private_outputs": true,
      "provenance": [],
      "authorship_tag": "ABX9TyMdRjPiRwExeCx1aLrjIbls",
      "include_colab_link": true
    },
    "kernelspec": {
      "name": "python3",
      "display_name": "Python 3"
    },
    "language_info": {
      "name": "python"
    }
  },
  "cells": [
    {
      "cell_type": "markdown",
      "metadata": {
        "id": "view-in-github",
        "colab_type": "text"
      },
      "source": [
        "<a href=\"https://colab.research.google.com/github/mayait/ClaseAnalisisDatos/blob/main/machine_learning/RFM_kmeans_SuperStore.ipynb\" target=\"_parent\"><img src=\"https://colab.research.google.com/assets/colab-badge.svg\" alt=\"Open In Colab\"/></a>"
      ]
    },
    {
      "cell_type": "markdown",
      "source": [
        "# RFM (Recency, Frequency, Monetary)\n",
        "\n",
        "El modelo RFM (Recency, Frequency, Monetary) es una técnica de análisis de comportamiento del cliente que se utiliza para segmentar una base de clientes en grupos específicos. El objetivo es identificar a los clientes más valiosos y entender cómo interactúan con un negocio. El modelo se basa en tres métricas principales:\n",
        "\n",
        "1. **Recency (R) - Reciente**: Mide el tiempo transcurrido desde la última transacción o interacción que un cliente ha tenido con la marca. En general, a menor tiempo desde la última compra, más \"reciente\" es el cliente. Esta métrica se basa en la idea de que los clientes que han comprado recientemente son más propensos a hacerlo de nuevo en comparación con los que no lo han hecho durante mucho tiempo.\n",
        "2. **Frequency (F) - Frecuencia**: Mide la cantidad de veces que un cliente ha realizado una transacción o interactuado con la marca en un período de tiempo específico. Los clientes que interactúan con más frecuencia suelen ser más leales a la marca.\n",
        "3. **Monetary (M) - Monetario**: Representa el valor total de las transacciones que un cliente ha realizado en un período de tiempo determinado. En otras palabras, es una medida del valor total que un cliente ha aportado a la empresa. Cuanto más alto sea este valor, más valioso es el cliente.\n",
        "\n",
        "**Instrucciones**\n",
        "\n",
        "1. **Descargar el Dataset**: Descargar el archivo **`SUPERSTORE`**\n",
        "2. **Importar el Dataset**: Utilizar Python y Pandas para importar el dataset.\n",
        "3. **Análisis Exploratorio**: Revisar las primeras y últimas filas, tipos de datos, y estadísticas básicas para familiarizarse con los datos.\n",
        "4. ****Cálculo de Métricas RFM****\n",
        "    1. **Recency (R)**: Calcula cuánto tiempo ha pasado desde la última compra de cada cliente.\n",
        "    2. **Frequency (F)**: Cuenta cuántas veces cada cliente ha hecho una compra.\n",
        "    3. **Monetary (M)**: Suma cuánto ha gastado cada cliente en total.\n",
        "5. **Segmentación por K-Means**\n",
        "    1. **Normalización de datos RFM**: Los datos RFM deben estar en la misma escala para que el algoritmo K-Means funcione correctamente. Utiliza una técnica de normalización como la estandarización (restar la media y dividir por la desviación estándar) o la normalización min-max.\n",
        "    2. **Determinar el número de clusters (k)**: Utiliza el método del codo para determinar el número de clusters. El método del codo implica el ajuste del modelo K-Means a los datos para una variedad de valores de k y luego graficar los valores de inercia resultantes. Busca un \"codo\" en la gráfica donde la disminución de la inercia se ralentiza, lo que sugerirá el número óptimo de clusters.\n",
        "    3. **Ajustar el modelo K-Means**: Con el número óptimo de clusters determinado, ajusta el modelo K-Means a los datos RFM normalizados.\n",
        "    4. **Análisis de Segmentos**: Una vez que tengas los clusters, analiza las distribuciones de R, F y M para cada cluster. Determina las características que definen cada segmento y dales una etiqueta descriptiva.\n",
        "6. **Recomendaciones para cada segmento**: Basándote en las características de cada segmento, formula recomendaciones específicas. Analiza cada segmento.\n"
      ],
      "metadata": {
        "id": "Fnof5fiN_4Dy"
      }
    },
    {
      "cell_type": "code",
      "execution_count": null,
      "metadata": {
        "id": "KGYW8aUr2-Aj"
      },
      "outputs": [],
      "source": [
        "import pandas as pd\n",
        "from datetime import datetime"
      ]
    },
    {
      "cell_type": "code",
      "source": [
        "from pandas.io.excel import read_excel\n",
        "df = read_excel('https://raw.githubusercontent.com/mayait/ClaseAnalisisDatos/main/machine_learning/datasets/superstore.xlsx')"
      ],
      "metadata": {
        "id": "ueAquBra3D0O"
      },
      "execution_count": null,
      "outputs": []
    },
    {
      "cell_type": "markdown",
      "source": [
        "# 4 Cálculo de Métricas RFM\n",
        "\n",
        "**Recency (R): Calcula cuánto tiempo ha pasado desde la última compra de cada cliente.**\n",
        "\n",
        "*  Utiliza la fecha mayor para calcular el tiempo que ha pasado\n",
        "*  Calcular los días desde la última compra `['Order Date'].max()` para cada cliente `'Customer ID'`, `groupby` es una alternativa\n",
        "*  Recency es la diferencia en días entre la `ultima compra` y la `fecha mayor`\n",
        "\n",
        "\n"
      ],
      "metadata": {
        "id": "9iHFqY0VAKYP"
      }
    },
    {
      "cell_type": "code",
      "source": [
        "# Convertir la columna \"Order Date\" a tipo de dato fecha\n",
        "df['Order Date'] = pd.to_datetime(df['Order Date'])\n",
        "\n",
        "# Asumimos que la fecha actual es hoy para el propósito de este ejercicio.\n",
        "hoy = _________________\n",
        "\n",
        "df_recency = df.groupby___________________________\n",
        "df_recency.columns = ['customer_ID', 'last_Purchase_Date']\n",
        "df_recency['Recency'] = (hoy - df_recency['last_Purchase_Date']).dt.days"
      ],
      "metadata": {
        "id": "xI8Ru5D-Al4A"
      },
      "execution_count": null,
      "outputs": []
    },
    {
      "cell_type": "markdown",
      "source": [
        "**Frequency (F): Cuenta cuántas veces cada cliente ha hecho una compra.**\n",
        "\n",
        "\n",
        "\n",
        "*   Crea un dataframe df_frequency que tenga el Customer_ID y el Count\n",
        "*   Cuidado, toma en cuenta que cada linea representa una linea de la factura, no una compra, puedes tener varias lineas por compra.\n",
        "\n"
      ],
      "metadata": {
        "id": "NB5qBidGCemH"
      }
    },
    {
      "cell_type": "code",
      "source": [
        "# Paso 2: Calcular Frequency\n",
        "df_frequency = df.groupby_______________________\n",
        "df_frequency.columns = ['customer_ID', 'frecuency']\n",
        "df_frequency"
      ],
      "metadata": {
        "id": "zJCaiHm13K_z"
      },
      "execution_count": null,
      "outputs": []
    },
    {
      "cell_type": "markdown",
      "source": [
        "**Monetary (M): Suma cuánto ha gastado cada cliente en total.**\n",
        "\n"
      ],
      "metadata": {
        "id": "a4UdiVFvDWYx"
      }
    },
    {
      "cell_type": "code",
      "source": [
        "\n",
        "# Paso 3: Calcular Monetary\n",
        "df_monetary =\n",
        "df_monetary.columns = ['customer_ID', 'monetary']"
      ],
      "metadata": {
        "id": "unVXp6MjVcck"
      },
      "execution_count": null,
      "outputs": []
    },
    {
      "cell_type": "markdown",
      "source": [
        "**Combina los 3 dataframes en uno**\n",
        "\n",
        "\n",
        "*   El datframe deberia tener la estructura `customer_ID, recency, frecuency, monetary`\n",
        "\n"
      ],
      "metadata": {
        "id": "HLMFzNuBDz0D"
      }
    },
    {
      "cell_type": "code",
      "source": [
        "df_rfm = pd.merge__________________\n",
        "df_rfm = pd.merge__________________\n",
        "\n",
        "df_rfm"
      ],
      "metadata": {
        "id": "hqMwmj-bD5CT"
      },
      "execution_count": null,
      "outputs": []
    },
    {
      "cell_type": "markdown",
      "source": [
        "# 5. **Segmentación por K-Means**"
      ],
      "metadata": {
        "id": "lQuMrjn-EjSY"
      }
    },
    {
      "cell_type": "code",
      "source": [
        "# Normalización de datos RFM\n",
        "\n",
        "from sklearn.preprocessing import StandardScaler\n",
        "\n",
        "scaler = StandardScaler()\n",
        "rfm_normalized = scaler.fit_transform(df_rfm)"
      ],
      "metadata": {
        "id": "wvkfhWGhEk6l"
      },
      "execution_count": null,
      "outputs": []
    }
  ]
}