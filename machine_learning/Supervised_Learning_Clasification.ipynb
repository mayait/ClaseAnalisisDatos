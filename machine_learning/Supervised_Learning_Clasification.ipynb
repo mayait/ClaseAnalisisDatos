{
  "nbformat": 4,
  "nbformat_minor": 0,
  "metadata": {
    "colab": {
      "private_outputs": true,
      "provenance": [],
      "authorship_tag": "ABX9TyOCkuS2Y5cchn9OovF5pZQB",
      "include_colab_link": true
    },
    "kernelspec": {
      "name": "python3",
      "display_name": "Python 3"
    },
    "language_info": {
      "name": "python"
    }
  },
  "cells": [
    {
      "cell_type": "markdown",
      "metadata": {
        "id": "view-in-github",
        "colab_type": "text"
      },
      "source": [
        "<a href=\"https://colab.research.google.com/github/mayait/ClaseAnalisisDatos/blob/main/machine_learning/Supervised_Learning_Clasification.ipynb\" target=\"_parent\"><img src=\"https://colab.research.google.com/assets/colab-badge.svg\" alt=\"Open In Colab\"/></a>"
      ]
    },
    {
      "cell_type": "markdown",
      "source": [
        "# Clasification\n",
        "\n",
        "Classification is used to predict the label, or category, of an observation. For example, we can predict whether a bank transaction is fraudulent or not. As there are two outcomes here - a fraudulent transaction, or non-fraudulent transaction, this is known as binary classification. Regression is used to predict continuous values. \n",
        "For example, a model can use features such as number of bedrooms, and the size of a property, to predict the target variable, price of the property."
      ],
      "metadata": {
        "id": "8d61NdMFOZiv"
      }
    },
    {
      "cell_type": "markdown",
      "source": [
        "**Dataset**\n",
        "https://archive.ics.uci.edu/ml/datasets/Iranian+Churn+Dataset\n",
        "https://www.kaggle.com/datasets/royjafari/customer-churn\n",
        "\n",
        "\n",
        "**Data Dictionary**\n",
        "\n",
        "*   Column\tExplanation\n",
        "*   Call Failure\tnumber of call failures\n",
        "*   Complaints\tbinary (0: No complaint, 1: complaint)\n",
        "*   Subscription Length\ttotal months of subscription\n",
        "*   Charge Amount\tordinal attribute (0: lowest amount, 9: highest amount)\n",
        "*   Seconds of Use\ttotal seconds of calls\n",
        "*   Frequency of use\ttotal number of calls\n",
        "*   Frequency of SMS\ttotal number of text messages\n",
        "*   Distinct Called Numbers\ttotal number of distinct phone calls\n",
        "*   Age Group\tordinal attribute (1: younger age, 5: older age)\n",
        "*   Tariff Plan\tbinary (1: Pay as you go, 2: contractual)\n",
        "*   Status\tbinary (1: active, 2: non-active)\n",
        "*   Age\tage of customer\n",
        "*   Customer Value\tthe calculated value of customer\n",
        "*   Churn\tclass label (1: churn, 0: non-churn)"
      ],
      "metadata": {
        "id": "JFRoUM4Z07RD"
      }
    },
    {
      "cell_type": "code",
      "source": [
        "!wget https://raw.githubusercontent.com/mayait/ClaseAnalisisDatos/main/machine_learning/datasets/telecom_churn_clean.csv\n",
        "import numpy as np\n",
        "import pandas as pd\n",
        "import matplotlib.pyplot as plt\n",
        "plt.rcParams['figure.dpi'] = 100\n",
        "plt.rcParams['savefig.dpi'] = 100\n",
        "\n",
        "from sklearn import metrics\n",
        "from sklearn.neighbors import KNeighborsClassifier\n",
        "\n",
        "from matplotlib.colors import ListedColormap\n",
        "import seaborn as sns\n",
        "%config InlineBackend.figure_format = 'retina' # sharper plots\n",
        "\n",
        "churn_df = pd.read_csv(\"telecom_churn_clean.csv\")\n",
        "df = churn_df"
      ],
      "metadata": {
        "id": "Ue_lhW4J1tLF"
      },
      "execution_count": null,
      "outputs": []
    },
    {
      "cell_type": "code",
      "source": [
        "\n",
        "plt.figure()\n",
        "churn_df.plot.scatter(x='customer_service_calls', y='account_length', c='churn', cmap = plt.get_cmap('jet'))\n",
        "\n",
        "\n",
        "plt.xlabel(\"customer_service_calls\")\n",
        "plt.ylabel(\"account_length\")\n",
        "\n",
        "plt.show()"
      ],
      "metadata": {
        "id": "g56xwwbdRtXs"
      },
      "execution_count": null,
      "outputs": []
    },
    {
      "cell_type": "code",
      "source": [],
      "metadata": {
        "id": "WBhunBVwYAON"
      },
      "execution_count": null,
      "outputs": []
    },
    {
      "cell_type": "code",
      "source": [
        "import matplotlib.pyplot as plt\n",
        "import pandas as pd\n",
        "from sklearn import datasets, neighbors\n",
        "from mlxtend.plotting import plot_decision_regions"
      ],
      "metadata": {
        "id": "fGURpQEvVoP5"
      },
      "execution_count": null,
      "outputs": []
    },
    {
      "cell_type": "code",
      "source": [
        "def knn_comparison(data, k):\n",
        "  y = churn_df[\"churn\"].values\n",
        "  x = churn_df[[\"account_length\", \"customer_service_calls\"]].values\n",
        "\n",
        "\n",
        "  clf = neighbors.KNeighborsClassifier(n_neighbors=k)\n",
        "  clf.fit(x, y)\n",
        "  # Plotting decision region\n",
        "  plot_decision_regions(x, y, clf=clf, legend=2)\n",
        "  # Adding axes annotations\n",
        "  plt.xlabel('account_length')\n",
        "  plt.ylabel('customer_service_calls')\n",
        "  plt.title('Knn with K='+ str(k))\n",
        "  plt.show()\n",
        "\n",
        "knn_comparison(churn_df, 5)"
      ],
      "metadata": {
        "id": "MI1Spcc-ch89"
      },
      "execution_count": null,
      "outputs": []
    },
    {
      "cell_type": "markdown",
      "source": [
        "**k-Nearest Neighbors**\n",
        "Let's build our first model! We'll use an algorithm called k-Nearest Neighbors, which is popular for classification problems. The idea of k-Nearest Neighbors, or KNN, is to predict the label of any data point by looking at the k, for example, three, closest labeled data points and getting them to vote on what label the unlabeled observation should have. KNN uses majority voting, which makes predictions based on what label the majority of nearest neighbors have."
      ],
      "metadata": {
        "id": "iiMP3n2xO3Lj"
      }
    },
    {
      "cell_type": "markdown",
      "source": [
        "**k-Nearest Neighbors: Fit**\n",
        "\n",
        "In this exercise, you will build your first classification model using the churn_df dataset, which has been preloaded for the remainder of the chapter.\n",
        "\n",
        "The features to use will be \"account_length\" and \"customer_service_calls\". The target, \"churn\", needs to be a single column with the same number of observations as the feature data.\n",
        "\n",
        "You will convert the features and the target variable into NumPy arrays, create an instance of a KNN classifier, and then fit it to the data.\n",
        "\n",
        "numpy has also been preloaded for you as np."
      ],
      "metadata": {
        "id": "U0DQzAANyCHk"
      }
    },
    {
      "cell_type": "markdown",
      "source": [
        "**Instructions**\n",
        "* Import KNeighborsClassifier from sklearn.neighbors.\n",
        "* Create an array called X containing values from the \"account_length\" and \"customer_service_calls\" columns, and an array called y for the values of the \"churn\" column.\n",
        "* Instantiate a KNeighborsClassifier called knn with 6 neighbors.\n",
        "Fit the classifier to the data using the .fit() method."
      ],
      "metadata": {
        "id": "gvfUdAfyyMSm"
      }
    },
    {
      "cell_type": "code",
      "source": [],
      "metadata": {
        "id": "o7wCAbDMa5Qr"
      },
      "execution_count": null,
      "outputs": []
    },
    {
      "cell_type": "markdown",
      "source": [
        "🌶️ Import KNeighborsClassifier"
      ],
      "metadata": {
        "id": "jGy4BnlD9Ncr"
      }
    },
    {
      "cell_type": "code",
      "execution_count": null,
      "metadata": {
        "id": "JbrvBmaox1ob"
      },
      "outputs": [],
      "source": [
        "# Import KNeighborsClassifier\n",
        "from ____.____ import ____ \n",
        "\n",
        "# Create arrays for the features and the target variable\n",
        "y = ____[\"____\"].values\n",
        "X = ____[[\"____\", \"____\"]].values\n",
        "\n",
        "# Create a KNN classifier with 6 neighbors\n",
        "knn = ____\n",
        "\n",
        "# Fit the classifier to the data\n",
        "knn.____(____, ____)"
      ]
    },
    {
      "cell_type": "code",
      "source": [
        "# SOLUCIÓN\n",
        "# Import KNeighborsClassifier\n",
        "import numpy as np\n",
        "from sklearn.neighbors import KNeighborsClassifier \n",
        "\n",
        "# Create arrays for the features and the target variable\n",
        "y = churn_df[\"churn\"].values\n",
        "X = churn_df[[\"account_length\", \"customer_service_calls\"]].values\n",
        "\n",
        "# Create a KNN classifier with 6 neighbors\n",
        "knn = KNeighborsClassifier(n_neighbors = 6)\n",
        "\n",
        "# Fit the classifier to the data\n",
        "knn.fit(X,y)"
      ],
      "metadata": {
        "id": "TN3uFY3hzNdw"
      },
      "execution_count": null,
      "outputs": []
    },
    {
      "cell_type": "code",
      "source": [],
      "metadata": {
        "id": "IWkNIYp-PNDv"
      },
      "execution_count": null,
      "outputs": []
    },
    {
      "cell_type": "markdown",
      "source": [
        "**k-Nearest Neighbors: Predict**\n",
        "Now you have fit a KNN classifier, you can use it to predict the label of new data points. All available data was used for training, however, fortunately, there are new observations available. These have been preloaded for you as X_new.\n",
        "\n",
        "The model knn, which you created and fit the data in the last exercise, has been preloaded for you. You will use your classifier to predict the labels of a set of new data points:\n",
        "\n",
        "```\n",
        "X_new = np.array([[30.0, 17.5],\n",
        "                  [107.0, 24.1],\n",
        "                  [213.0, 10.9]])\n",
        "```"
      ],
      "metadata": {
        "id": "19aRNGtD3sld"
      }
    },
    {
      "cell_type": "code",
      "source": [
        "X_new = np.array([[30.0, 17.5],\n",
        "                  [107.0, 24.1],\n",
        "                  [213.0, 10.9]])"
      ],
      "metadata": {
        "id": "ckWwqmwa2i3V"
      },
      "execution_count": null,
      "outputs": []
    },
    {
      "cell_type": "markdown",
      "source": [
        "🌶️ Predict the labels for the X_new"
      ],
      "metadata": {
        "id": "yuDJIsyp9D50"
      }
    },
    {
      "cell_type": "code",
      "source": [
        "# Predict the labels for the X_new\n",
        "y_pred = ____\n",
        "\n",
        "# Print the predictions for X_new\n",
        "print(\"Predictions: {}\".format(____)) "
      ],
      "metadata": {
        "id": "uMWkin8W8zaE"
      },
      "execution_count": null,
      "outputs": []
    },
    {
      "cell_type": "code",
      "source": [
        "# SOLUCION\n",
        "# Predict the labels for the X_new\n",
        "y_pred = knn.predict(X_new)\n",
        "\n",
        "# Print the predictions for X_new\n",
        "print(\"Predictions: {}\".format(y_pred)) "
      ],
      "metadata": {
        "id": "q2lgf1_X868t"
      },
      "execution_count": null,
      "outputs": []
    },
    {
      "cell_type": "markdown",
      "source": [
        "Great work! The model has predicted the first and third customers will not churn in the new array. But how do we know how accurate these predictions are?"
      ],
      "metadata": {
        "id": "OxXQYgNV99ko"
      }
    },
    {
      "cell_type": "markdown",
      "source": [
        "# Measuring model performance"
      ],
      "metadata": {
        "id": "wDGZ5NOt-xk_"
      }
    },
    {
      "cell_type": "markdown",
      "source": [
        "Now we can make predictions using a classifier, but how do we know if the model is making correct predictions? We can evaluate its performance!\n",
        "\n",
        "In classification, accuracy is a commonly-used metric. Accuracy is the number of correct predictions divided by the total number of observations.\n",
        "\n",
        "How do we measure accuracy? We could compute accuracy on the data used to fit the classifier. However, as this data was used to train the model, performance will not be indicative of how well it can generalize to unseen data, which is what we are interested in!\n",
        "\n"
      ],
      "metadata": {
        "id": "TebdJ_gm-1HH"
      }
    },
    {
      "cell_type": "markdown",
      "source": [
        "\\begin{align}\n",
        "        Accuracy = \\frac{Correct Predictions}{Total Observations}\n",
        "    \\end{align}\n",
        "\n",
        "-\n",
        "\n",
        "\\begin{align}\n",
        "        Precisión = \\frac{Predicciones Correctas}{Total Observaciones}\n",
        "    \\end{align}\n",
        "\n",
        "[Aprende más en Google Machine Learning](https://developers.google.com/machine-learning/crash-course/training-and-test-sets/splitting-data?hl=en)\n",
        "\n"
      ],
      "metadata": {
        "id": "FdOZi0eu_Urs"
      }
    },
    {
      "cell_type": "markdown",
      "source": [
        "It is common to split data into a training set and a test set.\n",
        "\n",
        "*   We fit the classifier using the training set,\n",
        "*   then we calculate the model's accuracy against the test set's labels.\n",
        "\n",
        "![img](https://developers.google.com/static/machine-learning/crash-course/images/PartitionTwoSets.svg)\n",
        "\n",
        "![img](https://developers.google.com/static/machine-learning/crash-course/images/TrainingDataVsTestData.svg)\n",
        "\n",
        "Validating the trained model against test data.\n",
        "\n",
        "Never train on test data. If you are seeing surprisingly good results on your evaluation metrics, it might be a sign that you are accidentally training on the test set. For example, high accuracy might indicate that test data has leaked into the training set."
      ],
      "metadata": {
        "id": "YUzFAJsRBxMv"
      }
    },
    {
      "cell_type": "markdown",
      "source": [
        "**Train/test split + computing accuracy**\n",
        "\n",
        "NumPy arrays have been created for you containing the features as X and the target variable as y. You will split them into training and test sets, fit a KNN classifier to the training data, and then compute its accuracy on the test data using the .score() method.\n",
        "\n",
        "**Instructions**\n",
        "* Import train_test_split from sklearn.model_selection.\n",
        "* Split X and y into training and test sets, setting test_size equal to 20%, random_state to 42, and ensuring the target label proportions reflect that of the original dataset.\n",
        "* Fit the knn model to the training data.\n",
        "* Compute and print the model's accuracy for the test data.\n",
        "\n"
      ],
      "metadata": {
        "id": "1uiwcZziHPDF"
      }
    },
    {
      "cell_type": "code",
      "source": [
        "# Import the module\n",
        "____\n",
        "\n",
        "X = churn_df.drop(\"churn\", axis=1).values\n",
        "y = churn_df[\"churn\"].values\n",
        "\n",
        "# Split into training and test sets\n",
        "X_train, X_test, y_train, y_test = ____(____, ____, test_size=____, random_state=____, stratify=____)\n",
        "knn = KNeighborsClassifier(n_neighbors=5)\n",
        "\n",
        "# Fit the classifier to the training data\n",
        "____\n",
        "\n",
        "# Print the accuracy\n",
        "print(knn.score(____, ____))"
      ],
      "metadata": {
        "id": "ntaN1krV_UVG"
      },
      "execution_count": null,
      "outputs": []
    },
    {
      "cell_type": "code",
      "source": [
        "## Solución\n",
        "# Import the module\n",
        "from sklearn.model_selection import train_test_split\n",
        "\n",
        "X = churn_df.drop(\"churn\", axis=1).values\n",
        "y = churn_df[\"churn\"].values\n",
        "\n",
        "# Split into training and test sets\n",
        "X_train, X_test, y_train, y_test = train_test_split(X, y, test_size=0.2, random_state=42, stratify=y)\n",
        "knn = KNeighborsClassifier(n_neighbors=5)\n",
        "\n",
        "# Fit the classifier to the training data\n",
        "knn.fit(X_train,y_train)\n",
        "\n",
        "# Print the accuracy\n",
        "print(knn.score(X_test, y_test))"
      ],
      "metadata": {
        "id": "Xen0iRlM9wGW"
      },
      "execution_count": null,
      "outputs": []
    },
    {
      "cell_type": "markdown",
      "source": [
        "**Overfitting and underfitting**\n",
        "\n",
        "Interpreting model complexity is a great way to evaluate performance when utilizing supervised learning. Your aim is to produce a model that can interpret the relationship between features and the target variable, as well as generalize well when exposed to new observations.\n",
        "\n",
        "You will generate accuracy scores for the training and test sets using a KNN classifier with different n_neighbor values, which you will plot in the next exercise.\n",
        "\n",
        "The training and test sets have been created from the churn_df dataset and preloaded as X_train, X_test, y_train, and y_test.\n",
        "\n",
        "**Instructions**\n",
        "* Create neighbors as a numpy array of values from 1 up to and including 12.\n",
        "* Instantiate a KNN classifier, with the number of neighbors equal to the neighbor iterator.\n",
        "* Fit the model to the training data.\n",
        "* Calculate accuracy scores for the training set and test set separately using the .score() method, and assign the results to the index of the train_accuracies and test_accuracies dictionaries, respectively."
      ],
      "metadata": {
        "id": "KOpcCKQGIfUU"
      }
    },
    {
      "cell_type": "code",
      "source": [
        "# Create neighbors\n",
        "neighbors = np.arange(____, ____)\n",
        "train_accuracies = {}\n",
        "test_accuracies = {}\n",
        "\n",
        "for neighbor in neighbors:\n",
        "  \n",
        "\t# Set up a KNN Classifier\n",
        "\tknn = ____(____=____)\n",
        "  \n",
        "\t# Fit the model\n",
        "\tknn.____(____, ____)\n",
        "  \n",
        "\t# Compute accuracy\n",
        "\ttrain_accuracies[____] = knn.____(____, ____)\n",
        "\ttest_accuracies[____] = knn.____(____, ____)\n",
        "print(neighbors, '\\n', train_accuracies, '\\n', test_accuracies)"
      ],
      "metadata": {
        "id": "znAq-JYYI-Rp"
      },
      "execution_count": null,
      "outputs": []
    },
    {
      "cell_type": "code",
      "source": [
        "# Solución\n",
        "# Create neighbors\n",
        "neighbors = np.arange(1, 13)\n",
        "train_accuracies = {}\n",
        "test_accuracies = {}\n",
        "\n",
        "for neighbor in neighbors:\n",
        "  \n",
        "\t# Set up a KNN Classifier\n",
        "\tknn = KNeighborsClassifier(n_neighbors=neighbor)\n",
        "  \n",
        "\t# Fit the model\n",
        "\tknn.fit(X_train,y_train)\n",
        "  \n",
        "\t# Compute accuracy\n",
        "\ttrain_accuracies[neighbor] = knn.score(X_train, y_train)\n",
        "\ttest_accuracies[neighbor] = knn.score(X_test, y_test)\n",
        "print(neighbors, '\\n', train_accuracies, '\\n', test_accuracies)"
      ],
      "metadata": {
        "id": "R222rL2xI-l6"
      },
      "execution_count": null,
      "outputs": []
    },
    {
      "cell_type": "code",
      "source": [
        "import warnings\n",
        "\n",
        "warnings.filterwarnings(\"ignore\",category=UserWarning)\n",
        "\n",
        "for k in np.arange(1, 13):\n",
        "  knn_comparison(churn_df, k)\n"
      ],
      "metadata": {
        "id": "xP1jTWo6d0QH"
      },
      "execution_count": null,
      "outputs": []
    },
    {
      "cell_type": "markdown",
      "source": [
        "**Visualizing model complexity**\n",
        "\n",
        "Now you have calculated the accuracy of the KNN model on the training and test sets using various values of n_neighbors, you can create a model complexity curve to visualize how performance changes as the model becomes less complex!\n",
        "\n",
        "The variables neighbors, train_accuracies, and test_accuracies, which you generated in the previous exercise, have all been preloaded for you. You will plot the results to aid in finding the optimal number of neighbors for your model.\n",
        "\n",
        "**Instructions:**\n",
        "\n",
        "* Add a title \"KNN: Varying Number of Neighbors\".\n",
        "* Plot the .values() method of train_accuracies on the y-axis against neighbors on the x-axis, with a label of \"Training Accuracy\".\n",
        "* Plot the .values() method of test_accuracies on the y-axis against neighbors on the x-axis, with a label of \"Testing Accuracy\".\n",
        "* Display the plot."
      ],
      "metadata": {
        "id": "qFwz-NPiKEaY"
      }
    },
    {
      "cell_type": "code",
      "source": [
        "# Add a title\n",
        "plt.title(\"____\")\n",
        "\n",
        "# Plot training accuracies\n",
        "plt.plot(____, ____, label=\"____\")\n",
        "\n",
        "# Plot test accuracies\n",
        "plt.plot(____, ____, label=\"____\")\n",
        "\n",
        "plt.legend()\n",
        "plt.xlabel(\"Number of Neighbors\")\n",
        "plt.ylabel(\"Accuracy\")\n",
        "\n",
        "# Display the plot\n",
        "____"
      ],
      "metadata": {
        "id": "bTJs9QdrMMW9"
      },
      "execution_count": null,
      "outputs": []
    },
    {
      "cell_type": "code",
      "source": [
        "# Solución\n",
        "\n",
        "\n",
        "\n",
        "# Add a title\n",
        "plt.title(\"KNN: Varying Number of Neighbors\")\n",
        "\n",
        "# Plot training accuracies\n",
        "plt.plot(neighbors, list(train_accuracies.values()),  label=\"Training Accuracy\")\n",
        "\n",
        "# Plot test accuracies\n",
        "plt.plot(neighbors, list(test_accuracies.values()),  label=\"Testing Accuracy\")\n",
        "\n",
        "plt.legend()\n",
        "plt.xlabel(\"Number of Neighbors\")\n",
        "plt.ylabel(\"Accuracy\")\n",
        "\n",
        "# Display the plot\n",
        "plt.show()"
      ],
      "metadata": {
        "id": "j6CeTDJkKQw5"
      },
      "execution_count": null,
      "outputs": []
    },
    {
      "cell_type": "code",
      "source": [],
      "metadata": {
        "id": "o13lIzwQKobP"
      },
      "execution_count": null,
      "outputs": []
    },
    {
      "cell_type": "code",
      "source": [],
      "metadata": {
        "id": "bc9L2ECyLQxj"
      },
      "execution_count": null,
      "outputs": []
    },
    {
      "cell_type": "code",
      "source": [],
      "metadata": {
        "id": "cxWmVkXhLUGe"
      },
      "execution_count": null,
      "outputs": []
    }
  ]
}