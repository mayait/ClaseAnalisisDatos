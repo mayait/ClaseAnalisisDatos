{
  "cells": [
    {
      "cell_type": "markdown",
      "source": [
        "<a href=\"https://kaggle.com/kernels/welcome?src=https://github.com/mayait/ClaseAnalisisDatos/blob/main/regresion_lineal/reg_lineal_simple.ipynb\"><img src=\"https://kaggle.com/static/images/open-in-kaggle.svg\" width=120 /></a>"
      ],
      "metadata": {
        "id": "hW0erDTZtjGZ"
      }
    },
    {
      "cell_type": "code",
      "execution_count": null,
      "metadata": {
        "id": "d1FRqv2utbKx"
      },
      "outputs": [],
      "source": [
        "# Si estás corriendo en tu maquina local, posiblemente necesites instalar las librerias que vamos a utilizar, podrias quitar el comentario a la siguiente linea\n",
        "# ! pip install sklearn statsmodels pandas numpy\n",
        "\n",
        "import pandas as pd\n",
        "import numpy as np\n",
        "import matplotlib.pyplot as plt\n",
        "from sklearn.linear_model import LinearRegression\n",
        "from sklearn.metrics import r2_score\n",
        "import statsmodels.api as sm"
      ]
    },
    {
      "cell_type": "markdown",
      "metadata": {
        "id": "u2IfTHDltbKz"
      },
      "source": [
        "# Regresión Lineal Simple"
      ]
    },
    {
      "cell_type": "markdown",
      "metadata": {
        "id": "IBc_JNL8tbK0"
      },
      "source": [
        "- El conjunto de datos contiene información sobre el dinero gastado en publicidad y sus ventas generadas en una empresa. \n",
        "- El dinero se gastó en anuncios de televisión, radio y periódicos.\n",
        "- El objetivo es utilizar la regresión lineal para comprender cómo el gasto en publicidad afecta las ventas.\n",
        "\n",
        "*Fuente de datos: http://www-bcf.usc.edu/~gareth/ISL/Advertising.csv*\n",
        "*An Introduction to Statistical Learning\n",
        "by Gareth James, Daniela Witten, Trevor Hastie and Rob Tibshirani*"
      ]
    },
    {
      "cell_type": "code",
      "execution_count": 1,
      "metadata": {
        "colab": {
          "base_uri": "https://localhost:8080/"
        },
        "id": "klUU2AS4tbK0",
        "outputId": "e704e307-373f-49ae-d5e7-31d178bd7bae"
      },
      "outputs": [
        {
          "output_type": "stream",
          "name": "stdout",
          "text": [
            "--2022-11-01 19:42:19--  https://raw.githubusercontent.com/mayait/ClaseAnalisisDatos/main/regresion_lineal/Advertising.csv\n",
            "Resolving raw.githubusercontent.com (raw.githubusercontent.com)... 185.199.110.133, 185.199.111.133, 185.199.108.133, ...\n",
            "Connecting to raw.githubusercontent.com (raw.githubusercontent.com)|185.199.110.133|:443... connected.\n",
            "HTTP request sent, awaiting response... 200 OK\n",
            "Length: 4558 (4.5K) [text/plain]\n",
            "Saving to: ‘Advertising.csv’\n",
            "\n",
            "Advertising.csv     100%[===================>]   4.45K  --.-KB/s    in 0s      \n",
            "\n",
            "2022-11-01 19:42:19 (25.8 MB/s) - ‘Advertising.csv’ saved [4558/4558]\n",
            "\n"
          ]
        }
      ],
      "source": [
        "! wget https://raw.githubusercontent.com/mayait/ClaseAnalisisDatos/main/regresion_lineal/Advertising.csv"
      ]
    },
    {
      "cell_type": "code",
      "execution_count": null,
      "metadata": {
        "id": "zeoKI12otbK1"
      },
      "outputs": [],
      "source": [
        "# Cargamos con Pandas la tabla de datos Advertising.csv\n",
        "\n",
        "data = pd.read_csv(\"Advertising.csv\")"
      ]
    },
    {
      "cell_type": "code",
      "execution_count": null,
      "metadata": {
        "id": "RIiBR4vqtbK1"
      },
      "outputs": [],
      "source": [
        "data.head()"
      ]
    },
    {
      "cell_type": "code",
      "execution_count": null,
      "metadata": {
        "id": "Wr_HduA1tbK1"
      },
      "outputs": [],
      "source": [
        "data.columns"
      ]
    },
    {
      "cell_type": "code",
      "execution_count": null,
      "metadata": {
        "id": "LMcZNkjmtbK1"
      },
      "outputs": [],
      "source": [
        "data.shape"
      ]
    },
    {
      "cell_type": "code",
      "execution_count": null,
      "metadata": {
        "scrolled": true,
        "id": "DrAVX48EtbK2"
      },
      "outputs": [],
      "source": [
        "# La columna id es redundante pues pandas ya nos crea un indice.\n",
        "# La funcion drop dde pandas nos permite eliminar una columna completa.\n",
        "\n",
        "data.drop(['id'], axis=1)"
      ]
    },
    {
      "cell_type": "markdown",
      "metadata": {
        "id": "vVgJHEMatbK2"
      },
      "source": [
        "## Regresión lineal simple\n",
        "\n",
        "¿Puedes ver alguna relación entre el gasto en TV y las ventas?"
      ]
    },
    {
      "cell_type": "code",
      "execution_count": null,
      "metadata": {
        "id": "5sWww8cftbK2"
      },
      "outputs": [],
      "source": [
        "# Define el tamaño de la figura\n",
        "plt.figure(figsize=(16, 8))\n",
        "\n",
        "# Dibujamos un gráfico de dispersión con Matplotlib para dos variables\n",
        "plt.scatter(\n",
        "    data['tv'],\n",
        "    data['ventas'],\n",
        ")\n",
        "\n",
        "# Ponemos etiquetas al chart\n",
        "plt.xlabel(\"Dinero gastado en anuncios de televisión ($)\")\n",
        "plt.ylabel(\"Ventas ($)\")\n",
        "plt.show()"
      ]
    },
    {
      "cell_type": "markdown",
      "metadata": {
        "id": "ikgtMlGAtbK3"
      },
      "source": [
        "**Generamos una aproximación lineal de estos datos**"
      ]
    },
    {
      "cell_type": "code",
      "execution_count": null,
      "metadata": {
        "id": "nShBh39htbK3"
      },
      "outputs": [],
      "source": [
        "# Reshape cambia la estructura donde manipulamos los datos desde una lista simple a un arreglo de numpy, siempre debes hacer esta conversión.\n",
        "# Prueba sin la conversión\n",
        "\n",
        "X = data['tv'].values.reshape(-1,1)\n",
        "y = data['ventas'].values.reshape(-1,1)\n",
        "\n",
        "#Creamos la regresión\n",
        "reg = LinearRegression()\n",
        "reg.fit(X, y)"
      ]
    },
    {
      "cell_type": "code",
      "execution_count": null,
      "metadata": {
        "id": "vFfudIWAtbK3"
      },
      "outputs": [],
      "source": [
        "intercepto = reg.intercept_[0]\n",
        "coeficiente = reg.coef_[0][0]\n",
        "\n",
        "# La función Round(), redondea la cantidad de decimales\n",
        "# Es necesario convertir los números a caracteres con str() para imprimirlos\n",
        "print(\"El módelo lineal es: Y = \" + str(round(intercepto,2)) + \" + \" + str(round(coeficiente,2)) + \"X\")"
      ]
    },
    {
      "cell_type": "markdown",
      "metadata": {
        "id": "dQ7g4tdktbK3"
      },
      "source": [
        "**Podemos predecir el valor de las ventas para cualquier valor de gasto en tv**"
      ]
    },
    {
      "cell_type": "code",
      "execution_count": null,
      "metadata": {
        "id": "GzAYQlLHtbK4"
      },
      "outputs": [],
      "source": [
        "gasto_tv = [[4500],[10]]\n",
        "\n",
        "# Predict recibe un arreglo y regresa un arreglo de valores\n",
        "print(\"Gasto en TV:\", gasto_tv)\n",
        "print(\"Ventas estimadas:\", reg.predict( np.array(gasto_tv) ))"
      ]
    },
    {
      "cell_type": "code",
      "execution_count": null,
      "metadata": {
        "id": "6ImUSTA6tbK4"
      },
      "outputs": [],
      "source": [
        "# Predecimos los valores de todas las x\n",
        "predictions = reg.predict(X)\n",
        "\n",
        "plt.figure(figsize=(16, 8))\n",
        "\n",
        "# Dibujamos un gráfico de dispersión con Matplotlib para dos variables\n",
        "plt.scatter(\n",
        "    data['tv'],\n",
        "    data['ventas'],\n",
        ")\n",
        "\n",
        "# Dibujamos la linea\n",
        "plt.plot(\n",
        "    data['tv'],\n",
        "    predictions,\n",
        "    c='red',\n",
        "    linewidth=2\n",
        ")\n",
        "\n",
        "# Ponemos etiquetas al chart\n",
        "plt.xlabel(\"Dinero gastado en anuncios de televisión ($)\")\n",
        "plt.ylabel(\"Ventas ($)\")\n",
        "plt.show()"
      ]
    },
    {
      "cell_type": "markdown",
      "metadata": {
        "id": "JYNj0gvDtbK4"
      },
      "source": [
        "\n",
        "\n",
        "**Para ver si el modelo es bueno, necesitamos mirar el valor R² y el valor p de cada coeficiente.**"
      ]
    },
    {
      "cell_type": "code",
      "execution_count": null,
      "metadata": {
        "id": "JpiKqs-OtbK5"
      },
      "outputs": [],
      "source": [
        "X = data['tv']\n",
        "y = data['ventas']\n",
        "\n",
        "X2 = sm.add_constant(X)\n",
        "est = sm.OLS(y, X2)\n",
        "est2 = est.fit()\n",
        "\n",
        "print(est2.summary())"
      ]
    },
    {
      "cell_type": "code",
      "execution_count": null,
      "metadata": {
        "id": "gAXbNRvNtbK5"
      },
      "outputs": [],
      "source": [
        "r_cuadrado = est2.rsquared\n",
        "valor_p = est2.pvalues\n",
        "print(est2.pvalues)"
      ]
    },
    {
      "cell_type": "markdown",
      "metadata": {
        "id": "34FQNPHwtbK5"
      },
      "source": [
        "### Análisis \n",
        "\n",
        "- Tenemos un valor p que es muy bajo (aunque probablemente no sea exactamente 0)\n",
        "- Existe una fuerte correlación entre estos coeficientes y el objetivo (Ventas)\n",
        "- Tenemos un R² de 0.612. Por lo tanto, alrededor del 60% de la variabilidad de las ventas se explica por la cantidad gastada en anuncios de televisión. \n",
        "- Esto está bien, pero definitivamente no es lo mejor que podemos para predecir con precisión las ventas. "
      ]
    },
    {
      "cell_type": "markdown",
      "metadata": {
        "id": "m0KeI_7FtbK6"
      },
      "source": [
        "# Ejercicio 1:\n",
        "Realiza el analisis de regresión simple para las variables radio y periodico.\n",
        "- ¿Hay relación entre las variables y las ventas?"
      ]
    }
  ],
  "metadata": {
    "kernelspec": {
      "display_name": "Python 3 (ipykernel)",
      "language": "python",
      "name": "python3"
    },
    "language_info": {
      "codemirror_mode": {
        "name": "ipython",
        "version": 3
      },
      "file_extension": ".py",
      "mimetype": "text/x-python",
      "name": "python",
      "nbconvert_exporter": "python",
      "pygments_lexer": "ipython3",
      "version": "3.8.12"
    },
    "colab": {
      "provenance": []
    }
  },
  "nbformat": 4,
  "nbformat_minor": 0
}