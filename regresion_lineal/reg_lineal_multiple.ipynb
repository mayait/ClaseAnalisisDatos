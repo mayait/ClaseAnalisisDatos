{
  "cells": [
    {
      "cell_type": "markdown",
      "metadata": {
        "id": "RWGWXrbPVmbB"
      },
      "source": [
        "# Regresión lineal multiple\n",
        "\n",
        "Analicemos el efecto conjunto del gasto en publicidad en radio, televisión y prensa en las ventas de una compañia\n",
        "\n",
        "\n",
        "![Captura de Pantalla 2021-11-05 a la(s) 22.39.26.png](https://firespring.com/wp-content/uploads/2020/06/marketing-campaigns-tv-radio-print.png)"
      ],
      "id": "RWGWXrbPVmbB"
    },
    {
      "cell_type": "code",
      "execution_count": null,
      "metadata": {
        "id": "36bfbf73-bf4f-4de8-9abc-2a124eb88776"
      },
      "outputs": [],
      "source": [
        "# Si estás corriendo en tu maquina local, posiblemente necesites instalar las librerias que vamos a utilizar, podrias quitar el comentario a la siguiente linea\n",
        "# ! pip install sklearn statsmodels pandas numpy\n",
        "\n",
        "import pandas as pd\n",
        "import numpy as np\n",
        "import matplotlib.pyplot as plt\n",
        "from sklearn.linear_model import LinearRegression\n",
        "from sklearn.metrics import r2_score\n",
        "import statsmodels.api as sm\n",
        "\n",
        "from mpl_toolkits.mplot3d import axes3d\n",
        "import matplotlib.pyplot as plt\n",
        "from numpy.random import rand\n",
        "from IPython.display import HTML\n",
        "from matplotlib import animation\n",
        "\n",
        "%matplotlib notebook"
      ],
      "id": "36bfbf73-bf4f-4de8-9abc-2a124eb88776"
    },
    {
      "cell_type": "markdown",
      "metadata": {
        "id": "3afd7dab-ff64-4ecd-9109-7299c2ea9970"
      },
      "source": [
        "\n",
        "*Fuente de datos: http://www-bcf.usc.edu/~gareth/ISL/Advertising.csv*\n",
        "*An Introduction to Statistical Learning\n",
        "by Gareth James, Daniela Witten, Trevor Hastie and Rob Tibshirani*"
      ],
      "id": "3afd7dab-ff64-4ecd-9109-7299c2ea9970"
    },
    {
      "cell_type": "code",
      "execution_count": null,
      "metadata": {
        "id": "80382e9f-2a12-419b-95cf-0a5af1e0e36a"
      },
      "outputs": [],
      "source": [
        "# Cargamos con Pandas la tabla de datos Advertising.csv\n",
        "data = pd.read_csv(\"Advertising.csv\")\n",
        "\n",
        "# Quitamos la columna id por que es redundante\n",
        "data = data.drop(['id'], axis=1)\n",
        "\n",
        "data.columns"
      ],
      "id": "80382e9f-2a12-419b-95cf-0a5af1e0e36a"
    },
    {
      "cell_type": "code",
      "execution_count": null,
      "metadata": {
        "id": "33c0de25-75ed-484d-ab2a-25206d916d4c"
      },
      "outputs": [],
      "source": [
        "import seaborn as sb\n",
        "print(data.corr())\n",
        "dataplot = sb.heatmap(data.corr(), cmap=\"YlGnBu\", annot=True)\n"
      ],
      "id": "33c0de25-75ed-484d-ab2a-25206d916d4c"
    },
    {
      "cell_type": "markdown",
      "metadata": {
        "id": "0e6bfebd-e666-41f6-8536-c431674ecbe4"
      },
      "source": [
        "\n",
        "Identificamos nuestras variables independientes y la dependiente. "
      ],
      "id": "0e6bfebd-e666-41f6-8536-c431674ecbe4"
    },
    {
      "cell_type": "code",
      "execution_count": null,
      "metadata": {
        "id": "878e4923-694f-4086-abdb-0f7fd4641d27"
      },
      "outputs": [],
      "source": [
        "# Xs son las variables independientes\n",
        "Xs = data.drop(['ventas'], axis=1)\n",
        "\n",
        "# y es la variable dependiente\n",
        "y = data['ventas'].values.reshape(-1,1)\n",
        "\n",
        "# Calculamos la regresión\n",
        "reg = LinearRegression()\n",
        "reg.fit(Xs, y)"
      ],
      "id": "878e4923-694f-4086-abdb-0f7fd4641d27"
    },
    {
      "cell_type": "code",
      "source": [
        "Xs.values.reshape(-1,3)"
      ],
      "metadata": {
        "id": "aMCrz1HVjuFF"
      },
      "id": "aMCrz1HVjuFF",
      "execution_count": null,
      "outputs": []
    },
    {
      "cell_type": "code",
      "execution_count": null,
      "metadata": {
        "id": "6c8a566c-62e8-4d0d-bdac-d5672426c063"
      },
      "outputs": [],
      "source": [
        "intercepto = reg.intercept_[0]\n",
        "coeficientes = reg.coef_[0]\n",
        "\n",
        "print(intercepto)\n",
        "print(coeficientes)"
      ],
      "id": "6c8a566c-62e8-4d0d-bdac-d5672426c063"
    },
    {
      "cell_type": "code",
      "execution_count": null,
      "metadata": {
        "id": "93b03608-bed9-4f44-b2cd-aee14c1c348a"
      },
      "outputs": [],
      "source": [
        "coef_tv = round(coeficientes[0], 3)\n",
        "coef_radio = round(coeficientes[1], 3)\n",
        "coef_periodico = round(coeficientes[2], 3)\n",
        "\n",
        "print(\"El módelo lineal es:\")\n",
        "print(\"Y = \" + str(intercepto) + \" + \" + str(coef_tv) + \"(tv) + \" + str(coef_radio) + \"(radio) + \" + str(coef_periodico) + \"(periodico)\" )"
      ],
      "id": "93b03608-bed9-4f44-b2cd-aee14c1c348a"
    },
    {
      "cell_type": "markdown",
      "metadata": {
        "id": "32a01301-f443-405c-8164-3fd6461c1f93"
      },
      "source": [
        "- Observe que el coeficiente para el periódico es negativo, pero también bastante pequeño. \n",
        "- ¿Es relevante para nuestro modelo? \n",
        "**Veamos calculando el estadístico F, el valor R² y el valor p para cada coeficiente.**"
      ],
      "id": "32a01301-f443-405c-8164-3fd6461c1f93"
    },
    {
      "cell_type": "code",
      "execution_count": null,
      "metadata": {
        "id": "60d08d95-1bd7-43bb-ac66-51c905484b71"
      },
      "outputs": [],
      "source": [
        "print(\"R Cuadrado:\")\n",
        "reg.score(Xs, y)"
      ],
      "id": "60d08d95-1bd7-43bb-ac66-51c905484b71"
    },
    {
      "cell_type": "markdown",
      "metadata": {
        "id": "cae0de5a-5e9b-4c6d-803c-0492c015ff84"
      },
      "source": [
        "### Evaluar la relevancia del modelo\n",
        "Como es de esperar, el procedimiento aquí es muy similar al que hicimos en la regresión lineal simple.\n",
        "Convertimos las variables independientes en "
      ],
      "id": "cae0de5a-5e9b-4c6d-803c-0492c015ff84"
    },
    {
      "cell_type": "code",
      "execution_count": null,
      "metadata": {
        "id": "3f2c47a9-9b83-4e12-a578-ccfdfc2b8666"
      },
      "outputs": [],
      "source": [
        "# Es necesario convertir las variables independientes en un arreglo de 3 columnas, en una lista de 3 listas.\n",
        "X = np.column_stack((data['tv'], data['radio'], data['periodico']))\n",
        "y = data['ventas']\n",
        "\n",
        "X2 = sm.add_constant(X)\n",
        "est = sm.OLS(y, X2)\n",
        "est2 = est.fit()\n",
        "print(est2.summary())"
      ],
      "id": "3f2c47a9-9b83-4e12-a578-ccfdfc2b8666"
    },
    {
      "cell_type": "markdown",
      "metadata": {
        "id": "VWVGKfPReaLl"
      },
      "source": [
        "- Como puede ver, el R² es mucho más alto que el de la regresión lineal ¡con un valor de 0,897!\n",
        "- Además, el estadístico F es 570,3. Esto es mucho mayor que 1, y dado que nuestro conjunto de datos es bastante pequeño (solo 200 puntos de datos), demuestra que existe una fuerte relación entre el gasto publicitario y las ventas.\n",
        "- Finalmente, debido a que solo tenemos tres predictores, podemos considerar su valor p para determinar si son relevantes para el modelo o no. \n",
        "- Observa que el tercer coeficiente (el del periódico) tiene un valor p grande. Por tanto, la inversión publicitaria en periódicos no es estadísticamente significativa. \n",
        "- Eliminar ese predictor reduciría ligeramente el valor R², pero podríamos hacer mejores predicciones."
      ],
      "id": "VWVGKfPReaLl"
    },
    {
      "cell_type": "markdown",
      "metadata": {
        "id": "2b5d75c9-7cf3-458e-a0cc-adf34c5ef0c5"
      },
      "source": [
        "# Grafiquemos el módelo con dos variables (Radio, TV)"
      ],
      "id": "2b5d75c9-7cf3-458e-a0cc-adf34c5ef0c5"
    },
    {
      "cell_type": "code",
      "execution_count": null,
      "metadata": {
        "id": "066273b0-0cb3-497c-b26a-8b171661ea69"
      },
      "outputs": [],
      "source": [
        "\n",
        "fig = plt.figure(figsize=(16, 8))\n",
        "ax = fig.add_subplot(111, projection='3d')\n",
        "\n",
        "ax.scatter(data['tv'], data['radio'], data['ventas'],\n",
        "           marker='o',\n",
        "           alpha=1)\n",
        "\n",
        "ax.set_xlabel('tv')\n",
        "ax.set_ylabel('radio')\n",
        "ax.set_zlabel('ventas')\n",
        "\n",
        "\n",
        "def animate(frame):\n",
        "  ax.view_init(30, frame/4)\n",
        "  plt.pause(.001)\n",
        "  return fig\n",
        "\n",
        "anim = animation.FuncAnimation(fig, animate, frames=600, interval=50)\n",
        "HTML(anim.to_html5_video())"
      ],
      "id": "066273b0-0cb3-497c-b26a-8b171661ea69"
    },
    {
      "cell_type": "code",
      "execution_count": null,
      "metadata": {
        "id": "97328095-38f7-40f4-a77a-5878aa4eadf8"
      },
      "outputs": [],
      "source": [
        "import statsmodels.formula.api as sm\n",
        "\n",
        "csv = data\n",
        "model = sm.ols(formula='ventas ~ tv + radio', data = csv)\n",
        "fit = model.fit()\n",
        "\n",
        "fit.summary()\n",
        "\n",
        "fig = plt.figure(figsize=(16, 8))\n",
        "ax = fig.add_subplot(111, projection='3d')\n",
        "\n",
        "x_surf = np.arange(0, 350, 20)                # generate a mesh\n",
        "y_surf = np.arange(0, 60, 4)\n",
        "x_surf, y_surf = np.meshgrid(x_surf, y_surf)\n",
        "\n",
        "exog = pd.core.frame.DataFrame({'tv': x_surf.ravel(), 'radio': y_surf.ravel()})\n",
        "out = fit.predict(exog = exog)\n",
        "ax.plot_surface(x_surf, y_surf,\n",
        "                out.values.reshape(x_surf.shape),\n",
        "                rstride=1,\n",
        "                cstride=1,\n",
        "                color='red',\n",
        "                alpha = 0.2)\n",
        "\n",
        "ax.scatter(csv['tv'], csv['radio'], csv['ventas'],\n",
        "           c='blue',\n",
        "           marker='o',\n",
        "           alpha=1)\n",
        "\n",
        "ax.set_xlabel('TV')\n",
        "ax.set_ylabel('Radio')\n",
        "ax.set_zlabel('Sales')\n",
        "\n",
        "def animate(frame):\n",
        "  ax.view_init(30, frame/4)\n",
        "  plt.pause(.001)\n",
        "  return fig\n",
        "\n",
        "anim = animation.FuncAnimation(fig, animate, frames=600, interval=100)\n",
        "HTML(anim.to_html5_video())"
      ],
      "id": "97328095-38f7-40f4-a77a-5878aa4eadf8"
    },
    {
      "cell_type": "code",
      "execution_count": null,
      "metadata": {
        "id": "c60c86d0-7e84-48b0-8395-1ec40340a6f6"
      },
      "outputs": [],
      "source": [
        ""
      ],
      "id": "c60c86d0-7e84-48b0-8395-1ec40340a6f6"
    },
    {
      "cell_type": "code",
      "source": [
        "y"
      ],
      "metadata": {
        "id": "139EfarslJHt"
      },
      "id": "139EfarslJHt",
      "execution_count": null,
      "outputs": []
    }
  ],
  "metadata": {
    "colab": {
      "collapsed_sections": [],
      "name": "Reg_Lineal_Multiple-3.ipynb",
      "provenance": []
    },
    "kernelspec": {
      "display_name": "Python 3 (ipykernel)",
      "language": "python",
      "name": "python3"
    },
    "language_info": {
      "codemirror_mode": {
        "name": "ipython",
        "version": 3
      },
      "file_extension": ".py",
      "mimetype": "text/x-python",
      "name": "python",
      "nbconvert_exporter": "python",
      "pygments_lexer": "ipython3",
      "version": "3.8.12"
    }
  },
  "nbformat": 4,
  "nbformat_minor": 5
}