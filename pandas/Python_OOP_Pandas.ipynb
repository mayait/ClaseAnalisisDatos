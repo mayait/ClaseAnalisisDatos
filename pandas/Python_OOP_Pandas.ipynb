{
  "cells": [
    {
      "cell_type": "markdown",
      "metadata": {
        "id": "view-in-github",
        "colab_type": "text"
      },
      "source": [
        "<a href=\"https://colab.research.google.com/github/mayait/ClaseAnalisisDatos/blob/main/pandas/Python_OOP_Pandas.ipynb\" target=\"_parent\"><img src=\"https://colab.research.google.com/assets/colab-badge.svg\" alt=\"Open In Colab\"/></a>"
      ]
    },
    {
      "cell_type": "code",
      "execution_count": 1,
      "metadata": {
        "cellView": "form",
        "id": "oEfCT92oL7bC"
      },
      "outputs": [],
      "source": [
        "#@title Nombre del estudiante\n",
        "Estudiante = \"\" #@param {type:\"string\"}"
      ]
    },
    {
      "cell_type": "markdown",
      "metadata": {
        "application/vnd.databricks.v1+cell": {
          "inputWidgets": {},
          "nuid": "18783605-2c3d-4c8a-98f1-b214ed5702c8",
          "showTitle": false,
          "title": ""
        },
        "id": "Nndf-4PDow-A"
      },
      "source": [
        "# Programación orientada a objetos en Python\n",
        "\n",
        "#### Clases / Objetos\n",
        "En la verdadera programación orientada a objetos (OOP), el desarrollador escribe código en torno a cosas llamadas objetos. Un objeto (o una clase) agrupa datos y funciones que operan sobre esos datos. Es posible que conozca esta terminología de *C++* y otros lenguajes.\n",
        "\n",
        "#### Módulos\n",
        "Los módulos en Python contienen grandes cantidades de código que se encuentran relacionados. En la mayoría de los casos, poseen varias clases y funciones que abordan una necesidad particular.\n",
        "\n",
        "#### Librerías / Bibliotecas\n",
        "Las librerías pueden contener múltiples módulos que van juntos. Las librerías generalmente tiene una estructura de directorio específica.\n",
        "\n",
        "<img src=\"https://i0.wp.com/bhivetech.blog/wp-content/uploads/2020/04/classes.png\" width=\"80%\"/>\n",
        "\n",
        "# Clase Coche en Python\n",
        "\n",
        "La clase `Coche` en Python puede ser utilizada para crear objetos que representan coches en el mundo real. La clase incluirá atributos como `color`, `tamaño`, `motor`, `precio`, y `modelo`, y comportamientos, que son métodos, como `conducir`, `estacionar`, `arrancar`, y `detener`.\n",
        "\n",
        "```python\n",
        "class Coche:\n",
        "    def __init__(self, color, tamano, motor, precio, modelo):\n",
        "        self.color = color\n",
        "        self.tamano = tamano\n",
        "        self.motor = motor\n",
        "        self.precio = precio\n",
        "        self.modelo = modelo\n",
        "    \n",
        "    def conducir(self):\n",
        "        return \"El coche está en movimiento.\"\n",
        "    \n",
        "    def estacionar(self):\n",
        "        return \"El coche está estacionado.\"\n",
        "    \n",
        "    def arrancar(self):\n",
        "        return \"El coche ha arrancado.\"\n",
        "    \n",
        "    def detener(self):\n",
        "        return \"El coche se ha detenido.\"\n",
        "\n",
        "```\n",
        "### Creación de objetos\n",
        "\n",
        "```python\n",
        "coche_azul = Coche(\"azul\", \"212 pulgadas\", \"3.6L V6\", \"50,000 USD\", \"AL3\")\n",
        "coche_rojo = Coche(\"rojo\", \"143 pulgadas\", \"1.4L 4-cyl\", \"12,000 USD\", \"HA2\")\n",
        "\n",
        "print(coche_azul.conducir())\n",
        "print(coche_rojo.estacionar())\n",
        "```\n",
        "\n",
        "\n",
        "\n"
      ]
    },
    {
      "cell_type": "markdown",
      "source": [
        "## ¿Qué es una Clase?\n",
        "Una clase en Python actúa como un plano para crear objetos. Define un conjunto de atributos y métodos que los objetos creados a partir de la clase pueden utilizar."
      ],
      "metadata": {
        "id": "8-q7FM_I-aS0"
      }
    },
    {
      "cell_type": "code",
      "source": [
        "class MiClase:\n",
        "    \"\"\"Esta es una clase simple de ejemplo.\"\"\"\n",
        "    atributo = \"un valor\"\n",
        "\n",
        "    def metodo(self):\n",
        "        return \"Este es un método de la clase\""
      ],
      "metadata": {
        "id": "D7VMzsG5-LdS"
      },
      "execution_count": 1,
      "outputs": []
    },
    {
      "cell_type": "markdown",
      "source": [
        "## Creando Objetos\n",
        "Los objetos son instancias de una clase. Al crear un objeto, este hereda todos los atributos y métodos definidos en la clase."
      ],
      "metadata": {
        "id": "yWmaDZXC-mn6"
      }
    },
    {
      "cell_type": "code",
      "source": [
        "mi_objeto = MiClase()\n",
        "print( mi_objeto.atributo )  # Salida: un valor\n",
        "print( mi_objeto.metodo() )  # Salida: Este es un método de la clase\n"
      ],
      "metadata": {
        "colab": {
          "base_uri": "https://localhost:8080/"
        },
        "id": "0mLGFbpJ-qcO",
        "outputId": "d0a040c1-a095-48b1-edeb-0fe2d5335e4b"
      },
      "execution_count": 2,
      "outputs": [
        {
          "output_type": "stream",
          "name": "stdout",
          "text": [
            "un valor\n",
            "Este es un método de la clase\n"
          ]
        }
      ]
    },
    {
      "cell_type": "markdown",
      "source": [
        "## Constructor __init__\n",
        "El método __init__ se ejecuta automáticamente al crear un nuevo objeto de una clase, y se utiliza para inicializar los atributos del objeto.\n",
        "\n",
        "__self__ es un argumento que se utiliza en los métodos de una clase para referirse al objeto actual. Es una convención para nombrar la referencia al objeto que está siendo creado o manipulado."
      ],
      "metadata": {
        "id": "1VXQyUHK-7UX"
      }
    },
    {
      "cell_type": "code",
      "source": [
        "class Auto:\n",
        "    def __init__(self, marca, modelo):\n",
        "        self.marca = marca\n",
        "        self.modelo = modelo\n",
        "\n",
        "    def mostrar_descripcion(self):\n",
        "        return f\"Este auto es un {self.marca} {self.modelo}.\""
      ],
      "metadata": {
        "id": "9JE-m_KC-_Zp"
      },
      "execution_count": 7,
      "outputs": []
    },
    {
      "cell_type": "code",
      "source": [
        "mi_carro = Auto(\"Toyota\", \"Corolla\")\n",
        "print(mi_carro.mostrar_descripcion())  # Salida: Este coche es un Toyota Corolla."
      ],
      "metadata": {
        "colab": {
          "base_uri": "https://localhost:8080/"
        },
        "id": "_TGIDJUA_D6q",
        "outputId": "ccf6b7b8-baca-45a0-bca4-f908d48f0367"
      },
      "execution_count": 5,
      "outputs": [
        {
          "output_type": "stream",
          "name": "stdout",
          "text": [
            "Este auto es un Toyota Corolla.\n"
          ]
        }
      ]
    },
    {
      "cell_type": "markdown",
      "source": [
        "# 🌶️ Crea un sistema bancario\n",
        "\n",
        "\n",
        "1. Crear una clase `CuentaBancaria` que tenga un diccionario para los atributos de la cuenta como `titular`, `balance` y `número de cuenta`.\n",
        "2. Permitir depositar (`depositar`) y retirar dinero (`retirar`) de la cuenta a través de métodos que modifiquen los valores en el diccionario.\n",
        "3. Incluir un método para mostrar el balance actual (`mostrar_balance`), que lee del diccionario de la cuenta.\n",
        "4. Crear una clase `Banco` que contenga una lista de diccionarios de cuentas bancarias.\n",
        "5. Agregar métodos al `Banco` para buscar una cuenta por titular y número de cuenta dentro de la lista de cuentas.\n",
        "6. Implementar un sistema de transferencia de fondos entre cuentas utilizando los números de cuenta y actualizando los balances en los diccionarios correspondientes.\n",
        "\n",
        "**Requisitos:**\n",
        "\n",
        "- Implementa validaciones usando condicionales para todas las operaciones bancarias para garantizar la integridad de las transacciones.\n",
        "- Crea un menú interactivo que utilice una lista de opciones posibles y un bucle para permitir al usuario realizar diferentes operaciones bancarias.\n",
        "\n",
        "Este ejercicio te ayudará a practicar el uso de diccionarios para almacenar información estructurada y listas para manejar colecciones de estos diccionarios, todo esto mientras mantienes la orientación a objetos en tu diseño de software."
      ],
      "metadata": {
        "id": "baAPv_-4B72n"
      }
    },
    {
      "cell_type": "code",
      "source": [
        "class CuentaBancaria:\n",
        "    def __init__(self, titular, balance, numero_cuenta):\n",
        "        # TODO: Almacenar los parámetros como un diccionario en self.detalle_cuenta\n",
        "\n",
        "    def depositar(self, monto):\n",
        "        # TODO: Implementar la lógica para depositar un monto en la cuenta, pilas con los depositos negativos\n",
        "        pass\n",
        "\n",
        "    def retirar(self, monto):\n",
        "        # TODO: Implementar la lógica para retirar un monto de la cuenta\n",
        "        pass\n",
        "\n",
        "    def mostrar_balance(self):\n",
        "        # TODO: Implementar la lógica para mostrar el balance de la cuenta\n",
        "        pass\n",
        "\n",
        "class Banco:\n",
        "    def __init__(self):\n",
        "        # TODO: Inicializar una lista para almacenar las cuentas\n",
        "\n",
        "    def agregar_cuenta(self, cuenta):\n",
        "        # TODO: Implementar la lógica para agregar una nueva cuenta al banco\n",
        "        pass\n",
        "\n",
        "    def buscar_cuenta(self, numero_cuenta):\n",
        "        # TODO: Implementar la lógica para buscar y retornar una cuenta por su número\n",
        "        pass\n",
        "\n",
        "    def transferir_fondos(self, num_cuenta_origen, num_cuenta_destino, monto):\n",
        "        # TODO: Implementar la lógica para transferir fondos entre cuentas\n",
        "        pass"
      ],
      "metadata": {
        "id": "4YrRsOpK_Knf"
      },
      "execution_count": null,
      "outputs": []
    },
    {
      "cell_type": "markdown",
      "metadata": {
        "id": "yK7j5DNCFQ_u"
      },
      "source": [
        "# **Introducción a Pandas**"
      ]
    },
    {
      "cell_type": "markdown",
      "metadata": {
        "application/vnd.databricks.v1+cell": {
          "inputWidgets": {},
          "nuid": "7b304884-8fdc-407b-939d-6d5fcf021973",
          "showTitle": false,
          "title": ""
        },
        "id": "DDMJZOiCFQ_5"
      },
      "source": [
        "\n",
        "# Librerías para Analitica de Datos\n",
        "\n",
        "En esta lección se trabajará con las principales librerías enfocadas en Ciencia de Datos\n",
        "\n",
        "## Contenido\n",
        "\n",
        "* Series y Dataframes con Pandas\n",
        "* Manipulación de DataFrames con Pandas"
      ]
    },
    {
      "cell_type": "markdown",
      "metadata": {
        "application/vnd.databricks.v1+cell": {
          "inputWidgets": {},
          "nuid": "18783605-2c3d-4c8a-98f1-b214ed5702c8",
          "showTitle": false,
          "title": ""
        },
        "id": "34ghK0Y_FQ_5"
      },
      "source": [
        "## Programación orientada a objetos en Python\n",
        "\n",
        "<img src=\"https://i0.wp.com/bhivetech.blog/wp-content/uploads/2020/04/classes.png\" width=\"80%\"/>\n",
        "\n",
        "\n",
        "#### Clases / Objetos\n",
        "En la verdadera programación orientada a objetos (OOP), el desarrollador escribe código en torno a cosas llamadas objetos. Un objeto (o una clase) agrupa datos y funciones que operan sobre esos datos. Es posible que conozca esta terminología de *C++* y otros lenguajes.\n",
        "\n",
        "#### Módulos\n",
        "Los módulos en Python contienen grandes cantidades de código que se encuentran relacionados. En la mayoría de los casos, poseen varias clases y funciones que abordan una necesidad particular.\n",
        "\n",
        "#### Librerías / Bibliotecas\n",
        "Las librerías pueden contener múltiples módulos que van juntos. Las librerías generalmente tiene una estructura de directorio específica.\n",
        "\n"
      ]
    },
    {
      "cell_type": "markdown",
      "metadata": {
        "application/vnd.databricks.v1+cell": {
          "inputWidgets": {},
          "nuid": "68f5ed88-bcce-4f43-9a02-dc313be93df3",
          "showTitle": false,
          "title": ""
        },
        "id": "_oHoG4nVFQ_5"
      },
      "source": [
        "### Importar Módulos\n",
        "Todo notebook debería empezar con una sección de código que importe los **módulos** que se emplearán.\n",
        "\n",
        "A continuación importaremos el módulo **numpy** y **pandas**. Estas son librerías comúnmente empleadas en el área de la Ciencia de Datos.\n",
        "\n",
        "De manera general, utilizaremos la estructura `import MODULE_NAME as MODULE_NICKNAME` para importar cualquier módulo que la programación requiera.\n",
        "\n",
        "`statsmodels`: utilizado en aprendizaje automático; generalmente lo abreviamos como `sm`\n",
        "`seaborn`: una biblioteca de visualización; generalmente alias como `sns`\n",
        "\n",
        "Tenga en cuenta que cada módulo tiene un alias estándar, que le permite acceder a las herramientas dentro del módulo sin escribir tantos caracteres. Por ejemplo, el alias nos permite acortar `seaborn.scatterplot()` a `sns.scatterplot()`"
      ]
    },
    {
      "cell_type": "code",
      "execution_count": null,
      "metadata": {
        "application/vnd.databricks.v1+cell": {
          "inputWidgets": {},
          "nuid": "38548a47-27e9-4382-8576-69329cf2a013",
          "showTitle": false,
          "title": ""
        },
        "id": "UuBTf-XbFQ_5"
      },
      "outputs": [],
      "source": [
        "import numpy as np\n",
        "import pandas as pd"
      ]
    },
    {
      "cell_type": "markdown",
      "metadata": {
        "application/vnd.databricks.v1+cell": {
          "inputWidgets": {},
          "nuid": "2887b111-9a6a-42d5-8a99-6551b66f862d",
          "showTitle": false,
          "title": ""
        },
        "id": "i-DE_2SDFQ_6"
      },
      "source": [
        "# Series y Dataframes con Pandas\n",
        "\n",
        "Nos gustaría una estructura de datos que pueda almacenar fácilmente variables de diferentes tipos, que almacene nombres de columnas, y en la que podamos hacer referencia por nombre de columna así como por posición indexada. Y sería bueno si esta estructura de datos viniera con funciones integradas que podamos usar para manipularla.\n",
        "\n",
        "`Pandas` es una librería que hace todo esto! La librería está construida sobre `numpy`.\n",
        "\n",
        "Existen dos objetos `pandas` básicos, *series* y *dataframes*, que se pueden considerar como versiones mejoradas de arreglos 1D y 2D `numpy`, respectivamente.\n",
        "\n",
        "Para referencia `pandas` [cheatsheet](https://pandas.pydata.org/Pandas_Cheat_Sheet.pdf) y `pandas` [documentación](https://pandas.pydata.org/pandas-docs/stable/)."
      ]
    },
    {
      "cell_type": "markdown",
      "metadata": {
        "application/vnd.databricks.v1+cell": {
          "inputWidgets": {},
          "nuid": "0f25b9f2-7098-4bd7-8c28-339a9658099b",
          "showTitle": false,
          "title": ""
        },
        "id": "o8s5AxksFQ_6"
      },
      "source": [
        "**Importancia de Pandas**\n",
        "*    Lectura y escritura de datos\n",
        "*    Modificación de índices y etiquetas de las columnas\n",
        "*    Trabajo con fechas\n",
        "*    Ordenamiento, agrupación y tratamiento de valores faltantes (curación de datos)\n",
        "    \n",
        "Para importar este módulo utilizamos el comando: ```import pandas as pd```"
      ]
    },
    {
      "cell_type": "markdown",
      "metadata": {
        "application/vnd.databricks.v1+cell": {
          "inputWidgets": {},
          "nuid": "7956f94d-807b-47af-b521-70316dcd2caa",
          "showTitle": false,
          "title": ""
        },
        "id": "Fw9FNMspFQ_6"
      },
      "source": [
        "### 2.1 Pandas - Series"
      ]
    },
    {
      "cell_type": "markdown",
      "metadata": {
        "application/vnd.databricks.v1+cell": {
          "inputWidgets": {},
          "nuid": "fcb28bbd-4c9f-428d-a45c-bc7f2d945db1",
          "showTitle": false,
          "title": ""
        },
        "id": "LdJuOUjBFQ_6"
      },
      "source": [
        "Una Serie es una colección de observaciones de una variable individual. <br>\n",
        "\n",
        "Se puede pensar en una Serie como los datos en un arreglo de 1D.\n",
        "\n",
        "En la serie ``items``, cada uno de los índices del 0 al 4 son los identificadores de 5 productos diferentes y los valores float representan el precio unitario correspondiente a cada uno."
      ]
    },
    {
      "cell_type": "code",
      "execution_count": null,
      "metadata": {
        "application/vnd.databricks.v1+cell": {
          "inputWidgets": {},
          "nuid": "5fa90f82-db3e-41ee-b992-b97765670767",
          "showTitle": false,
          "title": ""
        },
        "id": "f7voHZ1OFQ_6"
      },
      "outputs": [],
      "source": [
        "# Usamos el constructor pd.Series\n",
        "items = pd.Series(name = 'precios', data = [2, 3, 8, 6, 7], index = ['Mora','Frutilla','Mango','Platano','Sandia'])\n",
        "print(items)"
      ]
    },
    {
      "cell_type": "markdown",
      "metadata": {
        "application/vnd.databricks.v1+cell": {
          "inputWidgets": {},
          "nuid": "1dcdf253-d347-47d4-9d5d-6fbd6319d3bf",
          "showTitle": false,
          "title": ""
        },
        "id": "MmqRpKd2FQ_6"
      },
      "source": [
        "**Importante**: las Series están implementadas sobre arreglos NumPy. Esto les permite soportar operaciones válidas con estos arreglos. En el ejemplo tenemos el caso de la multiplicación de un arreglo de 1D por un escalar."
      ]
    },
    {
      "cell_type": "markdown",
      "metadata": {
        "application/vnd.databricks.v1+cell": {
          "inputWidgets": {},
          "nuid": "a4713ea8-f152-4c19-bfb5-72a20f3080f0",
          "showTitle": false,
          "title": ""
        },
        "id": "xteqAH0iFQ_6"
      },
      "source": [
        "Método útiles de las Series de Pandas"
      ]
    },
    {
      "cell_type": "code",
      "execution_count": null,
      "metadata": {
        "application/vnd.databricks.v1+cell": {
          "inputWidgets": {},
          "nuid": "438e713d-9210-46ee-b4bb-c873e108bd5b",
          "showTitle": false,
          "title": ""
        },
        "id": "fJoGWQ3kFQ_6"
      },
      "outputs": [],
      "source": [
        "print('Obtener los índices:', items.index)\n",
        "print('Obtener los valores:', items.values)\n",
        "print('Obtener tipo de dato:', items.dtypes)\n"
      ]
    },
    {
      "cell_type": "markdown",
      "metadata": {
        "application/vnd.databricks.v1+cell": {
          "inputWidgets": {},
          "nuid": "55f86209-ef0f-4fd1-9cb2-650f0a0a2be6",
          "showTitle": false,
          "title": ""
        },
        "id": "DtuH8n1xFQ_6"
      },
      "source": [
        "### 2.2 Pandas - DataFrames: creación, propiedades y funciones"
      ]
    },
    {
      "cell_type": "markdown",
      "metadata": {
        "application/vnd.databricks.v1+cell": {
          "inputWidgets": {},
          "nuid": "07533dae-3aad-4f7c-80d0-d2d600fbc410",
          "showTitle": false,
          "title": ""
        },
        "id": "IxwKsvJ4FQ_6"
      },
      "source": [
        "Un DataFrame de Pandas es un objeto que permite guardar datos en varias columnas que estan mutuamente relacionadas.\n",
        "\n",
        "Podemos pensar un DataFrame como una hoja de datos de Excel altamente optimizada. Los DataFrames estan compuestos por filas y columnas.\n",
        "\n",
        "Pandas posee múltiples funciones para cargar varios tipos de archivos: pd.read_csv, pd.read_excel, pd.read_json, pd.read_parquet, etc.\n",
        "\n",
        "\n",
        "### Lectura de datos en un DataFrame\n",
        "\n",
        "A continuación, iniciaremos leyendo los datos del archivo en formato csv en un DataFrame. <br>\n",
        "\n",
        "Este archivo contiene una muestra de datos de 'Penn World Table' con diferentes indicadores socioeconómicos de los países en diferentes años.\n",
        "\n",
        "<a href='https://storage.googleapis.com/datasets-academy/Track%20Data%20Science/01_Intro_Python/PWT91.csv'>\n",
        "  Link para descargar el dataset PWT</a>"
      ]
    },
    {
      "cell_type": "markdown",
      "metadata": {
        "application/vnd.databricks.v1+cell": {
          "inputWidgets": {},
          "nuid": "c632a04b-0165-45cc-a2d0-ce85a0ee8a05",
          "showTitle": false,
          "title": ""
        },
        "id": "Xpp3Cd9iFQ_6"
      },
      "source": [
        "**Diccionario de datos:**\n",
        "\n",
        "**countrycode:** Código estándar ISO 3166-1 alfa-3, proporciona códigos para los nombres de países por medio de tres letras<br>\n",
        "**country:** Nombre del país <br>\n",
        "**year:** Año <br>\n",
        "**rgdpo:** Producto Interno Bruto Real calculado mediante la PPA (pariedad de poder adquisitivo) con año base 2011 (en millones dólares) <br>\n",
        "**pop:** Población (millones de personas) <br>\n",
        "**emp:** Personas de 15 años y más que durante la semana trabajaron incluso solo durante una hora, o no estaban en el trabajo pero tenían un trabajo o negocio del que estaban temporalmente ausentes (millones de personas) <br>\n",
        "**avh:** Promedio de horas anuales trabajadas por personas que cumplan la condición de la variable emp <br>\n",
        "**hc:** Índice de capital humano por persona, que se relaciona con los años promedio de escolaridad y el retorno a la educación"
      ]
    },
    {
      "cell_type": "code",
      "source": [
        "https://raw.githubusercontent.com/mayait/ClaseAnalisisDatos/main/pandas/data/PWT91.csv"
      ],
      "metadata": {
        "id": "-3Ffsab9FQ_6"
      },
      "execution_count": null,
      "outputs": []
    },
    {
      "cell_type": "markdown",
      "source": [
        "**Cargar datos de archivos de datos externos a pandas:**\n",
        "Puedes cargar datos a pandas desde excel o desde un csv\n",
        "\n",
        "```python\n",
        "df_csv = pd.read_csv('data.csv', sep = ',', decimal = '.')\n",
        "df_excel = pandas.read_excel('records.xlsx', sheet_name='Employees')\n",
        "```\n",
        "\n"
      ],
      "metadata": {
        "id": "6uJRd177FQ_7"
      }
    },
    {
      "cell_type": "code",
      "execution_count": null,
      "metadata": {
        "application/vnd.databricks.v1+cell": {
          "inputWidgets": {},
          "nuid": "e893cc44-7161-488b-9cbe-ce97c6a6a720",
          "showTitle": false,
          "title": ""
        },
        "id": "nZ-wzNn_FQ_7"
      },
      "outputs": [],
      "source": [
        "# Nomeclatura estándar para el nombre de un Dataframe se abrevia con df\n",
        "df = pd.read_csv(filepath_or_buffer = 'PWT91.csv', sep = ',', decimal = '.')"
      ]
    },
    {
      "cell_type": "code",
      "execution_count": null,
      "metadata": {
        "id": "1GsnMhJ-FQ_7"
      },
      "outputs": [],
      "source": [
        "# El método head permite observar las primeras 5 filas del dataframe\n",
        "df.head(500)"
      ]
    },
    {
      "cell_type": "markdown",
      "metadata": {
        "application/vnd.databricks.v1+cell": {
          "inputWidgets": {},
          "nuid": "6f21770a-5b59-4153-b7e6-ed421c2ea33c",
          "showTitle": false,
          "title": ""
        },
        "id": "24I9d5DOFQ_7"
      },
      "source": [
        "**Fuente**: Feenstra, Robert C., Robert Inklaar and Marcel P. Timmer (2015), \"The Next Generation of the Penn World Table\" American Economic Review, 105(10), 3150-3182, available for download at www.ggdc.net/pwt"
      ]
    },
    {
      "cell_type": "markdown",
      "metadata": {
        "application/vnd.databricks.v1+cell": {
          "inputWidgets": {},
          "nuid": "bc65aa5e-17f7-4e35-b2ce-281e2e5f97af",
          "showTitle": false,
          "title": ""
        },
        "id": "SFOCkpp0FQ_7"
      },
      "source": [
        "Lo que tenemos ahora es una hoja de cálculo con filas indexadas y columnas nombradas, llamada `df`. **Importante**: Las columnas son *series de pandas*."
      ]
    },
    {
      "cell_type": "code",
      "execution_count": null,
      "metadata": {
        "application/vnd.databricks.v1+cell": {
          "inputWidgets": {},
          "nuid": "8e75cb55-d9f5-4827-8397-570f06457355",
          "showTitle": false,
          "title": ""
        },
        "id": "kzKnibPbFQ_7"
      },
      "outputs": [],
      "source": [
        "# Comprobamos las dimensiones del Dataframe (filas, columnas)\n",
        "df.shape"
      ]
    },
    {
      "cell_type": "code",
      "execution_count": null,
      "metadata": {
        "application/vnd.databricks.v1+cell": {
          "inputWidgets": {},
          "nuid": "df65f53a-9c27-47c3-a89c-9f3193d24ce0",
          "showTitle": false,
          "title": ""
        },
        "id": "62gU3lj2FQ_7"
      },
      "outputs": [],
      "source": [
        "print(type(df))"
      ]
    },
    {
      "cell_type": "markdown",
      "metadata": {
        "application/vnd.databricks.v1+cell": {
          "inputWidgets": {},
          "nuid": "7c6ef21d-6150-4ce8-b8ce-e3eeab2f860f",
          "showTitle": false,
          "title": ""
        },
        "id": "eGOKPtjoFQ_7"
      },
      "source": [
        "La función `pd.read_csv` infiere el tipo de datos por defecto"
      ]
    },
    {
      "cell_type": "code",
      "execution_count": null,
      "metadata": {
        "application/vnd.databricks.v1+cell": {
          "inputWidgets": {},
          "nuid": "089a979e-7651-4328-83b4-e8445e28edb7",
          "showTitle": false,
          "title": ""
        },
        "id": "HUMuVVdtFQ_7"
      },
      "outputs": [],
      "source": [
        "# Comprobamos el tipo de las variables en el dataframe\n",
        "print(df.dtypes)"
      ]
    },
    {
      "cell_type": "markdown",
      "metadata": {
        "application/vnd.databricks.v1+cell": {
          "inputWidgets": {},
          "nuid": "361364af-72e6-402a-bf8b-73e14269062c",
          "showTitle": false,
          "title": ""
        },
        "id": "TxPFwiFmFQ_7"
      },
      "source": [
        "Podemos cambiar el tipo de las columnas:\n",
        "- Convertir la columna year para que sea tipo datetime, para una mayor información sobre los tipos de [formatos fecha](https://strftime.org/)\n",
        "- Convertir la columna pop (población)"
      ]
    },
    {
      "cell_type": "code",
      "execution_count": null,
      "metadata": {
        "application/vnd.databricks.v1+cell": {
          "inputWidgets": {},
          "nuid": "d126d61e-97d0-4d20-afeb-5e810a2b6fbc",
          "showTitle": false,
          "title": ""
        },
        "id": "bARwD-nRFQ_7"
      },
      "outputs": [],
      "source": [
        "df['year'] = pd.to_datetime(df['year'], format = '%Y')\n",
        "df['pop']  = df['pop'].fillna(0).astype(int)\n",
        "df.dtypes"
      ]
    },
    {
      "cell_type": "markdown",
      "metadata": {
        "application/vnd.databricks.v1+cell": {
          "inputWidgets": {},
          "nuid": "12ab6717-ec65-4070-99a7-0fe0cef618f8",
          "showTitle": false,
          "title": ""
        },
        "id": "-CbRab0oFQ_7"
      },
      "source": [
        "\n",
        "\n",
        "---\n",
        "\n",
        "\n",
        "# Manipulación de DataFrames con Pandas"
      ]
    },
    {
      "cell_type": "markdown",
      "metadata": {
        "application/vnd.databricks.v1+cell": {
          "inputWidgets": {},
          "nuid": "8b29c163-eeaf-482e-b581-c8bf0bc9f1b7",
          "showTitle": false,
          "title": ""
        },
        "id": "GtW5EYOEFQ_7"
      },
      "source": [
        "### Selección de filas y columnas de un DataFrame utilizando ```iloc```\n",
        "Cuando queremos seleccionar filas y columnas de acuerdo a la posición del índice, utilizamos el atributo:<br>\n",
        "```iloc[indiceInicioFilas:indiceFinFilas-1 , indiceInicioCols:indiceFinCols-1]```"
      ]
    },
    {
      "cell_type": "code",
      "execution_count": null,
      "metadata": {
        "application/vnd.databricks.v1+cell": {
          "inputWidgets": {},
          "nuid": "9ac200b1-dbb6-4676-bc07-740085ed4fd9",
          "showTitle": false,
          "title": ""
        },
        "id": "BD5KjLhTFQ_8"
      },
      "outputs": [],
      "source": [
        "#Seleccion de las filas por posición y las tres primeras columnas\n",
        "df.iloc[2300:2303, :3]"
      ]
    },
    {
      "cell_type": "markdown",
      "metadata": {
        "application/vnd.databricks.v1+cell": {
          "inputWidgets": {},
          "nuid": "2e1a1802-0d00-42b0-928b-16656a5beaa1",
          "showTitle": false,
          "title": ""
        },
        "id": "9kz5TtKCFQ_8"
      },
      "source": [
        "### Selección de filas y columnas de un DataFrame utilizando ```loc```\n",
        "Cuando queremos seleccionar filas y columnas de acuerdo a una mezcla del nombre de los índices y nombres de las columnas (etiquetas), utilizamos el atributo: ```loc[]```"
      ]
    },
    {
      "cell_type": "code",
      "execution_count": null,
      "metadata": {
        "application/vnd.databricks.v1+cell": {
          "inputWidgets": {},
          "nuid": "00a144fc-a88c-48e0-9a3b-7735b7f39d02",
          "showTitle": false,
          "title": ""
        },
        "id": "OWMhKRAOFQ_8"
      },
      "outputs": [],
      "source": [
        "df_seleccion = df.loc[:, ['countrycode', 'year', 'pop', 'rgdpo']]\n",
        "df_seleccion.head()"
      ]
    },
    {
      "cell_type": "markdown",
      "metadata": {
        "application/vnd.databricks.v1+cell": {
          "inputWidgets": {},
          "nuid": "2ba69420-8145-4961-80f8-b9cfed05c5e7",
          "showTitle": false,
          "title": ""
        },
        "id": "CDJhZQNkFQ_8"
      },
      "source": [
        "### Renombrar columnas en un DataFrame\n",
        "\n",
        "1.   Elemento de la lista\n",
        "2.   Elemento de la lista\n",
        "\n"
      ]
    },
    {
      "cell_type": "code",
      "execution_count": null,
      "metadata": {
        "application/vnd.databricks.v1+cell": {
          "inputWidgets": {},
          "nuid": "90aa4043-8228-4e45-acca-85b65599befd",
          "showTitle": false,
          "title": ""
        },
        "id": "QR09iw39FQ_8"
      },
      "outputs": [],
      "source": [
        "df_seleccion.rename(columns = {'countrycode': 'codigo_pais', 'pop': 'pob_millones', 'rgdpo': 'pib_real_millones'}, inplace = True)"
      ]
    },
    {
      "cell_type": "markdown",
      "metadata": {
        "application/vnd.databricks.v1+cell": {
          "inputWidgets": {},
          "nuid": "1e14b6af-0193-42ce-9ace-5cb226fdc198",
          "showTitle": false,
          "title": ""
        },
        "id": "p-SCWo58FQ_8"
      },
      "source": [
        ">**Ejercicio 1:** Utilizando el método `rename` y la opción `inplace=False`, cambie el nombre de la columna `codigo_pais` por `codigo_iso` en el dataframe `df_seleccion`. Utilizando el método `columns` verifique si el cambio de nombre se grabó de forma permanente en `df_seleccion`."
      ]
    },
    {
      "cell_type": "code",
      "execution_count": null,
      "metadata": {
        "application/vnd.databricks.v1+cell": {
          "inputWidgets": {},
          "nuid": "82626a0d-500b-423c-ae51-c194272adfcf",
          "showTitle": false,
          "title": ""
        },
        "id": "FNN8LR80FQ_8"
      },
      "outputs": [],
      "source": [
        "#Su código aquí"
      ]
    },
    {
      "cell_type": "code",
      "execution_count": null,
      "metadata": {
        "application/vnd.databricks.v1+cell": {
          "inputWidgets": {},
          "nuid": "5d8e8823-53bd-4474-b582-a81aa8ba8f45",
          "showTitle": false,
          "title": ""
        },
        "id": "xVXS50NLFQ_8"
      },
      "outputs": [],
      "source": []
    },
    {
      "cell_type": "markdown",
      "metadata": {
        "application/vnd.databricks.v1+cell": {
          "inputWidgets": {},
          "nuid": "cf733b11-c8cc-4cf2-b946-73c062bcd9e9",
          "showTitle": false,
          "title": ""
        },
        "id": "kVvAYNeDFQ_8"
      },
      "source": [
        "### Filtrado del DataFrame"
      ]
    },
    {
      "cell_type": "code",
      "execution_count": null,
      "metadata": {
        "application/vnd.databricks.v1+cell": {
          "inputWidgets": {},
          "nuid": "cb087db0-aa88-403c-9b0b-94ce9fcdfc82",
          "showTitle": false,
          "title": ""
        },
        "id": "-DjPTvbFFQ_8"
      },
      "outputs": [],
      "source": [
        "# Condición booleana de una Serie de Pandas (indexado condicional)\n",
        "df_seleccion['year'] > np.array('2016-01-01', dtype=np.datetime64)"
      ]
    },
    {
      "cell_type": "code",
      "execution_count": null,
      "metadata": {
        "application/vnd.databricks.v1+cell": {
          "inputWidgets": {},
          "nuid": "a08db69a-8887-4d96-b35a-ead129a1bd66",
          "showTitle": false,
          "title": ""
        },
        "id": "HzPLZ2yzFQ_8"
      },
      "outputs": [],
      "source": [
        "# Filtramos por filas a partir de una condición en la columna year (fechas mayores a 2015)\n",
        "df_filtrado = df_seleccion.loc[df_seleccion['year'] > np.array('2015-01-01', dtype=np.datetime64)]\n",
        "df_filtrado"
      ]
    },
    {
      "cell_type": "markdown",
      "metadata": {
        "application/vnd.databricks.v1+cell": {
          "inputWidgets": {},
          "nuid": "a141139c-84e7-44a8-b53a-40dbc7485ad3",
          "showTitle": false,
          "title": ""
        },
        "id": "hqPoU6B_FQ_8"
      },
      "source": [
        ">**Ejercicio 2:** Generar un nuevo dataframe llamado `df_mayor_pob` realizando un filtrado de las filas del dataframe `df_filtrado`, si la población es mayor a 200 millones de habitantes."
      ]
    },
    {
      "cell_type": "code",
      "execution_count": null,
      "metadata": {
        "id": "ZRvq7cdcFQ_8"
      },
      "outputs": [],
      "source": [
        "df.head()"
      ]
    },
    {
      "cell_type": "code",
      "execution_count": null,
      "metadata": {
        "application/vnd.databricks.v1+cell": {
          "inputWidgets": {},
          "nuid": "e0fbb3cf-14ce-46c9-b0c2-f8bd35e28357",
          "showTitle": false,
          "title": ""
        },
        "id": "2wi9LWTxFQ_8"
      },
      "outputs": [],
      "source": []
    },
    {
      "cell_type": "markdown",
      "metadata": {
        "application/vnd.databricks.v1+cell": {
          "inputWidgets": {},
          "nuid": "49d889fa-d401-48d4-89d4-bc0652bcac8c",
          "showTitle": false,
          "title": ""
        },
        "id": "UuoYYhNkFQ_9"
      },
      "source": [
        "### Creación de nuevas columnas"
      ]
    },
    {
      "cell_type": "code",
      "execution_count": null,
      "metadata": {
        "application/vnd.databricks.v1+cell": {
          "inputWidgets": {},
          "nuid": "eb1aa74e-6179-48e1-a4f8-f2cd96aca1ab",
          "showTitle": false,
          "title": ""
        },
        "id": "xayYPis3FQ_9"
      },
      "outputs": [],
      "source": [
        "df_percapita = df_mayor_pob.copy()\n",
        "df_percapita.loc[:, 'pib_percapita'] = df_percapita['pib_real_millones'] / df_percapita['pob_millones']\n",
        "df_percapita"
      ]
    },
    {
      "cell_type": "markdown",
      "metadata": {
        "application/vnd.databricks.v1+cell": {
          "inputWidgets": {},
          "nuid": "f972e0de-e9be-4946-84a1-0e399892376a",
          "showTitle": false,
          "title": ""
        },
        "id": "lb76oX_fFQ_9"
      },
      "source": [
        "### Ordenamiento en el DataFrame"
      ]
    },
    {
      "cell_type": "code",
      "execution_count": null,
      "metadata": {
        "application/vnd.databricks.v1+cell": {
          "inputWidgets": {},
          "nuid": "38c37b9d-1327-4a46-8b30-c8ca4c8d8eb5",
          "showTitle": false,
          "title": ""
        },
        "id": "BF9sh3GCFQ_-"
      },
      "outputs": [],
      "source": [
        "df_percapita.sort_values(by='pib_percapita', ascending = False)"
      ]
    },
    {
      "cell_type": "markdown",
      "metadata": {
        "application/vnd.databricks.v1+cell": {
          "inputWidgets": {},
          "nuid": "f4f07a01-563f-487f-a874-168fd49eb10b",
          "showTitle": false,
          "title": ""
        },
        "id": "t3dXH38_FQ_-"
      },
      "source": [
        "### Agregación en DataFrames\n",
        "\n",
        "#### Uso la función groupby\n",
        "\n",
        "Busca agrupar grandes cantidades de datos y aplicar operaciones de cálculo en estos grupos"
      ]
    },
    {
      "cell_type": "code",
      "execution_count": null,
      "metadata": {
        "application/vnd.databricks.v1+cell": {
          "inputWidgets": {},
          "nuid": "e6d1dd83-364a-4c48-aa0d-ac0a3f6a2f04",
          "showTitle": false,
          "title": ""
        },
        "id": "JKA1PnqBFQ_-"
      },
      "outputs": [],
      "source": [
        "# Agregamos los datos mediante empleando el promedio\n",
        "df_agrupado = df_percapita.groupby(by = 'codigo_iso').agg('mean')\n",
        "df_agrupado"
      ]
    },
    {
      "cell_type": "markdown",
      "metadata": {
        "application/vnd.databricks.v1+cell": {
          "inputWidgets": {},
          "nuid": "0dd0e184-6659-4a17-9db1-4533c54528ed",
          "showTitle": false,
          "title": ""
        },
        "id": "yM4W81z7FQ_-"
      },
      "source": [
        ">**Ejercicio 3:** Generar un nuevo dataframe llamado `df_final` realizando un agrupamiento por el `codigo_pais` obteniendo los valores máximos y mínimos `['max', 'min']` del dataframe `df_percapita`"
      ]
    },
    {
      "cell_type": "code",
      "execution_count": null,
      "metadata": {
        "application/vnd.databricks.v1+cell": {
          "inputWidgets": {},
          "nuid": "0d7f2359-4a53-490c-b82a-2a183728f695",
          "showTitle": false,
          "title": ""
        },
        "id": "i7TZ6vO6FQ_-"
      },
      "outputs": [],
      "source": [
        "#Su código aquí\n"
      ]
    },
    {
      "cell_type": "markdown",
      "source": [
        "## Identificar valores vacios"
      ],
      "metadata": {
        "id": "ph8xVslWFQ_-"
      }
    },
    {
      "cell_type": "code",
      "source": [
        "import missingno as msno\n",
        "\n",
        "msno.matrix(df)"
      ],
      "metadata": {
        "id": "AfFg5DikFQ_-"
      },
      "execution_count": null,
      "outputs": []
    },
    {
      "cell_type": "markdown",
      "metadata": {
        "id": "2QQmL-_fFRxf"
      },
      "source": [
        "# **Introducción a Pandas**"
      ]
    },
    {
      "cell_type": "markdown",
      "metadata": {
        "application/vnd.databricks.v1+cell": {
          "inputWidgets": {},
          "nuid": "7b304884-8fdc-407b-939d-6d5fcf021973",
          "showTitle": false,
          "title": ""
        },
        "id": "mozZHVpUFRxr"
      },
      "source": [
        "\n",
        "# Librerías para Analitica de Datos\n",
        "\n",
        "En esta lección se trabajará con las principales librerías enfocadas en Ciencia de Datos\n",
        "\n",
        "## Contenido\n",
        "\n",
        "* Series y Dataframes con Pandas\n",
        "* Manipulación de DataFrames con Pandas"
      ]
    },
    {
      "cell_type": "markdown",
      "metadata": {
        "application/vnd.databricks.v1+cell": {
          "inputWidgets": {},
          "nuid": "18783605-2c3d-4c8a-98f1-b214ed5702c8",
          "showTitle": false,
          "title": ""
        },
        "id": "5227H4KnFRxr"
      },
      "source": [
        "## Programación orientada a objetos en Python\n",
        "\n",
        "<img src=\"https://i0.wp.com/bhivetech.blog/wp-content/uploads/2020/04/classes.png\" width=\"80%\"/>\n",
        "\n",
        "\n",
        "#### Clases / Objetos\n",
        "En la verdadera programación orientada a objetos (OOP), el desarrollador escribe código en torno a cosas llamadas objetos. Un objeto (o una clase) agrupa datos y funciones que operan sobre esos datos. Es posible que conozca esta terminología de *C++* y otros lenguajes.\n",
        "\n",
        "#### Módulos\n",
        "Los módulos en Python contienen grandes cantidades de código que se encuentran relacionados. En la mayoría de los casos, poseen varias clases y funciones que abordan una necesidad particular.\n",
        "\n",
        "#### Librerías / Bibliotecas\n",
        "Las librerías pueden contener múltiples módulos que van juntos. Las librerías generalmente tiene una estructura de directorio específica.\n",
        "\n"
      ]
    },
    {
      "cell_type": "markdown",
      "metadata": {
        "application/vnd.databricks.v1+cell": {
          "inputWidgets": {},
          "nuid": "68f5ed88-bcce-4f43-9a02-dc313be93df3",
          "showTitle": false,
          "title": ""
        },
        "id": "UWlGQiGXFRxr"
      },
      "source": [
        "### Importar Módulos\n",
        "Todo notebook debería empezar con una sección de código que importe los **módulos** que se emplearán.\n",
        "\n",
        "A continuación importaremos el módulo **numpy** y **pandas**. Estas son librerías comúnmente empleadas en el área de la Ciencia de Datos.\n",
        "\n",
        "De manera general, utilizaremos la estructura `import MODULE_NAME as MODULE_NICKNAME` para importar cualquier módulo que la programación requiera.\n",
        "\n",
        "`statsmodels`: utilizado en aprendizaje automático; generalmente lo abreviamos como `sm`\n",
        "`seaborn`: una biblioteca de visualización; generalmente alias como `sns`\n",
        "\n",
        "Tenga en cuenta que cada módulo tiene un alias estándar, que le permite acceder a las herramientas dentro del módulo sin escribir tantos caracteres. Por ejemplo, el alias nos permite acortar `seaborn.scatterplot()` a `sns.scatterplot()`"
      ]
    },
    {
      "cell_type": "code",
      "execution_count": null,
      "metadata": {
        "application/vnd.databricks.v1+cell": {
          "inputWidgets": {},
          "nuid": "38548a47-27e9-4382-8576-69329cf2a013",
          "showTitle": false,
          "title": ""
        },
        "id": "dW5ldwrQFRxr"
      },
      "outputs": [],
      "source": [
        "import numpy as np\n",
        "import pandas as pd"
      ]
    },
    {
      "cell_type": "markdown",
      "metadata": {
        "application/vnd.databricks.v1+cell": {
          "inputWidgets": {},
          "nuid": "2887b111-9a6a-42d5-8a99-6551b66f862d",
          "showTitle": false,
          "title": ""
        },
        "id": "j1rbzmBZFRxr"
      },
      "source": [
        "# Series y Dataframes con Pandas\n",
        "\n",
        "Nos gustaría una estructura de datos que pueda almacenar fácilmente variables de diferentes tipos, que almacene nombres de columnas, y en la que podamos hacer referencia por nombre de columna así como por posición indexada. Y sería bueno si esta estructura de datos viniera con funciones integradas que podamos usar para manipularla.\n",
        "\n",
        "`Pandas` es una librería que hace todo esto! La librería está construida sobre `numpy`.\n",
        "\n",
        "Existen dos objetos `pandas` básicos, *series* y *dataframes*, que se pueden considerar como versiones mejoradas de arreglos 1D y 2D `numpy`, respectivamente.\n",
        "\n",
        "Para referencia `pandas` [cheatsheet](https://pandas.pydata.org/Pandas_Cheat_Sheet.pdf) y `pandas` [documentación](https://pandas.pydata.org/pandas-docs/stable/)."
      ]
    },
    {
      "cell_type": "markdown",
      "metadata": {
        "application/vnd.databricks.v1+cell": {
          "inputWidgets": {},
          "nuid": "0f25b9f2-7098-4bd7-8c28-339a9658099b",
          "showTitle": false,
          "title": ""
        },
        "id": "nLPTnYlGFRxr"
      },
      "source": [
        "**Importancia de Pandas**\n",
        "*    Lectura y escritura de datos\n",
        "*    Modificación de índices y etiquetas de las columnas\n",
        "*    Trabajo con fechas\n",
        "*    Ordenamiento, agrupación y tratamiento de valores faltantes (curación de datos)\n",
        "    \n",
        "Para importar este módulo utilizamos el comando: ```import pandas as pd```"
      ]
    },
    {
      "cell_type": "markdown",
      "metadata": {
        "application/vnd.databricks.v1+cell": {
          "inputWidgets": {},
          "nuid": "7956f94d-807b-47af-b521-70316dcd2caa",
          "showTitle": false,
          "title": ""
        },
        "id": "KXDvNIfwFRxr"
      },
      "source": [
        "### 2.1 Pandas - Series"
      ]
    },
    {
      "cell_type": "markdown",
      "metadata": {
        "application/vnd.databricks.v1+cell": {
          "inputWidgets": {},
          "nuid": "fcb28bbd-4c9f-428d-a45c-bc7f2d945db1",
          "showTitle": false,
          "title": ""
        },
        "id": "Zbt99kpKFRxr"
      },
      "source": [
        "Una Serie es una colección de observaciones de una variable individual. <br>\n",
        "\n",
        "Se puede pensar en una Serie como los datos en un arreglo de 1D.\n",
        "\n",
        "En la serie ``items``, cada uno de los índices del 0 al 4 son los identificadores de 5 productos diferentes y los valores float representan el precio unitario correspondiente a cada uno."
      ]
    },
    {
      "cell_type": "code",
      "execution_count": null,
      "metadata": {
        "application/vnd.databricks.v1+cell": {
          "inputWidgets": {},
          "nuid": "5fa90f82-db3e-41ee-b992-b97765670767",
          "showTitle": false,
          "title": ""
        },
        "id": "KdpPjunIFRxr"
      },
      "outputs": [],
      "source": [
        "# Usamos el constructor pd.Series\n",
        "items = pd.Series(name = 'precios', data = [2, 3, 8, 6, 7], index = ['Mora','Frutilla','Mango','Platano','Sandia'])\n",
        "print(items)"
      ]
    },
    {
      "cell_type": "markdown",
      "metadata": {
        "application/vnd.databricks.v1+cell": {
          "inputWidgets": {},
          "nuid": "1dcdf253-d347-47d4-9d5d-6fbd6319d3bf",
          "showTitle": false,
          "title": ""
        },
        "id": "Vxo5Rc1wFRxr"
      },
      "source": [
        "**Importante**: las Series están implementadas sobre arreglos NumPy. Esto les permite soportar operaciones válidas con estos arreglos. En el ejemplo tenemos el caso de la multiplicación de un arreglo de 1D por un escalar."
      ]
    },
    {
      "cell_type": "markdown",
      "metadata": {
        "application/vnd.databricks.v1+cell": {
          "inputWidgets": {},
          "nuid": "a4713ea8-f152-4c19-bfb5-72a20f3080f0",
          "showTitle": false,
          "title": ""
        },
        "id": "KJTOiTFoFRxr"
      },
      "source": [
        "Método útiles de las Series de Pandas"
      ]
    },
    {
      "cell_type": "code",
      "execution_count": null,
      "metadata": {
        "application/vnd.databricks.v1+cell": {
          "inputWidgets": {},
          "nuid": "438e713d-9210-46ee-b4bb-c873e108bd5b",
          "showTitle": false,
          "title": ""
        },
        "id": "dc1IfvhRFRxr"
      },
      "outputs": [],
      "source": [
        "print('Obtener los índices:', items.index)\n",
        "print('Obtener los valores:', items.values)\n",
        "print('Obtener tipo de dato:', items.dtypes)\n"
      ]
    },
    {
      "cell_type": "markdown",
      "metadata": {
        "application/vnd.databricks.v1+cell": {
          "inputWidgets": {},
          "nuid": "55f86209-ef0f-4fd1-9cb2-650f0a0a2be6",
          "showTitle": false,
          "title": ""
        },
        "id": "i8hwyf-hFRxr"
      },
      "source": [
        "### 2.2 Pandas - DataFrames: creación, propiedades y funciones"
      ]
    },
    {
      "cell_type": "markdown",
      "metadata": {
        "application/vnd.databricks.v1+cell": {
          "inputWidgets": {},
          "nuid": "07533dae-3aad-4f7c-80d0-d2d600fbc410",
          "showTitle": false,
          "title": ""
        },
        "id": "QTdxaOlpFRxr"
      },
      "source": [
        "Un DataFrame de Pandas es un objeto que permite guardar datos en varias columnas que estan mutuamente relacionadas.\n",
        "\n",
        "Podemos pensar un DataFrame como una hoja de datos de Excel altamente optimizada. Los DataFrames estan compuestos por filas y columnas.\n",
        "\n",
        "Pandas posee múltiples funciones para cargar varios tipos de archivos: pd.read_csv, pd.read_excel, pd.read_json, pd.read_parquet, etc.\n",
        "\n",
        "\n",
        "### Lectura de datos en un DataFrame\n",
        "\n",
        "A continuación, iniciaremos leyendo los datos del archivo en formato csv en un DataFrame. <br>\n",
        "\n",
        "Este archivo contiene una muestra de datos de 'Penn World Table' con diferentes indicadores socioeconómicos de los países en diferentes años.\n",
        "\n",
        "<a href='https://storage.googleapis.com/datasets-academy/Track%20Data%20Science/01_Intro_Python/PWT91.csv'>\n",
        "  Link para descargar el dataset PWT</a>"
      ]
    },
    {
      "cell_type": "markdown",
      "metadata": {
        "application/vnd.databricks.v1+cell": {
          "inputWidgets": {},
          "nuid": "c632a04b-0165-45cc-a2d0-ce85a0ee8a05",
          "showTitle": false,
          "title": ""
        },
        "id": "VpMBdW4fFRxs"
      },
      "source": [
        "**Diccionario de datos:**\n",
        "\n",
        "**countrycode:** Código estándar ISO 3166-1 alfa-3, proporciona códigos para los nombres de países por medio de tres letras<br>\n",
        "**country:** Nombre del país <br>\n",
        "**year:** Año <br>\n",
        "**rgdpo:** Producto Interno Bruto Real calculado mediante la PPA (pariedad de poder adquisitivo) con año base 2011 (en millones dólares) <br>\n",
        "**pop:** Población (millones de personas) <br>\n",
        "**emp:** Personas de 15 años y más que durante la semana trabajaron incluso solo durante una hora, o no estaban en el trabajo pero tenían un trabajo o negocio del que estaban temporalmente ausentes (millones de personas) <br>\n",
        "**avh:** Promedio de horas anuales trabajadas por personas que cumplan la condición de la variable emp <br>\n",
        "**hc:** Índice de capital humano por persona, que se relaciona con los años promedio de escolaridad y el retorno a la educación"
      ]
    },
    {
      "cell_type": "code",
      "source": [
        "https://raw.githubusercontent.com/mayait/ClaseAnalisisDatos/main/pandas/data/PWT91.csv"
      ],
      "metadata": {
        "id": "Odhg17qXFRxs"
      },
      "execution_count": null,
      "outputs": []
    },
    {
      "cell_type": "markdown",
      "source": [
        "**Cargar datos de archivos de datos externos a pandas:**\n",
        "Puedes cargar datos a pandas desde excel o desde un csv\n",
        "\n",
        "```python\n",
        "df_csv = pd.read_csv('data.csv', sep = ',', decimal = '.')\n",
        "df_excel = pandas.read_excel('records.xlsx', sheet_name='Employees')\n",
        "```\n",
        "\n"
      ],
      "metadata": {
        "id": "Yml8B3o8FRxs"
      }
    },
    {
      "cell_type": "code",
      "execution_count": null,
      "metadata": {
        "application/vnd.databricks.v1+cell": {
          "inputWidgets": {},
          "nuid": "e893cc44-7161-488b-9cbe-ce97c6a6a720",
          "showTitle": false,
          "title": ""
        },
        "id": "vXfmkrpXFRxs"
      },
      "outputs": [],
      "source": [
        "# Nomeclatura estándar para el nombre de un Dataframe se abrevia con df\n",
        "df = pd.read_csv(filepath_or_buffer = 'PWT91.csv', sep = ',', decimal = '.')"
      ]
    },
    {
      "cell_type": "code",
      "execution_count": null,
      "metadata": {
        "id": "2cOreEEWFRxs"
      },
      "outputs": [],
      "source": [
        "# El método head permite observar las primeras 5 filas del dataframe\n",
        "df.head(500)"
      ]
    },
    {
      "cell_type": "markdown",
      "metadata": {
        "application/vnd.databricks.v1+cell": {
          "inputWidgets": {},
          "nuid": "6f21770a-5b59-4153-b7e6-ed421c2ea33c",
          "showTitle": false,
          "title": ""
        },
        "id": "exjePyFyFRxs"
      },
      "source": [
        "**Fuente**: Feenstra, Robert C., Robert Inklaar and Marcel P. Timmer (2015), \"The Next Generation of the Penn World Table\" American Economic Review, 105(10), 3150-3182, available for download at www.ggdc.net/pwt"
      ]
    },
    {
      "cell_type": "markdown",
      "metadata": {
        "application/vnd.databricks.v1+cell": {
          "inputWidgets": {},
          "nuid": "bc65aa5e-17f7-4e35-b2ce-281e2e5f97af",
          "showTitle": false,
          "title": ""
        },
        "id": "T7FPxlPtFRxs"
      },
      "source": [
        "Lo que tenemos ahora es una hoja de cálculo con filas indexadas y columnas nombradas, llamada `df`. **Importante**: Las columnas son *series de pandas*."
      ]
    },
    {
      "cell_type": "code",
      "execution_count": null,
      "metadata": {
        "application/vnd.databricks.v1+cell": {
          "inputWidgets": {},
          "nuid": "8e75cb55-d9f5-4827-8397-570f06457355",
          "showTitle": false,
          "title": ""
        },
        "id": "mkZKAyTYFRxs"
      },
      "outputs": [],
      "source": [
        "# Comprobamos las dimensiones del Dataframe (filas, columnas)\n",
        "df.shape"
      ]
    },
    {
      "cell_type": "code",
      "execution_count": null,
      "metadata": {
        "application/vnd.databricks.v1+cell": {
          "inputWidgets": {},
          "nuid": "df65f53a-9c27-47c3-a89c-9f3193d24ce0",
          "showTitle": false,
          "title": ""
        },
        "id": "K5RURjqBFRxs"
      },
      "outputs": [],
      "source": [
        "print(type(df))"
      ]
    },
    {
      "cell_type": "markdown",
      "metadata": {
        "application/vnd.databricks.v1+cell": {
          "inputWidgets": {},
          "nuid": "7c6ef21d-6150-4ce8-b8ce-e3eeab2f860f",
          "showTitle": false,
          "title": ""
        },
        "id": "eyOQwKcwFRxs"
      },
      "source": [
        "La función `pd.read_csv` infiere el tipo de datos por defecto"
      ]
    },
    {
      "cell_type": "code",
      "execution_count": null,
      "metadata": {
        "application/vnd.databricks.v1+cell": {
          "inputWidgets": {},
          "nuid": "089a979e-7651-4328-83b4-e8445e28edb7",
          "showTitle": false,
          "title": ""
        },
        "id": "PwS0nBBpFRxs"
      },
      "outputs": [],
      "source": [
        "# Comprobamos el tipo de las variables en el dataframe\n",
        "print(df.dtypes)"
      ]
    },
    {
      "cell_type": "markdown",
      "metadata": {
        "application/vnd.databricks.v1+cell": {
          "inputWidgets": {},
          "nuid": "361364af-72e6-402a-bf8b-73e14269062c",
          "showTitle": false,
          "title": ""
        },
        "id": "bgZn_FMmFRxs"
      },
      "source": [
        "Podemos cambiar el tipo de las columnas:\n",
        "- Convertir la columna year para que sea tipo datetime, para una mayor información sobre los tipos de [formatos fecha](https://strftime.org/)\n",
        "- Convertir la columna pop (población)"
      ]
    },
    {
      "cell_type": "code",
      "execution_count": null,
      "metadata": {
        "application/vnd.databricks.v1+cell": {
          "inputWidgets": {},
          "nuid": "d126d61e-97d0-4d20-afeb-5e810a2b6fbc",
          "showTitle": false,
          "title": ""
        },
        "id": "0tgRbeYOFRxt"
      },
      "outputs": [],
      "source": [
        "df['year'] = pd.to_datetime(df['year'], format = '%Y')\n",
        "df['pop']  = df['pop'].fillna(0).astype(int)\n",
        "df.dtypes"
      ]
    },
    {
      "cell_type": "markdown",
      "metadata": {
        "application/vnd.databricks.v1+cell": {
          "inputWidgets": {},
          "nuid": "12ab6717-ec65-4070-99a7-0fe0cef618f8",
          "showTitle": false,
          "title": ""
        },
        "id": "ci3hEsoQFRxt"
      },
      "source": [
        "\n",
        "\n",
        "---\n",
        "\n",
        "\n",
        "# Manipulación de DataFrames con Pandas"
      ]
    },
    {
      "cell_type": "markdown",
      "metadata": {
        "application/vnd.databricks.v1+cell": {
          "inputWidgets": {},
          "nuid": "8b29c163-eeaf-482e-b581-c8bf0bc9f1b7",
          "showTitle": false,
          "title": ""
        },
        "id": "rhor7nyBFRxt"
      },
      "source": [
        "### Selección de filas y columnas de un DataFrame utilizando ```iloc```\n",
        "Cuando queremos seleccionar filas y columnas de acuerdo a la posición del índice, utilizamos el atributo:<br>\n",
        "```iloc[indiceInicioFilas:indiceFinFilas-1 , indiceInicioCols:indiceFinCols-1]```"
      ]
    },
    {
      "cell_type": "code",
      "execution_count": null,
      "metadata": {
        "application/vnd.databricks.v1+cell": {
          "inputWidgets": {},
          "nuid": "9ac200b1-dbb6-4676-bc07-740085ed4fd9",
          "showTitle": false,
          "title": ""
        },
        "id": "aoxTkuSgFRxt"
      },
      "outputs": [],
      "source": [
        "#Seleccion de las filas por posición y las tres primeras columnas\n",
        "df.iloc[2300:2303, :3]"
      ]
    },
    {
      "cell_type": "markdown",
      "metadata": {
        "application/vnd.databricks.v1+cell": {
          "inputWidgets": {},
          "nuid": "2e1a1802-0d00-42b0-928b-16656a5beaa1",
          "showTitle": false,
          "title": ""
        },
        "id": "s3XqWpgkFRxt"
      },
      "source": [
        "### Selección de filas y columnas de un DataFrame utilizando ```loc```\n",
        "Cuando queremos seleccionar filas y columnas de acuerdo a una mezcla del nombre de los índices y nombres de las columnas (etiquetas), utilizamos el atributo: ```loc[]```"
      ]
    },
    {
      "cell_type": "code",
      "execution_count": null,
      "metadata": {
        "application/vnd.databricks.v1+cell": {
          "inputWidgets": {},
          "nuid": "00a144fc-a88c-48e0-9a3b-7735b7f39d02",
          "showTitle": false,
          "title": ""
        },
        "id": "fbPH-d5XFRxt"
      },
      "outputs": [],
      "source": [
        "df_seleccion = df.loc[:, ['countrycode', 'year', 'pop', 'rgdpo']]\n",
        "df_seleccion.head()"
      ]
    },
    {
      "cell_type": "markdown",
      "metadata": {
        "application/vnd.databricks.v1+cell": {
          "inputWidgets": {},
          "nuid": "2ba69420-8145-4961-80f8-b9cfed05c5e7",
          "showTitle": false,
          "title": ""
        },
        "id": "QsCp0SopFRxt"
      },
      "source": [
        "### Renombrar columnas en un DataFrame\n",
        "\n",
        "1.   Elemento de la lista\n",
        "2.   Elemento de la lista\n",
        "\n"
      ]
    },
    {
      "cell_type": "code",
      "execution_count": null,
      "metadata": {
        "application/vnd.databricks.v1+cell": {
          "inputWidgets": {},
          "nuid": "90aa4043-8228-4e45-acca-85b65599befd",
          "showTitle": false,
          "title": ""
        },
        "id": "bAWpp1SLFRxt"
      },
      "outputs": [],
      "source": [
        "df_seleccion.rename(columns = {'countrycode': 'codigo_pais', 'pop': 'pob_millones', 'rgdpo': 'pib_real_millones'}, inplace = True)"
      ]
    },
    {
      "cell_type": "markdown",
      "metadata": {
        "application/vnd.databricks.v1+cell": {
          "inputWidgets": {},
          "nuid": "1e14b6af-0193-42ce-9ace-5cb226fdc198",
          "showTitle": false,
          "title": ""
        },
        "id": "AhVeeFUGFRxt"
      },
      "source": [
        ">**Ejercicio 1:** Utilizando el método `rename` y la opción `inplace=False`, cambie el nombre de la columna `codigo_pais` por `codigo_iso` en el dataframe `df_seleccion`. Utilizando el método `columns` verifique si el cambio de nombre se grabó de forma permanente en `df_seleccion`."
      ]
    },
    {
      "cell_type": "code",
      "execution_count": null,
      "metadata": {
        "application/vnd.databricks.v1+cell": {
          "inputWidgets": {},
          "nuid": "82626a0d-500b-423c-ae51-c194272adfcf",
          "showTitle": false,
          "title": ""
        },
        "id": "fVR2owCwFRxt"
      },
      "outputs": [],
      "source": [
        "#Su código aquí"
      ]
    },
    {
      "cell_type": "code",
      "execution_count": null,
      "metadata": {
        "application/vnd.databricks.v1+cell": {
          "inputWidgets": {},
          "nuid": "5d8e8823-53bd-4474-b582-a81aa8ba8f45",
          "showTitle": false,
          "title": ""
        },
        "id": "VKdSUyHNFRxt"
      },
      "outputs": [],
      "source": []
    },
    {
      "cell_type": "markdown",
      "metadata": {
        "application/vnd.databricks.v1+cell": {
          "inputWidgets": {},
          "nuid": "cf733b11-c8cc-4cf2-b946-73c062bcd9e9",
          "showTitle": false,
          "title": ""
        },
        "id": "kn6HdgU3FRxt"
      },
      "source": [
        "### Filtrado del DataFrame"
      ]
    },
    {
      "cell_type": "code",
      "execution_count": null,
      "metadata": {
        "application/vnd.databricks.v1+cell": {
          "inputWidgets": {},
          "nuid": "cb087db0-aa88-403c-9b0b-94ce9fcdfc82",
          "showTitle": false,
          "title": ""
        },
        "id": "_EHqas2WFRxt"
      },
      "outputs": [],
      "source": [
        "# Condición booleana de una Serie de Pandas (indexado condicional)\n",
        "df_seleccion['year'] > np.array('2016-01-01', dtype=np.datetime64)"
      ]
    },
    {
      "cell_type": "code",
      "execution_count": null,
      "metadata": {
        "application/vnd.databricks.v1+cell": {
          "inputWidgets": {},
          "nuid": "a08db69a-8887-4d96-b35a-ead129a1bd66",
          "showTitle": false,
          "title": ""
        },
        "id": "OqNwXJKqFRxt"
      },
      "outputs": [],
      "source": [
        "# Filtramos por filas a partir de una condición en la columna year (fechas mayores a 2015)\n",
        "df_filtrado = df_seleccion.loc[df_seleccion['year'] > np.array('2015-01-01', dtype=np.datetime64)]\n",
        "df_filtrado"
      ]
    },
    {
      "cell_type": "markdown",
      "metadata": {
        "application/vnd.databricks.v1+cell": {
          "inputWidgets": {},
          "nuid": "a141139c-84e7-44a8-b53a-40dbc7485ad3",
          "showTitle": false,
          "title": ""
        },
        "id": "8YZN7to8FRxt"
      },
      "source": [
        ">**Ejercicio 2:** Generar un nuevo dataframe llamado `df_mayor_pob` realizando un filtrado de las filas del dataframe `df_filtrado`, si la población es mayor a 200 millones de habitantes."
      ]
    },
    {
      "cell_type": "code",
      "execution_count": null,
      "metadata": {
        "id": "_hSnJ4PoFRxt"
      },
      "outputs": [],
      "source": [
        "df.head()"
      ]
    },
    {
      "cell_type": "code",
      "execution_count": null,
      "metadata": {
        "application/vnd.databricks.v1+cell": {
          "inputWidgets": {},
          "nuid": "e0fbb3cf-14ce-46c9-b0c2-f8bd35e28357",
          "showTitle": false,
          "title": ""
        },
        "id": "-p22mFIdFRxt"
      },
      "outputs": [],
      "source": []
    },
    {
      "cell_type": "markdown",
      "metadata": {
        "application/vnd.databricks.v1+cell": {
          "inputWidgets": {},
          "nuid": "49d889fa-d401-48d4-89d4-bc0652bcac8c",
          "showTitle": false,
          "title": ""
        },
        "id": "KFtFk2eWFRxu"
      },
      "source": [
        "### Creación de nuevas columnas"
      ]
    },
    {
      "cell_type": "code",
      "execution_count": null,
      "metadata": {
        "application/vnd.databricks.v1+cell": {
          "inputWidgets": {},
          "nuid": "eb1aa74e-6179-48e1-a4f8-f2cd96aca1ab",
          "showTitle": false,
          "title": ""
        },
        "id": "A9M1SRrlFRxu"
      },
      "outputs": [],
      "source": [
        "df_percapita = df_mayor_pob.copy()\n",
        "df_percapita.loc[:, 'pib_percapita'] = df_percapita['pib_real_millones'] / df_percapita['pob_millones']\n",
        "df_percapita"
      ]
    },
    {
      "cell_type": "markdown",
      "metadata": {
        "application/vnd.databricks.v1+cell": {
          "inputWidgets": {},
          "nuid": "f972e0de-e9be-4946-84a1-0e399892376a",
          "showTitle": false,
          "title": ""
        },
        "id": "GV8ZELWZFRxu"
      },
      "source": [
        "### Ordenamiento en el DataFrame"
      ]
    },
    {
      "cell_type": "code",
      "execution_count": null,
      "metadata": {
        "application/vnd.databricks.v1+cell": {
          "inputWidgets": {},
          "nuid": "38c37b9d-1327-4a46-8b30-c8ca4c8d8eb5",
          "showTitle": false,
          "title": ""
        },
        "id": "Lv2BKDnVFRxu"
      },
      "outputs": [],
      "source": [
        "df_percapita.sort_values(by='pib_percapita', ascending = False)"
      ]
    },
    {
      "cell_type": "markdown",
      "metadata": {
        "application/vnd.databricks.v1+cell": {
          "inputWidgets": {},
          "nuid": "f4f07a01-563f-487f-a874-168fd49eb10b",
          "showTitle": false,
          "title": ""
        },
        "id": "LShOFpNtFRxu"
      },
      "source": [
        "### Agregación en DataFrames\n",
        "\n",
        "#### Uso la función groupby\n",
        "\n",
        "Busca agrupar grandes cantidades de datos y aplicar operaciones de cálculo en estos grupos"
      ]
    },
    {
      "cell_type": "code",
      "execution_count": null,
      "metadata": {
        "application/vnd.databricks.v1+cell": {
          "inputWidgets": {},
          "nuid": "e6d1dd83-364a-4c48-aa0d-ac0a3f6a2f04",
          "showTitle": false,
          "title": ""
        },
        "id": "KxmmOdhJFRxu"
      },
      "outputs": [],
      "source": [
        "# Agregamos los datos mediante empleando el promedio\n",
        "df_agrupado = df_percapita.groupby(by = 'codigo_iso').agg('mean')\n",
        "df_agrupado"
      ]
    },
    {
      "cell_type": "markdown",
      "metadata": {
        "application/vnd.databricks.v1+cell": {
          "inputWidgets": {},
          "nuid": "0dd0e184-6659-4a17-9db1-4533c54528ed",
          "showTitle": false,
          "title": ""
        },
        "id": "yhLkGEbjFRxu"
      },
      "source": [
        ">**Ejercicio 3:** Generar un nuevo dataframe llamado `df_final` realizando un agrupamiento por el `codigo_pais` obteniendo los valores máximos y mínimos `['max', 'min']` del dataframe `df_percapita`"
      ]
    },
    {
      "cell_type": "code",
      "execution_count": null,
      "metadata": {
        "application/vnd.databricks.v1+cell": {
          "inputWidgets": {},
          "nuid": "0d7f2359-4a53-490c-b82a-2a183728f695",
          "showTitle": false,
          "title": ""
        },
        "id": "xSmJnkkmFRxu"
      },
      "outputs": [],
      "source": [
        "#Su código aquí\n"
      ]
    },
    {
      "cell_type": "markdown",
      "source": [
        "## Identificar valores vacios"
      ],
      "metadata": {
        "id": "DY8VTu3DFRxu"
      }
    },
    {
      "cell_type": "code",
      "source": [
        "import missingno as msno\n",
        "\n",
        "msno.matrix(df)"
      ],
      "metadata": {
        "id": "AqfyIsbzFRxu"
      },
      "execution_count": null,
      "outputs": []
    },
    {
      "cell_type": "code",
      "source": [
        "# Si tu sistema funciona deberia ejecutar esto\n",
        "banco = Banco()\n",
        "cuenta1 = CuentaBancaria('Juan Perez', 1000, '001')\n",
        "cuenta2 = CuentaBancaria('Maria Lopez', 2000, '002')\n",
        "\n",
        "banco.agregar_cuenta(cuenta1)\n",
        "banco.agregar_cuenta(cuenta2)\n",
        "\n",
        "cuenta1.depositar(500)\n",
        "cuenta2.retirar(300)\n",
        "banco.transferir_fondos('001', '002', 200)\n",
        "\n",
        "print(cuenta1.mostrar_balance())\n",
        "print(cuenta2.mostrar_balance())"
      ],
      "metadata": {
        "id": "KZ9Eoe4vDvOH"
      },
      "execution_count": null,
      "outputs": []
    },
    {
      "cell_type": "code",
      "source": [
        "# Prueba de depósito negativo\n",
        "cuenta_test = CuentaBancaria('Ana Soto', 500, '003')\n",
        "cuenta_test.depositar(-100)  # Debería dar un mensaje de error"
      ],
      "metadata": {
        "id": "tjLmksPPD4wA"
      },
      "execution_count": null,
      "outputs": []
    },
    {
      "cell_type": "code",
      "source": [
        "# Prueba de retiro excesivo\n",
        "cuenta_test.retirar(600)  # Debería dar un mensaje de error"
      ],
      "metadata": {
        "id": "UibY7uNaEEDm"
      },
      "execution_count": null,
      "outputs": []
    },
    {
      "cell_type": "code",
      "source": [
        "# Prueba de transferencia sin fondos suficientes\n",
        "banco_test = Banco()\n",
        "cuenta_test2 = CuentaBancaria('Roberto Gómez', 300, '004')\n",
        "banco_test.agregar_cuenta(cuenta_test)\n",
        "banco_test.agregar_cuenta(cuenta_test2)\n",
        "print(\"\\nPrueba de transferencia sin fondos suficientes:\")\n",
        "banco_test.transferir_fondos('003', '004', 1000)  # Debería dar un mensaje de error"
      ],
      "metadata": {
        "id": "U30Je_zREHKZ"
      },
      "execution_count": null,
      "outputs": []
    },
    {
      "cell_type": "code",
      "source": [
        "# Prueba de transferencia a una cuenta inexistente\n",
        "print(\"\\nPrueba de transferencia a una cuenta inexistente:\")\n",
        "banco_test.transferir_fondos('003', '999', 50)  # Debería dar un mensaje de error\n"
      ],
      "metadata": {
        "id": "reGoH6nhEQEN"
      },
      "execution_count": null,
      "outputs": []
    },
    {
      "cell_type": "code",
      "source": [
        "\n",
        "# Prueba de buscar una cuenta que no existe\n",
        "print(\"\\nPrueba de buscar una cuenta que no existe:\")\n",
        "resultado_busqueda = banco_test.buscar_cuenta('999')  # Debería retornar None o un mensaje\n",
        "if resultado_busqueda:\n",
        "    print(\"Cuenta encontrada.\")\n",
        "else:\n",
        "    print(\"Cuenta no encontrada.\")"
      ],
      "metadata": {
        "id": "OAgXyHIcEWJV"
      },
      "execution_count": null,
      "outputs": []
    },
    {
      "cell_type": "markdown",
      "metadata": {
        "application/vnd.databricks.v1+cell": {
          "inputWidgets": {},
          "nuid": "7b304884-8fdc-407b-939d-6d5fcf021973",
          "showTitle": false,
          "title": ""
        },
        "id": "XrIYsn5bmseb"
      },
      "source": [
        "\n",
        "# Librerías para Analitica de Datos\n",
        "\n",
        "En esta lección se trabajará con las principales librerías enfocadas en Ciencia de Datos\n",
        "\n",
        "## Contenido\n",
        "\n",
        "* Series y Dataframes con Pandas\n",
        "* Manipulación de DataFrames con Pandas"
      ]
    },
    {
      "cell_type": "markdown",
      "metadata": {
        "id": "ctZCniXyXg3f"
      },
      "source": [
        "# **Introducción a Pandas**"
      ]
    },
    {
      "cell_type": "markdown",
      "metadata": {
        "application/vnd.databricks.v1+cell": {
          "inputWidgets": {},
          "nuid": "68f5ed88-bcce-4f43-9a02-dc313be93df3",
          "showTitle": false,
          "title": ""
        },
        "id": "vYwb_p07ow-B"
      },
      "source": [
        "### Importar Módulos\n",
        "Todo notebook debería empezar con una sección de código que importe los **módulos** que se emplearán.\n",
        "\n",
        "A continuación importaremos el módulo **numpy** y **pandas**. Estas son librerías comúnmente empleadas en el área de la Ciencia de Datos.\n",
        "\n",
        "De manera general, utilizaremos la estructura `import MODULE_NAME as MODULE_NICKNAME` para importar cualquier módulo que la programación requiera.\n",
        "\n",
        "`statsmodels`: utilizado en aprendizaje automático; generalmente lo abreviamos como `sm`\n",
        "`seaborn`: una biblioteca de visualización; generalmente alias como `sns`\n",
        "\n",
        "Tenga en cuenta que cada módulo tiene un alias estándar, que le permite acceder a las herramientas dentro del módulo sin escribir tantos caracteres. Por ejemplo, el alias nos permite acortar `seaborn.scatterplot()` a `sns.scatterplot()`"
      ]
    },
    {
      "cell_type": "code",
      "execution_count": null,
      "metadata": {
        "application/vnd.databricks.v1+cell": {
          "inputWidgets": {},
          "nuid": "38548a47-27e9-4382-8576-69329cf2a013",
          "showTitle": false,
          "title": ""
        },
        "id": "pm9Uy5lZow-B"
      },
      "outputs": [],
      "source": [
        "import numpy as np\n",
        "import pandas as pd"
      ]
    },
    {
      "cell_type": "markdown",
      "metadata": {
        "application/vnd.databricks.v1+cell": {
          "inputWidgets": {},
          "nuid": "2887b111-9a6a-42d5-8a99-6551b66f862d",
          "showTitle": false,
          "title": ""
        },
        "id": "f6CjgkwTow-V"
      },
      "source": [
        "# Series y Dataframes con Pandas\n",
        "\n",
        "Nos gustaría una estructura de datos que pueda almacenar fácilmente variables de diferentes tipos, que almacene nombres de columnas, y en la que podamos hacer referencia por nombre de columna así como por posición indexada. Y sería bueno si esta estructura de datos viniera con funciones integradas que podamos usar para manipularla.\n",
        "\n",
        "`Pandas` es una librería que hace todo esto! La librería está construida sobre `numpy`.\n",
        "\n",
        "Existen dos objetos `pandas` básicos, *series* y *dataframes*, que se pueden considerar como versiones mejoradas de arreglos 1D y 2D `numpy`, respectivamente.\n",
        "\n",
        "Para referencia `pandas` [cheatsheet](https://pandas.pydata.org/Pandas_Cheat_Sheet.pdf) y `pandas` [documentación](https://pandas.pydata.org/pandas-docs/stable/)."
      ]
    },
    {
      "cell_type": "markdown",
      "metadata": {
        "application/vnd.databricks.v1+cell": {
          "inputWidgets": {},
          "nuid": "0f25b9f2-7098-4bd7-8c28-339a9658099b",
          "showTitle": false,
          "title": ""
        },
        "id": "SwOUuU27ow-W"
      },
      "source": [
        "**Importancia de Pandas**\n",
        "*    Lectura y escritura de datos\n",
        "*    Modificación de índices y etiquetas de las columnas\n",
        "*    Trabajo con fechas\n",
        "*    Ordenamiento, agrupación y tratamiento de valores faltantes (curación de datos)\n",
        "    \n",
        "Para importar este módulo utilizamos el comando: ```import pandas as pd```"
      ]
    },
    {
      "cell_type": "markdown",
      "metadata": {
        "application/vnd.databricks.v1+cell": {
          "inputWidgets": {},
          "nuid": "7956f94d-807b-47af-b521-70316dcd2caa",
          "showTitle": false,
          "title": ""
        },
        "id": "QcqcJ0m3ow-W"
      },
      "source": [
        "### 2.1 Pandas - Series"
      ]
    },
    {
      "cell_type": "markdown",
      "metadata": {
        "application/vnd.databricks.v1+cell": {
          "inputWidgets": {},
          "nuid": "fcb28bbd-4c9f-428d-a45c-bc7f2d945db1",
          "showTitle": false,
          "title": ""
        },
        "id": "BGpaBh9cow-W"
      },
      "source": [
        "Una Serie es una colección de observaciones de una variable individual. <br>\n",
        "\n",
        "Se puede pensar en una Serie como los datos en un arreglo de 1D.\n",
        "\n",
        "En la serie ``items``, cada uno de los índices del 0 al 4 son los identificadores de 5 productos diferentes y los valores float representan el precio unitario correspondiente a cada uno."
      ]
    },
    {
      "cell_type": "code",
      "execution_count": null,
      "metadata": {
        "application/vnd.databricks.v1+cell": {
          "inputWidgets": {},
          "nuid": "5fa90f82-db3e-41ee-b992-b97765670767",
          "showTitle": false,
          "title": ""
        },
        "id": "McdjjHTzow-W"
      },
      "outputs": [],
      "source": [
        "# Usamos el constructor pd.Series\n",
        "items = pd.Series(name = 'precios', data = [2, 3, 8, 6, 7], index = ['Mora','Frutilla','Mango','Platano','Sandia'])\n",
        "print(items)"
      ]
    },
    {
      "cell_type": "markdown",
      "metadata": {
        "application/vnd.databricks.v1+cell": {
          "inputWidgets": {},
          "nuid": "1dcdf253-d347-47d4-9d5d-6fbd6319d3bf",
          "showTitle": false,
          "title": ""
        },
        "id": "TVJ5vauLow-X"
      },
      "source": [
        "**Importante**: las Series están implementadas sobre arreglos NumPy. Esto les permite soportar operaciones válidas con estos arreglos. En el ejemplo tenemos el caso de la multiplicación de un arreglo de 1D por un escalar."
      ]
    },
    {
      "cell_type": "markdown",
      "metadata": {
        "application/vnd.databricks.v1+cell": {
          "inputWidgets": {},
          "nuid": "a4713ea8-f152-4c19-bfb5-72a20f3080f0",
          "showTitle": false,
          "title": ""
        },
        "id": "ALEMYg3Mow-X"
      },
      "source": [
        "Método útiles de las Series de Pandas"
      ]
    },
    {
      "cell_type": "code",
      "execution_count": null,
      "metadata": {
        "application/vnd.databricks.v1+cell": {
          "inputWidgets": {},
          "nuid": "438e713d-9210-46ee-b4bb-c873e108bd5b",
          "showTitle": false,
          "title": ""
        },
        "id": "hgcVssbsow-Y"
      },
      "outputs": [],
      "source": [
        "print('Obtener los índices:', items.index)\n",
        "print('Obtener los valores:', items.values)\n",
        "print('Obtener tipo de dato:', items.dtypes)\n"
      ]
    },
    {
      "cell_type": "markdown",
      "metadata": {
        "application/vnd.databricks.v1+cell": {
          "inputWidgets": {},
          "nuid": "55f86209-ef0f-4fd1-9cb2-650f0a0a2be6",
          "showTitle": false,
          "title": ""
        },
        "id": "S6cXqOIOow-Y"
      },
      "source": [
        "### 2.2 Pandas - DataFrames: creación, propiedades y funciones"
      ]
    },
    {
      "cell_type": "markdown",
      "metadata": {
        "application/vnd.databricks.v1+cell": {
          "inputWidgets": {},
          "nuid": "07533dae-3aad-4f7c-80d0-d2d600fbc410",
          "showTitle": false,
          "title": ""
        },
        "id": "3q8vYOwzow-Z"
      },
      "source": [
        "Un DataFrame de Pandas es un objeto que permite guardar datos en varias columnas que estan mutuamente relacionadas.\n",
        "\n",
        "Podemos pensar un DataFrame como una hoja de datos de Excel altamente optimizada. Los DataFrames estan compuestos por filas y columnas.\n",
        "\n",
        "Pandas posee múltiples funciones para cargar varios tipos de archivos: pd.read_csv, pd.read_excel, pd.read_json, pd.read_parquet, etc.\n",
        "\n",
        "\n",
        "### Lectura de datos en un DataFrame\n",
        "\n",
        "A continuación, iniciaremos leyendo los datos del archivo en formato csv en un DataFrame. <br>\n",
        "\n",
        "Este archivo contiene una muestra de datos de 'Penn World Table' con diferentes indicadores socioeconómicos de los países en diferentes años.\n",
        "\n",
        "<a href='https://storage.googleapis.com/datasets-academy/Track%20Data%20Science/01_Intro_Python/PWT91.csv'>\n",
        "  Link para descargar el dataset PWT</a>"
      ]
    },
    {
      "cell_type": "markdown",
      "metadata": {
        "application/vnd.databricks.v1+cell": {
          "inputWidgets": {},
          "nuid": "c632a04b-0165-45cc-a2d0-ce85a0ee8a05",
          "showTitle": false,
          "title": ""
        },
        "id": "d5zH88p9ow-Z"
      },
      "source": [
        "**Diccionario de datos:**\n",
        "\n",
        "**countrycode:** Código estándar ISO 3166-1 alfa-3, proporciona códigos para los nombres de países por medio de tres letras<br>\n",
        "**country:** Nombre del país <br>\n",
        "**year:** Año <br>\n",
        "**rgdpo:** Producto Interno Bruto Real calculado mediante la PPA (pariedad de poder adquisitivo) con año base 2011 (en millones dólares) <br>\n",
        "**pop:** Población (millones de personas) <br>\n",
        "**emp:** Personas de 15 años y más que durante la semana trabajaron incluso solo durante una hora, o no estaban en el trabajo pero tenían un trabajo o negocio del que estaban temporalmente ausentes (millones de personas) <br>\n",
        "**avh:** Promedio de horas anuales trabajadas por personas que cumplan la condición de la variable emp <br>\n",
        "**hc:** Índice de capital humano por persona, que se relaciona con los años promedio de escolaridad y el retorno a la educación"
      ]
    },
    {
      "cell_type": "code",
      "source": [
        "https://raw.githubusercontent.com/mayait/ClaseAnalisisDatos/main/pandas/data/PWT91.csv"
      ],
      "metadata": {
        "id": "VbcEf6tcY_Mx"
      },
      "execution_count": null,
      "outputs": []
    },
    {
      "cell_type": "markdown",
      "source": [
        "**Cargar datos de archivos de datos externos a pandas:**\n",
        "Puedes cargar datos a pandas desde excel o desde un csv\n",
        "\n",
        "```python\n",
        "df_csv = pd.read_csv('data.csv', sep = ',', decimal = '.')\n",
        "df_excel = pandas.read_excel('records.xlsx', sheet_name='Employees')\n",
        "```\n",
        "\n"
      ],
      "metadata": {
        "id": "5TmbmQKp6oJ1"
      }
    },
    {
      "cell_type": "code",
      "execution_count": null,
      "metadata": {
        "application/vnd.databricks.v1+cell": {
          "inputWidgets": {},
          "nuid": "e893cc44-7161-488b-9cbe-ce97c6a6a720",
          "showTitle": false,
          "title": ""
        },
        "id": "dMV5XCNUow-Z"
      },
      "outputs": [],
      "source": [
        "# Nomeclatura estándar para el nombre de un Dataframe se abrevia con df\n",
        "df = pd.read_csv(filepath_or_buffer = 'PWT91.csv', sep = ',', decimal = '.')"
      ]
    },
    {
      "cell_type": "code",
      "execution_count": null,
      "metadata": {
        "id": "LrdGr-G0n4Is"
      },
      "outputs": [],
      "source": [
        "# El método head permite observar las primeras 5 filas del dataframe\n",
        "df.head(500)"
      ]
    },
    {
      "cell_type": "markdown",
      "metadata": {
        "application/vnd.databricks.v1+cell": {
          "inputWidgets": {},
          "nuid": "6f21770a-5b59-4153-b7e6-ed421c2ea33c",
          "showTitle": false,
          "title": ""
        },
        "id": "EvvhAkIrow-Z"
      },
      "source": [
        "**Fuente**: Feenstra, Robert C., Robert Inklaar and Marcel P. Timmer (2015), \"The Next Generation of the Penn World Table\" American Economic Review, 105(10), 3150-3182, available for download at www.ggdc.net/pwt"
      ]
    },
    {
      "cell_type": "markdown",
      "metadata": {
        "application/vnd.databricks.v1+cell": {
          "inputWidgets": {},
          "nuid": "bc65aa5e-17f7-4e35-b2ce-281e2e5f97af",
          "showTitle": false,
          "title": ""
        },
        "id": "GHFVlEyAow-Z"
      },
      "source": [
        "Lo que tenemos ahora es una hoja de cálculo con filas indexadas y columnas nombradas, llamada `df`. **Importante**: Las columnas son *series de pandas*."
      ]
    },
    {
      "cell_type": "code",
      "execution_count": null,
      "metadata": {
        "application/vnd.databricks.v1+cell": {
          "inputWidgets": {},
          "nuid": "8e75cb55-d9f5-4827-8397-570f06457355",
          "showTitle": false,
          "title": ""
        },
        "id": "Wpshgeb2ow-a"
      },
      "outputs": [],
      "source": [
        "# Comprobamos las dimensiones del Dataframe (filas, columnas)\n",
        "df.shape"
      ]
    },
    {
      "cell_type": "code",
      "execution_count": null,
      "metadata": {
        "application/vnd.databricks.v1+cell": {
          "inputWidgets": {},
          "nuid": "df65f53a-9c27-47c3-a89c-9f3193d24ce0",
          "showTitle": false,
          "title": ""
        },
        "id": "KALmIZTRow-a"
      },
      "outputs": [],
      "source": [
        "print(type(df))"
      ]
    },
    {
      "cell_type": "markdown",
      "metadata": {
        "application/vnd.databricks.v1+cell": {
          "inputWidgets": {},
          "nuid": "7c6ef21d-6150-4ce8-b8ce-e3eeab2f860f",
          "showTitle": false,
          "title": ""
        },
        "id": "Nt_fkZZRow-a"
      },
      "source": [
        "La función `pd.read_csv` infiere el tipo de datos por defecto"
      ]
    },
    {
      "cell_type": "code",
      "execution_count": null,
      "metadata": {
        "application/vnd.databricks.v1+cell": {
          "inputWidgets": {},
          "nuid": "089a979e-7651-4328-83b4-e8445e28edb7",
          "showTitle": false,
          "title": ""
        },
        "id": "0-DpcDPOow-a"
      },
      "outputs": [],
      "source": [
        "# Comprobamos el tipo de las variables en el dataframe\n",
        "print(df.dtypes)"
      ]
    },
    {
      "cell_type": "markdown",
      "metadata": {
        "application/vnd.databricks.v1+cell": {
          "inputWidgets": {},
          "nuid": "361364af-72e6-402a-bf8b-73e14269062c",
          "showTitle": false,
          "title": ""
        },
        "id": "Jszk_Wmxow-a"
      },
      "source": [
        "Podemos cambiar el tipo de las columnas:\n",
        "- Convertir la columna year para que sea tipo datetime, para una mayor información sobre los tipos de [formatos fecha](https://strftime.org/)\n",
        "- Convertir la columna pop (población)"
      ]
    },
    {
      "cell_type": "code",
      "execution_count": null,
      "metadata": {
        "application/vnd.databricks.v1+cell": {
          "inputWidgets": {},
          "nuid": "d126d61e-97d0-4d20-afeb-5e810a2b6fbc",
          "showTitle": false,
          "title": ""
        },
        "id": "qKaFK5know-b"
      },
      "outputs": [],
      "source": [
        "df['year'] = pd.to_datetime(df['year'], format = '%Y')\n",
        "df['pop']  = df['pop'].fillna(0).astype(int)\n",
        "df.dtypes"
      ]
    },
    {
      "cell_type": "markdown",
      "metadata": {
        "application/vnd.databricks.v1+cell": {
          "inputWidgets": {},
          "nuid": "12ab6717-ec65-4070-99a7-0fe0cef618f8",
          "showTitle": false,
          "title": ""
        },
        "id": "O6kPcU2mow-b"
      },
      "source": [
        "\n",
        "\n",
        "---\n",
        "\n",
        "\n",
        "# Manipulación de DataFrames con Pandas"
      ]
    },
    {
      "cell_type": "markdown",
      "metadata": {
        "application/vnd.databricks.v1+cell": {
          "inputWidgets": {},
          "nuid": "8b29c163-eeaf-482e-b581-c8bf0bc9f1b7",
          "showTitle": false,
          "title": ""
        },
        "id": "slutmZppow-b"
      },
      "source": [
        "### Selección de filas y columnas de un DataFrame utilizando ```iloc```\n",
        "Cuando queremos seleccionar filas y columnas de acuerdo a la posición del índice, utilizamos el atributo:<br>\n",
        "```iloc[indiceInicioFilas:indiceFinFilas-1 , indiceInicioCols:indiceFinCols-1]```"
      ]
    },
    {
      "cell_type": "code",
      "execution_count": null,
      "metadata": {
        "application/vnd.databricks.v1+cell": {
          "inputWidgets": {},
          "nuid": "9ac200b1-dbb6-4676-bc07-740085ed4fd9",
          "showTitle": false,
          "title": ""
        },
        "id": "O0eMTpUbow-b"
      },
      "outputs": [],
      "source": [
        "#Seleccion de las filas por posición y las tres primeras columnas\n",
        "df.iloc[2300:2303, :3]"
      ]
    },
    {
      "cell_type": "markdown",
      "metadata": {
        "application/vnd.databricks.v1+cell": {
          "inputWidgets": {},
          "nuid": "2e1a1802-0d00-42b0-928b-16656a5beaa1",
          "showTitle": false,
          "title": ""
        },
        "id": "kevG0pN9ow-b"
      },
      "source": [
        "### Selección de filas y columnas de un DataFrame utilizando ```loc```\n",
        "Cuando queremos seleccionar filas y columnas de acuerdo a una mezcla del nombre de los índices y nombres de las columnas (etiquetas), utilizamos el atributo: ```loc[]```"
      ]
    },
    {
      "cell_type": "code",
      "execution_count": null,
      "metadata": {
        "application/vnd.databricks.v1+cell": {
          "inputWidgets": {},
          "nuid": "00a144fc-a88c-48e0-9a3b-7735b7f39d02",
          "showTitle": false,
          "title": ""
        },
        "id": "RdWdAAODow-b"
      },
      "outputs": [],
      "source": [
        "df_seleccion = df.loc[:, ['countrycode', 'year', 'pop', 'rgdpo']]\n",
        "df_seleccion.head()"
      ]
    },
    {
      "cell_type": "markdown",
      "metadata": {
        "application/vnd.databricks.v1+cell": {
          "inputWidgets": {},
          "nuid": "2ba69420-8145-4961-80f8-b9cfed05c5e7",
          "showTitle": false,
          "title": ""
        },
        "id": "ZYM4JEzIow-c"
      },
      "source": [
        "### Renombrar columnas en un DataFrame\n",
        "\n",
        "1.   Elemento de la lista\n",
        "2.   Elemento de la lista\n",
        "\n"
      ]
    },
    {
      "cell_type": "code",
      "execution_count": null,
      "metadata": {
        "application/vnd.databricks.v1+cell": {
          "inputWidgets": {},
          "nuid": "90aa4043-8228-4e45-acca-85b65599befd",
          "showTitle": false,
          "title": ""
        },
        "id": "zq9qRX7Jow-c"
      },
      "outputs": [],
      "source": [
        "df_seleccion.rename(columns = {'countrycode': 'codigo_pais', 'pop': 'pob_millones', 'rgdpo': 'pib_real_millones'}, inplace = True)"
      ]
    },
    {
      "cell_type": "markdown",
      "metadata": {
        "application/vnd.databricks.v1+cell": {
          "inputWidgets": {},
          "nuid": "1e14b6af-0193-42ce-9ace-5cb226fdc198",
          "showTitle": false,
          "title": ""
        },
        "id": "Z0mhtfVfow-c"
      },
      "source": [
        ">**Ejercicio 1:** Utilizando el método `rename` y la opción `inplace=False`, cambie el nombre de la columna `codigo_pais` por `codigo_iso` en el dataframe `df_seleccion`. Utilizando el método `columns` verifique si el cambio de nombre se grabó de forma permanente en `df_seleccion`."
      ]
    },
    {
      "cell_type": "code",
      "execution_count": null,
      "metadata": {
        "application/vnd.databricks.v1+cell": {
          "inputWidgets": {},
          "nuid": "82626a0d-500b-423c-ae51-c194272adfcf",
          "showTitle": false,
          "title": ""
        },
        "id": "3fH5C26uow-c"
      },
      "outputs": [],
      "source": [
        "#Su código aquí"
      ]
    },
    {
      "cell_type": "code",
      "execution_count": null,
      "metadata": {
        "application/vnd.databricks.v1+cell": {
          "inputWidgets": {},
          "nuid": "5d8e8823-53bd-4474-b582-a81aa8ba8f45",
          "showTitle": false,
          "title": ""
        },
        "id": "vR0gXziUow-c"
      },
      "outputs": [],
      "source": []
    },
    {
      "cell_type": "markdown",
      "metadata": {
        "application/vnd.databricks.v1+cell": {
          "inputWidgets": {},
          "nuid": "cf733b11-c8cc-4cf2-b946-73c062bcd9e9",
          "showTitle": false,
          "title": ""
        },
        "id": "ayQsOlnfow-c"
      },
      "source": [
        "### Filtrado del DataFrame"
      ]
    },
    {
      "cell_type": "code",
      "execution_count": null,
      "metadata": {
        "application/vnd.databricks.v1+cell": {
          "inputWidgets": {},
          "nuid": "cb087db0-aa88-403c-9b0b-94ce9fcdfc82",
          "showTitle": false,
          "title": ""
        },
        "id": "qvCfhTNJow-d"
      },
      "outputs": [],
      "source": [
        "# Condición booleana de una Serie de Pandas (indexado condicional)\n",
        "df_seleccion['year'] > np.array('2016-01-01', dtype=np.datetime64)"
      ]
    },
    {
      "cell_type": "code",
      "execution_count": null,
      "metadata": {
        "application/vnd.databricks.v1+cell": {
          "inputWidgets": {},
          "nuid": "a08db69a-8887-4d96-b35a-ead129a1bd66",
          "showTitle": false,
          "title": ""
        },
        "id": "n8XJ2Vidow-d"
      },
      "outputs": [],
      "source": [
        "# Filtramos por filas a partir de una condición en la columna year (fechas mayores a 2015)\n",
        "df_filtrado = df_seleccion.loc[df_seleccion['year'] > np.array('2015-01-01', dtype=np.datetime64)]\n",
        "df_filtrado"
      ]
    },
    {
      "cell_type": "markdown",
      "metadata": {
        "application/vnd.databricks.v1+cell": {
          "inputWidgets": {},
          "nuid": "a141139c-84e7-44a8-b53a-40dbc7485ad3",
          "showTitle": false,
          "title": ""
        },
        "id": "IwFWrFVwow-e"
      },
      "source": [
        ">**Ejercicio 2:** Generar un nuevo dataframe llamado `df_mayor_pob` realizando un filtrado de las filas del dataframe `df_filtrado`, si la población es mayor a 200 millones de habitantes."
      ]
    },
    {
      "cell_type": "code",
      "execution_count": null,
      "metadata": {
        "id": "yObnAIFor7ul"
      },
      "outputs": [],
      "source": [
        "df.head()"
      ]
    },
    {
      "cell_type": "code",
      "execution_count": null,
      "metadata": {
        "application/vnd.databricks.v1+cell": {
          "inputWidgets": {},
          "nuid": "e0fbb3cf-14ce-46c9-b0c2-f8bd35e28357",
          "showTitle": false,
          "title": ""
        },
        "id": "4sEcYHdTow-f"
      },
      "outputs": [],
      "source": []
    },
    {
      "cell_type": "markdown",
      "metadata": {
        "application/vnd.databricks.v1+cell": {
          "inputWidgets": {},
          "nuid": "49d889fa-d401-48d4-89d4-bc0652bcac8c",
          "showTitle": false,
          "title": ""
        },
        "id": "7qtyYS2Low-f"
      },
      "source": [
        "### Creación de nuevas columnas"
      ]
    },
    {
      "cell_type": "code",
      "execution_count": null,
      "metadata": {
        "application/vnd.databricks.v1+cell": {
          "inputWidgets": {},
          "nuid": "eb1aa74e-6179-48e1-a4f8-f2cd96aca1ab",
          "showTitle": false,
          "title": ""
        },
        "id": "cms5f5K1ow-f"
      },
      "outputs": [],
      "source": [
        "df_percapita = df_mayor_pob.copy()\n",
        "df_percapita.loc[:, 'pib_percapita'] = df_percapita['pib_real_millones'] / df_percapita['pob_millones']\n",
        "df_percapita"
      ]
    },
    {
      "cell_type": "markdown",
      "metadata": {
        "application/vnd.databricks.v1+cell": {
          "inputWidgets": {},
          "nuid": "f972e0de-e9be-4946-84a1-0e399892376a",
          "showTitle": false,
          "title": ""
        },
        "id": "1_V-F35oow-g"
      },
      "source": [
        "### Ordenamiento en el DataFrame"
      ]
    },
    {
      "cell_type": "code",
      "execution_count": null,
      "metadata": {
        "application/vnd.databricks.v1+cell": {
          "inputWidgets": {},
          "nuid": "38c37b9d-1327-4a46-8b30-c8ca4c8d8eb5",
          "showTitle": false,
          "title": ""
        },
        "id": "drg5sOT_ow-g"
      },
      "outputs": [],
      "source": [
        "df_percapita.sort_values(by='pib_percapita', ascending = False)"
      ]
    },
    {
      "cell_type": "markdown",
      "metadata": {
        "application/vnd.databricks.v1+cell": {
          "inputWidgets": {},
          "nuid": "f4f07a01-563f-487f-a874-168fd49eb10b",
          "showTitle": false,
          "title": ""
        },
        "id": "QJdnKhsWow-g"
      },
      "source": [
        "### Agregación en DataFrames\n",
        "\n",
        "#### Uso la función groupby\n",
        "\n",
        "Busca agrupar grandes cantidades de datos y aplicar operaciones de cálculo en estos grupos"
      ]
    },
    {
      "cell_type": "code",
      "execution_count": null,
      "metadata": {
        "application/vnd.databricks.v1+cell": {
          "inputWidgets": {},
          "nuid": "e6d1dd83-364a-4c48-aa0d-ac0a3f6a2f04",
          "showTitle": false,
          "title": ""
        },
        "id": "teRHfTPtow-g"
      },
      "outputs": [],
      "source": [
        "# Agregamos los datos mediante empleando el promedio\n",
        "df_agrupado = df_percapita.groupby(by = 'codigo_iso').agg('mean')\n",
        "df_agrupado"
      ]
    },
    {
      "cell_type": "markdown",
      "metadata": {
        "application/vnd.databricks.v1+cell": {
          "inputWidgets": {},
          "nuid": "0dd0e184-6659-4a17-9db1-4533c54528ed",
          "showTitle": false,
          "title": ""
        },
        "id": "pVvNhnXgow-g"
      },
      "source": [
        ">**Ejercicio 3:** Generar un nuevo dataframe llamado `df_final` realizando un agrupamiento por el `codigo_pais` obteniendo los valores máximos y mínimos `['max', 'min']` del dataframe `df_percapita`"
      ]
    },
    {
      "cell_type": "code",
      "execution_count": null,
      "metadata": {
        "application/vnd.databricks.v1+cell": {
          "inputWidgets": {},
          "nuid": "0d7f2359-4a53-490c-b82a-2a183728f695",
          "showTitle": false,
          "title": ""
        },
        "id": "_252dF4Zow-g"
      },
      "outputs": [],
      "source": [
        "#Su código aquí\n"
      ]
    },
    {
      "cell_type": "markdown",
      "source": [
        "## Identificar valores vacios"
      ],
      "metadata": {
        "id": "qQ-O3r-v23sM"
      }
    },
    {
      "cell_type": "code",
      "source": [
        "import missingno as msno\n",
        "\n",
        "msno.matrix(df)"
      ],
      "metadata": {
        "id": "7VaH0Dki26_s"
      },
      "execution_count": null,
      "outputs": []
    },
    {
      "cell_type": "markdown",
      "source": [
        "# Analitica con Python"
      ],
      "metadata": {
        "id": "zZwIHLHH1HRy"
      }
    },
    {
      "cell_type": "markdown",
      "metadata": {
        "id": "tnS4aC2iIyQ9"
      },
      "source": [
        "## 1. Dataset de Trabajo\n",
        "\n",
        "**Credit:** conjunto de datos simulados que contiene información sobre diez mil clientes de una entidad financiera\n",
        "\n",
        "<a href='https://rdrr.io/cran/ISLR/man/Credit.html'>\n",
        "  Documentación de las variables </a>\n",
        "\n",
        "**Diccionario de datos**\n",
        "* ID: Código de identificación del cliente\n",
        "* Income: Ingresos del cliente en $10,000's\n",
        "* Limit: Límite de crédito\n",
        "* Rating: Puntaje crediticio\n",
        "* Cards: Número de tarjetas de crédito\n",
        "* Age: Edad en años\n",
        "* Education: Número de años de educación\n",
        "* Gender: Masculino (Male) o Femenino (Female)\n",
        "* Student: Si el cliente es estudiantes (Yes) o no lo es (No)\n",
        "* Married: Si el cliente está casado (Yes) o no está (No)\n",
        "* Ethnicity: Africano (African), Americano (American), Asiático (Asian) y Caucásico (Caucasian)\n",
        "* Balance: Promedio del saldo de la tarjeta de crédito en dólares\n"
      ]
    },
    {
      "cell_type": "code",
      "execution_count": null,
      "metadata": {
        "id": "fkzf3Ay1ITwc"
      },
      "outputs": [],
      "source": [
        "import sys\n",
        "import numpy as np\n",
        "import pandas as pd\n",
        "\n",
        "# Librería para medidas de posición y forma\n",
        "import scipy\n",
        "import scipy.stats as stats\n",
        "\n",
        "# Librerías para visualización\n",
        "import seaborn as sns\n",
        "import matplotlib\n",
        "import matplotlib.pyplot as plt"
      ]
    },
    {
      "cell_type": "markdown",
      "metadata": {
        "id": "kPK3xE8auNy6"
      },
      "source": [
        "## Descargando el dataset\n",
        "https://raw.githubusercontent.com/mayait/ClaseAnalisisDatos/main/python101/data/Credit.csv\n",
        "\n",
        "Utiliza wget para descargarlo"
      ]
    },
    {
      "cell_type": "markdown",
      "metadata": {
        "id": "mGZqNql3uC2_"
      },
      "source": [
        "## Importar dataset\n",
        "pd.read_csv() permite importar un archivo de texto a Pandas"
      ]
    },
    {
      "cell_type": "code",
      "execution_count": null,
      "metadata": {
        "id": "DLJLDZY_Iz41"
      },
      "outputs": [],
      "source": [
        "Credit = 🌶️🌶️🌶️🌶️🌶️🌶️🌶️"
      ]
    },
    {
      "cell_type": "code",
      "execution_count": null,
      "metadata": {
        "id": "XdhnUiPkJCmD"
      },
      "outputs": [],
      "source": [
        "# Dimensiones del dataset\n",
        "print(Credit.shape)"
      ]
    },
    {
      "cell_type": "code",
      "execution_count": null,
      "metadata": {
        "id": "sQpRehCIg56U"
      },
      "outputs": [],
      "source": [
        "Credit.sample(4)"
      ]
    },
    {
      "cell_type": "code",
      "execution_count": null,
      "metadata": {
        "id": "sNdePlqRfnnh"
      },
      "outputs": [],
      "source": [
        "# Muestra los 20 primeros\n",
        "Credit.head(5)"
      ]
    },
    {
      "cell_type": "code",
      "execution_count": null,
      "metadata": {
        "id": "C4fItGLBubA4"
      },
      "outputs": [],
      "source": [
        "Credit[\"Income\"]"
      ]
    },
    {
      "cell_type": "markdown",
      "metadata": {
        "id": "y9iw0cqIJ72F"
      },
      "source": [
        "## 2. Medidas de Tendencia Central\n",
        "\n",
        "Empezaremos visualizando la distribución de los ingresos por medio de un histograma.\n",
        "\n",
        "**Ejercicio:** Identificar las características de la distribución."
      ]
    },
    {
      "cell_type": "code",
      "source": [
        "sns.displot(Credit, x='Income', bins=20, kde=True)\n",
        "plt.title(\"Ingresos\")\n",
        "plt.xlabel(\"Dólares\")\n",
        "plt.ylabel(\"Frecuencia Relativa\")\n",
        "plt.show()\n"
      ],
      "metadata": {
        "id": "knI3hEGjJhRN"
      },
      "execution_count": null,
      "outputs": []
    },
    {
      "cell_type": "code",
      "source": [
        "sns.displot(Credit, x='Income', hue='Student', kde=True) #hue crea un histograma por cada una de las categorías de manufactorer_name\n",
        "plt.title(\"Ingresos\")\n",
        "plt.xlabel(\"Dólares\")\n",
        "plt.ylabel(\"Frecuencia Relativa\")\n",
        "plt.show()\n"
      ],
      "metadata": {
        "id": "OTJgChyQOZcV"
      },
      "execution_count": null,
      "outputs": []
    },
    {
      "cell_type": "code",
      "source": [
        "Credit.groupby('Gender').count()\n"
      ],
      "metadata": {
        "id": "j1SjIclMPP0g"
      },
      "execution_count": null,
      "outputs": []
    },
    {
      "cell_type": "code",
      "execution_count": null,
      "metadata": {
        "id": "GZlldcsdKpjx"
      },
      "outputs": [],
      "source": [
        "# Medidas de tendencia central\n",
        "media_income    = Credit[\"Income\"].🌶️🌶️🌶️🌶️🌶️🌶️🌶️\n",
        "mediana_income  = 🌶️🌶️🌶️🌶️🌶️🌶️🌶️\n",
        "moda_income     = 🌶️🌶️🌶️🌶️🌶️🌶️🌶️\n",
        "\n",
        "print('Media: ', media_income, '\\nMediana: ', mediana_income, '\\nModa: ', moda_income[0])"
      ]
    },
    {
      "cell_type": "markdown",
      "metadata": {
        "id": "VFVzvQh6LKHh"
      },
      "source": [
        "**¿Cuál de las medidas de tendencia central resumen correctamente a los ingresos?**"
      ]
    },
    {
      "cell_type": "code",
      "execution_count": null,
      "metadata": {
        "id": "ezc6VRqVK6EU"
      },
      "outputs": [],
      "source": [
        "sns.histplot(Credit[\"Income\"], bins='fd', kde=True)\n",
        "plt.title(\"Ingresos\")\n",
        "plt.xlabel(\"Dólares\")\n",
        "plt.ylabel(\"Frecuencia Relativa\")\n",
        "plt.axvline(media_income, color='red', label='Promedio')\n",
        "plt.axvline(mediana_income, color='yellow', label='Mediana')\n",
        "plt.axvline(moda_income[0], color='green', label='Moda')\n",
        "plt.legend()\n",
        "plt.show()"
      ]
    },
    {
      "cell_type": "markdown",
      "metadata": {
        "id": "JpwBk1DDMrrZ"
      },
      "source": [
        "# 🌶 1\n",
        "**Ejercicio 1:** Obtener el promedio, mediana y moda de la columna `Limit` del  DataFrame `Credit`\n",
        "\n",
        "\n",
        "```\n",
        "Respuesta:\n",
        "Promedio: 4735.6\n",
        "Mediana: 4622.5\n",
        "Moda: 855\n",
        "```\n",
        "\n"
      ]
    },
    {
      "cell_type": "code",
      "execution_count": null,
      "metadata": {
        "id": "INGiY4_FMARD"
      },
      "outputs": [],
      "source": [
        "# Obtener el promedio, mediana y moda de la columna `Limit` del  DataFrame `Credit`\n",
        "🌶️🌶️🌶️🌶️🌶️🌶️🌶️\n",
        "🌶️🌶️🌶️🌶️🌶️🌶️🌶️\n",
        "🌶️🌶️🌶️🌶️🌶️🌶️🌶️\n",
        "print('Media: ', 🌶️🌶️🌶️🌶️🌶️🌶️🌶️, '\\nMediana: ', 🌶️🌶️🌶️🌶️🌶️🌶️🌶️, '\\nModa: ', 🌶️🌶️🌶️🌶️🌶️🌶️🌶️[0])\n",
        "\n"
      ]
    },
    {
      "cell_type": "markdown",
      "metadata": {
        "id": "1EC_3M4FNwYn"
      },
      "source": [
        "## 3. Medidas de Dispersión"
      ]
    },
    {
      "cell_type": "markdown",
      "metadata": {
        "id": "eFS__vYuN1AI"
      },
      "source": [
        "### Rango"
      ]
    },
    {
      "cell_type": "code",
      "execution_count": null,
      "metadata": {
        "id": "Iao-7Rj-v0t7"
      },
      "outputs": [],
      "source": [
        "Credit[\"Income\"].min()"
      ]
    },
    {
      "cell_type": "code",
      "execution_count": null,
      "metadata": {
        "id": "1NUUOyU2v14Z"
      },
      "outputs": [],
      "source": [
        "Credit[\"Income\"].max()"
      ]
    },
    {
      "cell_type": "code",
      "execution_count": null,
      "metadata": {
        "id": "mhMsIqHnNuZe"
      },
      "outputs": [],
      "source": [
        "print(\"El ingreso mínimo es de:\", Credit[\"Income\"].min())\n",
        "print(\"El ingreso máximo es de:\", Credit[\"Income\"].max())\n",
        "print(\"El rango es igual a:\", Credit[\"Income\"].max() - Credit[\"Income\"].min())"
      ]
    },
    {
      "cell_type": "markdown",
      "metadata": {
        "id": "2Axzgsb8OAr-"
      },
      "source": [
        "### Varianza y Desviación Estándar\n",
        "* El argumento ```ddof``` hace referencia al denominador: ```N-ddof```\n",
        "* ```ddof=0``` si trabajamos con la población\n",
        "* ```ddof=1``` si trabajamos con la muestra"
      ]
    },
    {
      "cell_type": "code",
      "execution_count": null,
      "metadata": {
        "id": "Szg37-DgOB17"
      },
      "outputs": [],
      "source": [
        "print(\"La varianza en la población es igual a:\", Credit[\"Income\"].var(ddof=0))\n",
        "print(\"La desviación estandar en la población es igual a:\", Credit[\"Income\"].std(ddof=0))"
      ]
    },
    {
      "cell_type": "code",
      "execution_count": null,
      "metadata": {
        "id": "z5DeNPN3OKtS"
      },
      "outputs": [],
      "source": [
        "print(\"La varianza en la muestra es igual a:\", Credit[\"Income\"].var())\n",
        "print(\"La desviación estandar en la muestra es igual a:\", Credit[\"Income\"].std())"
      ]
    },
    {
      "cell_type": "markdown",
      "metadata": {
        "id": "M__qQdLSPNlf"
      },
      "source": [
        "# 🌶 2\n",
        "\n",
        "---\n",
        "\n",
        "\n",
        "**Ejercicio 2:** Obtener el rango, la varianza muestral y la desviación estándar muestral de la columna `Balance` del  DataFrame `Credit`\n",
        "\n",
        "\n",
        "```\n",
        "Respuesta:\n",
        "Rango: 1999\n",
        "Varianza muestral: 211378.22533834586\n",
        "Desv. estándar muestral: 459.75887738938314\n",
        "```\n",
        "\n"
      ]
    },
    {
      "cell_type": "code",
      "execution_count": null,
      "metadata": {
        "id": "i_im4JN2PSxJ"
      },
      "outputs": [],
      "source": [
        "# Obtener el rango, la varianza muestral y la desviación estándar muestral de la columna `Balance` del  DataFrame `Credit`\n",
        "\n",
        "🌶️🌶️🌶️🌶️🌶️🌶️🌶️🌶️🌶️🌶️🌶️🌶️🌶️🌶️\n",
        "\n"
      ]
    },
    {
      "cell_type": "markdown",
      "source": [
        "Jointplot muestra un scatterplot y la distribución de los datos.\n",
        "\n",
        "Documentación de jointplot: http://seaborn.pydata.org/generated/seaborn.jointplot.html"
      ],
      "metadata": {
        "id": "e79h84j5Qlkt"
      }
    },
    {
      "cell_type": "code",
      "source": [
        "sns.jointplot(data=Credit, x='Income', y='Rating', hue='Ethnicity')\n"
      ],
      "metadata": {
        "id": "eGs8vhJKP1XW"
      },
      "execution_count": null,
      "outputs": []
    },
    {
      "cell_type": "markdown",
      "metadata": {
        "id": "eLMJyxEhR_L2"
      },
      "source": [
        "## 4. Medidas de Posición\n",
        "El método ```describe()``` muestra de forma predeterminada los cuartiles sin embargo, podemos requerir otras medidas de posición de acuerdo a lo que se necesite."
      ]
    },
    {
      "cell_type": "code",
      "execution_count": null,
      "metadata": {
        "id": "8mK3CTRTSEyC"
      },
      "outputs": [],
      "source": [
        "Credit[\"Income\"].describe()"
      ]
    },
    {
      "cell_type": "code",
      "execution_count": null,
      "metadata": {
        "id": "YTMskCImSkU6"
      },
      "outputs": [],
      "source": [
        "# Percentil 90\n",
        "Credit[\"Income\"].quantile(0.90)"
      ]
    },
    {
      "cell_type": "code",
      "execution_count": null,
      "metadata": {
        "id": "ITTbM5qiTkCq"
      },
      "outputs": [],
      "source": [
        "stats.iqr(Credit[\"Income\"])"
      ]
    },
    {
      "cell_type": "code",
      "execution_count": null,
      "metadata": {
        "id": "V96GA-j9Tzo-"
      },
      "outputs": [],
      "source": [
        "Credit[\"Income\"].quantile(0.75) - Credit[\"Income\"].quantile(0.25)"
      ]
    },
    {
      "cell_type": "markdown",
      "metadata": {
        "id": "EtP9vu703v7M"
      },
      "source": [
        "## BOX-PLOT :\n",
        "\n",
        "Un diagrama de caja es una forma muy útil y estandarizada de mostrar la distribución de datos basada en un resumen de cinco números (mínimo, primer cuartil, segundo cuartil (mediana), tercer cuartil, máximo).\n",
        "\n",
        "![image.png](data:image/png;base64,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)\n",
        "\n",
        "Source: biostats.w.uib.no\n"
      ]
    },
    {
      "cell_type": "code",
      "execution_count": null,
      "metadata": {
        "id": "56P1fYooT4DC"
      },
      "outputs": [],
      "source": [
        "sns.boxplot(x=Credit[\"Income\"],color = \"pink\")\n",
        "plt.title(\"Boxplot de los Ingresos\")\n",
        "plt.xlabel(\"Dólares\")\n",
        "plt.show()"
      ]
    },
    {
      "cell_type": "code",
      "execution_count": null,
      "metadata": {
        "id": "4PdR7PBTUGOU"
      },
      "outputs": [],
      "source": [
        "sns.boxplot(x=Credit[\"Income\"], color=\"pink\")\n",
        "plt.title(\"Boxplot de los Ingresos\")\n",
        "plt.xlabel(\"Dólares\")\n",
        "\n",
        "#Pongamosle las lineas\n",
        "plt.axvline(🌶️🌶️🌶️🌶️🌶️🌶️🌶️, color='green', label='Q1')\n",
        "plt.axvline(🌶️🌶️🌶️🌶️🌶️🌶️🌶️, color='blue', label='Q2/Mediana')\n",
        "plt.axvline(🌶️🌶️🌶️🌶️🌶️🌶️🌶️, color='red', label='Q3')\n",
        "plt.legend()\n",
        "plt.show()"
      ]
    },
    {
      "cell_type": "code",
      "execution_count": null,
      "metadata": {
        "id": "fDDHkoSxUdIK"
      },
      "outputs": [],
      "source": [
        "sns.boxplot(x=Credit[\"Income\"], y=Credit[\"Gender\"])\n",
        "plt.title(\"Boxplot de los Ingresos\")\n",
        "plt.xlabel(\"Dólares\")\n",
        "plt.show()"
      ]
    },
    {
      "cell_type": "code",
      "execution_count": null,
      "metadata": {
        "id": "P0RNk2oLUnLp"
      },
      "outputs": [],
      "source": [
        "sns.boxplot(x=Credit[\"Income\"], y=Credit[\"Ethnicity\"])\n",
        "plt.title(\"Boxplot de los Ingresos por Etnia\")\n",
        "plt.xlabel(\"Dólares\")\n",
        "plt.show()"
      ]
    },
    {
      "cell_type": "markdown",
      "metadata": {
        "id": "t9d-yzQyVGJy"
      },
      "source": [
        "### Valores atípicos/extremos/outliers\n",
        "Se definen como observaciones extremas a aquellas que se encuentran fuera del rango $$[Q_1-(1.5 \\times IQR) ; Q_3 +(1.5 \\times IQR)]$$"
      ]
    },
    {
      "cell_type": "code",
      "execution_count": null,
      "metadata": {
        "id": "wO5m1yCRU56P"
      },
      "outputs": [],
      "source": [
        "IQR  = stats.iqr(Credit[\"Income\"])\n",
        "whis = 1.5\n",
        "cons = IQR * whis\n",
        "\n",
        "#Cuartiles\n",
        "Q1   = Credit[\"Income\"].quantile(0.25)\n",
        "Q3   = Credit[\"Income\"].quantile(0.75)\n",
        "\n",
        "print(\"El límite inferior para valores extremos es:\", (Q1-cons))\n",
        "print(\"El límite superior para valores extremos es:\", (Q3+cons))"
      ]
    },
    {
      "cell_type": "code",
      "execution_count": null,
      "metadata": {
        "id": "PggOvWN6U_mW"
      },
      "outputs": [],
      "source": [
        "sns.boxplot(x=Credit[\"Income\"], color=\"pink\", whis=1.5)\n",
        "plt.title(\"Boxplot de los Ingresos\")\n",
        "plt.xlabel(\"Dólares\")\n",
        "plt.axvline(Q3+cons, color='blue', label='Lim. Superior')\n",
        "plt.legend()\n",
        "plt.show()"
      ]
    },
    {
      "cell_type": "code",
      "execution_count": null,
      "metadata": {
        "id": "wUCPvQhaVZp8"
      },
      "outputs": [],
      "source": [
        "sns.histplot(Credit[\"Income\"], color =\"darkblue\", kde=True)\n",
        "plt.title(\"Ingresos\")\n",
        "plt.xlabel(\"Dólares\")\n",
        "plt.ylabel(\"Frecuencia Relativa\")\n",
        "plt.axvline(🌶️🌶️🌶️🌶️🌶️🌶️🌶️, color='blue', label='Lim. Superior')\n",
        "plt.legend()\n",
        "plt.show()"
      ]
    },
    {
      "cell_type": "markdown",
      "metadata": {
        "id": "RHfq5hWlV4XH"
      },
      "source": [
        "# 🌶 3\n",
        "**Ejercicio 3:** Encuentre los quintiles y el rango intercuartil de la columna `Education` del  DataFrame `Credit`\n",
        "\n",
        "\n",
        "```\n",
        "Respuesta:\n",
        "Quintiles:\n",
        "0.2    11.0\n",
        "0.4    13.0\n",
        "0.6    15.0\n",
        "0.8    16.0\n",
        "Name: Education, dtype: float64\n",
        "\n",
        "IQR Educación: 5.0\n",
        "```\n",
        "\n"
      ]
    },
    {
      "cell_type": "code",
      "execution_count": null,
      "metadata": {
        "id": "Dy5c6vT7bFhu"
      },
      "outputs": [],
      "source": [
        "# Matriz de correlaciones\n",
        "Credit.corr().round(decimals=2)"
      ]
    }
  ],
  "metadata": {
    "colab": {
      "provenance": [],
      "include_colab_link": true
    },
    "kernelspec": {
      "display_name": "tensorflow",
      "language": "python",
      "name": "python3"
    },
    "language_info": {
      "codemirror_mode": {
        "name": "ipython",
        "version": 3
      },
      "file_extension": ".py",
      "mimetype": "text/x-python",
      "name": "python",
      "nbconvert_exporter": "python",
      "pygments_lexer": "ipython3",
      "version": "3.10.8"
    },
    "vscode": {
      "interpreter": {
        "hash": "ef347fa111a972b42709d754011b73804350168ffd20ad9dbaeb269a26ad840f"
      }
    }
  },
  "nbformat": 4,
  "nbformat_minor": 0
}