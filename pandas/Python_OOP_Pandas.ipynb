{
  "cells": [
    {
      "cell_type": "markdown",
      "metadata": {
        "id": "view-in-github",
        "colab_type": "text"
      },
      "source": [
        "<a href=\"https://colab.research.google.com/github/mayait/ClaseAnalisisDatos/blob/main/pandas/Python_OOP_Pandas.ipynb\" target=\"_parent\"><img src=\"https://colab.research.google.com/assets/colab-badge.svg\" alt=\"Open In Colab\"/></a>"
      ]
    },
    {
      "cell_type": "code",
      "execution_count": null,
      "metadata": {
        "cellView": "form",
        "id": "oEfCT92oL7bC"
      },
      "outputs": [],
      "source": [
        "#@title Nombre del estudiante\n",
        "Estudiante = \"\" #@param {type:\"string\"}"
      ]
    },
    {
      "cell_type": "markdown",
      "metadata": {
        "application/vnd.databricks.v1+cell": {
          "inputWidgets": {},
          "nuid": "18783605-2c3d-4c8a-98f1-b214ed5702c8",
          "showTitle": false,
          "title": ""
        },
        "id": "Nndf-4PDow-A"
      },
      "source": [
        "# Programación orientada a objetos en Python\n",
        "\n",
        "#### Clases / Objetos\n",
        "En la verdadera programación orientada a objetos (OOP), el desarrollador escribe código en torno a cosas llamadas objetos. Un objeto (o una clase) agrupa datos y funciones que operan sobre esos datos. Es posible que conozca esta terminología de *C++* y otros lenguajes.\n",
        "\n",
        "#### Módulos\n",
        "Los módulos en Python contienen grandes cantidades de código que se encuentran relacionados. En la mayoría de los casos, poseen varias clases y funciones que abordan una necesidad particular.\n",
        "\n",
        "#### Librerías / Bibliotecas\n",
        "Las librerías pueden contener múltiples módulos que van juntos. Las librerías generalmente tiene una estructura de directorio específica.\n",
        "\n",
        "<img src=\"https://i0.wp.com/bhivetech.blog/wp-content/uploads/2020/04/classes.png\" width=\"80%\"/>\n",
        "\n",
        "# Clase Coche en Python\n",
        "\n",
        "La clase `Coche` en Python puede ser utilizada para crear objetos que representan coches en el mundo real. La clase incluirá atributos como `color`, `tamaño`, `motor`, `precio`, y `modelo`, y comportamientos, que son métodos, como `conducir`, `estacionar`, `arrancar`, y `detener`.\n",
        "\n",
        "```python\n",
        "class Coche:\n",
        "    def __init__(self, color, tamano, motor, precio, modelo):\n",
        "        self.color = color\n",
        "        self.tamano = tamano\n",
        "        self.motor = motor\n",
        "        self.precio = precio\n",
        "        self.modelo = modelo\n",
        "    \n",
        "    def conducir(self):\n",
        "        return \"El coche está en movimiento.\"\n",
        "    \n",
        "    def estacionar(self):\n",
        "        return \"El coche está estacionado.\"\n",
        "    \n",
        "    def arrancar(self):\n",
        "        return \"El coche ha arrancado.\"\n",
        "    \n",
        "    def detener(self):\n",
        "        return \"El coche se ha detenido.\"\n",
        "\n",
        "```\n",
        "### Creación de objetos\n",
        "\n",
        "```python\n",
        "coche_azul = Coche(\"azul\", \"212 pulgadas\", \"3.6L V6\", \"50,000 USD\", \"AL3\")\n",
        "coche_rojo = Coche(\"rojo\", \"143 pulgadas\", \"1.4L 4-cyl\", \"12,000 USD\", \"HA2\")\n",
        "\n",
        "print(coche_azul.conducir())\n",
        "print(coche_rojo.estacionar())\n",
        "```\n",
        "\n",
        "\n",
        "\n"
      ]
    },
    {
      "cell_type": "markdown",
      "source": [
        "## ¿Qué es una Clase?\n",
        "Una clase en Python actúa como un plano para crear objetos. Define un conjunto de atributos y métodos que los objetos creados a partir de la clase pueden utilizar."
      ],
      "metadata": {
        "id": "8-q7FM_I-aS0"
      }
    },
    {
      "cell_type": "code",
      "source": [
        "class MiClase:\n",
        "    \"\"\"Esta es una clase simple de ejemplo.\"\"\"\n",
        "    atributo = \"un valor\"\n",
        "\n",
        "    def metodo(self):\n",
        "        return \"Este es un método de la clase\""
      ],
      "metadata": {
        "id": "D7VMzsG5-LdS"
      },
      "execution_count": null,
      "outputs": []
    },
    {
      "cell_type": "markdown",
      "source": [
        "## Creando Objetos\n",
        "Los objetos son instancias de una clase. Al crear un objeto, este hereda todos los atributos y métodos definidos en la clase."
      ],
      "metadata": {
        "id": "yWmaDZXC-mn6"
      }
    },
    {
      "cell_type": "code",
      "source": [
        "mi_objeto = MiClase()\n",
        "print( mi_objeto.atributo )  # Salida: un valor\n",
        "print( mi_objeto.metodo() )  # Salida: Este es un método de la clase\n"
      ],
      "metadata": {
        "colab": {
          "base_uri": "https://localhost:8080/"
        },
        "id": "0mLGFbpJ-qcO",
        "outputId": "d0a040c1-a095-48b1-edeb-0fe2d5335e4b"
      },
      "execution_count": null,
      "outputs": [
        {
          "output_type": "stream",
          "name": "stdout",
          "text": [
            "un valor\n",
            "Este es un método de la clase\n"
          ]
        }
      ]
    },
    {
      "cell_type": "markdown",
      "source": [
        "## Constructor __init__\n",
        "El método __init__ se ejecuta automáticamente al crear un nuevo objeto de una clase, y se utiliza para inicializar los atributos del objeto.\n",
        "\n",
        "__self__ es un argumento que se utiliza en los métodos de una clase para referirse al objeto actual. Es una convención para nombrar la referencia al objeto que está siendo creado o manipulado."
      ],
      "metadata": {
        "id": "1VXQyUHK-7UX"
      }
    },
    {
      "cell_type": "code",
      "source": [
        "class Auto:\n",
        "    def __init__(self, marca, modelo):\n",
        "        self.marca = marca\n",
        "        self.modelo = modelo\n",
        "\n",
        "    def mostrar_descripcion(self):\n",
        "        return f\"Este auto es un {self.marca} {self.modelo}.\""
      ],
      "metadata": {
        "id": "9JE-m_KC-_Zp"
      },
      "execution_count": null,
      "outputs": []
    },
    {
      "cell_type": "code",
      "source": [
        "mi_carro = Auto(\"Toyota\", \"Corolla\")\n",
        "print(mi_carro.mostrar_descripcion())  # Salida: Este coche es un Toyota Corolla."
      ],
      "metadata": {
        "colab": {
          "base_uri": "https://localhost:8080/"
        },
        "id": "_TGIDJUA_D6q",
        "outputId": "ccf6b7b8-baca-45a0-bca4-f908d48f0367"
      },
      "execution_count": null,
      "outputs": [
        {
          "output_type": "stream",
          "name": "stdout",
          "text": [
            "Este auto es un Toyota Corolla.\n"
          ]
        }
      ]
    },
    {
      "cell_type": "markdown",
      "source": [
        "# 🌶️ Crea un sistema bancario\n",
        "\n",
        "\n",
        "1. Crear una clase `CuentaBancaria` que tenga un diccionario para los atributos de la cuenta como `titular`, `balance` y `número de cuenta`.\n",
        "2. Permitir depositar (`depositar`) y retirar dinero (`retirar`) de la cuenta a través de métodos que modifiquen los valores en el diccionario.\n",
        "3. Incluir un método para mostrar el balance actual (`mostrar_balance`), que lee del diccionario de la cuenta.\n",
        "4. Crear una clase `Banco` que contenga una lista de diccionarios de cuentas bancarias.\n",
        "5. Agregar métodos al `Banco` para buscar una cuenta por titular y número de cuenta dentro de la lista de cuentas.\n",
        "6. Implementar un sistema de transferencia de fondos entre cuentas utilizando los números de cuenta y actualizando los balances en los diccionarios correspondientes.\n",
        "\n",
        "**Requisitos:**\n",
        "\n",
        "- Implementa validaciones usando condicionales para todas las operaciones bancarias para garantizar la integridad de las transacciones.\n",
        "- Crea un menú interactivo que utilice una lista de opciones posibles y un bucle para permitir al usuario realizar diferentes operaciones bancarias.\n",
        "\n",
        "Este ejercicio te ayudará a practicar el uso de diccionarios para almacenar información estructurada y listas para manejar colecciones de estos diccionarios, todo esto mientras mantienes la orientación a objetos en tu diseño de software."
      ],
      "metadata": {
        "id": "baAPv_-4B72n"
      }
    },
    {
      "cell_type": "code",
      "source": [
        "class CuentaBancaria:\n",
        "    def __init__(self, titular, balance, numero_cuenta):\n",
        "        # TODO: Almacenar los parámetros como un diccionario en self.detalle_cuenta\n",
        "\n",
        "    def depositar(self, monto):\n",
        "        # TODO: Implementar la lógica para depositar un monto en la cuenta, pilas con los depositos negativos\n",
        "        pass\n",
        "\n",
        "    def retirar(self, monto):\n",
        "        # TODO: Implementar la lógica para retirar un monto de la cuenta\n",
        "        pass\n",
        "\n",
        "    def mostrar_balance(self):\n",
        "        # TODO: Implementar la lógica para mostrar el balance de la cuenta\n",
        "        pass\n",
        "\n",
        "class Banco:\n",
        "    def __init__(self):\n",
        "        # TODO: Inicializar una lista para almacenar las cuentas\n",
        "\n",
        "    def agregar_cuenta(self, cuenta):\n",
        "        # TODO: Implementar la lógica para agregar una nueva cuenta al banco\n",
        "        pass\n",
        "\n",
        "    def buscar_cuenta(self, numero_cuenta):\n",
        "        # TODO: Implementar la lógica para buscar y retornar una cuenta por su número\n",
        "        pass\n",
        "\n",
        "    def transferir_fondos(self, num_cuenta_origen, num_cuenta_destino, monto):\n",
        "        # TODO: Implementar la lógica para transferir fondos entre cuentas\n",
        "        pass"
      ],
      "metadata": {
        "id": "4YrRsOpK_Knf"
      },
      "execution_count": null,
      "outputs": []
    },
    {
      "cell_type": "code",
      "source": [
        "# Si tu sistema funciona deberia ejecutar esto\n",
        "banco = Banco()\n",
        "cuenta1 = CuentaBancaria('Juan Perez', 1000, '001')\n",
        "cuenta2 = CuentaBancaria('Maria Lopez', 2000, '002')\n",
        "\n",
        "banco.agregar_cuenta(cuenta1)\n",
        "banco.agregar_cuenta(cuenta2)\n",
        "\n",
        "cuenta1.depositar(500)\n",
        "cuenta2.retirar(300)\n",
        "banco.transferir_fondos('001', '002', 200)\n",
        "\n",
        "print(cuenta1.mostrar_balance())\n",
        "print(cuenta2.mostrar_balance())"
      ],
      "metadata": {
        "id": "ojulCSQWQ936"
      },
      "execution_count": null,
      "outputs": []
    },
    {
      "cell_type": "code",
      "source": [
        "# Prueba de depósito negativo\n",
        "cuenta_test = CuentaBancaria('Ana Soto', 500, '003')\n",
        "cuenta_test.depositar(-100)  # Debería dar un mensaje de error"
      ],
      "metadata": {
        "id": "Ij8REN7ZQ_gZ"
      },
      "execution_count": null,
      "outputs": []
    },
    {
      "cell_type": "code",
      "source": [
        "# Prueba de retiro excesivo\n",
        "cuenta_test.retirar(600)  # Debería dar un mensaje de error"
      ],
      "metadata": {
        "id": "a6E6kV8QRByL"
      },
      "execution_count": null,
      "outputs": []
    },
    {
      "cell_type": "code",
      "source": [
        "[19:40] Julian Andrès Maya Castro\n",
        "# Prueba de transferencia sin fondos suficientes\n",
        "banco_test = Banco()\n",
        "cuenta_test2 = CuentaBancaria('Roberto Gómez', 300, '004')\n",
        "banco_test.agregar_cuenta(cuenta_test)\n",
        "banco_test.agregar_cuenta(cuenta_test2)\n",
        "print(\"\\nPrueba de transferencia sin fondos suficientes:\")\n",
        "banco_test.transferir_fondos('003', '004', 1000)  # Debería dar un mensaje de\n",
        "[19:40] Julian Andrès Maya Castro\n",
        "# Prueba de transferencia a una cuenta inexistente\n",
        "print(\"\\nPrueba de transferencia a una cuenta inexistente:\")\n",
        "banco_test.transferir_fondos('003', '999', 50)  # Debería dar un mensaje de error\n",
        ""
      ],
      "metadata": {
        "id": "5EZYMK_MREIN"
      },
      "execution_count": null,
      "outputs": []
    }
  ],
  "metadata": {
    "colab": {
      "provenance": [],
      "include_colab_link": true
    },
    "kernelspec": {
      "display_name": "tensorflow",
      "language": "python",
      "name": "python3"
    },
    "language_info": {
      "codemirror_mode": {
        "name": "ipython",
        "version": 3
      },
      "file_extension": ".py",
      "mimetype": "text/x-python",
      "name": "python",
      "nbconvert_exporter": "python",
      "pygments_lexer": "ipython3",
      "version": "3.10.8"
    },
    "vscode": {
      "interpreter": {
        "hash": "ef347fa111a972b42709d754011b73804350168ffd20ad9dbaeb269a26ad840f"
      }
    }
  },
  "nbformat": 4,
  "nbformat_minor": 0
}