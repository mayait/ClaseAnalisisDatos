{
  "nbformat": 4,
  "nbformat_minor": 0,
  "metadata": {
    "colab": {
      "private_outputs": true,
      "provenance": [],
      "authorship_tag": "ABX9TyPLKUaTSOqMo43JTBb+Y9Xo",
      "include_colab_link": true
    },
    "kernelspec": {
      "name": "python3",
      "display_name": "Python 3"
    },
    "language_info": {
      "name": "python"
    }
  },
  "cells": [
    {
      "cell_type": "markdown",
      "metadata": {
        "id": "view-in-github",
        "colab_type": "text"
      },
      "source": [
        "<a href=\"https://colab.research.google.com/github/mayait/ClaseAnalisisDatos/blob/main/pandas/superstore_python_pandas.ipynb\" target=\"_parent\"><img src=\"https://colab.research.google.com/assets/colab-badge.svg\" alt=\"Open In Colab\"/></a>"
      ]
    },
    {
      "cell_type": "code",
      "source": [
        "#@title Nombre del estudiante\n",
        "Estudiante1 = \"\" #@param {type:\"string\"}\n",
        "Código1 = \"\" #@param {type:\"string\"}\n",
        "Estudiante2 = \"\" #@param {type:\"string\"}\n",
        "Código2 = \"\" #@param {type:\"string\"}"
      ],
      "metadata": {
        "id": "oEfCT92oL7bC",
        "cellView": "form"
      },
      "execution_count": null,
      "outputs": []
    },
    {
      "cell_type": "markdown",
      "source": [
        "# SuperStore\n",
        "Super Store es una pequeña tienda minorista ubicada en los Estados Unidos. Venden muebles, suministros de oficina y productos tecnológicos y sus clientes son el consumidor masivo, las oficinas corporativas y los hogares.\n",
        "\n",
        "El conjunto de datos contiene información de ventas, ganancias e información geográfica de Super Store.\n",
        "\n",
        "**Nuestra tarea es analizar los datos de ventas e identificar áreas débiles y oportunidades para que Super Store impulse el crecimiento del negocio.**\n"
      ],
      "metadata": {
        "id": "zjSOuu9xWCcQ"
      }
    },
    {
      "cell_type": "code",
      "source": [
        "import pandas as pd\n",
        "import matplotlib.pyplot as plt"
      ],
      "metadata": {
        "id": "8hy-0QlkITHt"
      },
      "execution_count": null,
      "outputs": []
    },
    {
      "cell_type": "markdown",
      "source": [
        "## - Importar el archivo superstore"
      ],
      "metadata": {
        "id": "63ufiJRqHfun"
      }
    },
    {
      "cell_type": "code",
      "source": [
        "# Importar Superstore.csv en el dataframe data\n",
        "data = pd.read_______"
      ],
      "metadata": {
        "id": "AFzvPPpDHdv-"
      },
      "execution_count": null,
      "outputs": []
    },
    {
      "cell_type": "code",
      "source": [
        "data.sample(5)"
      ],
      "metadata": {
        "id": "ZosS8eONLSt7"
      },
      "execution_count": null,
      "outputs": []
    },
    {
      "cell_type": "code",
      "source": [
        "data.columns"
      ],
      "metadata": {
        "id": "jbC8EFqDL03v"
      },
      "execution_count": null,
      "outputs": []
    },
    {
      "cell_type": "markdown",
      "source": [
        "## Transforma 'Order Date' y 'Ship Date' en formato de fechas\n",
        "\n",
        "Para convertir una columna de texto en formato mm/dd/aaaa (o cualquier otro formato de fecha) en formato de fecha en un DataFrame de pandas, puedes utilizar la función to_datetime(). \n",
        "\n",
        "\n",
        "\n",
        "```python\n",
        "df[\"fecha\"] = pd.to_datetime(df[\"fecha\"], format=\"%m/%d/%Y\")\n",
        "```\n",
        "\n"
      ],
      "metadata": {
        "id": "61OkdIR2L_rh"
      }
    },
    {
      "cell_type": "code",
      "source": [
        "# Convertir la columna \"Order Date\" en formato \"mm/dd/aaaa\" a formato de fecha\n",
        "data[\"Order Date\"] = _______\n",
        "# Convertir la columna \"Ship Date\" en formato \"mm/dd/aaaa\" a formato de fecha\n",
        "data[\"Ship Date\"] = ________"
      ],
      "metadata": {
        "id": "qm6fBOz5MMSv"
      },
      "execution_count": null,
      "outputs": []
    },
    {
      "cell_type": "markdown",
      "source": [
        "## Crea la columna Profit Margin con el margen porcentual de utilidad de cada linea"
      ],
      "metadata": {
        "id": "t-LCdXyzXfRL"
      }
    },
    {
      "cell_type": "code",
      "source": [
        "data['Profit_margin'] = (___________) * 100"
      ],
      "metadata": {
        "id": "STfT6GwMXpTf"
      },
      "execution_count": null,
      "outputs": []
    },
    {
      "cell_type": "markdown",
      "source": [
        "## Identifica la variable dependiente y analizala"
      ],
      "metadata": {
        "id": "eF-LbVEQKNah"
      }
    },
    {
      "cell_type": "code",
      "source": [],
      "metadata": {
        "id": "6tTpQhTSKNAw"
      },
      "execution_count": null,
      "outputs": []
    },
    {
      "cell_type": "markdown",
      "source": [],
      "metadata": {
        "id": "WkqRS5IcXBl2"
      }
    },
    {
      "cell_type": "markdown",
      "source": [
        "## - ¿Que categorias tiene región, departamento, metodos de envio, categorias de cliente?\n",
        "\n",
        "\n",
        "```python\n",
        "tabla['columna'].value_counts()\n",
        "```\n",
        "\n"
      ],
      "metadata": {
        "id": "XWDz1BvOJkLh"
      }
    },
    {
      "cell_type": "code",
      "source": [
        "# La función value_counts() es una función útil en la biblioteca pandas de Python \n",
        "# que se utiliza para contar el número de ocurrencias de cada valor único \n",
        "# en una columna de un DataFrame. \n",
        "\n",
        "_________________________________"
      ],
      "metadata": {
        "id": "D5_xRNz5Jj8C"
      },
      "execution_count": null,
      "outputs": []
    },
    {
      "cell_type": "markdown",
      "source": [
        "## - ¿Que región tiene más ventas?"
      ],
      "metadata": {
        "id": "AWhRaUp4IUDa"
      }
    },
    {
      "cell_type": "code",
      "source": [
        "# Calcular la suma de ventas por región\n",
        "sales_by_region = data.groupby(_______________________)\n",
        "\n",
        "# Crear un gráfico de barras de las ventas por región\n",
        "sales_by_region.plot(kind=\"bar\")\n",
        "\n",
        "# Personalizar el gráfico\n",
        "plt.title(\"Ventas por región\")\n",
        "plt.xlabel(\"Región\")\n",
        "plt.ylabel(\"Ventas\")\n",
        "plt.show()"
      ],
      "metadata": {
        "id": "BQ6YpV6VHmpY"
      },
      "execution_count": null,
      "outputs": []
    },
    {
      "cell_type": "markdown",
      "source": [
        "## - Que departamento en que región vende mejor"
      ],
      "metadata": {
        "id": "IsuAFUNCJCq_"
      }
    },
    {
      "cell_type": "code",
      "source": [
        "# Agrupar los datos por región y departamento, y sumar las ventas\n",
        "sales_by_region_dept = data.groupby([\"Region\", \"Department\"])[\"Sales\"].sum()\n",
        "\n",
        "# Crear un gráfico de barras de las ventas por región y departamento\n",
        "sales_by_region_dept.unstack().plot(kind=\"bar\")\n",
        "# Este código utiliza la función groupby() para agrupar los datos por la columna \n",
        "# \"region\" y \"department\", y luego utiliza la función sum() para sumar las ventas \n",
        "# para cada combinación de región y departamento. \n",
        "\n",
        "# Personalizar el gráfico\n",
        "plt.title(\"Ventas por región y departamento\")\n",
        "plt.xlabel(\"Región\")\n",
        "plt.ylabel(\"Ventas\")\n",
        "plt.show()"
      ],
      "metadata": {
        "id": "i7Dbf4EUJCEJ"
      },
      "execution_count": null,
      "outputs": []
    },
    {
      "cell_type": "markdown",
      "source": [
        "## - Puedes ver un gráfico de barras apiladas por región y departamento. ¿Puedes verlo en una tabla?"
      ],
      "metadata": {
        "id": "Vep0YKQhOGBo"
      }
    },
    {
      "cell_type": "code",
      "source": [
        "# Agrupar los datos por región y departamento, y sumar las ventas\n",
        "sales_by_region_dept = data.groupby([\"Region\", \"Department\"])[\"Sales\"].sum()\n",
        "\n",
        "# Crear un gráfico de barras apiladas\n",
        "sales_by_region_dept.unstack().plot(kind=\"bar\", stacked=True)\n",
        "\n",
        "# Personalizar el gráfico\n",
        "plt.title(\"Ventas por departamento y región\")\n",
        "plt.xlabel(\"Departamento\")\n",
        "plt.ylabel(\"Ventas\")\n",
        "plt.legend(title=\"Región\")\n",
        "plt.show()"
      ],
      "metadata": {
        "id": "USBIrNQyNhge"
      },
      "execution_count": null,
      "outputs": []
    },
    {
      "cell_type": "code",
      "source": [
        "# Agrupar los datos por fecha y sumar las ventas\n",
        "sales_by_date = data.groupby(\"Order Date\")[\"Sales\"].sum()\n",
        "\n",
        "# Crear un gráfico de línea de la evolución de las ventas por fecha\n",
        "sales_by_date.plot(kind=\"line\")\n",
        "\n",
        "# Personalizar el gráfico\n",
        "plt.title(\"Evolución de las ventas por fecha\")\n",
        "plt.xlabel(\"Fecha\")\n",
        "plt.ylabel(\"Ventas\")\n",
        "plt.show()"
      ],
      "metadata": {
        "id": "DP3JHtF-Nt-v"
      },
      "execution_count": null,
      "outputs": []
    },
    {
      "cell_type": "markdown",
      "source": [
        "## Agrupar los datos trimestralmente\n",
        "\n",
        "Para agrupar los datos trimestralmente y mostrar la evolución de las ventas por trimestre, puedes utilizar la función resample() de pandas junto con la función sum().\n",
        "\n",
        "Algunos de los intervalos de tiempo que puedes utilizar con resample() son los siguientes:\n",
        "\n",
        "'D': Día calendario\n",
        "\n",
        "'W': Semana calendario\n",
        "\n",
        "'M': Mes calendario\n",
        "\n",
        "'Q': Trimestre calendario\n",
        "\n",
        "'Y': Año calendario"
      ],
      "metadata": {
        "id": "M8UhvsInO1Wy"
      }
    },
    {
      "cell_type": "code",
      "source": [
        "# Agrupar los datos por trimestre y sumar las ventas\n",
        "sales_by_quarter = data.resample('Q', on='Order Date')['Sales'].sum()\n",
        "\n",
        "# Crear un gráfico de línea de la evolución de las ventas por trimestre\n",
        "sales_by_quarter.plot(kind=\"line\")\n",
        "\n",
        "# Personalizar el gráfico\n",
        "plt.title(\"Evolución de las ventas por trimestre\")\n",
        "plt.xlabel(\"Trimestre\")\n",
        "plt.ylabel(\"Ventas\")\n",
        "plt.show()"
      ],
      "metadata": {
        "id": "Hy3DUlwAOt9x"
      },
      "execution_count": null,
      "outputs": []
    },
    {
      "cell_type": "markdown",
      "source": [
        "## Agrupar los datos por categoría y fecha, y sumar las ventas\n",
        "\n",
        "La clase pd.Grouper se utiliza para especificar el intervalo de tiempo que se utilizará para agrupar los datos. El intervalo de tiempo se especifica utilizando el parámetro key de la clase pd.Grouper, que indica la columna del DataFrame que contiene la información de fecha y hora que se utilizará para el agrupamiento. También se puede especificar el intervalo de tiempo utilizando el parámetro freq de la clase pd.Grouper, que indica el intervalo de tiempo deseado, como 'D' para días, 'M' para meses, 'Y' para años, entre otros."
      ],
      "metadata": {
        "id": "lLyVXTbgQfKb"
      }
    },
    {
      "cell_type": "code",
      "source": [
        "# Agrupar los datos por categoría y fecha, y sumar las ventas\n",
        "sales_by_category_date = data.groupby([\"Category\", pd.Grouper(key=\"Order Date\", freq=\"Y\")])[\"Sales\"].sum()\n",
        "\n",
        "# Crear un gráfico de líneas para la evolución de las ventas por categoría\n",
        "sales_by_category_date.unstack(level=0).plot(kind=\"line\")\n",
        "\n",
        "# Personalizar el gráfico\n",
        "plt.title(\"Evolución de las ventas por categoría\")\n",
        "plt.xlabel(\"Fecha\")\n",
        "plt.ylabel(\"Ventas\")\n",
        "plt.legend(title=\"Categoría\", loc=\"center left\", bbox_to_anchor=(1.05, 0.5))\n",
        "plt.show()"
      ],
      "metadata": {
        "id": "kjHCaUEpO-A6"
      },
      "execution_count": null,
      "outputs": []
    },
    {
      "cell_type": "markdown",
      "source": [
        "### Responde a las siguientes preguntas de negocio:\n",
        "\n",
        "- ¿Cuál es la categoría más vendida y más rentable?\n",
        "- ¿Cuáles son las subcategorías más vendidas y rentables?\n",
        "- ¿Cuál es la subcategoría más vendida?\n",
        "- ¿Qué segmento de clientes es el más rentable?\n",
        "- ¿Cuál es el modo de envío preferido?\n",
        "- ¿Qué región es la más rentable?\n",
        "- ¿Qué ciudad tiene el mayor número de ventas?"
      ],
      "metadata": {
        "id": "NNH5qDrygX1O"
      }
    },
    {
      "cell_type": "code",
      "source": [],
      "metadata": {
        "id": "uVWmoVJlPlLh"
      },
      "execution_count": null,
      "outputs": []
    }
  ]
}