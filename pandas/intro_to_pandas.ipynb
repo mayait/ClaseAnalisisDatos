{
  "cells": [
    {
      "cell_type": "markdown",
      "source": [
        "<a href=\"https://kaggle.com/kernels/welcome?src=https://github.com/mayait/ClaseAnalisisDatos/blob/main/pandas/intro_to_pandas.ipynb\"><img src=\"https://kaggle.com/static/images/open-in-kaggle.svg\" width=120 /></a>\n",
        "\n",
        "<a href=\"https://colab.research.google.com/github/mayait/ClaseAnalisisDatos/blob/main/pandas/intro_to_pandas.ipynb\"><img src=\"https://colab.research.google.com/assets/colab-badge.svg\" width=120 /></a>"
      ],
      "metadata": {
        "id": "MPYfNc03WIv4"
      }
    },
    {
      "cell_type": "code",
      "source": [
        "#@title Nombre del estudiante\n",
        "Estudiante = \"\" #@param {type:\"string\"}\n",
        "Código = \"\" #@param {type:\"string\"}"
      ],
      "metadata": {
        "id": "oEfCT92oL7bC",
        "cellView": "form"
      },
      "execution_count": null,
      "outputs": []
    },
    {
      "cell_type": "markdown",
      "metadata": {
        "id": "ctZCniXyXg3f"
      },
      "source": [
        "<img src=\"https://usfq.leanlabs.co/static/img/logo-bp.png\" width=\"200\"/>\n",
        "\n",
        "# **Introducción a Pandas**"
      ]
    },
    {
      "cell_type": "markdown",
      "metadata": {
        "application/vnd.databricks.v1+cell": {
          "inputWidgets": {},
          "nuid": "7b304884-8fdc-407b-939d-6d5fcf021973",
          "showTitle": false,
          "title": ""
        },
        "id": "XrIYsn5bmseb"
      },
      "source": [
        "\n",
        "# Librerías para Analitica de Datos\n",
        "\n",
        "En esta lección se trabajará con las principales librerías enfocadas en Ciencia de Datos\n",
        "\n",
        "## Contenido\n",
        "\n",
        "* Series y Dataframes con Pandas\n",
        "* Manipulación de DataFrames con Pandas"
      ]
    },
    {
      "cell_type": "markdown",
      "metadata": {
        "application/vnd.databricks.v1+cell": {
          "inputWidgets": {},
          "nuid": "18783605-2c3d-4c8a-98f1-b214ed5702c8",
          "showTitle": false,
          "title": ""
        },
        "id": "Nndf-4PDow-A"
      },
      "source": [
        "## Programación orientada a objetos en Python\n",
        "\n",
        "<img src=\"https://i0.wp.com/bhivetech.blog/wp-content/uploads/2020/04/classes.png\" width=\"80%\"/>\n",
        "\n",
        "\n",
        "#### Clases / Objetos\n",
        "En la verdadera programación orientada a objetos (OOP), el desarrollador escribe código en torno a cosas llamadas objetos. Un objeto (o una clase) agrupa datos y funciones que operan sobre esos datos. Es posible que conozca esta terminología de *C++* y otros lenguajes.\n",
        "\n",
        "#### Módulos\n",
        "Los módulos en Python contienen grandes cantidades de código que se encuentran relacionados. En la mayoría de los casos, poseen varias clases y funciones que abordan una necesidad particular. \n",
        "\n",
        "#### Librerías / Bibliotecas\n",
        "Las librerías pueden contener múltiples módulos que van juntos. Las librerías generalmente tiene una estructura de directorio específica.\n",
        "\n"
      ]
    },
    {
      "cell_type": "markdown",
      "metadata": {
        "application/vnd.databricks.v1+cell": {
          "inputWidgets": {},
          "nuid": "68f5ed88-bcce-4f43-9a02-dc313be93df3",
          "showTitle": false,
          "title": ""
        },
        "id": "vYwb_p07ow-B"
      },
      "source": [
        "### Importar Módulos\n",
        "Todo notebook debería empezar con una sección de código que importe los **módulos** que se emplearán.\n",
        "\n",
        "A continuación importaremos el módulo **numpy** y **pandas**. Estas son librerías comúnmente empleadas en el área de la Ciencia de Datos. \n",
        "\n",
        "De manera general, utilizaremos la estructura `import MODULE_NAME as MODULE_NICKNAME` para importar cualquier módulo que la programación requiera.\n",
        "\n",
        "`statsmodels`: utilizado en aprendizaje automático; generalmente lo abreviamos como `sm`\n",
        "`seaborn`: una biblioteca de visualización; generalmente alias como `sns`\n",
        "\n",
        "Tenga en cuenta que cada módulo tiene un alias estándar, que le permite acceder a las herramientas dentro del módulo sin escribir tantos caracteres. Por ejemplo, el alias nos permite acortar `seaborn.scatterplot()` a `sns.scatterplot()`"
      ]
    },
    {
      "cell_type": "code",
      "execution_count": null,
      "metadata": {
        "application/vnd.databricks.v1+cell": {
          "inputWidgets": {},
          "nuid": "38548a47-27e9-4382-8576-69329cf2a013",
          "showTitle": false,
          "title": ""
        },
        "id": "pm9Uy5lZow-B"
      },
      "outputs": [],
      "source": [
        "import numpy as np\n",
        "import pandas as pd"
      ]
    },
    {
      "cell_type": "markdown",
      "metadata": {
        "application/vnd.databricks.v1+cell": {
          "inputWidgets": {},
          "nuid": "2887b111-9a6a-42d5-8a99-6551b66f862d",
          "showTitle": false,
          "title": ""
        },
        "id": "f6CjgkwTow-V"
      },
      "source": [
        "# Series y Dataframes con Pandas\n",
        "\n",
        "Nos gustaría una estructura de datos que pueda almacenar fácilmente variables de diferentes tipos, que almacene nombres de columnas, y en la que podamos hacer referencia por nombre de columna así como por posición indexada. Y sería bueno si esta estructura de datos viniera con funciones integradas que podamos usar para manipularla.\n",
        "\n",
        "`Pandas` es una librería que hace todo esto! La librería está construida sobre `numpy`.\n",
        "\n",
        "Existen dos objetos `pandas` básicos, *series* y *dataframes*, que se pueden considerar como versiones mejoradas de arreglos 1D y 2D `numpy`, respectivamente. \n",
        "\n",
        "Para referencia `pandas` [cheatsheet](https://pandas.pydata.org/Pandas_Cheat_Sheet.pdf) y `pandas` [documentación](https://pandas.pydata.org/pandas-docs/stable/)."
      ]
    },
    {
      "cell_type": "markdown",
      "metadata": {
        "application/vnd.databricks.v1+cell": {
          "inputWidgets": {},
          "nuid": "0f25b9f2-7098-4bd7-8c28-339a9658099b",
          "showTitle": false,
          "title": ""
        },
        "id": "SwOUuU27ow-W"
      },
      "source": [
        "**Importancia de Pandas**\n",
        "*    Lectura y escritura de datos \n",
        "*    Modificación de índices y etiquetas de las columnas\n",
        "*    Trabajo con fechas\n",
        "*    Ordenamiento, agrupación y tratamiento de valores faltantes (curación de datos)\n",
        "    \n",
        "Para importar este módulo utilizamos el comando: ```import pandas as pd```"
      ]
    },
    {
      "cell_type": "markdown",
      "metadata": {
        "application/vnd.databricks.v1+cell": {
          "inputWidgets": {},
          "nuid": "7956f94d-807b-47af-b521-70316dcd2caa",
          "showTitle": false,
          "title": ""
        },
        "id": "QcqcJ0m3ow-W"
      },
      "source": [
        "### 2.1 Pandas - Series"
      ]
    },
    {
      "cell_type": "markdown",
      "metadata": {
        "application/vnd.databricks.v1+cell": {
          "inputWidgets": {},
          "nuid": "fcb28bbd-4c9f-428d-a45c-bc7f2d945db1",
          "showTitle": false,
          "title": ""
        },
        "id": "BGpaBh9cow-W"
      },
      "source": [
        "Una Serie es una colección de observaciones de una variable individual. <br>\n",
        "\n",
        "Se puede pensar en una Serie como los datos en un arreglo de 1D.\n",
        "\n",
        "En la serie ``items``, cada uno de los índices del 0 al 4 son los identificadores de 5 productos diferentes y los valores float representan el precio unitario correspondiente a cada uno."
      ]
    },
    {
      "cell_type": "code",
      "execution_count": null,
      "metadata": {
        "application/vnd.databricks.v1+cell": {
          "inputWidgets": {},
          "nuid": "5fa90f82-db3e-41ee-b992-b97765670767",
          "showTitle": false,
          "title": ""
        },
        "id": "McdjjHTzow-W",
        "outputId": "58eb72b5-96bb-409f-f78d-7ee261b11c3e"
      },
      "outputs": [
        {
          "name": "stdout",
          "output_type": "stream",
          "text": [
            "Mora        2\n",
            "Frutilla    3\n",
            "Mango       8\n",
            "Platano     6\n",
            "Sandia      7\n",
            "Name: precios, dtype: int64\n"
          ]
        }
      ],
      "source": [
        "# Usamos el constructor pd.Series\n",
        "items = pd.Series(name = 'precios', data = [2, 3, 8, 6, 7], index = ['Mora','Frutilla','Mango','Platano','Sandia'])\n",
        "print(items)"
      ]
    },
    {
      "cell_type": "markdown",
      "metadata": {
        "application/vnd.databricks.v1+cell": {
          "inputWidgets": {},
          "nuid": "1dcdf253-d347-47d4-9d5d-6fbd6319d3bf",
          "showTitle": false,
          "title": ""
        },
        "id": "TVJ5vauLow-X"
      },
      "source": [
        "**Importante**: las Series están implementadas sobre arreglos NumPy. Esto les permite soportar operaciones válidas con estos arreglos. En el ejemplo tenemos el caso de la multiplicación de un arreglo de 1D por un escalar."
      ]
    },
    {
      "cell_type": "markdown",
      "metadata": {
        "application/vnd.databricks.v1+cell": {
          "inputWidgets": {},
          "nuid": "a4713ea8-f152-4c19-bfb5-72a20f3080f0",
          "showTitle": false,
          "title": ""
        },
        "id": "ALEMYg3Mow-X"
      },
      "source": [
        "Método útiles de las Series de Pandas"
      ]
    },
    {
      "cell_type": "code",
      "execution_count": null,
      "metadata": {
        "application/vnd.databricks.v1+cell": {
          "inputWidgets": {},
          "nuid": "438e713d-9210-46ee-b4bb-c873e108bd5b",
          "showTitle": false,
          "title": ""
        },
        "id": "hgcVssbsow-Y"
      },
      "outputs": [],
      "source": [
        "print('Obtener los índices:', items.index)\n",
        "print('Obtener los valores:', items.values)\n",
        "print('Obtener tipo de dato:', items.dtypes)\n"
      ]
    },
    {
      "cell_type": "markdown",
      "metadata": {
        "application/vnd.databricks.v1+cell": {
          "inputWidgets": {},
          "nuid": "55f86209-ef0f-4fd1-9cb2-650f0a0a2be6",
          "showTitle": false,
          "title": ""
        },
        "id": "S6cXqOIOow-Y"
      },
      "source": [
        "### 2.2 Pandas - DataFrames: creación, propiedades y funciones"
      ]
    },
    {
      "cell_type": "markdown",
      "metadata": {
        "application/vnd.databricks.v1+cell": {
          "inputWidgets": {},
          "nuid": "07533dae-3aad-4f7c-80d0-d2d600fbc410",
          "showTitle": false,
          "title": ""
        },
        "id": "3q8vYOwzow-Z"
      },
      "source": [
        "Un DataFrame de Pandas es un objeto que permite guardar datos en varias columnas que estan mutuamente relacionadas. \n",
        "\n",
        "Podemos pensar un DataFrame como una hoja de datos de Excel altamente optimizada. Los DataFrames estan compuestos por filas y columnas.\n",
        "\n",
        "Pandas posee múltiples funciones para cargar varios tipos de archivos: pd.read_csv, pd.read_excel, pd.read_json, pd.read_parquet, etc.\n",
        "\n",
        "\n",
        "### Lectura de datos en un DataFrame\n",
        "\n",
        "A continuación, iniciaremos leyendo los datos del archivo en formato csv en un DataFrame. <br>\n",
        "\n",
        "Este archivo contiene una muestra de datos de 'Penn World Table' con diferentes indicadores socioeconómicos de los países en diferentes años. \n",
        "\n",
        "<a href='https://storage.googleapis.com/datasets-academy/Track%20Data%20Science/01_Intro_Python/PWT91.csv'>\n",
        "  Link para descargar el dataset PWT</a>"
      ]
    },
    {
      "cell_type": "markdown",
      "metadata": {
        "application/vnd.databricks.v1+cell": {
          "inputWidgets": {},
          "nuid": "c632a04b-0165-45cc-a2d0-ce85a0ee8a05",
          "showTitle": false,
          "title": ""
        },
        "id": "d5zH88p9ow-Z"
      },
      "source": [
        "**Diccionario de datos:**\n",
        "\n",
        "**countrycode:** Código estándar ISO 3166-1 alfa-3, proporciona códigos para los nombres de países por medio de tres letras<br>\n",
        "**country:** Nombre del país <br>\n",
        "**year:** Año <br>\n",
        "**rgdpo:** Producto Interno Bruto Real calculado mediante la PPA (pariedad de poder adquisitivo) con año base 2011 (en millones dólares) <br>\n",
        "**pop:** Población (millones de personas) <br>\n",
        "**emp:** Personas de 15 años y más que durante la semana trabajaron incluso solo durante una hora, o no estaban en el trabajo pero tenían un trabajo o negocio del que estaban temporalmente ausentes (millones de personas) <br>\n",
        "**avh:** Promedio de horas anuales trabajadas por personas que cumplan la condición de la variable emp <br>\n",
        "**hc:** Índice de capital humano por persona, que se relaciona con los años promedio de escolaridad y el retorno a la educación"
      ]
    },
    {
      "cell_type": "code",
      "execution_count": null,
      "metadata": {
        "application/vnd.databricks.v1+cell": {
          "inputWidgets": {},
          "nuid": "e893cc44-7161-488b-9cbe-ce97c6a6a720",
          "showTitle": false,
          "title": ""
        },
        "id": "dMV5XCNUow-Z"
      },
      "outputs": [],
      "source": [
        "# Nomeclatura estándar para el nombre de un Dataframe se abrevia con df\n",
        "df = pd.read_csv(filepath_or_buffer = 'PWT91.csv', sep = ',', decimal = '.')\n"
      ]
    },
    {
      "cell_type": "code",
      "execution_count": null,
      "metadata": {
        "id": "LrdGr-G0n4Is"
      },
      "outputs": [],
      "source": [
        "# El método head permite observar las primeras 5 filas del dataframe\n",
        "df.head(500)"
      ]
    },
    {
      "cell_type": "markdown",
      "metadata": {
        "application/vnd.databricks.v1+cell": {
          "inputWidgets": {},
          "nuid": "6f21770a-5b59-4153-b7e6-ed421c2ea33c",
          "showTitle": false,
          "title": ""
        },
        "id": "EvvhAkIrow-Z"
      },
      "source": [
        "**Fuente**: Feenstra, Robert C., Robert Inklaar and Marcel P. Timmer (2015), \"The Next Generation of the Penn World Table\" American Economic Review, 105(10), 3150-3182, available for download at www.ggdc.net/pwt"
      ]
    },
    {
      "cell_type": "markdown",
      "metadata": {
        "application/vnd.databricks.v1+cell": {
          "inputWidgets": {},
          "nuid": "bc65aa5e-17f7-4e35-b2ce-281e2e5f97af",
          "showTitle": false,
          "title": ""
        },
        "id": "GHFVlEyAow-Z"
      },
      "source": [
        "Lo que tenemos ahora es una hoja de cálculo con filas indexadas y columnas nombradas, llamada `df`. **Importante**: Las columnas son *series de pandas*."
      ]
    },
    {
      "cell_type": "code",
      "execution_count": null,
      "metadata": {
        "application/vnd.databricks.v1+cell": {
          "inputWidgets": {},
          "nuid": "8e75cb55-d9f5-4827-8397-570f06457355",
          "showTitle": false,
          "title": ""
        },
        "id": "Wpshgeb2ow-a"
      },
      "outputs": [],
      "source": [
        "# Comprobamos las dimensiones del Dataframe (filas, columnas)\n",
        "df.shape"
      ]
    },
    {
      "cell_type": "code",
      "execution_count": null,
      "metadata": {
        "application/vnd.databricks.v1+cell": {
          "inputWidgets": {},
          "nuid": "df65f53a-9c27-47c3-a89c-9f3193d24ce0",
          "showTitle": false,
          "title": ""
        },
        "id": "KALmIZTRow-a"
      },
      "outputs": [],
      "source": [
        "print(type(df))"
      ]
    },
    {
      "cell_type": "markdown",
      "metadata": {
        "application/vnd.databricks.v1+cell": {
          "inputWidgets": {},
          "nuid": "7c6ef21d-6150-4ce8-b8ce-e3eeab2f860f",
          "showTitle": false,
          "title": ""
        },
        "id": "Nt_fkZZRow-a"
      },
      "source": [
        "La función `pd.read_csv` infiere el tipo de datos por defecto"
      ]
    },
    {
      "cell_type": "code",
      "execution_count": null,
      "metadata": {
        "application/vnd.databricks.v1+cell": {
          "inputWidgets": {},
          "nuid": "089a979e-7651-4328-83b4-e8445e28edb7",
          "showTitle": false,
          "title": ""
        },
        "id": "0-DpcDPOow-a"
      },
      "outputs": [],
      "source": [
        "# Comprobamos el tipo de las variables en el dataframe\n",
        "print(df.dtypes)"
      ]
    },
    {
      "cell_type": "markdown",
      "metadata": {
        "application/vnd.databricks.v1+cell": {
          "inputWidgets": {},
          "nuid": "361364af-72e6-402a-bf8b-73e14269062c",
          "showTitle": false,
          "title": ""
        },
        "id": "Jszk_Wmxow-a"
      },
      "source": [
        "Podemos cambiar el tipo de las columnas:\n",
        "- Convertir la columna year para que sea tipo datetime, para una mayor información sobre los tipos de [formatos fecha](https://strftime.org/)\n",
        "- Convertir la columna pop (población)"
      ]
    },
    {
      "cell_type": "code",
      "execution_count": null,
      "metadata": {
        "application/vnd.databricks.v1+cell": {
          "inputWidgets": {},
          "nuid": "d126d61e-97d0-4d20-afeb-5e810a2b6fbc",
          "showTitle": false,
          "title": ""
        },
        "id": "qKaFK5know-b"
      },
      "outputs": [],
      "source": [
        "df['year'] = pd.to_datetime(df['year'], format = '%Y')\n",
        "df['pop']  = df['pop'].fillna(0).astype(int)\n",
        "df.dtypes"
      ]
    },
    {
      "cell_type": "markdown",
      "metadata": {
        "application/vnd.databricks.v1+cell": {
          "inputWidgets": {},
          "nuid": "12ab6717-ec65-4070-99a7-0fe0cef618f8",
          "showTitle": false,
          "title": ""
        },
        "id": "O6kPcU2mow-b"
      },
      "source": [
        "\n",
        "\n",
        "---\n",
        "\n",
        "\n",
        "# Manipulación de DataFrames con Pandas"
      ]
    },
    {
      "cell_type": "markdown",
      "metadata": {
        "application/vnd.databricks.v1+cell": {
          "inputWidgets": {},
          "nuid": "8b29c163-eeaf-482e-b581-c8bf0bc9f1b7",
          "showTitle": false,
          "title": ""
        },
        "id": "slutmZppow-b"
      },
      "source": [
        "### Selección de filas y columnas de un DataFrame utilizando ```iloc```\n",
        "Cuando queremos seleccionar filas y columnas de acuerdo a la posición del índice, utilizamos el atributo:<br>\n",
        "```iloc[indiceInicioFilas:indiceFinFilas-1 , indiceInicioCols:indiceFinCols-1]```"
      ]
    },
    {
      "cell_type": "code",
      "execution_count": null,
      "metadata": {
        "application/vnd.databricks.v1+cell": {
          "inputWidgets": {},
          "nuid": "9ac200b1-dbb6-4676-bc07-740085ed4fd9",
          "showTitle": false,
          "title": ""
        },
        "id": "O0eMTpUbow-b"
      },
      "outputs": [],
      "source": [
        "#Seleccion de las filas por posición y las tres primeras columnas\n",
        "df.iloc[2300:2303, :3]"
      ]
    },
    {
      "cell_type": "markdown",
      "metadata": {
        "application/vnd.databricks.v1+cell": {
          "inputWidgets": {},
          "nuid": "2e1a1802-0d00-42b0-928b-16656a5beaa1",
          "showTitle": false,
          "title": ""
        },
        "id": "kevG0pN9ow-b"
      },
      "source": [
        "### Selección de filas y columnas de un DataFrame utilizando ```loc```\n",
        "Cuando queremos seleccionar filas y columnas de acuerdo a una mezcla del nombre de los índices y nombres de las columnas (etiquetas), utilizamos el atributo: ```loc[]```"
      ]
    },
    {
      "cell_type": "code",
      "execution_count": null,
      "metadata": {
        "application/vnd.databricks.v1+cell": {
          "inputWidgets": {},
          "nuid": "00a144fc-a88c-48e0-9a3b-7735b7f39d02",
          "showTitle": false,
          "title": ""
        },
        "id": "RdWdAAODow-b"
      },
      "outputs": [],
      "source": [
        "df_seleccion = df.loc[:, ['countrycode', 'year', 'pop', 'rgdpo']]\n",
        "df_seleccion.head()"
      ]
    },
    {
      "cell_type": "markdown",
      "metadata": {
        "application/vnd.databricks.v1+cell": {
          "inputWidgets": {},
          "nuid": "2ba69420-8145-4961-80f8-b9cfed05c5e7",
          "showTitle": false,
          "title": ""
        },
        "id": "ZYM4JEzIow-c"
      },
      "source": [
        "### Renombrar columnas en un DataFrame\n",
        "\n",
        "1.   Elemento de la lista\n",
        "2.   Elemento de la lista\n",
        "\n"
      ]
    },
    {
      "cell_type": "code",
      "execution_count": null,
      "metadata": {
        "application/vnd.databricks.v1+cell": {
          "inputWidgets": {},
          "nuid": "90aa4043-8228-4e45-acca-85b65599befd",
          "showTitle": false,
          "title": ""
        },
        "id": "zq9qRX7Jow-c"
      },
      "outputs": [],
      "source": [
        "df_seleccion.rename(columns = {'countrycode': 'codigo_pais', 'pop': 'pob_millones', 'rgdpo': 'pib_real_millones'}, inplace = True)"
      ]
    },
    {
      "cell_type": "markdown",
      "metadata": {
        "application/vnd.databricks.v1+cell": {
          "inputWidgets": {},
          "nuid": "1e14b6af-0193-42ce-9ace-5cb226fdc198",
          "showTitle": false,
          "title": ""
        },
        "id": "Z0mhtfVfow-c"
      },
      "source": [
        ">**Ejercicio 1:** Utilizando el método `rename` y la opción `inplace=False`, cambie el nombre de la columna `codigo_pais` por `codigo_iso` en el dataframe `df_seleccion`. Utilizando el método `columns` verifique si el cambio de nombre se grabó de forma permanente en `df_seleccion`."
      ]
    },
    {
      "cell_type": "code",
      "execution_count": null,
      "metadata": {
        "application/vnd.databricks.v1+cell": {
          "inputWidgets": {},
          "nuid": "82626a0d-500b-423c-ae51-c194272adfcf",
          "showTitle": false,
          "title": ""
        },
        "id": "3fH5C26uow-c"
      },
      "outputs": [],
      "source": [
        "#Su código aquí"
      ]
    },
    {
      "cell_type": "code",
      "execution_count": null,
      "metadata": {
        "application/vnd.databricks.v1+cell": {
          "inputWidgets": {},
          "nuid": "5d8e8823-53bd-4474-b582-a81aa8ba8f45",
          "showTitle": false,
          "title": ""
        },
        "id": "vR0gXziUow-c"
      },
      "outputs": [],
      "source": [
        ""
      ]
    },
    {
      "cell_type": "markdown",
      "metadata": {
        "application/vnd.databricks.v1+cell": {
          "inputWidgets": {},
          "nuid": "cf733b11-c8cc-4cf2-b946-73c062bcd9e9",
          "showTitle": false,
          "title": ""
        },
        "id": "ayQsOlnfow-c"
      },
      "source": [
        "### Filtrado del DataFrame"
      ]
    },
    {
      "cell_type": "code",
      "execution_count": null,
      "metadata": {
        "application/vnd.databricks.v1+cell": {
          "inputWidgets": {},
          "nuid": "cb087db0-aa88-403c-9b0b-94ce9fcdfc82",
          "showTitle": false,
          "title": ""
        },
        "id": "qvCfhTNJow-d"
      },
      "outputs": [],
      "source": [
        "# Condición booleana de una Serie de Pandas (indexado condicional)\n",
        "df_seleccion['year'] > np.array('2016-01-01', dtype=np.datetime64)"
      ]
    },
    {
      "cell_type": "code",
      "execution_count": null,
      "metadata": {
        "application/vnd.databricks.v1+cell": {
          "inputWidgets": {},
          "nuid": "a08db69a-8887-4d96-b35a-ead129a1bd66",
          "showTitle": false,
          "title": ""
        },
        "id": "n8XJ2Vidow-d"
      },
      "outputs": [],
      "source": [
        "# Filtramos por filas a partir de una condición en la columna year (fechas mayores a 2015)\n",
        "df_filtrado = df_seleccion.loc[df_seleccion['year'] > np.array('2015-01-01', dtype=np.datetime64)]\n",
        "df_filtrado"
      ]
    },
    {
      "cell_type": "markdown",
      "metadata": {
        "application/vnd.databricks.v1+cell": {
          "inputWidgets": {},
          "nuid": "a141139c-84e7-44a8-b53a-40dbc7485ad3",
          "showTitle": false,
          "title": ""
        },
        "id": "IwFWrFVwow-e"
      },
      "source": [
        ">**Ejercicio 2:** Generar un nuevo dataframe llamado `df_mayor_pob` realizando un filtrado de las filas del dataframe `df_filtrado`, si la población es mayor a 200 millones de habitantes."
      ]
    },
    {
      "cell_type": "code",
      "execution_count": null,
      "metadata": {
        "id": "yObnAIFor7ul"
      },
      "outputs": [],
      "source": [
        "df.head()"
      ]
    },
    {
      "cell_type": "code",
      "execution_count": null,
      "metadata": {
        "application/vnd.databricks.v1+cell": {
          "inputWidgets": {},
          "nuid": "e0fbb3cf-14ce-46c9-b0c2-f8bd35e28357",
          "showTitle": false,
          "title": ""
        },
        "id": "4sEcYHdTow-f"
      },
      "outputs": [],
      "source": [
        ""
      ]
    },
    {
      "cell_type": "markdown",
      "metadata": {
        "application/vnd.databricks.v1+cell": {
          "inputWidgets": {},
          "nuid": "49d889fa-d401-48d4-89d4-bc0652bcac8c",
          "showTitle": false,
          "title": ""
        },
        "id": "7qtyYS2Low-f"
      },
      "source": [
        "### Creación de nuevas columnas"
      ]
    },
    {
      "cell_type": "code",
      "execution_count": null,
      "metadata": {
        "application/vnd.databricks.v1+cell": {
          "inputWidgets": {},
          "nuid": "eb1aa74e-6179-48e1-a4f8-f2cd96aca1ab",
          "showTitle": false,
          "title": ""
        },
        "id": "cms5f5K1ow-f"
      },
      "outputs": [],
      "source": [
        "df_percapita = df_mayor_pob.copy()\n",
        "df_percapita.loc[:, 'pib_percapita'] = df_percapita['pib_real_millones'] / df_percapita['pob_millones']\n",
        "df_percapita"
      ]
    },
    {
      "cell_type": "markdown",
      "metadata": {
        "application/vnd.databricks.v1+cell": {
          "inputWidgets": {},
          "nuid": "f972e0de-e9be-4946-84a1-0e399892376a",
          "showTitle": false,
          "title": ""
        },
        "id": "1_V-F35oow-g"
      },
      "source": [
        "### Ordenamiento en el DataFrame"
      ]
    },
    {
      "cell_type": "code",
      "execution_count": null,
      "metadata": {
        "application/vnd.databricks.v1+cell": {
          "inputWidgets": {},
          "nuid": "38c37b9d-1327-4a46-8b30-c8ca4c8d8eb5",
          "showTitle": false,
          "title": ""
        },
        "id": "drg5sOT_ow-g"
      },
      "outputs": [],
      "source": [
        "df_percapita.sort_values(by='pib_percapita', ascending = False) "
      ]
    },
    {
      "cell_type": "markdown",
      "metadata": {
        "application/vnd.databricks.v1+cell": {
          "inputWidgets": {},
          "nuid": "f4f07a01-563f-487f-a874-168fd49eb10b",
          "showTitle": false,
          "title": ""
        },
        "id": "QJdnKhsWow-g"
      },
      "source": [
        "### Agregación en DataFrames\n",
        "\n",
        "#### Uso la función groupby\n",
        "\n",
        "Busca agrupar grandes cantidades de datos y aplicar operaciones de cálculo en estos grupos"
      ]
    },
    {
      "cell_type": "code",
      "execution_count": null,
      "metadata": {
        "application/vnd.databricks.v1+cell": {
          "inputWidgets": {},
          "nuid": "e6d1dd83-364a-4c48-aa0d-ac0a3f6a2f04",
          "showTitle": false,
          "title": ""
        },
        "id": "teRHfTPtow-g"
      },
      "outputs": [],
      "source": [
        "# Agregamos los datos mediante empleando el promedio\n",
        "df_agrupado = df_percapita.groupby(by = 'codigo_iso').agg('mean')\n",
        "df_agrupado"
      ]
    },
    {
      "cell_type": "markdown",
      "metadata": {
        "application/vnd.databricks.v1+cell": {
          "inputWidgets": {},
          "nuid": "0dd0e184-6659-4a17-9db1-4533c54528ed",
          "showTitle": false,
          "title": ""
        },
        "id": "pVvNhnXgow-g"
      },
      "source": [
        ">**Ejercicio 3:** Generar un nuevo dataframe llamado `df_final` realizando un agrupamiento por el `codigo_pais` obteniendo los valores máximos y mínimos `['max', 'min']` del dataframe `df_percapita`"
      ]
    },
    {
      "cell_type": "code",
      "execution_count": null,
      "metadata": {
        "application/vnd.databricks.v1+cell": {
          "inputWidgets": {},
          "nuid": "0d7f2359-4a53-490c-b82a-2a183728f695",
          "showTitle": false,
          "title": ""
        },
        "id": "_252dF4Zow-g"
      },
      "outputs": [],
      "source": [
        "#Su código aquí\n"
      ]
    },
    {
      "cell_type": "markdown",
      "metadata": {
        "application/vnd.databricks.v1+cell": {
          "inputWidgets": {},
          "nuid": "b0717d6f-234c-40bc-bac4-7c55ba4d04f2",
          "showTitle": false,
          "title": ""
        },
        "id": "RMojN0r9ow-h"
      },
      "source": [
        "\n"
      ]
    }
  ],
  "metadata": {
    "application/vnd.databricks.v1+notebook": {
      "dashboards": [],
      "language": "python",
      "notebookMetadata": {
        "pythonIndentUnit": 2
      },
      "notebookName": "03 Python - Librerías para Ciencia de Datos",
      "notebookOrigID": 2854901723374292,
      "widgets": {}
    },
    "colab": {
      "collapsed_sections": [],
      "name": "Copia de Python y Pandas para Ciencia de Datos.ipynb",
      "provenance": []
    },
    "kernelspec": {
      "display_name": "Python 3 (ipykernel)",
      "language": "python",
      "name": "python3"
    },
    "language_info": {
      "codemirror_mode": {
        "name": "ipython",
        "version": 3
      },
      "file_extension": ".py",
      "mimetype": "text/x-python",
      "name": "python",
      "nbconvert_exporter": "python",
      "pygments_lexer": "ipython3",
      "version": "3.8.12"
    },
    "name": "IntroPython2_Clase(2h)",
    "notebookId": 4361305204748322
  },
  "nbformat": 4,
  "nbformat_minor": 0
}