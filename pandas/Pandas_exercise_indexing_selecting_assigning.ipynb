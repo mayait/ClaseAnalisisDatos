{
  "cells": [
    {
      "cell_type": "markdown",
      "source": [
        "<a href=\"https://kaggle.com/kernels/welcome?src=https://github.com/mayait/ClaseAnalisisDatos/blob/main/nlp/2022_Twitter_Data_Scrapper.ipynb\"><img src=\"https://kaggle.com/static/images/open-in-kaggle.svg\" width=120 /></a>\n",
        "\n",
        "<a href=\"https://colab.research.google.com/github/mayait/ClaseAnalisisDatos/blob/main/nlp/2022_Twitter_Data_Scrapper.ipynb\"><img src=\"https://colab.research.google.com/assets/colab-badge.svg\" width=120 /></a>"
      ],
      "metadata": {
        "id": "MPYfNc03WIv4"
      }
    },
    {
      "cell_type": "code",
      "source": [
        "#@title Nombre del estudiante\n",
        "Estudiante = \"\" #@param {type:\"string\"}\n",
        "Código = \"\" #@param {type:\"string\"}"
      ],
      "metadata": {
        "id": "oEfCT92oL7bC"
      },
      "execution_count": null,
      "outputs": []
    },
    {
      "cell_type": "markdown",
      "metadata": {
        "id": "w06lYvPybF7n"
      },
      "source": [
        "![](https://blog.redbubble.com/wp-content/uploads/2014/03/pandas-header.jpg)\n",
        "\n",
        "# Introducción\n",
        "\n",
        "En este ejercicio trabajaremos con el DataSet de vinos [Wine Reviews](https://www.kaggle.com/zynicide/wine-reviews) de Kaggle "
      ]
    },
    {
      "cell_type": "code",
      "execution_count": null,
      "metadata": {
        "id": "LoFUYD5BbX-g"
      },
      "outputs": [],
      "source": [
        "# Setup de la actividad\n",
        "# Descargar Materiales\n",
        "\n",
        "!git clone https://github.com/Kaggle/learntools.git\n",
        "!mv learntools learntools_dir\n",
        "!mv learntools_dir/learntools learntools\n",
        "\n",
        "# Descargar los datasets\n",
        "\n",
        "# Descarga de github\n",
        "!wget https://github.com/mayait/ClaseAnalisisDatos/raw/main/input/pitchfork-data/database.sqlite\n",
        "!wget https://github.com/mayait/ClaseAnalisisDatos/raw/main/input/wine-reviews/winemag-data_first150k.csv\n",
        "!wget https://github.com/mayait/ClaseAnalisisDatos/raw/main/input/wine-reviews/winemag-data-130k-v2.csv\n",
        "\n",
        "# Crea los directorios\n",
        "!mkdir ../input/\n",
        "!mkdir ../input/pitchfork-data/\n",
        "!mkdir ../input/wine-reviews/\n",
        "\n",
        "# Mueve los datasets a /input/\n",
        "!mv winemag-data_first150k.csv ../input/wine-reviews/winemag-data_first150k.csv\n",
        "!mv winemag-data-130k-v2.csv ../input/wine-reviews/winemag-data-130k-v2.csv\n",
        "!mv database.sqlite ../input/pitchfork-data/database.sqlite\n"
      ]
    },
    {
      "cell_type": "code",
      "execution_count": null,
      "metadata": {
        "id": "lMzoibdXbF7o"
      },
      "outputs": [],
      "source": [
        "import pandas as pd\n",
        "\n",
        "reviews = pd.read_csv(\"../input/wine-reviews/winemag-data-130k-v2.csv\", index_col=0)\n",
        "pd.set_option(\"display.max_rows\", 5)\n",
        "\n",
        "from learntools.core import binder; binder.bind(globals())\n",
        "from learntools.pandas.indexing_selecting_and_assigning import *\n",
        "print(\"Setup complete.\")"
      ]
    },
    {
      "cell_type": "markdown",
      "metadata": {
        "id": "G27jwAH_bF7q"
      },
      "source": [
        "Look at an overview of your data by running the following line."
      ]
    },
    {
      "cell_type": "code",
      "execution_count": null,
      "metadata": {
        "id": "rlb3lP-XbF7r"
      },
      "outputs": [],
      "source": [
        "reviews.sample(3)"
      ]
    },
    {
      "cell_type": "markdown",
      "metadata": {
        "id": "PL6RydL1bF7r"
      },
      "source": [
        "# Ejercicios"
      ]
    },
    {
      "cell_type": "markdown",
      "metadata": {
        "id": "_4GyAAOHbF7s"
      },
      "source": [
        "## 1.\n",
        "\n",
        "Selecciona la columna `description` del dataframe `reviews` y asignalo a la variable `desc`."
      ]
    },
    {
      "cell_type": "code",
      "execution_count": null,
      "metadata": {
        "id": "7Q-Rjk-_bF7t"
      },
      "outputs": [],
      "source": [
        "# Your code here\n",
        "desc = ____\n",
        "\n",
        "# Confirma tu respuesta\n",
        "q1.check()"
      ]
    },
    {
      "cell_type": "markdown",
      "metadata": {
        "id": "D0jnddtSbF7t"
      },
      "source": [
        "¿qué tipo de objeto es `desc`? \n",
        "\n",
        "Si no está seguro, puede comprobarlo llamando a la función `type()` de python: `type(desc)`."
      ]
    },
    {
      "cell_type": "markdown",
      "metadata": {
        "id": "r7RcbXkGbF7u"
      },
      "source": [
        "## 2.\n",
        "\n",
        "Selecciona el primer valor de la columna `description` del dataframe `reviews`, asignándolo a la variable `first_description`."
      ]
    },
    {
      "cell_type": "code",
      "execution_count": null,
      "metadata": {
        "id": "RPf2cKYgbF7v"
      },
      "outputs": [],
      "source": [
        "first_description = ____\n",
        "\n",
        "# Confirma tu respuesta\n",
        "q2.check()\n",
        "first_description"
      ]
    },
    {
      "cell_type": "markdown",
      "metadata": {
        "id": "rqZzhyMvbF7w"
      },
      "source": [
        "## 3. \n",
        "\n",
        "Selecciona la primera fila del df `reviews`, y asignalo a una variable que se llame `first_row`."
      ]
    },
    {
      "cell_type": "code",
      "execution_count": null,
      "metadata": {
        "id": "NhpmXpQQbF7w"
      },
      "outputs": [],
      "source": [
        "first_row = ____\n",
        "\n",
        "# Confirma tu respuesta\n",
        "q3.check()\n",
        "first_row"
      ]
    },
    {
      "cell_type": "markdown",
      "metadata": {
        "id": "A29swqIobF7x"
      },
      "source": [
        "## 4.\n",
        "\n",
        "Selecciona los primeros 10 elementos de la columna `description` en el df `reviews`, asigna ese resultado en la columna `first_descriptions`.\n",
        "\n",
        "_Pilas_: Asegurate que sea una serie de Pandas y no un dataframe de una columna, hay muchos caminos para llegar aquí (iloc, head)"
      ]
    },
    {
      "cell_type": "code",
      "execution_count": null,
      "metadata": {
        "id": "umyqkkdtbF7x"
      },
      "outputs": [],
      "source": [
        "first_descriptions = ____\n",
        "\n",
        "# Confirma tu respuesta\n",
        "q4.check()\n",
        "first_descriptions"
      ]
    },
    {
      "cell_type": "markdown",
      "metadata": {
        "id": "wGqMBQTIbF7y"
      },
      "source": [
        "## 5.\n",
        "\n",
        "Selecciona los registros con las etiquetas `1`, `2`, `3`, `5`, and `8`, asigna este resutado en la variable `sample_reviews`.\n",
        "\n",
        "En otras palabras extrae un DataFrame así, recuerda que `loc` puede recibir una lista de valores con los indices:\n",
        "\n",
        "![](https://i.imgur.com/sHZvI1O.png)"
      ]
    },
    {
      "cell_type": "code",
      "execution_count": null,
      "metadata": {
        "id": "0ccSWEHFbF7y"
      },
      "outputs": [],
      "source": [
        "sample_reviews = ____\n",
        "\n",
        "# Confirma tu respuesta\n",
        "q5.check()\n",
        "sample_reviews"
      ]
    },
    {
      "cell_type": "markdown",
      "metadata": {
        "id": "XR8wdTCzbF7z"
      },
      "source": [
        "## 6.\n",
        "\n",
        "Crea una nueva variable `df` del tipo DataFrame que contenga las columnas `country`, `province`, `region_1`, y `region_2` para las filas del indice `0`, `1`, `10`, y `100`. \n",
        "\n",
        "En otras palabras extrae un DataFrame así:\n",
        "\n",
        "![](https://i.imgur.com/FUCGiKP.png)"
      ]
    },
    {
      "cell_type": "code",
      "execution_count": null,
      "metadata": {
        "id": "yw_gY8xTbF7z"
      },
      "outputs": [],
      "source": [
        "df = ____\n",
        "\n",
        "# Confirma tu respuesta\n",
        "q6.check()\n",
        "df"
      ]
    },
    {
      "cell_type": "markdown",
      "metadata": {
        "id": "HwpM0yq1bF70"
      },
      "source": [
        "## 7.\n",
        "\n",
        "Cree una variable `df` que contenga las columnas `country` y `variety` de los primeros 100 registros.\n",
        "\n",
        "Pista: puedes usar `loc` o `iloc`. Cuando trabaje en la respuesta a esta pregunta y varias de las que siguen, atención a la siguiente pista:\n",
        "\n",
        "> `iloc` usa el esquema de indexación de Python stdlib, donde se incluye el primer elemento del rango y se excluye el último.\n",
        "`loc`, por su parte, indexa inclusive.\n",
        "\n",
        "> Esto es particularmente confuso cuando el índice de DataFrame es una lista numérica simple, p. `0,...,1000`. En este caso, `df.iloc[0:1000]` devolverá 1000 entradas, mientras que `df.loc[0:1000]` devolverá 1001 de ellas. Para obtener 1000 elementos usando `loc`, deberá ir uno más abajo y solicitar `df.iloc[0:999]`."
      ]
    },
    {
      "cell_type": "code",
      "execution_count": null,
      "metadata": {
        "id": "U_wM3GZebF70"
      },
      "outputs": [],
      "source": [
        "df = ____\n",
        "\n",
        "# Confirma tu respuesta\n",
        "q7.check()\n",
        "df"
      ]
    },
    {
      "cell_type": "markdown",
      "metadata": {
        "id": "9MET33JUbF71"
      },
      "source": [
        "## 8.\n",
        "\n",
        "Crea un DataFrame llamado `italian_wines` que contenga los reviews de los vinos Italianos. Es decir filtra en `reviews.country` las filas con `Italy`."
      ]
    },
    {
      "cell_type": "code",
      "execution_count": null,
      "metadata": {
        "id": "MRRRXX-lbF71"
      },
      "outputs": [],
      "source": [
        "italian_wines = ____\n",
        "\n",
        "# Confirma tu respuesta\n",
        "q8.check()"
      ]
    },
    {
      "cell_type": "markdown",
      "metadata": {
        "id": "NtVLxNJqbF71"
      },
      "source": [
        "## 9.\n",
        "\n",
        "Crea el DataFrame `top_oceania_wines` con todos los reviews que al menos tengan 95 puntos y que sean de Australia o Nueva Zelanda. \n",
        "\n",
        "Pilas: `Australia`, `New Zealand`"
      ]
    },
    {
      "cell_type": "code",
      "execution_count": null,
      "metadata": {
        "id": "yKyMOBj4bF72"
      },
      "outputs": [],
      "source": [
        "top_oceania_wines = ____\n",
        "\n",
        "# Confirma tu respuesta\n",
        "q9.check()\n",
        "top_oceania_wines"
      ]
    }
  ],
  "metadata": {
    "colab": {
      "name": "exercise-indexing-selecting-assigning.ipynb",
      "provenance": []
    },
    "kernelspec": {
      "display_name": "Python 3",
      "language": "python",
      "name": "python3"
    },
    "language_info": {
      "codemirror_mode": {
        "name": "ipython",
        "version": 3
      },
      "file_extension": ".py",
      "mimetype": "text/x-python",
      "name": "python",
      "nbconvert_exporter": "python",
      "pygments_lexer": "ipython3",
      "version": "3.6.5"
    }
  },
  "nbformat": 4,
  "nbformat_minor": 0
}