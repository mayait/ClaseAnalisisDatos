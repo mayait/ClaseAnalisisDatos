{
  "nbformat": 4,
  "nbformat_minor": 0,
  "metadata": {
    "colab": {
      "provenance": [],
      "cell_execution_strategy": "setup",
      "authorship_tag": "ABX9TyPPMJF7D+v46PeEjscOy0za",
      "include_colab_link": true
    },
    "kernelspec": {
      "name": "python3",
      "display_name": "Python 3"
    },
    "language_info": {
      "name": "python"
    }
  },
  "cells": [
    {
      "cell_type": "markdown",
      "metadata": {
        "id": "view-in-github",
        "colab_type": "text"
      },
      "source": [
        "<a href=\"https://colab.research.google.com/github/mayait/ClaseAnalisisDatos/blob/main/RFM_SuperStore_Analisis_de_Datos.ipynb\" target=\"_parent\"><img src=\"https://colab.research.google.com/assets/colab-badge.svg\" alt=\"Open In Colab\"/></a>"
      ]
    },
    {
      "cell_type": "markdown",
      "source": [
        "# RFM (Recency, Frequency, Monetary, Profit*)\n",
        "\n",
        "El modelo RFM (Recency, Frequency, Monetary) es una técnica de análisis de comportamiento del cliente que se utiliza para segmentar una base de clientes en grupos específicos. El objetivo es identificar a los clientes más valiosos y entender cómo interactúan con un negocio. El modelo se basa en tres métricas principales:\n",
        "\n",
        "1. **Recency (R) - Reciente**: Mide el tiempo transcurrido desde la última transacción o interacción que un cliente ha tenido con la marca. En general, a menor tiempo desde la última compra, más \"reciente\" es el cliente. Esta métrica se basa en la idea de que los clientes que han comprado recientemente son más propensos a hacerlo de nuevo en comparación con los que no lo han hecho durante mucho tiempo.\n",
        "2. **Frequency (F) - Frecuencia**: Mide la cantidad de veces que un cliente ha realizado una transacción o interactuado con la marca en un período de tiempo específico. Los clientes que interactúan con más frecuencia suelen ser más leales a la marca.\n",
        "3. **Monetary (M) - Monetario**: Representa el valor total de las transacciones que un cliente ha realizado en un período de tiempo determinado. En otras palabras, es una medida del valor total que un cliente ha aportado a la empresa. Cuanto más alto sea este valor, más valioso es el cliente.\n",
        "4. **Profit (P) - Utilidad**:\n",
        "\n",
        "**Instrucciones**\n",
        "\n",
        "1. **Descargar el Dataset**: Descargar el archivo **`SUPERSTORE`**\n",
        "2. **Importar el Dataset**: Utilizar Python y Pandas para importar el dataset.\n",
        "3. **Análisis Exploratorio**: Revisar las distribuciones de los datos. ¿Tenemos outliers?\n",
        "4. ****Cálculo de Métricas RFM****\n",
        "    1. **Recency (R)**: Calcula cuánto tiempo ha pasado desde la última compra de cada cliente.\n",
        "    2. **Frequency (F)**: Cuenta cuántas veces cada cliente ha hecho una compra.\n",
        "    3. **Monetary (M)**: Suma cuánto ha gastado cada cliente en total.\n",
        "5. **Recomendaciones para cada segmento**: Basándote en las características de cada segmento, formula recomendaciones específicas. Analiza cada segmento.\n"
      ],
      "metadata": {
        "id": "Fnof5fiN_4Dy"
      }
    },
    {
      "cell_type": "code",
      "execution_count": 69,
      "metadata": {
        "id": "KGYW8aUr2-Aj"
      },
      "outputs": [],
      "source": [
        "import pandas as pd\n",
        "from datetime import datetime\n",
        "import seaborn as sns\n",
        "import matplotlib.pyplot as plt\n"
      ]
    },
    {
      "cell_type": "code",
      "source": [
        "from pandas.io.excel import read_excel\n",
        "df = read_excel('https://raw.githubusercontent.com/mayait/ClaseAnalisisDatos/main/machine_learning/datasets/superstore.xlsx')"
      ],
      "metadata": {
        "id": "ueAquBra3D0O"
      },
      "execution_count": 39,
      "outputs": []
    },
    {
      "cell_type": "markdown",
      "source": [
        "# 4 Cálculo de Métricas RFM\n",
        "\n",
        "## **Recency (R): Calcula cuánto tiempo ha pasado desde la última compra de cada cliente.**\n",
        "\n",
        "*  Utiliza la fecha mayor para calcular el tiempo que ha pasado en días\n",
        "*  Calcular los días desde la última compra `['Order Date'].max()` para cada cliente `'Customer ID'`, `groupby` es una alternativa\n",
        "*  Recency es la diferencia en días entre la `ultima compra` y la `fecha mayor`\n",
        "\n",
        "\n"
      ],
      "metadata": {
        "id": "9iHFqY0VAKYP"
      }
    },
    {
      "cell_type": "code",
      "source": [
        "# Convertir la columna \"Order Date\" a tipo de dato fecha\n",
        "df['Order Date'] = pd.to_datetime(df['Order Date'])"
      ],
      "metadata": {
        "id": "xI8Ru5D-Al4A"
      },
      "execution_count": 12,
      "outputs": []
    },
    {
      "cell_type": "code",
      "source": [
        "fecha_mayor = df['Order Date'].max()\n",
        "fecha_mayor"
      ],
      "metadata": {
        "colab": {
          "base_uri": "https://localhost:8080/"
        },
        "id": "8qRZV-IMb54v",
        "outputId": "4cc756aa-6962-4667-a535-d63e5abc79a8"
      },
      "execution_count": 40,
      "outputs": [
        {
          "output_type": "execute_result",
          "data": {
            "text/plain": [
              "Timestamp('2017-12-30 00:00:00')"
            ]
          },
          "metadata": {},
          "execution_count": 40
        }
      ]
    },
    {
      "cell_type": "markdown",
      "source": [
        "**Calcula la recencia: Resta 'Order Date' de cada fila por 'fecha_mayor'**\n",
        "\n",
        "\n"
      ],
      "metadata": {
        "id": "aFnECSWAM06Q"
      }
    },
    {
      "cell_type": "code",
      "source": [
        "# Calcula la recencia: Resta 'Order Date' de cada fila por 'fecha_mayor' para obtener la antigüedad de cada pedido.\n",
        "df['Recency'] = fecha_mayor - df['Order Date']\n",
        "\n",
        "# Convierte el resultado de la resta, que es un Timedelta, a un número entero representando la cantidad de días.\n",
        "df['Recency'] = df['Recency'].dt.days\n",
        "\n",
        "# Ahora, 'df['Recency']' contiene los días transcurridos desde cada 'Order Date' hasta 'fecha_mayor'.\n",
        "df['Recency'].head()"
      ],
      "metadata": {
        "colab": {
          "base_uri": "https://localhost:8080/"
        },
        "id": "Fi9hiwFEcHBT",
        "outputId": "2913a42c-cf98-477f-f323-239da4ceeefb"
      },
      "execution_count": 87,
      "outputs": [
        {
          "output_type": "execute_result",
          "data": {
            "text/plain": [
              "0    417\n",
              "1    417\n",
              "2    566\n",
              "3    811\n",
              "4    811\n",
              "Name: Recency, dtype: int64"
            ]
          },
          "metadata": {},
          "execution_count": 87
        }
      ]
    },
    {
      "cell_type": "markdown",
      "source": [
        "**Genera una tabla llamada df_recency que tenga la recencia de cada cliente**\n",
        "\n",
        "Puedes utilizar group_by, aquí te dejo la muestra de como se hace un buen prompt a la IA\n",
        "\n",
        "**Prompt:**\n",
        "```\n",
        "Tengo un DataFrame de pandas llamado df que incluye, las columnas \"Customer ID\" y \"Recency\".\n",
        "\n",
        "La columna \"Recency\" indica el número de días desde la última transacción para cada pedido.\n",
        "\n",
        "Me gustaría agrupar los datos por \"Customer ID\", encontrar el valor mínimo de \"Recency\" para cada cliente, y luego crear un nuevo DataFrame con estos valores mínimos.\n",
        "\n",
        "Este nuevo DataFrame deberá llamarse \"df_recency\" e incluir dos columnas: \"Customer ID\" y una columna \"recency\" que contiene el valor mínimo de recencia para cada cliente.\n",
        "\n",
        "Además, quiero que \"Customer ID\" sea una columna regular en el nuevo DataFrame, no el índice.\n",
        "\n",
        "Por favor, proporciona el código de pandas necesario para realizar estas operaciones. Escribe solo el código.\n",
        "\n",
        "```"
      ],
      "metadata": {
        "id": "p7xixhvmN4mT"
      }
    },
    {
      "cell_type": "code",
      "source": [
        "# Agrupar por \"Costumer ID\" y calcular el mínimo de \"Recency\"\n",
        "df_recency = df.groupby ________________\n",
        "\n",
        "df_recency"
      ],
      "metadata": {
        "colab": {
          "base_uri": "https://localhost:8080/",
          "height": 423
        },
        "id": "C3zSQ4bmwaBY",
        "outputId": "ffc2871f-c11f-408f-a2b6-a91acda0b7eb"
      },
      "execution_count": 64,
      "outputs": [
        {
          "output_type": "execute_result",
          "data": {
            "text/plain": [
              "    Customer ID  recency\n",
              "0      AA-10315      184\n",
              "1      AA-10375       19\n",
              "2      AA-10480      259\n",
              "3      AA-10645       55\n",
              "4      AB-10015      415\n",
              "..          ...      ...\n",
              "788    XP-21865       43\n",
              "789    YC-21895        4\n",
              "790    YS-21880        9\n",
              "791    ZC-21910       54\n",
              "792    ZD-21925      202\n",
              "\n",
              "[793 rows x 2 columns]"
            ],
            "text/html": [
              "\n",
              "  <div id=\"df-44669f06-5763-41a8-a17f-254103c1ecc5\" class=\"colab-df-container\">\n",
              "    <div>\n",
              "<style scoped>\n",
              "    .dataframe tbody tr th:only-of-type {\n",
              "        vertical-align: middle;\n",
              "    }\n",
              "\n",
              "    .dataframe tbody tr th {\n",
              "        vertical-align: top;\n",
              "    }\n",
              "\n",
              "    .dataframe thead th {\n",
              "        text-align: right;\n",
              "    }\n",
              "</style>\n",
              "<table border=\"1\" class=\"dataframe\">\n",
              "  <thead>\n",
              "    <tr style=\"text-align: right;\">\n",
              "      <th></th>\n",
              "      <th>Customer ID</th>\n",
              "      <th>recency</th>\n",
              "    </tr>\n",
              "  </thead>\n",
              "  <tbody>\n",
              "    <tr>\n",
              "      <th>0</th>\n",
              "      <td>AA-10315</td>\n",
              "      <td>184</td>\n",
              "    </tr>\n",
              "    <tr>\n",
              "      <th>1</th>\n",
              "      <td>AA-10375</td>\n",
              "      <td>19</td>\n",
              "    </tr>\n",
              "    <tr>\n",
              "      <th>2</th>\n",
              "      <td>AA-10480</td>\n",
              "      <td>259</td>\n",
              "    </tr>\n",
              "    <tr>\n",
              "      <th>3</th>\n",
              "      <td>AA-10645</td>\n",
              "      <td>55</td>\n",
              "    </tr>\n",
              "    <tr>\n",
              "      <th>4</th>\n",
              "      <td>AB-10015</td>\n",
              "      <td>415</td>\n",
              "    </tr>\n",
              "    <tr>\n",
              "      <th>...</th>\n",
              "      <td>...</td>\n",
              "      <td>...</td>\n",
              "    </tr>\n",
              "    <tr>\n",
              "      <th>788</th>\n",
              "      <td>XP-21865</td>\n",
              "      <td>43</td>\n",
              "    </tr>\n",
              "    <tr>\n",
              "      <th>789</th>\n",
              "      <td>YC-21895</td>\n",
              "      <td>4</td>\n",
              "    </tr>\n",
              "    <tr>\n",
              "      <th>790</th>\n",
              "      <td>YS-21880</td>\n",
              "      <td>9</td>\n",
              "    </tr>\n",
              "    <tr>\n",
              "      <th>791</th>\n",
              "      <td>ZC-21910</td>\n",
              "      <td>54</td>\n",
              "    </tr>\n",
              "    <tr>\n",
              "      <th>792</th>\n",
              "      <td>ZD-21925</td>\n",
              "      <td>202</td>\n",
              "    </tr>\n",
              "  </tbody>\n",
              "</table>\n",
              "<p>793 rows × 2 columns</p>\n",
              "</div>\n",
              "    <div class=\"colab-df-buttons\">\n",
              "\n",
              "  <div class=\"colab-df-container\">\n",
              "    <button class=\"colab-df-convert\" onclick=\"convertToInteractive('df-44669f06-5763-41a8-a17f-254103c1ecc5')\"\n",
              "            title=\"Convert this dataframe to an interactive table.\"\n",
              "            style=\"display:none;\">\n",
              "\n",
              "  <svg xmlns=\"http://www.w3.org/2000/svg\" height=\"24px\" viewBox=\"0 -960 960 960\">\n",
              "    <path d=\"M120-120v-720h720v720H120Zm60-500h600v-160H180v160Zm220 220h160v-160H400v160Zm0 220h160v-160H400v160ZM180-400h160v-160H180v160Zm440 0h160v-160H620v160ZM180-180h160v-160H180v160Zm440 0h160v-160H620v160Z\"/>\n",
              "  </svg>\n",
              "    </button>\n",
              "\n",
              "  <style>\n",
              "    .colab-df-container {\n",
              "      display:flex;\n",
              "      gap: 12px;\n",
              "    }\n",
              "\n",
              "    .colab-df-convert {\n",
              "      background-color: #E8F0FE;\n",
              "      border: none;\n",
              "      border-radius: 50%;\n",
              "      cursor: pointer;\n",
              "      display: none;\n",
              "      fill: #1967D2;\n",
              "      height: 32px;\n",
              "      padding: 0 0 0 0;\n",
              "      width: 32px;\n",
              "    }\n",
              "\n",
              "    .colab-df-convert:hover {\n",
              "      background-color: #E2EBFA;\n",
              "      box-shadow: 0px 1px 2px rgba(60, 64, 67, 0.3), 0px 1px 3px 1px rgba(60, 64, 67, 0.15);\n",
              "      fill: #174EA6;\n",
              "    }\n",
              "\n",
              "    .colab-df-buttons div {\n",
              "      margin-bottom: 4px;\n",
              "    }\n",
              "\n",
              "    [theme=dark] .colab-df-convert {\n",
              "      background-color: #3B4455;\n",
              "      fill: #D2E3FC;\n",
              "    }\n",
              "\n",
              "    [theme=dark] .colab-df-convert:hover {\n",
              "      background-color: #434B5C;\n",
              "      box-shadow: 0px 1px 3px 1px rgba(0, 0, 0, 0.15);\n",
              "      filter: drop-shadow(0px 1px 2px rgba(0, 0, 0, 0.3));\n",
              "      fill: #FFFFFF;\n",
              "    }\n",
              "  </style>\n",
              "\n",
              "    <script>\n",
              "      const buttonEl =\n",
              "        document.querySelector('#df-44669f06-5763-41a8-a17f-254103c1ecc5 button.colab-df-convert');\n",
              "      buttonEl.style.display =\n",
              "        google.colab.kernel.accessAllowed ? 'block' : 'none';\n",
              "\n",
              "      async function convertToInteractive(key) {\n",
              "        const element = document.querySelector('#df-44669f06-5763-41a8-a17f-254103c1ecc5');\n",
              "        const dataTable =\n",
              "          await google.colab.kernel.invokeFunction('convertToInteractive',\n",
              "                                                    [key], {});\n",
              "        if (!dataTable) return;\n",
              "\n",
              "        const docLinkHtml = 'Like what you see? Visit the ' +\n",
              "          '<a target=\"_blank\" href=https://colab.research.google.com/notebooks/data_table.ipynb>data table notebook</a>'\n",
              "          + ' to learn more about interactive tables.';\n",
              "        element.innerHTML = '';\n",
              "        dataTable['output_type'] = 'display_data';\n",
              "        await google.colab.output.renderOutput(dataTable, element);\n",
              "        const docLink = document.createElement('div');\n",
              "        docLink.innerHTML = docLinkHtml;\n",
              "        element.appendChild(docLink);\n",
              "      }\n",
              "    </script>\n",
              "  </div>\n",
              "\n",
              "\n",
              "<div id=\"df-ae6b0f30-7b43-41d2-980e-c871a5b7bd13\">\n",
              "  <button class=\"colab-df-quickchart\" onclick=\"quickchart('df-ae6b0f30-7b43-41d2-980e-c871a5b7bd13')\"\n",
              "            title=\"Suggest charts\"\n",
              "            style=\"display:none;\">\n",
              "\n",
              "<svg xmlns=\"http://www.w3.org/2000/svg\" height=\"24px\"viewBox=\"0 0 24 24\"\n",
              "     width=\"24px\">\n",
              "    <g>\n",
              "        <path d=\"M19 3H5c-1.1 0-2 .9-2 2v14c0 1.1.9 2 2 2h14c1.1 0 2-.9 2-2V5c0-1.1-.9-2-2-2zM9 17H7v-7h2v7zm4 0h-2V7h2v10zm4 0h-2v-4h2v4z\"/>\n",
              "    </g>\n",
              "</svg>\n",
              "  </button>\n",
              "\n",
              "<style>\n",
              "  .colab-df-quickchart {\n",
              "      --bg-color: #E8F0FE;\n",
              "      --fill-color: #1967D2;\n",
              "      --hover-bg-color: #E2EBFA;\n",
              "      --hover-fill-color: #174EA6;\n",
              "      --disabled-fill-color: #AAA;\n",
              "      --disabled-bg-color: #DDD;\n",
              "  }\n",
              "\n",
              "  [theme=dark] .colab-df-quickchart {\n",
              "      --bg-color: #3B4455;\n",
              "      --fill-color: #D2E3FC;\n",
              "      --hover-bg-color: #434B5C;\n",
              "      --hover-fill-color: #FFFFFF;\n",
              "      --disabled-bg-color: #3B4455;\n",
              "      --disabled-fill-color: #666;\n",
              "  }\n",
              "\n",
              "  .colab-df-quickchart {\n",
              "    background-color: var(--bg-color);\n",
              "    border: none;\n",
              "    border-radius: 50%;\n",
              "    cursor: pointer;\n",
              "    display: none;\n",
              "    fill: var(--fill-color);\n",
              "    height: 32px;\n",
              "    padding: 0;\n",
              "    width: 32px;\n",
              "  }\n",
              "\n",
              "  .colab-df-quickchart:hover {\n",
              "    background-color: var(--hover-bg-color);\n",
              "    box-shadow: 0 1px 2px rgba(60, 64, 67, 0.3), 0 1px 3px 1px rgba(60, 64, 67, 0.15);\n",
              "    fill: var(--button-hover-fill-color);\n",
              "  }\n",
              "\n",
              "  .colab-df-quickchart-complete:disabled,\n",
              "  .colab-df-quickchart-complete:disabled:hover {\n",
              "    background-color: var(--disabled-bg-color);\n",
              "    fill: var(--disabled-fill-color);\n",
              "    box-shadow: none;\n",
              "  }\n",
              "\n",
              "  .colab-df-spinner {\n",
              "    border: 2px solid var(--fill-color);\n",
              "    border-color: transparent;\n",
              "    border-bottom-color: var(--fill-color);\n",
              "    animation:\n",
              "      spin 1s steps(1) infinite;\n",
              "  }\n",
              "\n",
              "  @keyframes spin {\n",
              "    0% {\n",
              "      border-color: transparent;\n",
              "      border-bottom-color: var(--fill-color);\n",
              "      border-left-color: var(--fill-color);\n",
              "    }\n",
              "    20% {\n",
              "      border-color: transparent;\n",
              "      border-left-color: var(--fill-color);\n",
              "      border-top-color: var(--fill-color);\n",
              "    }\n",
              "    30% {\n",
              "      border-color: transparent;\n",
              "      border-left-color: var(--fill-color);\n",
              "      border-top-color: var(--fill-color);\n",
              "      border-right-color: var(--fill-color);\n",
              "    }\n",
              "    40% {\n",
              "      border-color: transparent;\n",
              "      border-right-color: var(--fill-color);\n",
              "      border-top-color: var(--fill-color);\n",
              "    }\n",
              "    60% {\n",
              "      border-color: transparent;\n",
              "      border-right-color: var(--fill-color);\n",
              "    }\n",
              "    80% {\n",
              "      border-color: transparent;\n",
              "      border-right-color: var(--fill-color);\n",
              "      border-bottom-color: var(--fill-color);\n",
              "    }\n",
              "    90% {\n",
              "      border-color: transparent;\n",
              "      border-bottom-color: var(--fill-color);\n",
              "    }\n",
              "  }\n",
              "</style>\n",
              "\n",
              "  <script>\n",
              "    async function quickchart(key) {\n",
              "      const quickchartButtonEl =\n",
              "        document.querySelector('#' + key + ' button');\n",
              "      quickchartButtonEl.disabled = true;  // To prevent multiple clicks.\n",
              "      quickchartButtonEl.classList.add('colab-df-spinner');\n",
              "      try {\n",
              "        const charts = await google.colab.kernel.invokeFunction(\n",
              "            'suggestCharts', [key], {});\n",
              "      } catch (error) {\n",
              "        console.error('Error during call to suggestCharts:', error);\n",
              "      }\n",
              "      quickchartButtonEl.classList.remove('colab-df-spinner');\n",
              "      quickchartButtonEl.classList.add('colab-df-quickchart-complete');\n",
              "    }\n",
              "    (() => {\n",
              "      let quickchartButtonEl =\n",
              "        document.querySelector('#df-ae6b0f30-7b43-41d2-980e-c871a5b7bd13 button');\n",
              "      quickchartButtonEl.style.display =\n",
              "        google.colab.kernel.accessAllowed ? 'block' : 'none';\n",
              "    })();\n",
              "  </script>\n",
              "</div>\n",
              "\n",
              "  <div id=\"id_7cefb1af-83cb-4375-ba19-94a8ffe83916\">\n",
              "    <style>\n",
              "      .colab-df-generate {\n",
              "        background-color: #E8F0FE;\n",
              "        border: none;\n",
              "        border-radius: 50%;\n",
              "        cursor: pointer;\n",
              "        display: none;\n",
              "        fill: #1967D2;\n",
              "        height: 32px;\n",
              "        padding: 0 0 0 0;\n",
              "        width: 32px;\n",
              "      }\n",
              "\n",
              "      .colab-df-generate:hover {\n",
              "        background-color: #E2EBFA;\n",
              "        box-shadow: 0px 1px 2px rgba(60, 64, 67, 0.3), 0px 1px 3px 1px rgba(60, 64, 67, 0.15);\n",
              "        fill: #174EA6;\n",
              "      }\n",
              "\n",
              "      [theme=dark] .colab-df-generate {\n",
              "        background-color: #3B4455;\n",
              "        fill: #D2E3FC;\n",
              "      }\n",
              "\n",
              "      [theme=dark] .colab-df-generate:hover {\n",
              "        background-color: #434B5C;\n",
              "        box-shadow: 0px 1px 3px 1px rgba(0, 0, 0, 0.15);\n",
              "        filter: drop-shadow(0px 1px 2px rgba(0, 0, 0, 0.3));\n",
              "        fill: #FFFFFF;\n",
              "      }\n",
              "    </style>\n",
              "    <button class=\"colab-df-generate\" onclick=\"generateWithVariable('df_recency')\"\n",
              "            title=\"Generate code using this dataframe.\"\n",
              "            style=\"display:none;\">\n",
              "\n",
              "  <svg xmlns=\"http://www.w3.org/2000/svg\" height=\"24px\"viewBox=\"0 0 24 24\"\n",
              "       width=\"24px\">\n",
              "    <path d=\"M7,19H8.4L18.45,9,17,7.55,7,17.6ZM5,21V16.75L18.45,3.32a2,2,0,0,1,2.83,0l1.4,1.43a1.91,1.91,0,0,1,.58,1.4,1.91,1.91,0,0,1-.58,1.4L9.25,21ZM18.45,9,17,7.55Zm-12,3A5.31,5.31,0,0,0,4.9,8.1,5.31,5.31,0,0,0,1,6.5,5.31,5.31,0,0,0,4.9,4.9,5.31,5.31,0,0,0,6.5,1,5.31,5.31,0,0,0,8.1,4.9,5.31,5.31,0,0,0,12,6.5,5.46,5.46,0,0,0,6.5,12Z\"/>\n",
              "  </svg>\n",
              "    </button>\n",
              "    <script>\n",
              "      (() => {\n",
              "      const buttonEl =\n",
              "        document.querySelector('#id_7cefb1af-83cb-4375-ba19-94a8ffe83916 button.colab-df-generate');\n",
              "      buttonEl.style.display =\n",
              "        google.colab.kernel.accessAllowed ? 'block' : 'none';\n",
              "\n",
              "      buttonEl.onclick = () => {\n",
              "        google.colab.notebook.generateWithVariable('df_recency');\n",
              "      }\n",
              "      })();\n",
              "    </script>\n",
              "  </div>\n",
              "\n",
              "    </div>\n",
              "  </div>\n"
            ],
            "application/vnd.google.colaboratory.intrinsic+json": {
              "type": "dataframe",
              "variable_name": "df_recency",
              "summary": "{\n  \"name\": \"df_recency\",\n  \"rows\": 793,\n  \"fields\": [\n    {\n      \"column\": \"Customer ID\",\n      \"properties\": {\n        \"dtype\": \"string\",\n        \"num_unique_values\": 793,\n        \"samples\": [\n          \"CC-12685\",\n          \"DB-13660\",\n          \"TB-21595\"\n        ],\n        \"semantic_type\": \"\",\n        \"description\": \"\"\n      }\n    },\n    {\n      \"column\": \"recency\",\n      \"properties\": {\n        \"dtype\": \"number\",\n        \"std\": 186,\n        \"min\": 0,\n        \"max\": 1165,\n        \"num_unique_values\": 300,\n        \"samples\": [\n          4,\n          63,\n          405\n        ],\n        \"semantic_type\": \"\",\n        \"description\": \"\"\n      }\n    }\n  ]\n}"
            }
          },
          "metadata": {},
          "execution_count": 64
        }
      ]
    },
    {
      "cell_type": "code",
      "source": [
        "df_recency['recency'].describe()"
      ],
      "metadata": {
        "colab": {
          "base_uri": "https://localhost:8080/"
        },
        "id": "5ITQn7hKzNUS",
        "outputId": "42689d8c-e130-4993-d96b-3488ba2b55b9"
      },
      "execution_count": 88,
      "outputs": [
        {
          "output_type": "execute_result",
          "data": {
            "text/plain": [
              "count     793.000000\n",
              "mean      146.802018\n",
              "std       186.211051\n",
              "min         0.000000\n",
              "25%        30.000000\n",
              "50%        75.000000\n",
              "75%       183.000000\n",
              "max      1165.000000\n",
              "Name: recency, dtype: float64"
            ]
          },
          "metadata": {},
          "execution_count": 88
        }
      ]
    },
    {
      "cell_type": "code",
      "source": [
        "# Crear el boxplot corrigiendo la sintaxis\n",
        "sns.boxplot(data=df_recency, x='recency', showfliers=False)\n",
        "\n",
        "# Obtener los valores de los percentiles\n",
        "q25 = df_recency['recency'].quantile(0.25)\n",
        "q50 = df_recency['recency'].quantile(0.5)\n",
        "q75 = df_recency['recency'].quantile(0.75)\n",
        "\n",
        "# Ajustar las coordenadas 'y' para las etiquetas para que aparezcan en el lugar correcto\n",
        "# y no se superpongan con el boxplot. Las coordenadas 'y' se han ajustado para mejor visualización.\n",
        "plt.text(q25, 0.45, '{:.0f}'.format(q25), ha='center')  # ha='center' alinea horizontalmente el texto al centro\n",
        "plt.text(q50, 0.45, '{:.0f}'.format(q50), ha='center')\n",
        "plt.text(q75, 0.45, '{:.0f}'.format(q75), ha='center')\n",
        "\n",
        "# Mostrar el gráfico\n",
        "plt.show()"
      ],
      "metadata": {
        "colab": {
          "base_uri": "https://localhost:8080/",
          "height": 449
        },
        "id": "MC0tnn3IyUTD",
        "outputId": "a2de026e-4eb3-4f29-b348-649ccdd0c705"
      },
      "execution_count": 103,
      "outputs": [
        {
          "output_type": "display_data",
          "data": {
            "text/plain": [
              "<Figure size 640x480 with 1 Axes>"
            ],
            "image/png": "[encoded data removed]"
          },
          "metadata": {}
        }
      ]
    },
    {
      "cell_type": "markdown",
      "source": [
        "## **Frequency (F): Cuenta cuántas veces cada cliente ha hecho una compra.**\n",
        "\n",
        "\n",
        "\n",
        "*   Crea un dataframe df_frequency que tenga el Customer_ID y el Count\n",
        "*   Cuidado, toma en cuenta que cada linea representa una linea de la factura, no una compra, puedes tener varias lineas por compra.\n",
        "\n"
      ],
      "metadata": {
        "id": "NB5qBidGCemH"
      }
    },
    {
      "cell_type": "code",
      "source": [
        "# Paso 2: Calcular Frequency\n",
        "df_frequency = df.groupby_______________________\n",
        "df_frequency.columns = ['customer_ID', 'frecuency']\n",
        "df_frequency"
      ],
      "metadata": {
        "id": "zJCaiHm13K_z"
      },
      "execution_count": null,
      "outputs": []
    },
    {
      "cell_type": "markdown",
      "source": [
        "**Monetary (M): Suma cuánto ha gastado cada cliente en total.**\n",
        "\n"
      ],
      "metadata": {
        "id": "a4UdiVFvDWYx"
      }
    },
    {
      "cell_type": "code",
      "source": [
        "\n",
        "# Paso 3: Calcular Monetary\n",
        "df_monetary =\n",
        "df_monetary.columns = ['customer_ID', 'monetary']"
      ],
      "metadata": {
        "id": "unVXp6MjVcck"
      },
      "execution_count": null,
      "outputs": []
    },
    {
      "cell_type": "markdown",
      "source": [
        "**Profit (P): Como el monetary pero para el profit por cliente**"
      ],
      "metadata": {
        "id": "BFpHDYV6K3VU"
      }
    },
    {
      "cell_type": "markdown",
      "source": [
        "**Combina los 3 dataframes en uno**\n",
        "\n",
        "\n",
        "*   El dataframe deberia tener la estructura `customer_ID, recency, frecuency, monetary, profit`\n",
        "\n",
        "**Prompt**\n",
        "\n",
        "\n",
        "\n",
        "> `En pandas, tengo 4 dataframes llamadas (df_recency, df_frequency, df_monetary, y df_profit).\n",
        "Ayudame a unir los 4 dataframes en uno solo llamado 'df_rfmp' usando 'customer_ID' como clave común, que es comun en todos los dataframes.`\n",
        "\n",
        "\n"
      ],
      "metadata": {
        "id": "HLMFzNuBDz0D"
      }
    },
    {
      "cell_type": "code",
      "source": [
        "df_rfmp = pd.merge__________________\n",
        "df_rfmp = pd.merge__________________\n",
        "df_rfmp = pd.merge__________________\n",
        "\n",
        "\n",
        "df_rfmp"
      ],
      "metadata": {
        "id": "hqMwmj-bD5CT"
      },
      "execution_count": null,
      "outputs": []
    },
    {
      "cell_type": "markdown",
      "source": [
        "Calcula los Cuartiles para cada una de las medidas R, F, M, P"
      ],
      "metadata": {
        "id": "XdLTKV7ALCgq"
      }
    },
    {
      "cell_type": "code",
      "source": [
        "# Para 'recency', donde un número más bajo es mejor, invertimos las etiquetas\n",
        "df_rfmp['recency_score'] = pd.qcut(df['recency'], 4, labels=[4, 3, 2, 1])\n",
        "\n",
        "# Para 'frequency', 'monetary', 'profit', donde números más altos son mejores\n",
        "df_rfmp['frequency_score'] = pd.qcut(df['frequency'], 4, labels=[1, 2, 3, 4])\n",
        "df_rfmp['monetary_score'] = pd.qcut(df['monetary'], 4, labels=[1, 2, 3, 4])\n",
        "df_rfmp['profit_score'] = pd.qcut(df['profit'], 4, labels=[1, 2, 3, 4])\n"
      ],
      "metadata": {
        "id": "KohWdfhDLJWd"
      },
      "execution_count": null,
      "outputs": []
    },
    {
      "cell_type": "markdown",
      "source": [
        "# Analiza cada uno de los grupos, investiga sobre RFM y prepara una presentación con recomendaciones para SuperStore."
      ],
      "metadata": {
        "id": "7xz5i4hqLJAM"
      }
    },
    {
      "cell_type": "code",
      "source": [],
      "metadata": {
        "id": "okDkivS9W3hW"
      },
      "execution_count": null,
      "outputs": []
    }
  ]
}