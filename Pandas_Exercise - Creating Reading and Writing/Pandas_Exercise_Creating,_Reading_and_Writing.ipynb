{
  "nbformat": 4,
  "nbformat_minor": 0,
  "metadata": {
    "colab": {
      "name": "Pandas_Exercise: Creating, Reading and Writing.ipynb",
      "provenance": []
    },
    "kernelspec": {
      "name": "python3",
      "display_name": "Python 3"
    },
    "language_info": {
      "name": "python"
    }
  },
  "cells": [
    {
      "cell_type": "markdown",
      "source": [
        "# Ejercicio con Pandas, creando, leyendo y escribiendo\n",
        "\n",
        "![](https://encrypted-tbn0.gstatic.com/images?q=tbn:ANd9GcQsthXdcrUcirTTqf9zUnktDXpBi1AAk4y4Em3T-B0QseD_xexY0wczYJktF9XF7Yr4iQ&usqp=CAU)\n",
        "\n",
        "## Recordemos lo importante\n",
        "\n",
        "\n",
        "**Creando datos**\n",
        "\n",
        "Hay dos objetos principales en pandas: DataFrame y Series.\n",
        "\n",
        "***DataFrame***\n",
        "\n",
        "Un DataFrame es una tabla. Contiene una matriz de entradas individuales, cada una de las cuales tiene un valor determinado. Cada valor corresponde a una fila (o registro) y una columna.\n",
        "\n",
        "Por ejemplo, considere el siguiente DataFrame simple:\n",
        "\n",
        "\n",
        "```\n",
        "pd.DataFrame({'Si': [50, 21], 'No': [131, 2]})\n",
        "```\n",
        "\n",
        "En este ejemplo, la entrada \"0, No\" tiene el valor de 131. \n",
        "La entrada \"0, Sí\" tiene el valor de 50, y así sucesivamente.\n",
        "\n",
        "***Serie***\n",
        "\n",
        "Una serie, por el contrario, es una secuencia de valores de datos. Si un DataFrame es una tabla, una Serie es una lista. Y de hecho puedes crear uno con nada más que una lista:\n",
        "```\n",
        "pd.Series([1, 2, 3, 4, 5])\n",
        "```\n",
        "Una Serie es, en esencia, una sola columna de un DataFrame. Entonces puede asignar etiquetas de fila a la serie de la misma manera que antes, usando un parámetro de índice. Sin embargo, una serie no tiene un nombre de columna, solo tiene un nombre general:\n",
        "```\n",
        "pd.Series([30, 35, 40], index=['2015 Sales', '2016 Sales', '2017 Sales'], name='Product A')\n",
        "```\n",
        "```\n",
        "2015 Sales    30\n",
        "2016 Sales    35\n",
        "2017 Sales    40\n",
        "Name: Product A, dtype: int64\n",
        "```\n",
        "\n",
        "____"
      ],
      "metadata": {
        "id": "8aqGzNbQT-0d"
      }
    },
    {
      "cell_type": "code",
      "source": [
        "# Setup de la actividad\n",
        "# Descargar Materiales\n",
        "\n",
        "!git clone https://github.com/Kaggle/learntools.git\n",
        "!mv learntools learntools_dir\n",
        "!mv learntools_dir/learntools learntools\n",
        "\n",
        "# Descargar los datasets\n",
        "\n",
        "# Descarga de github\n",
        "!wget https://github.com/mayait/ClaseAnalisisDatos/raw/main/Pandas_Exercise%20-%20Creating%20Reading%20and%20Writing/input/pitchfork-data/database.sqlite\n",
        "!wget https://github.com/mayait/ClaseAnalisisDatos/raw/main/Pandas_Exercise%20-%20Creating%20Reading%20and%20Writing/input/wine-reviews/winemag-data_first150k.csv\n",
        "\n",
        "# Crea los directorios\n",
        "!mkdir ../input/\n",
        "!mkdir ../input/pitchfork-data/\n",
        "!mkdir ../input/wine-reviews/\n",
        "\n",
        "# Mueve los datasets a /input/\n",
        "!mv winemag-data_first150k.csv ../input/wine-reviews/winemag-data_first150k.csv\n",
        "!mv database.sqlite ../input/pitchfork-data/database.sqlite"
      ],
      "metadata": {
        "id": "5w1hBLuXE3ie"
      },
      "execution_count": null,
      "outputs": []
    },
    {
      "cell_type": "code",
      "source": [
        ""
      ],
      "metadata": {
        "id": "NqE1zvefXKV3"
      },
      "execution_count": null,
      "outputs": []
    },
    {
      "cell_type": "code",
      "source": [
        "from learntools.deep_learning import decode_predictions\n",
        "import pandas as pd\n",
        "import sqlite3\n",
        "pd.set_option('max_rows', 5)\n",
        "from learntools.core import binder; binder.bind(globals())\n",
        "from learntools.pandas.creating_reading_and_writing import *\n",
        "print(\"Setup completo!!!\")"
      ],
      "metadata": {
        "id": "QzYcoNouHxPn"
      },
      "execution_count": null,
      "outputs": []
    },
    {
      "cell_type": "markdown",
      "source": [
        "# Ejercicios\n",
        "\n",
        "_La función check te ayuda a confirmar que la práctica está correcta_"
      ],
      "metadata": {
        "id": "4QrAnFZHJZVS"
      }
    },
    {
      "cell_type": "markdown",
      "source": [
        "## 1.\n",
        "\n",
        "In the cell below, create a DataFrame `fruits` that looks like this:\n",
        "\n",
        "![](https://i.imgur.com/Ax3pp2A.png)"
      ],
      "metadata": {
        "id": "HlacQDU7JgG2"
      }
    },
    {
      "cell_type": "code",
      "source": [
        "# Su código va aquí. \n",
        "# Cree un marco de datos que coincida con el diagrama anterior y asígnelo a la variable `fruits`.\n",
        "\n",
        "fruits = ____\n",
        "\n",
        "# Confirma te respuesta\n",
        "q1.check()\n",
        "fruits"
      ],
      "metadata": {
        "id": "VgnwumsgH1H2"
      },
      "execution_count": null,
      "outputs": []
    },
    {
      "cell_type": "code",
      "source": [
        "# ¿Necesitas pistas?\n",
        "# q1.hint()"
      ],
      "metadata": {
        "id": "pBykqG_zH3AI"
      },
      "execution_count": null,
      "outputs": []
    },
    {
      "cell_type": "markdown",
      "source": [
        "## 2.\n",
        "\n",
        "Cree un dataframe `fruit_sales` que coincida con el diagrama a continuación:\n",
        "\n",
        "![](https://i.imgur.com/CHPn7ZF.png)"
      ],
      "metadata": {
        "id": "OHLttuE5Ks1p"
      }
    },
    {
      "cell_type": "code",
      "source": [
        "# Your code goes here. Create a dataframe matching the above diagram and assign it to the variable fruit_sales.\n",
        "fruit_sales = ____\n",
        "\n",
        "# Check your answer\n",
        "q2.check()\n",
        "fruit_sales"
      ],
      "metadata": {
        "id": "6iLprF1nKB9s"
      },
      "execution_count": null,
      "outputs": []
    },
    {
      "cell_type": "code",
      "source": [
        "#q2.hint()\n"
      ],
      "metadata": {
        "id": "eO0Zvgs0Nwbu"
      },
      "execution_count": null,
      "outputs": []
    },
    {
      "cell_type": "markdown",
      "source": [
        "## 3.\n",
        "\n",
        "Crea una variable llamada `ingredients` que contenga una Serie como la siguiente:\n",
        "\n",
        "```\n",
        "Flour     4 cups\n",
        "Milk       1 cup\n",
        "Eggs     2 large\n",
        "Spam       1 can\n",
        "Name: Dinner, dtype: object\n",
        "```\n",
        "\n",
        "Hint:\n",
        "```\n",
        "pd.Series(['A', 'C', 'B'],  name='Calificaciones', index=['Juana', 'Pedro', 'Maria'], )\n",
        "\n",
        "Juana     A\n",
        "Pedro     C\n",
        "Maria     B\n",
        "Name: Calificaciones, dtype: object\n",
        "```"
      ],
      "metadata": {
        "id": "Fe6uWgueOQRo"
      }
    },
    {
      "cell_type": "code",
      "source": [
        "ingredients = ____\n",
        "\n",
        "# Check your answer\n",
        "q3.check()"
      ],
      "metadata": {
        "id": "hi8ufDljOL4y"
      },
      "execution_count": null,
      "outputs": []
    },
    {
      "cell_type": "markdown",
      "source": [
        "## 4.\n",
        "\n",
        "Lea el siguiente conjunto de datos csv de reseñas de vinos en un DataFrame llamado `reviews`:\n",
        "\n",
        "![](https://i.imgur.com/74RCZtU.png)\n",
        "\n",
        "La ruta del archivo es `../input/wine-reviews/winemag-data_first150k.csv`. \n",
        "\n",
        "Las columnas del dataframe se ven así:\n",
        "\n",
        "```\n",
        ",country,description,designation,points,price,province,region_1,region_2,variety,winery\n",
        "0,US,\"This tremendous 100% varietal wine[...]\",Martha's Vineyard,96,235.0,California,Napa Valley,Napa,Cabernet Sauvignon,Heitz\n",
        "1,Spain,\"Ripe aromas of fig, blackberry and[...]\",Carodorum Selección Especial Reserva,96,110.0,Northern Spain,Toro,,Tinta de Toro,Bodega Carmen Rodríguez\n",
        "```"
      ],
      "metadata": {
        "id": "RNcez-iiQ8Iz"
      }
    },
    {
      "cell_type": "code",
      "source": [
        "# La ruta es '../input/wine-reviews/winemag-data_first150k.csv'\n",
        "\n",
        "reviews = ____\n",
        "\n",
        "# Check your answer\n",
        "q4.check()\n",
        "reviews"
      ],
      "metadata": {
        "id": "CRAJe32YOc9K"
      },
      "execution_count": null,
      "outputs": []
    },
    {
      "cell_type": "code",
      "source": [
        "# q4.hint()"
      ],
      "metadata": {
        "id": "sSnInCk9OftJ"
      },
      "execution_count": null,
      "outputs": []
    },
    {
      "cell_type": "markdown",
      "source": [
        "## 5.\n",
        "\n",
        "Ejecuta el siguiente bloque de código y con el DataFrame `animals`:"
      ],
      "metadata": {
        "id": "NPXFnVUYSCJI"
      }
    },
    {
      "cell_type": "code",
      "source": [
        "animals = pd.DataFrame({'Cows': [12, 20], 'Goats': [22, 19]}, index=['Year 1', 'Year 2'])\n",
        "animals"
      ],
      "metadata": {
        "id": "Vjfg556ZRtXc"
      },
      "execution_count": null,
      "outputs": []
    },
    {
      "cell_type": "markdown",
      "source": [
        "En la celda a continuación, escriba el código para guardar este DataFrame en el como un archivo _csv_ con el nombre `cows_and_goats.csv`."
      ],
      "metadata": {
        "id": "zyS2eVs8SZTi"
      }
    },
    {
      "cell_type": "code",
      "source": [
        "# Your code goes here\n",
        "\n",
        "# Check your answer\n",
        "q5.check()"
      ],
      "metadata": {
        "id": "gGGyb3KzSMI7"
      },
      "execution_count": null,
      "outputs": []
    },
    {
      "cell_type": "code",
      "source": [
        "#q5.hint()\n",
        "#q5.solution()"
      ],
      "metadata": {
        "id": "V-X8KVNBSiNA"
      },
      "execution_count": null,
      "outputs": []
    }
  ]
}