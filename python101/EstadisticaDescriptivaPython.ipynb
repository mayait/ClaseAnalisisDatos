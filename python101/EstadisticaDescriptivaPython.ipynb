{
  "nbformat": 4,
  "nbformat_minor": 0,
  "metadata": {
    "colab": {
      "name": "Copia de EstadisticaDescriptiva.ipynb",
      "provenance": [],
      "toc_visible": true
    },
    "kernelspec": {
      "name": "python3",
      "display_name": "Python 3"
    },
    "language_info": {
      "name": "python"
    }
  },
  "cells": [
    {
      "cell_type": "markdown",
      "source": [
        "<a href=\"https://kaggle.com/kernels/welcome?src=https://github.com/mayait/ClaseAnalisisDatos/blob/main/python101/EstadisticaDescriptivaPython.ipynb\"><img src=\"https://kaggle.com/static/images/open-in-kaggle.svg\" width=120 /></a>\n",
        "\n",
        "<a href=\"https://colab.research.google.com/github/mayait/ClaseAnalisisDatos/blob/main/python101/EstadisticaDescriptivaPython.ipynb\"><img src=\"https://colab.research.google.com/assets/colab-badge.svg\" width=120 /></a>"
      ],
      "metadata": {
        "id": "MPYfNc03WIv4"
      }
    },
    {
      "cell_type": "code",
      "source": [
        "#@title Nombre del estudiante\n",
        "Estudiante = \"\" #@param {type:\"string\"}\n",
        "Código = \"\" #@param {type:\"string\"}"
      ],
      "metadata": {
        "id": "oEfCT92oL7bC",
        "cellView": "form"
      },
      "execution_count": null,
      "outputs": []
    },
    {
      "cell_type": "markdown",
      "metadata": {
        "id": "ctZCniXyXg3f"
      },
      "source": [
        "<img src=\"https://usfq.leanlabs.co/static/img/logo-bp.png\" width=\"200\"/>\n",
        "\n",
        "# **Estadística Descriptiva**"
      ]
    },
    {
      "cell_type": "markdown",
      "metadata": {
        "id": "1X8LpWtdd5No"
      },
      "source": [
        "# <center>    </center>\n",
        "\n",
        "\n",
        "---\n",
        "\n",
        "\n",
        "\n",
        "## Descripción\n",
        "Conceptos asociados a la estadística descriptiva implementando Python\n",
        "\n",
        "## Contenido\n",
        "\n",
        "* Medidas de Tendencia Central\n",
        "* Medidas de Dispersión\n",
        "* Medidas de Posición\n",
        "* Medidas de Forma\n",
        "* Distribución Normal\n",
        "* Covarianza y correlación\n",
        "\n",
        "## Referencias importantes:\n",
        "* [Seaborn Charts](https://seaborn.pydata.org/tutorial/distributions.html)\n",
        "* <a href='https://rdrr.io/cran/ISLR/man/Credit.html'>\n",
        "  Dataset </a>\n",
        "* https://storage.googleapis.com/datasets-academy/Credit.csv\n",
        "\n"
      ]
    },
    {
      "cell_type": "markdown",
      "metadata": {
        "id": "tnS4aC2iIyQ9"
      },
      "source": [
        "## 1. Dataset de Trabajo\n",
        "\n",
        "**Credit:** conjunto de datos simulados que contiene información sobre diez mil clientes de una entidad financiera\n",
        "\n",
        "<a href='https://rdrr.io/cran/ISLR/man/Credit.html'>\n",
        "  Documentación de las variables </a>\n",
        "\n",
        "**Diccionario de datos**\n",
        "* ID: Código de identificación del cliente\n",
        "* Income: Ingresos del cliente en $10,000's\n",
        "* Limit: Límite de crédito\n",
        "* Rating: Puntaje crediticio\n",
        "* Cards: Número de tarjetas de crédito\n",
        "* Age: Edad en años\n",
        "* Education: Número de años de educación\n",
        "* Gender: Masculino (Male) o Femenino (Female)\n",
        "* Student: Si el cliente es estudiantes (Yes) o no lo es (No)\n",
        "* Married: Si el cliente está casado (Yes) o no está (No)\n",
        "* Ethnicity: Africano (African), Americano (American), Asiático (Asian) y Caucásico (Caucasian)\n",
        "* Balance: Promedio del saldo de la tarjeta de crédito en dólares\n"
      ]
    },
    {
      "cell_type": "code",
      "metadata": {
        "id": "fkzf3Ay1ITwc"
      },
      "source": [
        "import sys\n",
        "import numpy as np\n",
        "import pandas as pd\n",
        "# Librería para medidas de posición y forma\n",
        "import scipy\n",
        "import scipy.stats as stats\n",
        "# Librerías para visualización\n",
        "import seaborn as sns\n",
        "\n",
        "import matplotlib\n",
        "import matplotlib.pyplot as plt"
      ],
      "execution_count": null,
      "outputs": []
    },
    {
      "cell_type": "markdown",
      "source": [
        "## Descargando el dataset"
      ],
      "metadata": {
        "id": "kPK3xE8auNy6"
      }
    },
    {
      "cell_type": "code",
      "source": [
        "!wget https://raw.githubusercontent.com/mayait/ClaseAnalisisDatos/main/python101/data/Credit.csv"
      ],
      "metadata": {
        "id": "G91eSSE8aXcw"
      },
      "execution_count": null,
      "outputs": []
    },
    {
      "cell_type": "markdown",
      "source": [
        "## Importar dataset\n",
        "pd.read_csv() permite importar un archivo de texto a Pandas"
      ],
      "metadata": {
        "id": "mGZqNql3uC2_"
      }
    },
    {
      "cell_type": "code",
      "metadata": {
        "id": "DLJLDZY_Iz41"
      },
      "source": [
        "Credit = pd.read_csv(\"Credit.csv\")"
      ],
      "execution_count": null,
      "outputs": []
    },
    {
      "cell_type": "code",
      "metadata": {
        "id": "sQpRehCIg56U"
      },
      "source": [
        "Credit.sample(4)"
      ],
      "execution_count": null,
      "outputs": []
    },
    {
      "cell_type": "code",
      "metadata": {
        "id": "XdhnUiPkJCmD"
      },
      "source": [
        "# Dimensiones del dataset\n",
        "print(Credit.shape)"
      ],
      "execution_count": null,
      "outputs": []
    },
    {
      "cell_type": "code",
      "metadata": {
        "id": "sNdePlqRfnnh"
      },
      "source": [
        "# Muestra los 20 primeros\n",
        "Credit.head(20)"
      ],
      "execution_count": null,
      "outputs": []
    },
    {
      "cell_type": "code",
      "source": [
        "Credit[\"Income\"]"
      ],
      "metadata": {
        "id": "C4fItGLBubA4"
      },
      "execution_count": null,
      "outputs": []
    },
    {
      "cell_type": "code",
      "metadata": {
        "id": "L__JQryMJOMC"
      },
      "source": [
        "print(type(Credit[\"Income\"]))"
      ],
      "execution_count": null,
      "outputs": []
    },
    {
      "cell_type": "markdown",
      "metadata": {
        "id": "y9iw0cqIJ72F"
      },
      "source": [
        "## 2. Medidas de Tendencia Central\n",
        "\n",
        "Empezaremos visualizando la distribución de los ingresos por medio de un histograma. \n",
        "\n",
        "**Ejercicio:** Identificar las características de la distribución."
      ]
    },
    {
      "cell_type": "code",
      "metadata": {
        "id": "pcsI30xSKBhN"
      },
      "source": [
        "sns.distplot(Credit[\"Income\"],  kde=True)\n",
        "plt.title(\"Ingresos\")\n",
        "plt.xlabel(\"Dólares\")\n",
        "plt.ylabel(\"Frecuencia Relativa\")\n",
        "plt.show()"
      ],
      "execution_count": null,
      "outputs": []
    },
    {
      "cell_type": "code",
      "metadata": {
        "id": "GZlldcsdKpjx"
      },
      "source": [
        "# Medidas de tendencia central\n",
        "media    = Credit[\"Income\"].mean()\n",
        "mediana  = Credit[\"Income\"].median()\n",
        "moda     = Credit[\"Income\"].mode()\n",
        "\n",
        "print('Media: ', media, '\\nMediana: ', mediana, '\\nModa: ', moda[0])"
      ],
      "execution_count": null,
      "outputs": []
    },
    {
      "cell_type": "markdown",
      "metadata": {
        "id": "VFVzvQh6LKHh"
      },
      "source": [
        "**¿Cuál de las medidas de tendencia central resumen correctamente a los ingresos?**"
      ]
    },
    {
      "cell_type": "code",
      "metadata": {
        "id": "ezc6VRqVK6EU"
      },
      "source": [
        "sns.distplot(Credit[\"Income\"], color =\"darkblue\", kde=True)\n",
        "plt.title(\"Ingresos\")\n",
        "plt.xlabel(\"Dólares\")\n",
        "plt.ylabel(\"Frecuencia Relativa\")\n",
        "plt.axvline(media, color='red', label='Promedio')\n",
        "plt.axvline(mediana, color='yellow', label='Mediana')\n",
        "plt.axvline(moda[0], color='green', label='Moda')\n",
        "plt.legend()\n",
        "plt.show()"
      ],
      "execution_count": null,
      "outputs": []
    },
    {
      "cell_type": "markdown",
      "metadata": {
        "id": "JpwBk1DDMrrZ"
      },
      "source": [
        "# 🌶 1\n",
        "**Ejercicio 1:** Obtener el promedio, mediana y moda de la columna `Limit` del  DataFrame `Credit`\n",
        "\n",
        "\n",
        "```\n",
        "Respuesta:\n",
        "Promedio: 4735.6\n",
        "Mediana: 4622.5\n",
        "Moda: 855\n",
        "```\n",
        "\n"
      ]
    },
    {
      "cell_type": "code",
      "metadata": {
        "id": "INGiY4_FMARD"
      },
      "source": [
        "#Su código aquí\n",
        "\n"
      ],
      "execution_count": null,
      "outputs": []
    },
    {
      "cell_type": "markdown",
      "metadata": {
        "id": "1EC_3M4FNwYn"
      },
      "source": [
        "## 3. Medidas de Dispersión"
      ]
    },
    {
      "cell_type": "markdown",
      "metadata": {
        "id": "eFS__vYuN1AI"
      },
      "source": [
        "### Rango"
      ]
    },
    {
      "cell_type": "code",
      "source": [
        "Credit[\"Income\"].min()"
      ],
      "metadata": {
        "id": "Iao-7Rj-v0t7"
      },
      "execution_count": null,
      "outputs": []
    },
    {
      "cell_type": "code",
      "source": [
        "Credit[\"Income\"].max()"
      ],
      "metadata": {
        "id": "1NUUOyU2v14Z"
      },
      "execution_count": null,
      "outputs": []
    },
    {
      "cell_type": "code",
      "metadata": {
        "id": "mhMsIqHnNuZe"
      },
      "source": [
        "print(\"El ingreso mínimo es de:\", Credit[\"Income\"].min())\n",
        "print(\"El ingreso máximo es de:\", Credit[\"Income\"].max())\n",
        "print(\"El rango es igual a:\", Credit[\"Income\"].max() - Credit[\"Income\"].min())"
      ],
      "execution_count": null,
      "outputs": []
    },
    {
      "cell_type": "markdown",
      "metadata": {
        "id": "2Axzgsb8OAr-"
      },
      "source": [
        "### Varianza y Desviación Estándar\n",
        "* El argumento ```ddof``` hace referencia al denominador: ```N-ddof```\n",
        "* ```ddof=0``` si trabajamos con la población\n",
        "* ```ddof=1``` si trabajamos con la muestra"
      ]
    },
    {
      "cell_type": "code",
      "metadata": {
        "id": "Szg37-DgOB17"
      },
      "source": [
        "print(\"La varianza en la población es igual a:\", Credit[\"Income\"].var(ddof=0))\n",
        "print(\"La desviación estandar en la población es igual a:\", Credit[\"Income\"].std(ddof=0))"
      ],
      "execution_count": null,
      "outputs": []
    },
    {
      "cell_type": "code",
      "metadata": {
        "id": "z5DeNPN3OKtS"
      },
      "source": [
        "print(\"La varianza en la muestra es igual a:\", Credit[\"Income\"].var())\n",
        "print(\"La desviación estandar en la muestra es igual a:\", Credit[\"Income\"].std())"
      ],
      "execution_count": null,
      "outputs": []
    },
    {
      "cell_type": "markdown",
      "metadata": {
        "id": "M__qQdLSPNlf"
      },
      "source": [
        "# 🌶 2\n",
        "\n",
        "---\n",
        "\n",
        "\n",
        "**Ejercicio 2:** Obtener el rango, la varianza muestral y la desviación estándar muestral de la columna `Balance` del  DataFrame `Credit`\n",
        "\n",
        "\n",
        "```\n",
        "Respuesta:\n",
        "Rango: 1999\n",
        "Varianza muestral: 211378.22533834586\n",
        "Desv. estándar muestral: 459.75887738938314\n",
        "```\n",
        "\n"
      ]
    },
    {
      "cell_type": "code",
      "metadata": {
        "id": "i_im4JN2PSxJ"
      },
      "source": [
        "# tu codigo"
      ],
      "execution_count": null,
      "outputs": []
    },
    {
      "cell_type": "markdown",
      "metadata": {
        "id": "eLMJyxEhR_L2"
      },
      "source": [
        "## 4. Medidas de Posición\n",
        "El método ```describe()``` muestra de forma predeterminada los cuartiles sin embargo, podemos requerir otras medidas de posición de acuerdo a lo que se necesite."
      ]
    },
    {
      "cell_type": "code",
      "metadata": {
        "id": "8mK3CTRTSEyC"
      },
      "source": [
        "Credit[\"Income\"].describe()"
      ],
      "execution_count": null,
      "outputs": []
    },
    {
      "cell_type": "code",
      "metadata": {
        "id": "YTMskCImSkU6"
      },
      "source": [
        "# Percentil 90\n",
        "Credit[\"Income\"].quantile(0.90)"
      ],
      "execution_count": null,
      "outputs": []
    },
    {
      "cell_type": "markdown",
      "metadata": {
        "id": "XURZWg0qTkuV"
      },
      "source": [
        "### Rango Intercuartil (IQR)\n",
        "Medida de dispersión a ser utilizada cuando se emplea la mediana como medida de tendencia central.\n",
        "Se define como la diferencia entre el tercer cuartil (Q3) y el primer cuartil (Q1), es decir: $$IRQ = Q3 - Q1$$."
      ]
    },
    {
      "cell_type": "code",
      "metadata": {
        "id": "ITTbM5qiTkCq"
      },
      "source": [
        "stats.iqr(Credit[\"Income\"])"
      ],
      "execution_count": null,
      "outputs": []
    },
    {
      "cell_type": "code",
      "metadata": {
        "id": "V96GA-j9Tzo-"
      },
      "source": [
        "Credit[\"Income\"].quantile(0.75) - Credit[\"Income\"].quantile(0.25)"
      ],
      "execution_count": null,
      "outputs": []
    },
    {
      "cell_type": "code",
      "metadata": {
        "id": "56P1fYooT4DC"
      },
      "source": [
        "sns.boxplot(x=Credit[\"Income\"],color = \"pink\") \n",
        "plt.title(\"Boxplot de los Ingresos\")\n",
        "plt.xlabel(\"Dólares\")\n",
        "plt.show()"
      ],
      "execution_count": null,
      "outputs": []
    },
    {
      "cell_type": "code",
      "metadata": {
        "id": "4PdR7PBTUGOU"
      },
      "source": [
        "sns.boxplot(x=Credit[\"Income\"], color=\"pink\") \n",
        "plt.title(\"Boxplot de los Ingresos\")\n",
        "plt.xlabel(\"Dólares\")\n",
        "\n",
        "#Pongamosle las lineas\n",
        "plt.axvline(Credit[\"Income\"].quantile(0.25), color='green', label='Q1')\n",
        "plt.axvline(mediana, color='blue', label='Q2/Mediana')\n",
        "plt.axvline(Credit[\"Income\"].quantile(0.75), color='red', label='Q3')\n",
        "plt.legend()\n",
        "plt.show()"
      ],
      "execution_count": null,
      "outputs": []
    },
    {
      "cell_type": "code",
      "metadata": {
        "id": "fDDHkoSxUdIK"
      },
      "source": [
        "sns.boxplot(x=Credit[\"Income\"], y=Credit[\"Gender\"]) \n",
        "plt.title(\"Boxplot de los Ingresos\")\n",
        "plt.xlabel(\"Dólares\")\n",
        "plt.show()"
      ],
      "execution_count": null,
      "outputs": []
    },
    {
      "cell_type": "code",
      "metadata": {
        "id": "P0RNk2oLUnLp"
      },
      "source": [
        "sns.boxplot(x=Credit[\"Income\"], y=Credit[\"Ethnicity\"]) \n",
        "plt.title(\"Boxplot de los Ingresos por Etnia\")\n",
        "plt.xlabel(\"Dólares\")\n",
        "plt.show()"
      ],
      "execution_count": null,
      "outputs": []
    },
    {
      "cell_type": "markdown",
      "metadata": {
        "id": "t9d-yzQyVGJy"
      },
      "source": [
        "### Valores atípicos/extremos/outliers\n",
        "Se definen como observaciones extremas a aquellas que se encuentran fuera del rango $$[Q_1-(1.5 \\times IQR) ; Q_3 +(1.5 \\times IQR)]$$"
      ]
    },
    {
      "cell_type": "code",
      "metadata": {
        "id": "wO5m1yCRU56P"
      },
      "source": [
        "IQR  = stats.iqr(Credit[\"Income\"])\n",
        "whis = 1.5\n",
        "cons = IQR * whis\n",
        "\n",
        "#Cuartiles\n",
        "Q1   = Credit[\"Income\"].quantile(0.25)\n",
        "Q3   = Credit[\"Income\"].quantile(0.75)\n",
        "\n",
        "print(\"El límite inferior para valores extremos es:\", (Q1-cons))\n",
        "print(\"El límite superior para valores extremos es:\", (Q3+cons))"
      ],
      "execution_count": null,
      "outputs": []
    },
    {
      "cell_type": "code",
      "metadata": {
        "id": "PggOvWN6U_mW"
      },
      "source": [
        "sns.boxplot(x=Credit[\"Income\"], color=\"pink\", whis=1.5) \n",
        "plt.title(\"Boxplot de los Ingresos\")\n",
        "plt.xlabel(\"Dólares\")\n",
        "plt.axvline(Q3+cons, color='blue', label='Lim. Superior')\n",
        "plt.legend()\n",
        "plt.show()"
      ],
      "execution_count": null,
      "outputs": []
    },
    {
      "cell_type": "code",
      "metadata": {
        "id": "wUCPvQhaVZp8"
      },
      "source": [
        "sns.distplot(Credit[\"Income\"], color =\"darkblue\", kde=True)\n",
        "plt.title(\"Ingresos\")\n",
        "plt.xlabel(\"Dólares\")\n",
        "plt.ylabel(\"Frecuencia Relativa\")\n",
        "plt.axvline(Q3+cons, color='blue', label='Lim. Superior')\n",
        "plt.legend()\n",
        "plt.show()"
      ],
      "execution_count": null,
      "outputs": []
    },
    {
      "cell_type": "markdown",
      "metadata": {
        "id": "RHfq5hWlV4XH"
      },
      "source": [
        "# 🌶 3\n",
        "**Ejercicio 3:** Encuentre los quintiles y el rango intercuartil de la columna `Education` del  DataFrame `Credit`\n",
        "\n",
        "\n",
        "```\n",
        "Respuesta:\n",
        "Quintiles: \n",
        "0.2    11.0\n",
        "0.4    13.0\n",
        "0.6    15.0\n",
        "0.8    16.0\n",
        "Name: Education, dtype: float64\n",
        "\n",
        "IQR Educación: 5.0\n",
        "```\n",
        "\n"
      ]
    },
    {
      "cell_type": "code",
      "metadata": {
        "id": "c5BrvjFJV5_h"
      },
      "source": [
        "#Su código aquí\n",
        "\n"
      ],
      "execution_count": null,
      "outputs": []
    },
    {
      "cell_type": "markdown",
      "metadata": {
        "id": "dXDGcY1GWXuj"
      },
      "source": [
        "## 5. Medidas de Forma\n",
        "Interprete el coeficiente de asimetría y la curtosis\n",
        "\n",
        "[Asimentria wikipedia](https://es.wikipedia.org/wiki/Asimetr%C3%ADa_estad%C3%ADstica)\n",
        "\n",
        "[Curtosis wikipedia](https://es.wikipedia.org/wiki/Curtosis)"
      ]
    },
    {
      "cell_type": "code",
      "metadata": {
        "id": "dK5S8eYIV8RU"
      },
      "source": [
        "print(\"El coeficiente de asimetría es igual a:\", Credit[\"Income\"].skew())\n",
        "print(\"La curtosis es igual a:\", Credit[\"Income\"].kurtosis())"
      ],
      "execution_count": null,
      "outputs": []
    },
    {
      "cell_type": "code",
      "metadata": {
        "id": "0ysoXpUCWjT5"
      },
      "source": [
        "sns.distplot(Credit[\"Income\"], color=\"darkred\", kde=True)\n",
        "plt.title(\"Ingresos\")\n",
        "plt.xlabel(\"Dólares\")\n",
        "plt.ylabel(\"Frecuencia Relativa\")\n",
        "plt.axvline(media, color='red', label='Promedio')\n",
        "plt.axvline(mediana, color='yellow', label='Mediana')\n",
        "plt.axvline(moda[0], color='green', label='Moda')\n",
        "plt.legend()\n",
        "plt.show()"
      ],
      "execution_count": null,
      "outputs": []
    },
    {
      "cell_type": "markdown",
      "metadata": {
        "id": "lPBIW8UVYayo"
      },
      "source": [
        "# 🌶 4\n",
        "\n",
        "Ejercicio 4: Obtenga el coeficiente de asimetría y la curtosis de la columna Rating del DataFrame Credit\n",
        "\n",
        "\n",
        "```\n",
        "Respuesta:\n",
        "Coeficiente de asimetría: 0.8653935227370102\n",
        "Curtosis: 1.0609469816702823\n",
        "```\n",
        "\n"
      ]
    },
    {
      "cell_type": "code",
      "metadata": {
        "id": "Bcm3o4nZYX0i"
      },
      "source": [
        "# Tu magia aquí"
      ],
      "execution_count": null,
      "outputs": []
    },
    {
      "cell_type": "markdown",
      "metadata": {
        "id": "3gB1akVda4KC"
      },
      "source": [
        "## 6. Covarianza y correlación\n",
        "\n",
        "Analizar las relaciones **lineales** entre dos variables cuantitativas por medio de la covarianza y correlación.\n",
        "\n",
        "- **Covarianza**: Nos da el signo de la relación entre dos variables, pero no podemos determinar la intensidad en la relación entre las mismas\n",
        "- **Coeficiente de correlación de Person**: Nos permite entender la relación entre las variables tanto su dirección (signo) e intensidad (valor). Se encuentra entre los valores de -1 y 1\n",
        "\n",
        "Es importante comprender que la correlación no representa causalidad, analicemos algunos ejemplos: [Correlación Espuria](https://www.tylervigen.com/spurious-correlations)"
      ]
    },
    {
      "cell_type": "code",
      "metadata": {
        "id": "9nfji-sWa-tk"
      },
      "source": [
        "# Matriz de varianzas y covarianzas\n",
        "Credit.cov().round(decimals=2)"
      ],
      "execution_count": null,
      "outputs": []
    },
    {
      "cell_type": "code",
      "metadata": {
        "id": "Dy5c6vT7bFhu"
      },
      "source": [
        "# Matriz de correlaciones\n",
        "Credit.corr().round(decimals=2)"
      ],
      "execution_count": null,
      "outputs": []
    },
    {
      "cell_type": "code",
      "source": [
        "plt.figure(figsize=(16, 10))\n",
        "sns.heatmap(Credit.corr(), vmin=-1, vmax=1, annot=True);"
      ],
      "metadata": {
        "id": "uIG3I4bqyE55"
      },
      "execution_count": null,
      "outputs": []
    },
    {
      "cell_type": "markdown",
      "metadata": {
        "id": "8DAhzQHpbrln"
      },
      "source": [
        "# Visualizar relaciones estadisticas \n"
      ]
    },
    {
      "cell_type": "code",
      "metadata": {
        "id": "uEl1lZe_cKOq"
      },
      "source": [
        "sns.relplot(x=\"Age\", y=\"Rating\", data=Credit);"
      ],
      "execution_count": null,
      "outputs": []
    },
    {
      "cell_type": "code",
      "source": [],
      "metadata": {
        "id": "e2LJcPB00h0T"
      },
      "execution_count": null,
      "outputs": []
    }
  ]
}