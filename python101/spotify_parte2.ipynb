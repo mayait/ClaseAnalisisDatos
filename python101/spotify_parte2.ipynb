{
  "nbformat": 4,
  "nbformat_minor": 0,
  "metadata": {
    "colab": {
      "name": "spotify_2021.ipynb",
      "provenance": [],
      "include_colab_link": true
    },
    "kernelspec": {
      "name": "python3",
      "display_name": "Python 3"
    }
  },
  "cells": [
    {
      "cell_type": "markdown",
      "metadata": {
        "id": "view-in-github",
        "colab_type": "text"
      },
      "source": [
        "<a href=\"https://colab.research.google.com/github/mayait/ClaseAnalisisDatos/blob/main/python101/spotify_parte2.ipynb\" target=\"_parent\"><img src=\"https://colab.research.google.com/assets/colab-badge.svg\" alt=\"Open In Colab\"/></a>"
      ]
    },
    {
      "cell_type": "markdown",
      "metadata": {
        "id": "WRu0frwDSYq_"
      },
      "source": [
        "\n",
        "Vamos a conectarnos a un API externo para procesar datos en vivo de Spotify, usaremos *pandas* para serializar los datos y luego vamos a exportarlos a Excel\n",
        "\n"
      ]
    },
    {
      "cell_type": "markdown",
      "metadata": {
        "id": "MWAfJjdNC5mr"
      },
      "source": [
        "**Crea tu API**\n",
        "1. Registrate en Spotify para obtener tus credenciales de API \n",
        "https://developer.spotify.com/dashboard/\n",
        "2. Create an APP y asignale un nombre\n",
        "3. Copia tus credenciales de spotify el client_ID y el SECRET\n",
        "\n",
        "\n",
        "\n"
      ]
    },
    {
      "cell_type": "code",
      "metadata": {
        "id": "kf5o8TAEDz7J",
        "cellView": "form"
      },
      "source": [
        "#@title Tus credenciales de spotify\n",
        "\n",
        "client_id = \"\" #@param {type:\"string\"}\n",
        "client_secret = \"\" #@param {type:\"string\"}"
      ],
      "execution_count": null,
      "outputs": []
    },
    {
      "cell_type": "markdown",
      "source": [
        "\n",
        "**Ahora ve a Spotify y averigua cual es tu usuario**\n",
        "https://www.spotify.com/us/account/overview/\n",
        "\n",
        "*PRO TIP: Prueba el usuario \"spotify\" tiene listas increibles!!*\n"
      ],
      "metadata": {
        "id": "1l5pssZayez8"
      }
    },
    {
      "cell_type": "code",
      "metadata": {
        "id": "-c40ilxvMKag",
        "cellView": "form"
      },
      "source": [
        "#@title Ingresa tu usuario de Spotify\n",
        "mi_username = \"spotify\" #@param {type:\"string\"}"
      ],
      "execution_count": null,
      "outputs": []
    },
    {
      "cell_type": "code",
      "metadata": {
        "id": "WGQqkJPEDkkM",
        "cellView": "form"
      },
      "source": [
        "#@title Ejecuta el setup\n",
        "\n",
        "\n",
        "# Instala SPOTIPY\n",
        "# pip es una herramienta que importa librerias externas que no tengas instaladas\n",
        "! pip install spotipy\n",
        "\n",
        "# Vamos a utilizar todas estas librerias\n",
        "import spotipy\n",
        "spotify = spotipy.Spotify()\n",
        "import sys\n",
        "import pandas as pd\n",
        "from spotipy.oauth2 import SpotifyClientCredentials\n",
        "from bs4 import BeautifulSoup\n",
        "import requests\n",
        "import lxml\n",
        "import json\n",
        "\n",
        "# Librerías para visualización\n",
        "import seaborn as sns\n",
        "\n",
        "import matplotlib\n",
        "import matplotlib.pyplot as plt\n",
        "\n",
        "# Hay diferentes temas de graficos https://matplotlib.org/3.5.1/gallery/style_sheets/style_sheets_reference.html\n",
        "matplotlib.style.use('fast') "
      ],
      "execution_count": null,
      "outputs": []
    },
    {
      "cell_type": "code",
      "metadata": {
        "id": "PmPhDGstEtgv",
        "cellView": "form"
      },
      "source": [
        "#@title Funciones para conectarse a Spotify\n",
        "\n",
        "def get_spotify_credentials():\n",
        "    # Esta funcion conecta spotify con tus credenciales\n",
        "    client_credentials_manager = SpotifyClientCredentials(client_id=client_id, client_secret=client_secret)\n",
        "    sp = spotipy.Spotify(client_credentials_manager=client_credentials_manager)\n",
        "    sp.trace = True\n",
        "    return sp\n",
        "\n",
        "def get_spotify_data(artist_name):\n",
        "\n",
        "    # obtner la autorizaciones con espotify\n",
        "    sp = get_spotify_credentials()\n",
        "\n",
        "    # Busquemos el artista\n",
        "    results = sp.search(q='artist:' + artist_name, type='artist')\n",
        "    items = results['artists']['items']\n",
        "    if len(items) > 0:\n",
        "        artist = items[0]\n",
        "\n",
        "    uri = artist['uri']\n",
        "\n",
        "    # Obtengamos los albums\n",
        "    results = sp.artist_albums(uri, album_type='album')\n",
        "    albums = results['items']\n",
        "\n",
        "    while results['next']:\n",
        "        results = sp.next(results)\n",
        "        albums.extend(results['items'])\n",
        "\n",
        "    uris = []\n",
        "    track_names = []\n",
        "    album_names = []\n",
        "\n",
        "    # Saquemos info de los tracks de los albums\n",
        "    for album in albums:\n",
        "        for t in sp.album(album['uri'])['tracks']['items']:\n",
        "            uris.append(t['uri'])\n",
        "            track_names.append(t['name'])\n",
        "            album_names.append(album['name'])\n",
        "    features = []\n",
        "    for i in range(len(uris)// 100 + 1):\n",
        "        fs = sp.audio_features(uris[i*100:min((i+1)*100, len(uris))])\n",
        "        if fs[0] is not None:\n",
        "            features.extend(fs)\n",
        "    print(features)\n",
        "\n",
        "    # Convirtamos esto a un DataFrame de Pandas!\n",
        "    dat = pd.DataFrame(features)\n",
        "    dat['track_name'] = track_names\n",
        "    dat['album'] = album_names\n",
        "    dat['artists'] = artist_name\n",
        "\n",
        "\n",
        "    dat.set_index('track_name', inplace=True)\n",
        "    dat.drop_duplicates(inplace=True)\n",
        "    dat = dat[~dat.index.duplicated(keep='first')]\n",
        "\n",
        "    return dat"
      ],
      "execution_count": null,
      "outputs": []
    },
    {
      "cell_type": "code",
      "source": [
        "#@title Función obtener playlists\n",
        "\n",
        "def get_user_playlist(username=mi_username, sp=get_spotify_credentials()):\n",
        "    playlists = sp.user_playlists(username) # Obtener todos los playlist\n",
        "    while playlists['next']:\n",
        "        for playlist in playlists['items']:\n",
        "            print(\"ID: {} \\t Canciones {}\\t  Nombre: {} \".\n",
        "                  format(playlist['id'], playlist['tracks']['total'], playlist['name']))\n",
        "        playlists = sp.next(playlists)\n",
        "\n",
        "# También podemos definir una función que obtenga los datos de la lista de reproducción de un usuario.\n",
        "def get_spotify_playlist_data(username, playlist_id):\n",
        "\n",
        "    track_number_limit = 1000     # Pongamos un limite de tracks a Analizar\n",
        "\n",
        "    # De nuevo hagamos login en spotify\n",
        "    # Ven lo util de hacer funciones, no tengo que volverlo a escribir todo!!!!\n",
        "    sp = get_spotify_credentials()\n",
        "\n",
        "    results = sp.user_playlist(username, playlist_id, fields=\"tracks,next\")['tracks']\n",
        "    \n",
        "    # Mira los resultados que vienen del API\n",
        "    # print(json.dumps(results, indent=4)) # Comenta esta linea despues\n",
        "\n",
        "    tracks = results['items']\n",
        "    while results['next'] and len(tracks) < track_number_limit:\n",
        "        results = sp.next(results)\n",
        "        if results['items'][0] is not None:\n",
        "            tracks.extend(results['items'])\n",
        "\n",
        "    ts = []\n",
        "    track_names = []\n",
        "\n",
        "    for t in tracks:\n",
        "        track = t['track']\n",
        "        track['album'] = track['album']['name']\n",
        "        track_names.append(t['track']['name'])\n",
        "        artists = []\n",
        "        for a in track['artists']:\n",
        "            artists.append(a['name'])\n",
        "        track['artists'] = ', '.join(artists)\n",
        "        ts.append(track)\n",
        "\n",
        "    uris = []\n",
        "    dat = pd.DataFrame(ts)\n",
        "\n",
        "    dat.drop(['available_markets', 'disc_number', 'external_ids', 'external_urls'], axis=1, inplace=True)\n",
        "\n",
        "    features = []\n",
        "\n",
        "    for i in range(len(dat)// 100 + 1):\n",
        "        fs = sp.audio_features(dat.uri.iloc[i*100:min((i+1)*100, len(dat))])\n",
        "        if fs[0] is not None:\n",
        "            features.extend(fs)\n",
        "\n",
        "    fs = pd.DataFrame(features)\n",
        "\n",
        "    dat = pd.concat([dat, fs], axis=1)\n",
        "    dat['track_name'] = track_names\n",
        "\n",
        "\n",
        "    dat.set_index('track_name', inplace=True)\n",
        "    dat = dat[~dat.index.duplicated(keep='first')]\n",
        "    dat = dat.T[~dat.T.index.duplicated(keep='first')].T\n",
        "\n",
        "    return dat"
      ],
      "metadata": {
        "id": "x4VXHzwhBwvi",
        "cellView": "form"
      },
      "execution_count": null,
      "outputs": []
    },
    {
      "cell_type": "code",
      "metadata": {
        "id": "ewVqsdFlEu5i"
      },
      "source": [
        "# Busquemos canciones de algun artista y guardemoslo en una variable\n",
        "canciones_de_artista = get_spotify_data('Queen')"
      ],
      "execution_count": null,
      "outputs": []
    },
    {
      "cell_type": "code",
      "metadata": {
        "id": "euvshrEeFWYp"
      },
      "source": [
        "# Veamos las columnas que tenemos!\n",
        "print(canciones_de_artista.shape[0], \"canciones\")\n",
        "print(canciones_de_artista.columns)"
      ],
      "execution_count": null,
      "outputs": []
    },
    {
      "cell_type": "code",
      "metadata": {
        "id": "symw34LcFVf9"
      },
      "source": [
        "canciones_de_artista.sample(3)"
      ],
      "execution_count": null,
      "outputs": []
    },
    {
      "cell_type": "code",
      "metadata": {
        "id": "GhYUeyDPfRny"
      },
      "source": [
        "# Exportemos el dataframe a Excel\n",
        "canciones_de_artista.to_excel(r'canciones.xlsx', sheet_name='canciones', index = False)"
      ],
      "execution_count": null,
      "outputs": []
    },
    {
      "cell_type": "markdown",
      "metadata": {
        "id": "meXo_dXBMlHg"
      },
      "source": [
        "# Canciones en una playlist\n",
        "\n",
        "**Awsome!!!**\n",
        "\n",
        "Como era de esperar, podemos ver que para cada pista hemos obtenido las propiedades acústicas deseadas (junto con alguna información sobre su ubicación en la base de datos de Spotify). \n",
        "\n"
      ]
    },
    {
      "cell_type": "markdown",
      "source": [
        "**Encuentra el ID del playlist que quieres analizar entre todos tus playlists**\n",
        "La siguiente función imprime tus playlists y los id de cada lista, copia en el portapapeles el ID de la playlist que quieres analizar"
      ],
      "metadata": {
        "id": "jwgqw42HBOq9"
      }
    },
    {
      "cell_type": "code",
      "metadata": {
        "id": "_LWd55UgPe6i"
      },
      "source": [
        "# Esta función suele obtener tus playlists\n",
        "get_user_playlist()"
      ],
      "execution_count": null,
      "outputs": []
    },
    {
      "cell_type": "markdown",
      "source": [
        "Voy a utilizar el playlist \"This is Debussy\"\n",
        "37i9dQZF1DWXnRw5VvmZDb\n",
        "\n",
        "Puedes ver un playlist en spotify usando el ID de la siguiente forma:\n",
        "**https://open.spotify.com/playlist/37i9dQZF1DWXnRw5VvmZDb**"
      ],
      "metadata": {
        "id": "sS2PSuIM0C_z"
      }
    },
    {
      "cell_type": "code",
      "metadata": {
        "id": "Kui03_bvPzfP"
      },
      "source": [
        "#@title Selecciona tu playlist\n",
        "playlist_A_id = \"37i9dQZF1DWXnRw5VvmZDb\" #@param {type:\"string\"}\n",
        "playlist_A_shortname = \"debussy\" #@param {type:\"string\"}\n",
        "playlist_B_id = \"37i9dQZF1DZ06evO4m87u0\" #@param {type:\"string\"}\n",
        "playlist_B_shortname = \"TheBlackKeys\" #@param {type:\"string\"}\n"
      ],
      "execution_count": null,
      "outputs": []
    },
    {
      "cell_type": "code",
      "source": [
        "playlist_A = get_spotify_playlist_data(username=mi_username, playlist_id=playlist_A_id)\n",
        "playlist_B = get_spotify_playlist_data(username=mi_username, playlist_id=playlist_B_id)\n",
        "\n",
        "# Mira el formato en que viene la información del API, esto es un formato JSON, es una estructura pareccida a un diccionario."
      ],
      "metadata": {
        "id": "t_39Vd9U0qho"
      },
      "execution_count": null,
      "outputs": []
    },
    {
      "cell_type": "code",
      "metadata": {
        "id": "-4pMCm0dd97R"
      },
      "source": [
        "playlist_A.shape"
      ],
      "execution_count": null,
      "outputs": []
    },
    {
      "cell_type": "code",
      "source": [
        "playlist_B.shape"
      ],
      "metadata": {
        "id": "zpCooO5Q9P3R"
      },
      "execution_count": null,
      "outputs": []
    },
    {
      "cell_type": "code",
      "metadata": {
        "id": "xWEIDrWVeMt4"
      },
      "source": [
        "print(playlist_A.columns)"
      ],
      "execution_count": null,
      "outputs": []
    },
    {
      "cell_type": "markdown",
      "metadata": {
        "id": "lgbtVewJR4Vi"
      },
      "source": [
        "**Pasemos esto a Excel y luego a Tableau y hagamos hagamos un Dashboard de nuestro Playlist**"
      ]
    },
    {
      "cell_type": "code",
      "metadata": {
        "id": "O-xHyh_HQwMe"
      },
      "source": [
        "playlist_A.to_excel(playlist_A_shortname + '.xlsx', sheet_name='playlist_A', index = False)\n",
        "playlist_B.to_excel(playlist_B_shortname + '.xlsx', sheet_name='playlist_B', index = False)"
      ],
      "execution_count": null,
      "outputs": []
    },
    {
      "cell_type": "markdown",
      "source": [
        "You can find below the explanation of each feature ( past/copy from the Spotify website).\n",
        "\n",
        "**Acousticness:** A confidence measure from 0.0 to 1.0 of whether the track is \n",
        "acoustic. 1.0 represents high confidence the track is acoustic.\n",
        "Danceability: Danceability describes how suitable a track is for dancing based on a combination of musical elements including tempo, rhythm stability, beat strength, and overall regularity. A value of 0.0 is least danceable and 1.0 is most danceable.\n",
        "\n",
        "**Energy:** Energy is a measure from 0.0 to 1.0 and represents a perceptual measure of intensity and activity. Typically, energetic tracks feel fast, loud, and noisy. For example, death metal has high energy, while a Bach prelude scores low on the scale. Perceptual features contributing to this attribute include dynamic range, perceived loudness, timbre, onset rate, and general entropy.\n",
        "\n",
        "**Instrumentalness:** Predicts whether a track contains no vocals. “Ooh” and “aah” sounds are treated as instrumental in this context. Rap or spoken word tracks are clearly “vocal”. The closer the instrumentalness value is to 1.0, the greater likelihood the track contains no vocal content. Values above 0.5 are intended to represent instrumental tracks, but confidence is higher as the value approaches 1.0.\n",
        "\n",
        "**Liveness:** Detects the presence of an audience in the recording. Higher liveness values represent an increased probability that the track was performed live. A value above 0.8 provides a strong likelihood that the track is live.\n",
        "Loudness: the overall loudness of a track in decibels (dB). Loudness values are averaged across the entire track and are useful for comparing relative loudness of tracks. Loudness is the quality of a sound that is the primary psychological correlate of physical strength (amplitude). Values typical range between -60 and 0 db.\n",
        "\n",
        "**Speechiness:** Speechiness detects the presence of spoken words in a track. The more exclusively speech-like the recording (e.g. talk show, audiobook, poetry), the closer to 1.0 the attribute value. Values above 0.66 describe tracks that are probably made entirely of spoken words. Values between 0.33 and 0.66 describe tracks that may contain both music and speech, either in sections or layered, including such cases as rap music. Values below 0.33 most likely represent music and other non-speech-like tracks.\n",
        "\n",
        "**Valence:** A measure from 0.0 to 1.0 describing the musical positiveness conveyed by a track. Tracks with high valence sound more positive (e.g. happy, cheerful, euphoric), while tracks with low valence sound more negative (e.g. sad, depressed, angry).\n",
        "\n",
        "**Tempo:** The overall estimated tempo of a track in beats per minute (BPM). In musical terminology, tempo is the speed or pace of a given piece and derives directly from the average beat duration."
      ],
      "metadata": {
        "id": "hDL2OmpGrA7I"
      }
    },
    {
      "cell_type": "code",
      "source": [
        "# Revisemos los tipos de datos que tenemos\n",
        "playlist_A.dtypes"
      ],
      "metadata": {
        "id": "ZArZ7rd1rt5G"
      },
      "execution_count": null,
      "outputs": []
    },
    {
      "cell_type": "markdown",
      "source": [
        "**Convierte en decimal las columnas que vamos a procesar**"
      ],
      "metadata": {
        "id": "KsF_k3Ig6t8m"
      }
    },
    {
      "cell_type": "code",
      "source": [
        "# Convierte en decimal las columnas que vamos a procesar\n",
        "playlist_A['duration_ms'] = playlist_A['duration_ms'].astype(float)\n",
        "playlist_A['popularity'] = playlist_A['popularity'].astype(float)\n",
        "playlist_A['danceability'] = playlist_A['danceability'].astype(float)\n",
        "playlist_A['energy'] = playlist_A['energy'].astype(float)\n",
        "playlist_A['loudness'] = playlist_A['loudness'].astype(float)\n",
        "playlist_A['mode'] = playlist_A['mode'].astype(float)\n",
        "playlist_A['speechiness'] = playlist_A['speechiness'].astype(float)\n",
        "playlist_A['acousticness'] = playlist_A['acousticness'].astype(float)\n",
        "playlist_A['instrumentalness'] = playlist_A['instrumentalness'].astype(float)\n",
        "playlist_A['valence'] = playlist_A['valence'].astype(float)\n",
        "playlist_A['tempo'] = playlist_A['tempo'].astype(float)\n",
        "\n",
        "# Convierte en decimal las columnas que vamos a procesar\n",
        "playlist_B['duration_ms'] = playlist_B['duration_ms'].astype(float)\n",
        "playlist_B['popularity'] = playlist_B['popularity'].astype(float)\n",
        "playlist_B['danceability'] = playlist_B['danceability'].astype(float)\n",
        "playlist_B['energy'] = playlist_B['energy'].astype(float)\n",
        "playlist_B['loudness'] = playlist_B['loudness'].astype(float)\n",
        "playlist_B['mode'] = playlist_B['mode'].astype(float)\n",
        "playlist_B['speechiness'] = playlist_B['speechiness'].astype(float)\n",
        "playlist_B['acousticness'] = playlist_B['acousticness'].astype(float)\n",
        "playlist_B['instrumentalness'] = playlist_B['instrumentalness'].astype(float)\n",
        "playlist_B['valence'] = playlist_B['valence'].astype(float)\n",
        "playlist_B['tempo'] = playlist_B['tempo'].astype(float)\n",
        "\n"
      ],
      "metadata": {
        "id": "cme40xEjfu7l"
      },
      "execution_count": null,
      "outputs": []
    },
    {
      "cell_type": "markdown",
      "source": [
        "**Juntemos todas las playlist en una sola base**"
      ],
      "metadata": {
        "id": "-2NKp3QGFNf0"
      }
    },
    {
      "cell_type": "code",
      "source": [
        "playlist_A['playlist'] = playlist_A_shortname\n",
        "playlist_B['playlist'] = playlist_B_shortname\n",
        "\n",
        "playlist_juntas = pd.concat([playlist_A, playlist_B])"
      ],
      "metadata": {
        "id": "TOXkofTV1Oj4"
      },
      "execution_count": null,
      "outputs": []
    },
    {
      "cell_type": "code",
      "source": [
        "playlist_juntas.sample(6)"
      ],
      "metadata": {
        "id": "T4NG0YQaE-F9"
      },
      "execution_count": null,
      "outputs": []
    },
    {
      "cell_type": "code",
      "metadata": {
        "id": "3z0Wxfa0T2WV"
      },
      "source": [
        "# Veamos el histograma de dos valores\n",
        "playlist_A.hist(column='danceability', bins=12, grid=True, figsize=(10,8), color='#1DB954', zorder=2, rwidth=0.9)\n",
        "plt.title(\"Bailabilidad de \" + playlist_A_shortname)"
      ],
      "execution_count": null,
      "outputs": []
    },
    {
      "cell_type": "code",
      "source": [
        "playlist_B.hist(column='danceability', bins=12, grid=True, figsize=(10,8), color='red', zorder=2, rwidth=0.9)\n",
        "plt.title(\"Bailabilidad de \" + playlist_B_shortname)\n",
        "\n"
      ],
      "metadata": {
        "id": "tj8OIdRyAMHg"
      },
      "execution_count": null,
      "outputs": []
    },
    {
      "cell_type": "code",
      "source": [
        "# Usemos seaborn para combinar varios histogramas\n",
        "\n",
        "sns.distplot(playlist_A['valence'],  kde=True, label=playlist_A_shortname)\n",
        "sns.distplot(playlist_B['valence'], kde=True, label=playlist_B_shortname)\n",
        "\n",
        "plt.title(\"Comparación de la valencia musical\")\n",
        "\n",
        "plt.ylabel(\"Frecuencia Relativa\")\n",
        "plt.legend()\n",
        "\n",
        "\n",
        "plt.show()"
      ],
      "metadata": {
        "id": "ipI0PZq9hzKk"
      },
      "execution_count": null,
      "outputs": []
    },
    {
      "cell_type": "code",
      "source": [
        "g = sns.FacetGrid(playlist_juntas, height=6, aspect=1)\n",
        "g.map_dataframe(sns.scatterplot, x=\"valence\", y=\"energy\", hue=\"playlist\")\n",
        "g.add_legend()"
      ],
      "metadata": {
        "id": "PphmcaHMFprX"
      },
      "execution_count": null,
      "outputs": []
    },
    {
      "cell_type": "code",
      "source": [
        "g = sns.FacetGrid(playlist_juntas,hue='playlist',palette='coolwarm',size=4,aspect=1)\n",
        "\n",
        "g.map(plt.hist,'valence',bins=20,alpha=0.7,)"
      ],
      "metadata": {
        "id": "KDfAiVQZLuI5"
      },
      "execution_count": null,
      "outputs": []
    },
    {
      "cell_type": "code",
      "source": [
        "playlist_A.boxplot(column=['valence', 'danceability', 'energy', 'speechiness', 'acousticness', ],figsize=(15,3));"
      ],
      "metadata": {
        "id": "Piu1yQrnLdvB"
      },
      "execution_count": null,
      "outputs": []
    },
    {
      "cell_type": "code",
      "source": [
        "playlist_A.boxplot(column=['valence', 'danceability', 'energy', 'speechiness', 'acousticness', ],figsize=(15,3));"
      ],
      "metadata": {
        "id": "BC3Zf9l5oFlc"
      },
      "execution_count": null,
      "outputs": []
    },
    {
      "cell_type": "code",
      "source": [
        "playlist_B.boxplot(column=['valence', 'danceability', 'energy', 'speechiness', 'acousticness', ],figsize=(15,3));"
      ],
      "metadata": {
        "id": "ABD-bdoEB2od"
      },
      "execution_count": null,
      "outputs": []
    },
    {
      "cell_type": "markdown",
      "source": [
        "**Exploremos las medias de cada caracteristica**"
      ],
      "metadata": {
        "id": "Oeog3B1nCT19"
      }
    },
    {
      "cell_type": "code",
      "source": [
        "plt.title(\"Media de las caracteristicas musicales de \" + playlist_A_shortname)\n",
        "playlist_A[columnas].mean().plot(kind='bar')"
      ],
      "metadata": {
        "id": "9kItCYJQKU6D"
      },
      "execution_count": null,
      "outputs": []
    },
    {
      "cell_type": "code",
      "source": [
        "plt.title(\"Media de las caracteristicas musicales de \" + playlist_B_shortname)\n",
        "playlist_B[columnas].mean().plot(kind='bar')"
      ],
      "metadata": {
        "id": "NsnpQzOv-6Ux"
      },
      "execution_count": null,
      "outputs": []
    },
    {
      "cell_type": "markdown",
      "source": [
        "**¿Puedo hacer un resumen de la media de cada una de las caracteristicas de los playlist?**"
      ],
      "metadata": {
        "id": "IyMg2LKn_mO_"
      }
    },
    {
      "cell_type": "code",
      "source": [
        "# Función para calcular la media de todas las casracteristicas de la playlist\n",
        "\n",
        "def playlist_features_to_mean(playlist, playlist_name):\n",
        "  # Podemos hacer una lista de todas las columnas que queremos obtener sumatorias\n",
        "  columnas = ['valence', 'speechiness', 'instrumentalness', 'energy', 'danceability', 'acousticness']\n",
        "  # Calculamos las medianas de todas las columnas\n",
        "  # Transponemos los valores, columnas en filas\n",
        "  mean_dataframe = playlist[columnas].mean().to_frame().transpose()\n",
        "  # Añadimos la columna playlist para poder comparar\n",
        "  mean_dataframe['playlist'] = playlist_name\n",
        "\n",
        "  return mean_dataframe"
      ],
      "metadata": {
        "id": "7t9O5d3NJk2m"
      },
      "execution_count": null,
      "outputs": []
    },
    {
      "cell_type": "code",
      "source": [
        "playlist_A_means = playlist_features_to_mean(playlist_A, playlist_A_shortname)"
      ],
      "metadata": {
        "id": "QpnEMmXvMYcn"
      },
      "execution_count": null,
      "outputs": []
    },
    {
      "cell_type": "code",
      "source": [
        "playlist_B_means = playlist_features_to_mean(playlist_B, playlist_B_shortname)"
      ],
      "metadata": {
        "id": "t7FWPV0E9xY5"
      },
      "execution_count": null,
      "outputs": []
    },
    {
      "cell_type": "code",
      "source": [
        "playlist_A_means"
      ],
      "metadata": {
        "id": "OIb2VXUn9_AE"
      },
      "execution_count": null,
      "outputs": []
    },
    {
      "cell_type": "code",
      "source": [
        "playlist_B_means"
      ],
      "metadata": {
        "id": "sZu-xt6k-Ayo"
      },
      "execution_count": null,
      "outputs": []
    },
    {
      "cell_type": "markdown",
      "source": [
        "**¿Puedo juntar las dos dataframes?**"
      ],
      "metadata": {
        "id": "9UB2_t81Cgqa"
      }
    },
    {
      "cell_type": "code",
      "source": [
        "# Podemos juntar las dos medidas en un mismo dataframe\n",
        "all_means = pd.concat([playlist_A_means,playlist_B_means])\n",
        "all_means"
      ],
      "metadata": {
        "id": "nMKxlKI1SQG_"
      },
      "execution_count": null,
      "outputs": []
    },
    {
      "cell_type": "code",
      "source": [
        "# el indice de las filas deberia ser el playlist\n",
        "all_means = all_means.set_index('playlist')"
      ],
      "metadata": {
        "id": "jSOj6vnZTpFh"
      },
      "execution_count": null,
      "outputs": []
    },
    {
      "cell_type": "code",
      "source": [
        "all_means.plot(kind='bar', figsize=(10,8))\n",
        "plt.legend(loc='upper left', ncol=1, title=\"Caracteristica\", bbox_to_anchor=(1.0, 0.5))\n",
        "plt.title(\"Medias de las caracteristicas musicales\")\n",
        "plt.xlabel(\"Playlist\")\n",
        "plt.ylabel(\"Media\")\n",
        "plt.plot()"
      ],
      "metadata": {
        "id": "nCjNyxa2SuyM"
      },
      "execution_count": null,
      "outputs": []
    },
    {
      "cell_type": "markdown",
      "source": [
        "**Podemos usar transpose para cambiar los ejes de la tabla y del chart**"
      ],
      "metadata": {
        "id": "byzsQzzCDBr9"
      }
    },
    {
      "cell_type": "code",
      "source": [
        "all_means.transpose()"
      ],
      "metadata": {
        "id": "TlS15QVqv7k_"
      },
      "execution_count": null,
      "outputs": []
    },
    {
      "cell_type": "code",
      "source": [
        "all_means.transpose().plot(kind='bar')\n",
        "plt.legend(loc='upper left', ncol=1, title=\"Caracteristica\", bbox_to_anchor=(1.0, 0.5))\n",
        "plt.plot()"
      ],
      "metadata": {
        "id": "awgG0T_kUskS"
      },
      "execution_count": null,
      "outputs": []
    },
    {
      "cell_type": "markdown",
      "source": [
        "# Ejercicio\n",
        "Unifica todos los **playlists** en un unico playlit llamado **allplaylist** con una nueva columna que tenga el nombre del playlist"
      ],
      "metadata": {
        "id": "9SjdTpP8EPfv"
      }
    },
    {
      "cell_type": "code",
      "source": [
        "allplaylist ="
      ],
      "metadata": {
        "id": "p5bYiSCA7_Kz"
      },
      "execution_count": null,
      "outputs": []
    },
    {
      "cell_type": "code",
      "source": [
        "\n",
        "sns.boxplot(y=allplaylist['valence'], x=allplaylist['playlist']) \n",
        "\n",
        "plt.show()"
      ],
      "metadata": {
        "id": "_DWzAnU0-i7r"
      },
      "execution_count": null,
      "outputs": []
    },
    {
      "cell_type": "code",
      "source": [
        "ax = sns.boxplot(data=allplaylist, x=allplaylist['popularity'], orient=\"h\", y=\"playlist\")"
      ],
      "metadata": {
        "id": "9GbWeMvHXaD-"
      },
      "execution_count": null,
      "outputs": []
    },
    {
      "cell_type": "code",
      "source": [
        "allplaylist.boxplot(column=['popularity', ], by='playlist', figsize=(10,6),  fontsize=12);\n",
        "plt.show()"
      ],
      "metadata": {
        "id": "MWccC4Ol_BTw"
      },
      "execution_count": null,
      "outputs": []
    },
    {
      "cell_type": "code",
      "source": [
        "\n",
        "allplaylist.boxplot(column=['energy', 'acousticness','valence', 'danceability' ], by='playlist', figsize=(30,9) );\n",
        "plt.show()"
      ],
      "metadata": {
        "id": "mQZbhSwMXdOC"
      },
      "execution_count": null,
      "outputs": []
    },
    {
      "cell_type": "code",
      "source": [
        "# Un scatter puede tener una tercera variable\n",
        "plt.figure(figsize=(10,10), dpi=120)\n",
        "\n",
        "allplaylist.plot.scatter(  x='valence',\n",
        "                          y='danceability',\n",
        "                         c='popularity',\n",
        "                         by='playlist',\n",
        "                                colormap='viridis',\n",
        "                        \n",
        "                              )"
      ],
      "metadata": {
        "id": "Lx9_yxItALLO"
      },
      "execution_count": null,
      "outputs": []
    },
    {
      "cell_type": "code",
      "source": [
        "plt.figure(figsize=(10,10), dpi=120)\n",
        "\n",
        "sns.scatterplot(x=\"energy\", y=\"popularity\", data=allplaylist, hue=\"playlist\", style=\"playlist\")\n"
      ],
      "metadata": {
        "id": "wboPwK0nAqIv"
      },
      "execution_count": null,
      "outputs": []
    },
    {
      "cell_type": "code",
      "source": [],
      "metadata": {
        "id": "8GVQbffk3rMJ"
      },
      "execution_count": null,
      "outputs": []
    },
    {
      "cell_type": "code",
      "source": [],
      "metadata": {
        "id": "fF32LXoY3rnB"
      },
      "execution_count": null,
      "outputs": []
    }
  ]
}