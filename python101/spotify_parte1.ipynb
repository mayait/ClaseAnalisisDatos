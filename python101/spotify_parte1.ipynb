{
  "nbformat": 4,
  "nbformat_minor": 0,
  "metadata": {
    "colab": {
      "name": "spotify_2021.ipynb",
      "provenance": [],
      "collapsed_sections": []
    },
    "kernelspec": {
      "name": "python3",
      "display_name": "Python 3"
    }
  },
  "cells": [
    {
      "cell_type": "markdown",
      "metadata": {
        "id": "WRu0frwDSYq_"
      },
      "source": [
        "\n",
        "Vamos a conectarnos a un API externo para procesar datos en vivo de Spotify, usaremos *pandas* para serializar los datos y luego vamos a exportarlos a Excel\n",
        "\n"
      ]
    },
    {
      "cell_type": "markdown",
      "metadata": {
        "id": "MWAfJjdNC5mr"
      },
      "source": [
        "**Crea tu API**\n",
        "1. Registrate en Spotify para obtener tus credenciales de API \n",
        "https://developer.spotify.com/dashboard/\n",
        "2. Create an APP y asignale un nombre\n",
        "3. Copia tus credenciales de spotify el client_ID y el SECRET\n",
        "\n",
        "\n",
        "\n",
        "\n"
      ]
    },
    {
      "cell_type": "code",
      "metadata": {
        "id": "k59GXwvqDhXp"
      },
      "source": [
        "# Instala SPOTIPY\n",
        "# pip es una herramienta que importa librerias externas que no tengas instaladas\n",
        "! pip install spotipy"
      ],
      "execution_count": null,
      "outputs": []
    },
    {
      "cell_type": "code",
      "metadata": {
        "id": "WGQqkJPEDkkM"
      },
      "source": [
        "# Vamos a utilizar todas estas librerias\n",
        "import spotipy\n",
        "spotify = spotipy.Spotify()\n",
        "import sys\n",
        "import pandas as pd\n",
        "from spotipy.oauth2 import SpotifyClientCredentials\n",
        "from bs4 import BeautifulSoup\n",
        "import requests\n",
        "import lxml"
      ],
      "execution_count": null,
      "outputs": []
    },
    {
      "cell_type": "code",
      "metadata": {
        "id": "kf5o8TAEDz7J"
      },
      "source": [
        "# Almacena en estas variables tus credenciales de spotify\n",
        "client_id = \"xxxxxxx\"\n",
        "client_secret = \"xxxxxx\""
      ],
      "execution_count": null,
      "outputs": []
    },
    {
      "cell_type": "code",
      "metadata": {
        "id": "O1-FwvN3EQ0p"
      },
      "source": [
        "def get_spotify_credentials():\n",
        "    # Esta funcion conecta spotify con tus credenciales\n",
        "    client_credentials_manager = SpotifyClientCredentials(client_id=client_id, client_secret=client_secret)\n",
        "    sp = spotipy.Spotify(client_credentials_manager=client_credentials_manager)\n",
        "    sp.trace = True\n",
        "    return sp"
      ],
      "execution_count": null,
      "outputs": []
    },
    {
      "cell_type": "code",
      "metadata": {
        "id": "PmPhDGstEtgv"
      },
      "source": [
        "def get_spotify_data(artist_name):\n",
        "\n",
        "    # obtner la autorizaciones con espotify\n",
        "    sp = get_spotify_credentials()\n",
        "\n",
        "    # Busquemos el artista\n",
        "    results = sp.search(q='artist:' + artist_name, type='artist')\n",
        "    items = results['artists']['items']\n",
        "    if len(items) > 0:\n",
        "        artist = items[0]\n",
        "\n",
        "    uri = artist['uri']\n",
        "\n",
        "    # Obtengamos los albums\n",
        "    results = sp.artist_albums(uri, album_type='album')\n",
        "    albums = results['items']\n",
        "\n",
        "    while results['next']:\n",
        "        results = sp.next(results)\n",
        "        albums.extend(results['items'])\n",
        "\n",
        "    uris = []\n",
        "    track_names = []\n",
        "    album_names = []\n",
        "\n",
        "    # Saquemos info de los tracks de los albums\n",
        "    for album in albums:\n",
        "        for t in sp.album(album['uri'])['tracks']['items']:\n",
        "            uris.append(t['uri'])\n",
        "            track_names.append(t['name'])\n",
        "            album_names.append(album['name'])\n",
        "    features = []\n",
        "    for i in range(len(uris)// 100 + 1):\n",
        "        fs = sp.audio_features(uris[i*100:min((i+1)*100, len(uris))])\n",
        "        if fs[0] is not None:\n",
        "            features.extend(fs)\n",
        "\n",
        "    # Convirtamos esto a un DataFrame de Pandas!\n",
        "    dat = pd.DataFrame(features)\n",
        "    dat['track_name'] = track_names\n",
        "    dat['album'] = album_names\n",
        "    dat['artists'] = artist_name\n",
        "\n",
        "    # Ignora las canciones en vivo\n",
        "    mask = [('live' not in s.lower() and 'deluxe' not in s.lower()\n",
        "             and 'remix' not in s.lower() and 'rmx' not in s.lower()\n",
        "            and 'remastered' not in s.lower()) for s in dat.album.values]\n",
        "    dat = dat[mask]\n",
        "    mask2 = [(('remix' not in s.lower()) and\n",
        "              'remastered' not in s.lower() and 'live' not in s.lower()\n",
        "             and 'version' not in s.lower()) for s in dat.track_name.values]\n",
        "    dat = dat[mask2]\n",
        "\n",
        "    dat.set_index('track_name', inplace=True)\n",
        "    dat.drop_duplicates(inplace=True)\n",
        "    dat = dat[~dat.index.duplicated(keep='first')]\n",
        "\n",
        "    return dat"
      ],
      "execution_count": null,
      "outputs": []
    },
    {
      "cell_type": "code",
      "metadata": {
        "id": "ewVqsdFlEu5i"
      },
      "source": [
        "# Busquemos canciones de algun artista y guardemoslo en una variable\n",
        "canciones_de_fonseca = get_spotify_data('Fonseca')"
      ],
      "execution_count": null,
      "outputs": []
    },
    {
      "cell_type": "code",
      "metadata": {
        "id": "symw34LcFVf9"
      },
      "source": [
        "# La variable Carlos Vives tiene todas las canciones\n",
        "canciones_de_fonseca.head()"
      ],
      "execution_count": null,
      "outputs": []
    },
    {
      "cell_type": "code",
      "metadata": {
        "id": "GhYUeyDPfRny"
      },
      "source": [
        "# Exportemos las canciones de Fonseca a Excel\n",
        "canciones_de_fonseca.to_excel(r'canciones_de_fonseca.xlsx', sheet_name='canciones', index = False)"
      ],
      "execution_count": null,
      "outputs": []
    },
    {
      "cell_type": "code",
      "metadata": {
        "id": "Yu7H1TW2fUUJ"
      },
      "source": [
        ""
      ],
      "execution_count": null,
      "outputs": []
    },
    {
      "cell_type": "code",
      "metadata": {
        "id": "euvshrEeFWYp"
      },
      "source": [
        "# Veamos las columnas que tenemos\n",
        "canciones_de_drake.columns"
      ],
      "execution_count": null,
      "outputs": []
    },
    {
      "cell_type": "markdown",
      "metadata": {
        "id": "meXo_dXBMlHg"
      },
      "source": [
        "**Awsome!!!**\n",
        "\n",
        "Como era de esperar, podemos ver que para cada pista hemos obtenido las propiedades acústicas deseadas (junto con alguna información sobre su ubicación en la base de datos de Spotify). \n",
        "\n",
        "- Ahora ve a Spotify y averigua cual es tu usuario\n",
        "https://www.spotify.com/us/account/overview/\n",
        "\n"
      ]
    },
    {
      "cell_type": "code",
      "metadata": {
        "id": "-c40ilxvMKag"
      },
      "source": [
        "mi_username = \"1226425134\""
      ],
      "execution_count": null,
      "outputs": []
    },
    {
      "cell_type": "code",
      "metadata": {
        "id": "H4oO4vKrNLAo"
      },
      "source": [
        "# También podemos definir una función que obtenga los datos de la lista de reproducción de un usuario.\n",
        "\n",
        "def get_spotify_playlist_data(username='spotify', playlist=None, credentials_file=None):\n",
        "\n",
        "    # Pongamos un limite de tracks a Analizar\n",
        "    track_number_limit = 1000\n",
        "\n",
        "    # De nuevo hagamos login en spotify\n",
        "    # Ven lo util de hacer funciones, no tengo que volverlo a escribir todo!!!!\n",
        "    sp = get_spotify_credentials()\n",
        "\n",
        "    # Saquemos todas las playlists de este usuario\n",
        "    p = None\n",
        "    results = sp.user_playlists(username)\n",
        "    playlists = results['items']\n",
        "\n",
        "    if playlist is None: # Quedemonos con la primera en caso que no haya más\n",
        "        playlist = playlists[0]['name']\n",
        "\n",
        "    for pl in playlists:\n",
        "        if pl['name'] is not None and pl['name'].lower() == playlist.lower():\n",
        "            p = pl\n",
        "            break\n",
        "    while results['next'] and p is None:\n",
        "        results = sp.next(results)\n",
        "        playlists = results['items']\n",
        "        for pl in playlists:\n",
        "            if pl['name'] is not None and pl['name'].lower() == playlist.lower():\n",
        "                p = pl\n",
        "                break\n",
        "\n",
        "    if p is None:\n",
        "        print('No hay plalists')\n",
        "        return\n",
        "\n",
        "    results = sp.user_playlist(p['owner']['id'], p['id'], fields=\"tracks,next\")['tracks']\n",
        "    tracks = results['items']\n",
        "    while results['next'] and len(tracks) < track_number_limit:\n",
        "        results = sp.next(results)\n",
        "        if results['items'][0] is not None:\n",
        "            tracks.extend(results['items'])\n",
        "\n",
        "    ts = []\n",
        "    track_names = []\n",
        "\n",
        "    for t in tracks:\n",
        "        track = t['track']\n",
        "        track['album'] = track['album']['name']\n",
        "        track_names.append(t['track']['name'])\n",
        "        artists = []\n",
        "        for a in track['artists']:\n",
        "            artists.append(a['name'])\n",
        "        track['artists'] = ', '.join(artists)\n",
        "        ts.append(track)\n",
        "\n",
        "    uris = []\n",
        "    dat = pd.DataFrame(ts)\n",
        "\n",
        "    dat.drop(['available_markets', 'disc_number', 'external_ids', 'external_urls'], axis=1, inplace=True)\n",
        "\n",
        "    features = []\n",
        "\n",
        "    # loop to take advantage of spotify being able to get data for 100 tracks at once\n",
        "    for i in range(len(dat)// 100 + 1):\n",
        "        fs = sp.audio_features(dat.uri.iloc[i*100:min((i+1)*100, len(dat))])\n",
        "        if fs[0] is not None:\n",
        "            features.extend(fs)\n",
        "\n",
        "    fs = pd.DataFrame(features)\n",
        "\n",
        "    dat = pd.concat([dat, fs], axis=1)\n",
        "    dat['track_name'] = track_names\n",
        "\n",
        "    # ignore live, remix and deluxe album versions\n",
        "    mask = [(('live' not in s.lower()) and ('deluxe' not in s.lower())\n",
        "             and ('remix' not in s.lower())) for s in dat.album.values]\n",
        "    dat = dat[mask]\n",
        "    mask2 = [(('remix' not in s.lower()) and\n",
        "              'remastered' not in s.lower()\n",
        "             and 'version' not in s.lower()) for s in dat.track_name.values]\n",
        "    dat = dat[mask2]\n",
        "\n",
        "    dat.set_index('track_name', inplace=True)\n",
        "    dat = dat[~dat.index.duplicated(keep='first')]\n",
        "    dat = dat.T[~dat.T.index.duplicated(keep='first')].T\n",
        "\n",
        "    return dat"
      ],
      "execution_count": null,
      "outputs": []
    },
    {
      "cell_type": "code",
      "metadata": {
        "id": "_LWd55UgPe6i"
      },
      "source": [
        ""
      ],
      "execution_count": null,
      "outputs": []
    },
    {
      "cell_type": "code",
      "metadata": {
        "id": "Kui03_bvPzfP"
      },
      "source": [
        "miplaylist = get_spotify_playlist_data(username=mi_username, playlist=\"favoritos2020\")"
      ],
      "execution_count": null,
      "outputs": []
    },
    {
      "cell_type": "code",
      "metadata": {
        "id": "-4pMCm0dd97R"
      },
      "source": [
        "miplaylist.head()"
      ],
      "execution_count": null,
      "outputs": []
    },
    {
      "cell_type": "code",
      "metadata": {
        "id": "xWEIDrWVeMt4"
      },
      "source": [
        "miplaylist.columns"
      ],
      "execution_count": null,
      "outputs": []
    },
    {
      "cell_type": "code",
      "metadata": {
        "id": "nmjCrStUQuBm"
      },
      "source": [
        "# Ahora que tal si buscamos las canciones más deprimentes\n",
        "miplaylist.sort_values(by='danceability', ascending=True).head(10)"
      ],
      "execution_count": null,
      "outputs": []
    },
    {
      "cell_type": "markdown",
      "metadata": {
        "id": "lgbtVewJR4Vi"
      },
      "source": [
        "**Pasemos esto a Excel y luego a Tableau y hagamos hagamos un Dashboard de nuestro Playlist**"
      ]
    },
    {
      "cell_type": "code",
      "metadata": {
        "id": "O-xHyh_HQwMe"
      },
      "source": [
        "miplaylist.to_excel(r'miplaylist.xlsx', sheet_name='miplaylist', index = False)"
      ],
      "execution_count": null,
      "outputs": []
    },
    {
      "cell_type": "code",
      "metadata": {
        "id": "3z0Wxfa0T2WV"
      },
      "source": [
        ""
      ],
      "execution_count": null,
      "outputs": []
    }
  ]
}