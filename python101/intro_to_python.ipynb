{
  "cells": [
    {
      "cell_type": "markdown",
      "source": [
        "<a href=\"https://kaggle.com/kernels/welcome?src=https://github.com/mayait/ClaseAnalisisDatos/blob/main/python101/intro_to_python.ipynb\"><img src=\"https://kaggle.com/static/images/open-in-kaggle.svg\" width=120 /></a>\n",
        "\n",
        "<a href=\"https://colab.research.google.com/github/mayait/ClaseAnalisisDatos/blob/main/python101/intro_to_python.ipynb\"><img src=\"https://colab.research.google.com/assets/colab-badge.svg\" width=120 /></a>"
      ],
      "metadata": {
        "id": "MPYfNc03WIv4"
      }
    },
    {
      "cell_type": "code",
      "source": [
        "#@title Nombre del estudiante\n",
        "Estudiante = \"\" #@param {type:\"string\"}\n",
        "Código = \"\" #@param {type:\"string\"}"
      ],
      "metadata": {
        "id": "oEfCT92oL7bC",
        "cellView": "form"
      },
      "execution_count": null,
      "outputs": []
    },
    {
      "cell_type": "markdown",
      "metadata": {
        "id": "2iC8KkmSTzOK"
      },
      "source": [
        "\n",
        "<img src=\"https://usfq.leanlabs.co/static/img/logo-bp.png\" width=\"200\"/>\n",
        "\n",
        "# **Aprendiendo Python3**\n",
        "\n",
        "--\n",
        "En esta sección de introducirá al lenguaje de programación Python: fundamentos, tipos de datos, operadores y colecciones de datos\n",
        "\n",
        "Si estás en google colab: \n",
        "- Menú Editar > Seleccionar todas las celdas \n",
        "- Menú Ver > Mostrar secciones\n"
      ]
    },
    {
      "cell_type": "markdown",
      "metadata": {
        "application/vnd.databricks.v1+cell": {
          "inputWidgets": {},
          "nuid": "b48e138c-c50d-4205-b451-db6174a5a7af",
          "showTitle": false,
          "title": ""
        },
        "id": "f47qVJeVSnOt"
      },
      "source": [
        "## Contenido\n",
        "\n",
        "* Fundamentos, tipos de datos y operadores para comenzar con Python\n",
        "* Colecciones de datos: tuplas, listas y diccionarios\n",
        "\n",
        "***\n",
        "\n",
        "## Vinculos\n",
        "- https://miro.com/app/board/o9J_lT8VrdY=/"
      ]
    },
    {
      "cell_type": "markdown",
      "metadata": {
        "id": "WedjXX9I7z-K"
      },
      "source": [
        "## Nota rápida sobre las celdas de Jupyter\n",
        "Cuando está editando una celda en Jupyter Notebook, debe volver a ejecutar la celda presionando *Shift + Enter*. Esto permitirá que los cambios que haya realizado estén disponibles para otras celdas, es decir que el código se ejecute y quede en memoria. \n",
        "\n",
        "**Ejecución secuencial**\n",
        "\n",
        "La ejecución del código es secuencial y despues de cada ejecución puedes ver en un número el orden en el que se ejecuto. Utilice <Intro> para crear nuevas líneas dentro de una celda que esté editando.\n",
        "\n",
        "**Celdas de código**\n",
        "    \n",
        "Volver a ejecutar ejecutará cualquier declaración que haya escrito. Para editar una celda de código existente, haga clic en ella.\n",
        "\n",
        "**Celdas de Markdown o texto con formato**\n",
        "    \n",
        "Volver a ejecutar generará el texto de Markdown. Para editar una celda de Markdown existente, haga doble clic en ella. \n",
        "    \n",
        "*Al final del tablero hay una guía de markdown* *[ir a la guía](#ejemplo_markdown)*"
      ]
    },
    {
      "cell_type": "markdown",
      "metadata": {
        "id": "GJBs_flRovLc",
        "tags": []
      },
      "source": [
        "## <strong>Primeros pasos en este cuaderno</strong>\n",
        "\n",
        "A continuación se muestra una <strong>celda de código</strong> con una breve secuencia de comandos de Python que calcula un valor, lo almacena en una variable e imprime el resultado:"
      ]
    },
    {
      "cell_type": "code",
      "execution_count": null,
      "metadata": {
        "id": "yY_CeHor8I50"
      },
      "outputs": [],
      "source": [
        "seconds_in_a_day = 24 * 60 * 60\n",
        "seconds_in_a_day"
      ]
    },
    {
      "cell_type": "code",
      "execution_count": null,
      "metadata": {
        "id": "3Kk2f59qc6bM"
      },
      "outputs": [],
      "source": [
        "resultado = 1 + 1\n",
        "resultado"
      ]
    },
    {
      "cell_type": "markdown",
      "metadata": {
        "id": "r1WVj7jj8Tv9"
      },
      "source": [
        "Si quieres ejecutar el código de la celda anterior, haz clic para seleccionarlo y pulsa el botón de reproducir situado a la izquierda del código o usa la combinación de teclas \"Comando/Ctrl + Intro\". Para editar el código, solo tienes que hacer clic en la celda.\n",
        "\n",
        "Las variables que definas en una celda se pueden usar después en otras celdas:"
      ]
    },
    {
      "cell_type": "code",
      "execution_count": null,
      "metadata": {
        "id": "G1Ep1_hc8Y1f"
      },
      "outputs": [],
      "source": [
        "seconds_in_a_week = 7 * seconds_in_a_day\n",
        "seconds_in_a_week"
      ]
    },
    {
      "cell_type": "code",
      "source": [
        "# ¿Cuantos segundos hay tu vida?\n",
        "seconds_in_my_life = "
      ],
      "metadata": {
        "id": "sdAwJBUB9XIO"
      },
      "execution_count": null,
      "outputs": []
    },
    {
      "cell_type": "markdown",
      "metadata": {
        "id": "nk6FKMHs8fr5"
      },
      "source": [
        "## Ejemplo de python en Análisis y ciencia de datos\n",
        "\n",
        "Con Jupyter, puedes aprovechar toda la potencia de las bibliotecas más populares de Python para analizar y visualizar datos. La celda de código de abajo utiliza <strong>NumPy</strong> para generar datos aleatorios y <strong>Matplotlib</strong> para visualizarlos. Para editar el código, solo tienes que hacer clic en la celda."
      ]
    },
    {
      "cell_type": "code",
      "execution_count": null,
      "metadata": {
        "id": "2CLlrQeL8oln"
      },
      "outputs": [],
      "source": [
        "import numpy as np\n",
        "from matplotlib import pyplot as plt\n",
        "\n",
        "ys = 200 + np.random.randn(100)\n",
        "x = [x for x in range(len(ys))]\n",
        "\n",
        "plt.plot(x, ys, '-')\n",
        "plt.fill_between(x, ys, 195, where=(ys > 195), facecolor='g', alpha=0.6)\n",
        "\n",
        "plt.title(\"Ejemplo de gráfico\")\n",
        "plt.show()"
      ]
    },
    {
      "cell_type": "markdown",
      "metadata": {
        "application/vnd.databricks.v1+cell": {
          "inputWidgets": {},
          "nuid": "8ca16400-2a88-44bf-acfb-cc79384c1f39",
          "showTitle": false,
          "title": ""
        },
        "id": "_h4GE512SnOt"
      },
      "source": [
        "<a id=\"parte1\"></a>\n",
        "\n",
        "\n",
        "\n",
        "# Parte 1: Fundamentos, tipos de datos  y operadores para comenzar con Python\n",
        "<img src=\"https://www.kaggle.com/static/images/education/km/learn-home-208h@2x.png\" style=\"float:right;width:50px;height:50px;\" align=\"right\" width=\"300\">\n",
        "**a. Python**\n",
        "* Es gratuito y de código abierto\n",
        "* Guido van Rossum ideó el lenguaje Python a finales de los años 80 y su primera versión pública fue en febrero de 1991\n",
        "* Es un lenguaje interpretado\n",
        "* Posee tipeo dinámico, por lo cual nos es necesario especificar el tipo de dato que contendrán las variables\n",
        "* Es un lenguaje de programación de propósito general (diseñado para resolver cualquier problema) y facilidad para construir cualquier programa\n",
        "\n",
        "**b. Importancia de Pyhton**\n",
        "* Lenguaje intuitivo, da la apariencia de que estamos escribiendo pseudocódigo en inglés\n",
        "* Tiene paquetes versátiles para múltiples aplicaciones incluyendo Ciencia de Datos\n",
        "* Cuenta con una comunidad activa de computación científica y análisis de datos"
      ]
    },
    {
      "cell_type": "markdown",
      "metadata": {
        "id": "_kYQakBzTzOQ"
      },
      "source": []
    },
    {
      "cell_type": "markdown",
      "metadata": {
        "application/vnd.databricks.v1+cell": {
          "inputWidgets": {},
          "nuid": "223a3b30-13f2-47b6-8596-b356709fdc55",
          "showTitle": false,
          "title": ""
        },
        "id": "xmNd63NlSnOu"
      },
      "source": [
        "## Imprimir en pantalla nuestro código, y escribir comentarios"
      ]
    },
    {
      "cell_type": "code",
      "execution_count": null,
      "metadata": {
        "application/vnd.databricks.v1+cell": {
          "inputWidgets": {},
          "nuid": "470c2ab7-d6cf-4e22-803e-7ac6d60493db",
          "showTitle": false,
          "title": ""
        },
        "id": "u-Yo0oT0SnOu"
      },
      "outputs": [],
      "source": [
        "# Un comentario es antecedido por el símbolo de numeral\n",
        "\n",
        "print(\"Hola Mundo!\", \"Hola universo\")"
      ]
    },
    {
      "cell_type": "markdown",
      "source": [
        "# 1.1 Debugging\n",
        "\n",
        "Un error frecuente cuando se trabaja con variables es que accidentalmente cometas un error de tipografia. Por ejemplo si escribes hours_per_day como hours_per_dy, Python va a saltar con el error \n",
        ">NameError: name 'hours_per_dy' is not defined."
      ],
      "metadata": {
        "id": "t5Gm10dGGz0G"
      }
    },
    {
      "cell_type": "code",
      "source": [
        "hours_per_day = 3000\n",
        "\n",
        "print(hours_per_dy)\n"
      ],
      "metadata": {
        "id": "-SVrOKcpH70n"
      },
      "execution_count": null,
      "outputs": []
    },
    {
      "cell_type": "markdown",
      "metadata": {
        "application/vnd.databricks.v1+cell": {
          "inputWidgets": {},
          "nuid": "815d099d-176d-4870-ac05-6f60a395f37c",
          "showTitle": false,
          "title": ""
        },
        "id": "U3cnDWlfSnO0"
      },
      "source": [
        "# 1.2 Operadores aritméticos"
      ]
    },
    {
      "cell_type": "markdown",
      "metadata": {
        "application/vnd.databricks.v1+cell": {
          "inputWidgets": {},
          "nuid": "1d87da48-4716-46e7-85e2-886ff6a9c080",
          "showTitle": false,
          "title": ""
        },
        "id": "xO0ABUsgSnO0"
      },
      "source": [
        "Los **operadores** son símbolos que expresan operaciones básicas en un programa. \n",
        "* Operadores **ARITMÉTICOS:**\n",
        " - Suma `+`\n",
        " - Resta `-`\n",
        " - Multiplicación `*`\n",
        " - División `/`, dividión entera `//` y módulo `%`\n",
        " - Potenciación `**`\n"
      ]
    },
    {
      "cell_type": "code",
      "execution_count": null,
      "metadata": {
        "application/vnd.databricks.v1+cell": {
          "inputWidgets": {},
          "nuid": "8915e35f-757c-4878-83c3-d9e41da052b5",
          "showTitle": false,
          "title": ""
        },
        "id": "PAd3qC7SSnO0"
      },
      "outputs": [],
      "source": [
        "# Ejecutar diferentes tipos de operaciones en los datos\n",
        "a = 5 ** 5\n",
        "print(a)"
      ]
    },
    {
      "cell_type": "markdown",
      "source": [
        "# 🌶️ Ejercicio 1:\n",
        "\n",
        "Cuando revisamos los datos del accidente del Titanic tenemos algunos datos:\n",
        "\n",
        "\n",
        "- Había 891 pasajeros a bordo del Titanic (total),\n",
        "\n",
        "- 342 pasajeros sobrevivieron (survived)\n",
        "\n",
        "- 113 pasajeros eran menores de 18 años (minors)\n",
        "\n",
        "\n",
        "\n",
        "En la siguiente celda de código, reemplace los subrayados (____) con código para calcular los valores de dos variables más:\n",
        "\n",
        "- *survived_fraction* debe establecerse en la fracción de pasajeros que sobrevivieron al desastre del Titanic.\n",
        "- *minors_fraction* debe ser la fracción de pasajeros que eran menores de edad (menores de 18 años).\n",
        "Para cada variable, su respuesta debe ser un número entre 0 y 1."
      ],
      "metadata": {
        "id": "N7GiobMABl2k"
      }
    },
    {
      "cell_type": "code",
      "source": [
        "total = ____ \n",
        "survived = ____\n",
        "\n",
        "survived_fraction = ____ \n",
        "\n",
        "# Print the value of the variable\n",
        "print(survived_fraction)\n",
        "\n",
        "# TODO: Fill in the value of the minors_fraction variable\n",
        "minors_fraction = ____ \n",
        "\n",
        "# Print the value of the variable\n",
        "print(minors_fraction)"
      ],
      "metadata": {
        "id": "nSpKSNnpCbMP"
      },
      "execution_count": null,
      "outputs": []
    },
    {
      "cell_type": "markdown",
      "metadata": {
        "application/vnd.databricks.v1+cell": {
          "inputWidgets": {},
          "nuid": "f8d1ecc5-49dc-4d5e-bcb5-57e35f8ec0e2",
          "showTitle": false,
          "title": ""
        },
        "id": "HSCEx9foSnO0"
      },
      "source": [
        "# 1.3 Operadores Relacionales y lógicos\n",
        "* Operadores **RELACIONALES**: Comparan valores y devuelven un booleano (```True``` o ```False```) según corresponda el resultado de la evaluación."
      ]
    },
    {
      "cell_type": "code",
      "execution_count": null,
      "metadata": {
        "application/vnd.databricks.v1+cell": {
          "inputWidgets": {},
          "nuid": "4a470680-8dd3-4d98-a502-fb1da3a57d75",
          "showTitle": false,
          "title": ""
        },
        "id": "Jk9PTyr0SnO1"
      },
      "outputs": [],
      "source": [
        "a = 9 # Almacena el valor 9 en a\n",
        "a == 8 # Confirmame si a es igual a 8"
      ]
    },
    {
      "cell_type": "code",
      "execution_count": null,
      "metadata": {
        "application/vnd.databricks.v1+cell": {
          "inputWidgets": {},
          "nuid": "1bd94cf2-4a2a-49d2-84d9-bb56719a2305",
          "showTitle": false,
          "title": ""
        },
        "id": "Ur82l1N9SnO1"
      },
      "outputs": [],
      "source": [
        "a=4\n",
        "b=18\n",
        "print(\"mayor que:\", a > b)\n",
        "print(\"menor que:\", a < b)"
      ]
    },
    {
      "cell_type": "code",
      "execution_count": null,
      "metadata": {
        "application/vnd.databricks.v1+cell": {
          "inputWidgets": {},
          "nuid": "f3c54393-228e-4de0-bf14-dfa366eca911",
          "showTitle": false,
          "title": ""
        },
        "id": "J7c8wI3ISnO1"
      },
      "outputs": [],
      "source": [
        "a, b = 1, 5\n",
        "print(\"mayor o igual que:\", b >= a)    # 5 >= 1\n",
        "print(\"menor o igual que:\", -1 <= a)   # -1 <= 1"
      ]
    },
    {
      "cell_type": "code",
      "execution_count": null,
      "metadata": {
        "id": "FJIo9qE6TzOU"
      },
      "outputs": [],
      "source": [
        "# ¿Es verdadera esta expresión?\n",
        "5 > 3 > 1"
      ]
    },
    {
      "cell_type": "code",
      "execution_count": null,
      "metadata": {
        "id": "v0IlHwxSTzOU"
      },
      "outputs": [],
      "source": [
        "# ¿Es verdadera esta expresión?\n",
        "5 > 3 < 4 == 3 + 1"
      ]
    },
    {
      "cell_type": "markdown",
      "metadata": {
        "application/vnd.databricks.v1+cell": {
          "inputWidgets": {},
          "nuid": "d891e59a-4b9a-4677-949a-7f79b917990a",
          "showTitle": false,
          "title": ""
        },
        "id": "xiZvB3fjSnO2"
      },
      "source": [
        "# 1.4 Operadores **LÓGICOS**: \n",
        "\n",
        "Permiten construir expresiones lógicas. El resultado es un booleano. \n",
        ">NOTA: Revisa [tablas de verdad](https://es.wikipedia.org/wiki/Tabla_de_verdad) para las operaciones de conjunción, disyunción y negación.\n"
      ]
    },
    {
      "cell_type": "code",
      "execution_count": null,
      "metadata": {
        "application/vnd.databricks.v1+cell": {
          "inputWidgets": {},
          "nuid": "384fd4a4-566f-47ea-9a60-08b399485872",
          "showTitle": false,
          "title": ""
        },
        "id": "Iz-sy8RbSnO2"
      },
      "outputs": [],
      "source": [
        "# CONJUNCION (and)\n",
        "a = 4\n",
        "a >= 1 and a <= 5   #(4>=1)  and  (4<=5)  = True"
      ]
    },
    {
      "cell_type": "code",
      "execution_count": null,
      "metadata": {
        "application/vnd.databricks.v1+cell": {
          "inputWidgets": {},
          "nuid": "f689b33f-59bb-4de9-a847-264965f4b193",
          "showTitle": false,
          "title": ""
        },
        "id": "hOq4kMl_SnO2"
      },
      "outputs": [],
      "source": [
        "# DISYUNCION (or)\n",
        "a = 7\n",
        "a >= 6 or a == 10   #(7>=6) or (a==10) = True   "
      ]
    },
    {
      "cell_type": "code",
      "execution_count": null,
      "metadata": {
        "application/vnd.databricks.v1+cell": {
          "inputWidgets": {},
          "nuid": "d0dc3f83-f788-49f0-9828-80300c37aa8f",
          "showTitle": false,
          "title": ""
        },
        "id": "sa2gmIRsSnO2"
      },
      "outputs": [],
      "source": [
        "# NEGACION (not)\n",
        "a = False\n",
        "not a"
      ]
    },
    {
      "cell_type": "markdown",
      "source": [
        "**Lista de símbolos comunes que puede usar para construir condiciones.**\n",
        "\n",
        "---\n",
        "\n",
        "\n",
        "\n",
        "<table>\n",
        "<tbody>\n",
        "<tr><th><b>Symbol</b></th><th><b>Meaning</b></th></tr>\n",
        "<tr>\n",
        "<td>==</td>\n",
        "<td>equals</td>\n",
        "</tr>\n",
        "<tr>\n",
        "<td>!=</td>\n",
        "<td>does not equal</td>\n",
        "</tr>\n",
        "<tr>\n",
        "<td>&#60;</td>\n",
        "<td>less than</td>\n",
        "</tr>\n",
        "<tr>\n",
        "<td>&#60;=</td>\n",
        "<td>less than or equal to</td>\n",
        "</tr>\n",
        "<tr>\n",
        "<td>&#62;</td>\n",
        "<td>greater than</td>\n",
        "</tr>\n",
        "<tr>\n",
        "<td>&#62;=</td>\n",
        "<td>greater than or equal to</td>\n",
        "</tr>\n",
        "</tbody>\n",
        "</table>\n",
        "\n",
        "**💡Nota importante**: cuando verifique que dos valores sean iguales, asegúrese de usar el signo == y no el signo =.\n",
        "- `var_one==1` comprueba si el valor de `var_one` es 1, pero\n",
        "- `var_one=1` establece el valor de `var_one` en 1."
      ],
      "metadata": {
        "id": "kA1CC3z8I8C3"
      }
    },
    {
      "cell_type": "markdown",
      "metadata": {
        "application/vnd.databricks.v1+cell": {
          "inputWidgets": {},
          "nuid": "3e848e0c-5c4d-4c4d-ac4a-ef489907c8f7",
          "showTitle": false,
          "title": ""
        },
        "id": "C9W49GQOSnO3"
      },
      "source": [
        "# 1.5 Operadores de **PERTENENCIA**: \n",
        "Permiten evidenciar si un objeto forma parte o no de una secuencia. El resultado es un booleano."
      ]
    },
    {
      "cell_type": "code",
      "execution_count": null,
      "metadata": {
        "application/vnd.databricks.v1+cell": {
          "inputWidgets": {},
          "nuid": "19ed636e-7e1b-480e-b998-9501fca66ed6",
          "showTitle": false,
          "title": ""
        },
        "id": "422j-h-ISnO3"
      },
      "outputs": [],
      "source": [
        "texto = \"La escritura en Python es intuitiva\"\n",
        "\n",
        "# SE ENCUENTRA (in)\n",
        "print('N' in texto)\n",
        "\n",
        "# NO SE ENCUENTRA (not in)\n",
        "print('x' not in texto)  "
      ]
    },
    {
      "cell_type": "markdown",
      "metadata": {
        "application/vnd.databricks.v1+cell": {
          "inputWidgets": {},
          "nuid": "45bac491-6544-41f9-aca1-6346fa9b9d40",
          "showTitle": false,
          "title": ""
        },
        "id": "NYliVBvaSnO4"
      },
      "source": [
        "### ⚠️ Prioridad de Operadores:\n",
        "\n",
        "**Nota** Cuando se utilizan varios operadores en una sola expresión, la precedencia de los operadores determina qué partes de la expresión se evalúan y en qué orden. Los operadores con mayor precedencia se evalúan primero. Los operadores con la misma precedencia se evalúan de izquierda a derecha.\n",
        "\n",
        "Orden de los operadores:\n",
        "- () parentheses, for grouping\n",
        "- ** exponent\n",
        "- *, / multiplication and division\n",
        "- +, - addition and subtraction\n",
        "- ==, !=, <, <=, >, >= comparisons\n",
        "\n",
        "En resumen:\n",
        "\n",
        "1.   Parentesis\n",
        "2.   Potencia\n",
        "3.  Multiplicación y división\n",
        "4.  Suma y resta\n",
        "5. Comparaciones\n"
      ]
    },
    {
      "cell_type": "code",
      "execution_count": null,
      "metadata": {
        "application/vnd.databricks.v1+cell": {
          "inputWidgets": {},
          "nuid": "fc000586-85bb-451d-9f9e-3c553ba4a7f4",
          "showTitle": false,
          "title": ""
        },
        "id": "174F9CI7SnO4"
      },
      "outputs": [],
      "source": [
        "y = -1 + 2 * 0 - (24 / 2 ** 3)\n",
        "\n",
        "print(y)"
      ]
    },
    {
      "cell_type": "markdown",
      "metadata": {
        "application/vnd.databricks.v1+cell": {
          "inputWidgets": {},
          "nuid": "3ff681d2-9244-4a38-a361-9ce088140325",
          "showTitle": false,
          "title": ""
        },
        "id": "QEO6jKPHSnOw"
      },
      "source": [
        "# 1.6 Tipos de datos en Python"
      ]
    },
    {
      "cell_type": "markdown",
      "metadata": {
        "application/vnd.databricks.v1+cell": {
          "inputWidgets": {},
          "nuid": "b9546d1e-1d6d-435d-be63-9f158ff8dd28",
          "showTitle": false,
          "title": ""
        },
        "id": "ii__00GBSnOx"
      },
      "source": [
        "Datos Primitivos en Python: \n",
        "* Numéricos: enteros `int`, decimales-punto flotante `float` y complejos `complex`\n",
        "* Lógicos: booleanos (```True``` y ```False```)\n",
        "* Cadenas de Caracteres: datos estructurados a partir de `str` (texto y palabras). No hay diferencia en el uso de comillas simples y dobles. La comillas triples se emplean para escribir múltiples líneas (párrafos)\n",
        "\n",
        "```type(x)``` es una función de Python que nos permite saber por consola el tipo de dato que es x."
      ]
    },
    {
      "cell_type": "code",
      "execution_count": null,
      "metadata": {
        "application/vnd.databricks.v1+cell": {
          "inputWidgets": {},
          "nuid": "a02763fe-4de7-48a4-a80c-6acaa8caed95",
          "showTitle": false,
          "title": ""
        },
        "id": "wiiK8sv2SnOx"
      },
      "outputs": [],
      "source": [
        "#NUMERICOS:\n",
        "print(type(-8), type(5.6), type(1-2j), type(\"hola\"))"
      ]
    },
    {
      "cell_type": "code",
      "execution_count": null,
      "metadata": {
        "application/vnd.databricks.v1+cell": {
          "inputWidgets": {},
          "nuid": "59dec889-78fd-430c-9e59-6cc3ac9cff17",
          "showTitle": false,
          "title": ""
        },
        "id": "dYerKwGNSnOx"
      },
      "outputs": [],
      "source": [
        "#BOOLEANOS\n",
        "print(type(True), type(False))"
      ]
    },
    {
      "cell_type": "code",
      "execution_count": null,
      "metadata": {
        "application/vnd.databricks.v1+cell": {
          "inputWidgets": {},
          "nuid": "bfea53de-62b1-45e4-b63c-11e79dd72d12",
          "showTitle": false,
          "title": ""
        },
        "id": "g6Sxk8egSnOy"
      },
      "outputs": [],
      "source": [
        "#CADENAS DE CARACTERES\n",
        "print(type('Palabras'), type(\"Uso de oraciones\"), type('''Se emplea para párrafos. Incluye múltiples oraciones'''))"
      ]
    },
    {
      "cell_type": "markdown",
      "metadata": {
        "application/vnd.databricks.v1+cell": {
          "inputWidgets": {},
          "nuid": "d5069838-ccaa-40f8-915c-e90f99c1f19a",
          "showTitle": false,
          "title": ""
        },
        "id": "riS7dIfBSnOy"
      },
      "source": [
        "# 1.7 Creación y Asignación de Variables\n",
        "Las variables son elementos que almacenan/representan datos y se identifican por letras o nombres.\n",
        "\n",
        "Su creacion se realiza a través de la **ASIGNACION** de un **VALOR** a una variable utilizando el operador ```=```.\n",
        "\n",
        "Nombres de Variables:\n",
        "*   Distingue el uso de mayúsculas y minúsculas\n",
        "*   No se permite caracteres de puntuación como +, -, @, $ y %.\n",
        "*   Significativos con relación al dato que  representa o almacena.\n",
        "*   Hay [palabras reservadas](https://es.wikibooks.org/wiki/Python/Generalidades/Palabras_reservadas,_operadores_y_s%C3%ADmbolos_del_lenguaje) que no son válidas como nombres de variables.\n",
        "*   Emplear las recomendaciones de [PEP-8](https://www.python.org/dev/peps/pep-0008/) para seguir mejores prácticas sobre cómo escribir código Python\n",
        "\n",
        "**Buena práctica:** Los nombres de las variables deben estar en minúsculas, con palabras separadas por guiones bajos según sea necesario para mejorar la legibilidad."
      ]
    },
    {
      "cell_type": "code",
      "execution_count": null,
      "metadata": {
        "application/vnd.databricks.v1+cell": {
          "inputWidgets": {},
          "nuid": "25d36d41-e0ae-4344-ae48-adb426dc181f",
          "showTitle": false,
          "title": ""
        },
        "id": "m1tMfiSYSnOy"
      },
      "outputs": [],
      "source": [
        "#Diferenciar entre mayúsculas y minúculas\n",
        "precio = 30\n",
        "Precio = 24\n",
        "Precio = 5555\n",
        "\n",
        "#¿Cuál será el resultado de imprimir Precio?\n",
        "Precio"
      ]
    },
    {
      "cell_type": "markdown",
      "metadata": {
        "application/vnd.databricks.v1+cell": {
          "inputWidgets": {},
          "nuid": "22437958-edfc-4106-81f8-21152823b943",
          "showTitle": false,
          "title": ""
        },
        "id": "IP4BR5rKSnO3"
      },
      "source": [
        "# 🌶️ EJERCICIO 2\n",
        "\n",
        "Realizar las siguientes ejecuciones de código, cree una celda para cada pregunta:\n",
        "\n",
        "1. Imprimir el tipo de dato que es x\n",
        "2. Verificar que el valor de x sea mayor igual a 0 y menor igual a 10\n",
        "3. Evaluar si x es diferente a 4\n",
        "4. Dividir x para el valor de 2 (obtener el cociente)\n",
        "5. Cree una variable llamada _carname_ y asígnele el valor Volvo\n",
        "6. Muestre en pantalla el contenido de la variable _carname_\n"
      ]
    },
    {
      "cell_type": "code",
      "execution_count": null,
      "metadata": {
        "application/vnd.databricks.v1+cell": {
          "inputWidgets": {},
          "nuid": "da41b0c0-c866-4a9d-b8d3-188d603a4a9f",
          "showTitle": false,
          "title": ""
        },
        "id": "apGXVgOcSnO4"
      },
      "outputs": [],
      "source": [
        "# Primer enunciado\n",
        "\n",
        "x = 3\n",
        "print('X es de tipo:', type(x))"
      ]
    },
    {
      "cell_type": "code",
      "execution_count": null,
      "metadata": {
        "id": "pSEtKKx2TzOW"
      },
      "outputs": [],
      "source": [
        "# Segundo enunciado\n",
        "#Su código aqui"
      ]
    },
    {
      "cell_type": "code",
      "execution_count": null,
      "metadata": {
        "id": "3OJIqzJ9TzOW"
      },
      "outputs": [],
      "source": [
        "# Tercer enunciado\n",
        "#Su código aqui"
      ]
    },
    {
      "cell_type": "code",
      "execution_count": null,
      "metadata": {
        "id": "lIowGxhpTzOX"
      },
      "outputs": [],
      "source": [
        "# Cuarto enunciado\n",
        "#Su código aqui"
      ]
    },
    {
      "cell_type": "code",
      "execution_count": null,
      "metadata": {
        "id": "i5lOvydHTzOX"
      },
      "outputs": [],
      "source": [
        "# Quinto enunciado\n",
        "#Su código aqui"
      ]
    },
    {
      "cell_type": "code",
      "execution_count": null,
      "metadata": {
        "id": "DusEL7rmTzOX"
      },
      "outputs": [],
      "source": [
        "# Sexto enunciado\n",
        "#Su código aqui"
      ]
    },
    {
      "cell_type": "markdown",
      "source": [
        "# 1.8 Funciones\n",
        "\n",
        "Una función es un bloque de código diseñado para realizar una tarea específica. Como verá, las funciones le permitirán hacer aproximadamente el mismo cálculo varias veces sin duplicar ningún código.\n",
        "\n",
        "Comenzamos con un ejemplo simple de una función. La función add_three() a continuación acepta cualquier número, le agrega tres y luego devuelve el resultado."
      ],
      "metadata": {
        "id": "yD-tjieYSOqe"
      }
    },
    {
      "cell_type": "code",
      "source": [
        "# Definir la función\n",
        "def add_three(input_var):\n",
        "    output_var = input_var + 3\n",
        "    return output_var"
      ],
      "metadata": {
        "id": "n8KkG-9oSht8"
      },
      "execution_count": null,
      "outputs": []
    },
    {
      "cell_type": "markdown",
      "source": [
        "Todo función tiene dos partes: el encabezado y el cuerpo.\n",
        "\n",
        "<img src=\"https://i.imgur.com/gu0AWhK.png\">\n",
        "\n",
        "*Los argumentos son la entrada de la función y return es la palabra clave que define la salida.*\n",
        "\n",
        "> El encabezado de la función define el nombre de la función y sus argumentos.\n",
        "\n",
        "Cada encabezado de función comienza con def, que le dice a Python que estamos a punto de definir una función.\n",
        "- En el ejemplo, el nombre de la función es add_three.\n",
        "- En el ejemplo, el argumento es input_var. \n",
        "- El argumento es el nombre de la variable que se usará como entrada a la función. Siempre está entre paréntesis que aparece inmediatamente después del nombre de la función. (Tenga en cuenta que una función también puede no tener argumentos, o puede tener múltiples argumentos)\n",
        "- Para cada función, los paréntesis que encierran los argumentos de la función deben ir seguidos de dos puntos :\n",
        "- Luego, la última línea de código, llamada declaración **return**, simplemente devuelve el valor en *output_var* como la salida de la función."
      ],
      "metadata": {
        "id": "hAGIxHSNSs2L"
      }
    },
    {
      "cell_type": "markdown",
      "source": [
        "## 1.8.1 Llamar una función o ejecutarla\n",
        "Cuando ejecutamos una función, también se puede denominar \"llamar\" a la función. *¿aló?* 😁\n",
        "\n",
        "En la siguiente celda de código, ejecutamos la función con 10 como valor de entrada. Definimos una nueva variable new_number que se establece en la salida de la función."
      ],
      "metadata": {
        "id": "gpBLBggwUIi2"
      }
    },
    {
      "cell_type": "code",
      "source": [
        "# Ejecutamos la función con 10 como valor de entrada\n",
        "new_number = add_three(10)\n",
        "\n",
        "print(new_number)"
      ],
      "metadata": {
        "id": "E5-9NgUiUxID"
      },
      "execution_count": null,
      "outputs": []
    },
    {
      "cell_type": "markdown",
      "source": [
        "# 🌶️ EJERCICIO 3 (IVA):\n",
        "\n",
        "Ejecuta una función que calcule el valor antes de impuestos dado el precio final de cualquier producto."
      ],
      "metadata": {
        "id": "-MdBklYbVC8a"
      }
    },
    {
      "cell_type": "code",
      "source": [
        "def before_tax(final_value):\n",
        "    tax = 0.12\n",
        "    pay_aftertax = _____\n",
        "    return pay_aftertax"
      ],
      "metadata": {
        "id": "bC2xds-OW4oL"
      },
      "execution_count": null,
      "outputs": []
    },
    {
      "cell_type": "code",
      "source": [
        "before_tax(120)"
      ],
      "metadata": {
        "id": "oM9X7AHtXNgo"
      },
      "execution_count": null,
      "outputs": []
    },
    {
      "cell_type": "markdown",
      "source": [
        "## 1.8.2 Función con multiples variables\n",
        "\n",
        "Vamos a calcular el valor total de una consultoria por horas donde defines:\n",
        "- Los honorarios por hora, hourly_wage\n",
        "- El impuesto, tax\n",
        "- La cantidad de horas, num_hours\n"
      ],
      "metadata": {
        "id": "rD2p98abX-wY"
      }
    },
    {
      "cell_type": "code",
      "source": [
        "def get_pay_with_more_inputs(num_hours, hourly_wage, tax):\n",
        "    # Pre-tax pay\n",
        "    pay_pretax = num_hours * hourly_wage\n",
        "    # After-tax pay\n",
        "    pay_aftertax = pay_pretax * (1 - tax)\n",
        "    return pay_aftertax"
      ],
      "metadata": {
        "id": "86a6tyqGYOq4"
      },
      "execution_count": null,
      "outputs": []
    },
    {
      "cell_type": "code",
      "source": [
        "get_pay_with_more_inputs(40, 12, .12)\n"
      ],
      "metadata": {
        "id": "M4Wh33IDYgpK"
      },
      "execution_count": null,
      "outputs": []
    },
    {
      "cell_type": "code",
      "source": [
        "# puedes declarar los argumentos explicitamente\n",
        "get_pay_with_more_inputs( num_hours = 40, hourly_wage = 12, tax = 0.12 )"
      ],
      "metadata": {
        "id": "XA_8GTgkxtuz"
      },
      "execution_count": null,
      "outputs": []
    },
    {
      "cell_type": "markdown",
      "source": [
        "# Declaraciones Condicionales\n",
        "\n",
        "**Conditional statements** Las condiones comprueban el valor de una condición y, si la condición se evalúa como `True`, se ejecuta un determinado bloque de código. (De lo contrario, si la condición es `False`, entonces el código no se ejecuta).  \n",
        "\n",
        "Vamos con ejemplos:\n",
        "\n",
        "## \"if\" statements (si esto entonces aquello)\n",
        "  "
      ],
      "metadata": {
        "id": "mU72UL4jJ9oU"
      }
    },
    {
      "cell_type": "code",
      "source": [
        "def evaluate_temp(temp):\n",
        "    # Establece un mensaje inicial\n",
        "    message = \"Normal temperature.\"\n",
        "    # Actualiza el mensaje en caso de que la temperatura sea mayor que 38\n",
        "    if temp > 38:\n",
        "        message = \"Fever!\"\n",
        "    return message"
      ],
      "metadata": {
        "id": "I8jKR7aFKe95"
      },
      "execution_count": null,
      "outputs": []
    },
    {
      "cell_type": "code",
      "source": [
        "evaluate_temp(37)"
      ],
      "metadata": {
        "id": "2Zs3e9RBL8pk"
      },
      "execution_count": null,
      "outputs": []
    },
    {
      "cell_type": "markdown",
      "source": [
        "## \"if ... else\" statements\n",
        "\n",
        "En español viene a ser **si** se cumple esto entonces haz esto, **sino** entonces haz esto otro."
      ],
      "metadata": {
        "id": "AAYvHoPLLzG9"
      }
    },
    {
      "cell_type": "code",
      "source": [
        "def evaluate_temp_with_else(temp):\n",
        "    if temp > 38:\n",
        "        message = \"Fever!\"\n",
        "    else:\n",
        "        message = \"Normal temperature.\"\n",
        "    return message"
      ],
      "metadata": {
        "id": "0f_qf2J_L5c3"
      },
      "execution_count": null,
      "outputs": []
    },
    {
      "cell_type": "code",
      "source": [
        "print(evaluate_temp_with_else(12))"
      ],
      "metadata": {
        "id": "l-L9j7rjMAUf"
      },
      "execution_count": null,
      "outputs": []
    },
    {
      "cell_type": "markdown",
      "source": [
        "## \"if ... elif ... else\" statements\n",
        "Puedes pensar en \"elif\" como si dijera ... \"ya que esa condición anterior (p. ej., `temp > 38`) era falsa, entonces vamos a comprobar si esta nueva condición (p. ej., `temp > 35`) podría ser cierta.\""
      ],
      "metadata": {
        "id": "Ww5JfqOMMHjX"
      }
    },
    {
      "cell_type": "code",
      "source": [
        "def evaluate_temp_with_elif(temp):\n",
        "    if temp > 38:\n",
        "        message = \"Fever!\"\n",
        "    elif temp > 35:\n",
        "        message = \"Normal temperature.\"\n",
        "    else:\n",
        "        message = \"Low temperature.\"\n",
        "    return message"
      ],
      "metadata": {
        "id": "xsJaPGNtMGgP"
      },
      "execution_count": null,
      "outputs": []
    },
    {
      "cell_type": "code",
      "source": [
        "evaluate_temp_with_elif(12)"
      ],
      "metadata": {
        "id": "zUNDR1rhNeZH"
      },
      "execution_count": null,
      "outputs": []
    },
    {
      "cell_type": "markdown",
      "source": [
        "# 🌶️ EJERCICIO CONDICIONALES\n",
        "En el siguiente ejemplo, supongamos que vive en un país con solo dos tramos impositivos. Todos los que ganan menos de 12000 pagan el 25% de impuestos, y los que ganan 12000 o más pagan el 30%. \n",
        "\n",
        "**Crea una función que calcule cuánto impuesto se debe pagar:**\n"
      ],
      "metadata": {
        "id": "bELL8K6XOvDF"
      }
    },
    {
      "cell_type": "code",
      "source": [
        "def get_taxes(earnings):\n",
        "    if _____:\n",
        "        tax_owed = .25 * earnings\n",
        "    else:\n",
        "        _____\n",
        "    return tax_owed"
      ],
      "metadata": {
        "id": "SGOlaNQrOuss"
      },
      "execution_count": null,
      "outputs": []
    },
    {
      "cell_type": "code",
      "source": [
        "ana_taxes = get_taxes(9000)\n",
        "bob_taxes = get_taxes(15000)\n",
        "\n",
        "print('ana', ana_taxes)\n",
        "print('bob', bob_taxes)"
      ],
      "metadata": {
        "id": "7TumqxlJQLZk"
      },
      "execution_count": null,
      "outputs": []
    },
    {
      "cell_type": "markdown",
      "metadata": {
        "id": "aOQ5MmmTAdjE"
      },
      "source": [
        "<a id=\"parte2\"></a>\n",
        "# Parte 2: Estructuras básicas de datos"
      ]
    },
    {
      "cell_type": "markdown",
      "metadata": {
        "application/vnd.databricks.v1+cell": {
          "inputWidgets": {},
          "nuid": "9d827de6-b9d1-49c8-89c1-d9cdaabe468c",
          "showTitle": false,
          "title": ""
        },
        "id": "CrMnPArSSnO7"
      },
      "source": [
        "# 2.1 Listas\n",
        "\n",
        "Las listas permiten organizar los datos en conjuntos con alguna similitud: amigos, películas, tareas, etc. \n",
        "\n",
        "**Creación:**\n",
        "1.   No requiere especificar tipo de datos y puede contener elementos de distinto tipo\n",
        "2.   Separar cada elemento con coma\n",
        "3.   Encerrar la lista con corchetes ```[ ]```\n",
        "4.   Asignar la lista a una variable que la representará, utilizando el operador ```=```\n",
        "5.   Son **mutables** lo que permite modificar sus elementos"
      ]
    },
    {
      "cell_type": "code",
      "execution_count": null,
      "metadata": {
        "application/vnd.databricks.v1+cell": {
          "inputWidgets": {},
          "nuid": "03035ecd-8799-4124-a91c-f233c86015e2",
          "showTitle": false,
          "title": ""
        },
        "id": "GVo_mueBSnO8"
      },
      "outputs": [],
      "source": [
        "vacia = [ ]\n",
        "print(vacia)\n",
        "\n",
        "amigos = ['Kan', 'Ely','Pedro', 'Ali']\n",
        "print(amigos)"
      ]
    },
    {
      "cell_type": "markdown",
      "metadata": {
        "application/vnd.databricks.v1+cell": {
          "inputWidgets": {},
          "nuid": "c0f34176-d63c-4633-a357-9d14c25843f1",
          "showTitle": false,
          "title": ""
        },
        "id": "vio6BaD4SnO8"
      },
      "source": [
        "**Propiedades:**\n",
        "\n",
        "* `len()`   número de elementos que contiene la lista\n",
        "* `min()`   mínimo de una lista numérica\n",
        "* `max()`   máximo de una lista numérica\n",
        "* `sum()`   suma de elementos en una lista numérica"
      ]
    },
    {
      "cell_type": "code",
      "execution_count": null,
      "metadata": {
        "application/vnd.databricks.v1+cell": {
          "inputWidgets": {},
          "nuid": "73a18676-a227-40be-b2f5-787f997cc034",
          "showTitle": false,
          "title": ""
        },
        "id": "6RECWw68SnO8"
      },
      "outputs": [],
      "source": [
        "lista = [-10, .5, 6.2, -1.]    \n",
        "len(lista)"
      ]
    },
    {
      "cell_type": "code",
      "execution_count": null,
      "metadata": {
        "application/vnd.databricks.v1+cell": {
          "inputWidgets": {},
          "nuid": "78a1716d-550c-482b-b49b-7daebf62a97c",
          "showTitle": false,
          "title": ""
        },
        "id": "wBZwwn5eSnO8"
      },
      "outputs": [],
      "source": [
        "print('mínimo:', min(lista), 'máximo:', max(lista))"
      ]
    },
    {
      "cell_type": "code",
      "execution_count": null,
      "metadata": {
        "application/vnd.databricks.v1+cell": {
          "inputWidgets": {},
          "nuid": "6f5c730a-04fc-4ca7-923d-f8944b3d2525",
          "showTitle": false,
          "title": ""
        },
        "id": "og6jj1y2SnO9"
      },
      "outputs": [],
      "source": [
        "print('suma:', sum(lista))"
      ]
    },
    {
      "cell_type": "markdown",
      "metadata": {
        "application/vnd.databricks.v1+cell": {
          "inputWidgets": {},
          "nuid": "2e06464e-c8c5-40d6-853b-c7448047cd78",
          "showTitle": false,
          "title": ""
        },
        "id": "WR2tItVSSnO9"
      },
      "source": [
        "**Añadir elementos a una lista con `+`**"
      ]
    },
    {
      "cell_type": "code",
      "execution_count": null,
      "metadata": {
        "application/vnd.databricks.v1+cell": {
          "inputWidgets": {},
          "nuid": "30122a5b-b5a5-41b6-87ad-4b2f23732bf7",
          "showTitle": false,
          "title": ""
        },
        "id": "fsrlkq60SnO9"
      },
      "outputs": [],
      "source": [
        "x = [3,9,0]\n",
        "y = [3,4,5]\n",
        "z = x + y\n",
        "print(z)"
      ]
    },
    {
      "cell_type": "markdown",
      "metadata": {
        "application/vnd.databricks.v1+cell": {
          "inputWidgets": {},
          "nuid": "4a34229a-16e1-4991-bf24-fac7e4ff3fab",
          "showTitle": false,
          "title": ""
        },
        "id": "Hl86uRThSnO9"
      },
      "source": [
        "**Añadir elementos con `append`**"
      ]
    },
    {
      "cell_type": "code",
      "execution_count": null,
      "metadata": {
        "application/vnd.databricks.v1+cell": {
          "inputWidgets": {},
          "nuid": "23818630-c001-4654-abc5-c346a5e42bd0",
          "showTitle": false,
          "title": ""
        },
        "id": "B-cBMv2XSnO-"
      },
      "outputs": [],
      "source": [
        "amigos = ['Kan', 'Ely', 'Pedro', 'Ali', 'Manuela', 'Monica']\n",
        "amigos.append('Galia')\n",
        "print(amigos)"
      ]
    },
    {
      "cell_type": "markdown",
      "metadata": {
        "application/vnd.databricks.v1+cell": {
          "inputWidgets": {},
          "nuid": "49ed02a2-aacd-4cc4-961a-35c24d1530c7",
          "showTitle": false,
          "title": ""
        },
        "id": "5mH9jeBcSnO-"
      },
      "source": [
        "**Eliminar elementos con `remove`**"
      ]
    },
    {
      "cell_type": "code",
      "execution_count": null,
      "metadata": {
        "application/vnd.databricks.v1+cell": {
          "inputWidgets": {},
          "nuid": "fb5f3faa-cd05-4b5a-aa8e-7994360f3afd",
          "showTitle": false,
          "title": ""
        },
        "id": "NCl7n3wzSnO-"
      },
      "outputs": [],
      "source": [
        "amigos.remove('Ali')\n",
        "print(amigos)"
      ]
    },
    {
      "cell_type": "markdown",
      "metadata": {
        "application/vnd.databricks.v1+cell": {
          "inputWidgets": {},
          "nuid": "bc5b6efc-a54c-41f5-be21-dc519009f6ca",
          "showTitle": false,
          "title": ""
        },
        "id": "6OHbYqWnSnO-"
      },
      "source": [
        "**Ordenar elementos con `sort`**: Para listas con elementos numéricos se ordena de forma ascendente o descendente y para cadenas de texto de forma alfabética"
      ]
    },
    {
      "cell_type": "code",
      "execution_count": null,
      "metadata": {
        "application/vnd.databricks.v1+cell": {
          "inputWidgets": {},
          "nuid": "f163daf0-9a96-4ebf-a197-cf0633baf6c8",
          "showTitle": false,
          "title": ""
        },
        "id": "M6p3MGU_SnO-"
      },
      "outputs": [],
      "source": [
        "L = [-10,3,7,2]\n",
        "print(L)\n",
        "\n",
        "L.sort()\n",
        "print(L)"
      ]
    },
    {
      "cell_type": "code",
      "execution_count": null,
      "metadata": {
        "application/vnd.databricks.v1+cell": {
          "inputWidgets": {},
          "nuid": "c4da6faa-afd1-4c72-be97-77cdd8619b5b",
          "showTitle": false,
          "title": ""
        },
        "id": "KZ9JWxahSnO_"
      },
      "outputs": [],
      "source": [
        "L.sort(reverse=True)\n",
        "print(L)"
      ]
    },
    {
      "cell_type": "markdown",
      "metadata": {
        "application/vnd.databricks.v1+cell": {
          "inputWidgets": {},
          "nuid": "c55d17e2-0b92-40b2-868a-749f091bc4a6",
          "showTitle": false,
          "title": ""
        },
        "id": "6E-ULAILSnO_"
      },
      "source": [
        "**Limpiar los elementos de una lista con `clear`**"
      ]
    },
    {
      "cell_type": "code",
      "execution_count": null,
      "metadata": {
        "application/vnd.databricks.v1+cell": {
          "inputWidgets": {},
          "nuid": "5c5363a0-a481-40b2-83a7-4b90f67d7bdd",
          "showTitle": false,
          "title": ""
        },
        "id": "clYjyDKqSnO_"
      },
      "outputs": [],
      "source": [
        "L.clear()\n",
        "print(L)"
      ]
    },
    {
      "cell_type": "markdown",
      "metadata": {
        "application/vnd.databricks.v1+cell": {
          "inputWidgets": {},
          "nuid": "0726b7fa-0d3c-46fc-9246-a7b5540c08c9",
          "showTitle": false,
          "title": ""
        },
        "id": "zy-qRUoPSnO_"
      },
      "source": [
        "## 2.1.1 Indexación de Listas"
      ]
    },
    {
      "cell_type": "markdown",
      "metadata": {
        "application/vnd.databricks.v1+cell": {
          "inputWidgets": {},
          "nuid": "7eac6ca9-8806-4bdc-8cff-8b25649e95af",
          "showTitle": false,
          "title": ""
        },
        "id": "EuzBuTceSnO_"
      },
      "source": [
        "Python es un lenguaje cero-indexado por lo que el conteo de elementos empieza desde cero.\n",
        "\n",
        "Para acceder a los elementos (items) de una Lista utilizamos **índices** dentro de corchetes `[]`. Los **índices** son valores numéricos enteros que se manejan de 2 formas:\n",
        "\n",
        "1.   Indices Positivos: De Izquierda a Derecha empezando por el `0`:  (0,1,2,...)\n",
        "2.   Indices Negativos: De Derecha a Izquierda empezando por el `-1`:  (-1, -2, -3,...)\n",
        "\n",
        "\n",
        "<img style=\"float: center; width: 500px\" src=\"https://storage.googleapis.com/datasets-academy/slice.png\">"
      ]
    },
    {
      "cell_type": "code",
      "execution_count": null,
      "metadata": {
        "application/vnd.databricks.v1+cell": {
          "inputWidgets": {},
          "nuid": "55d30b8a-7c96-4324-9a0c-552e983cd615",
          "showTitle": false,
          "title": ""
        },
        "id": "JdXzhqKySnPA"
      },
      "outputs": [],
      "source": [
        "L = ['a', 'b', 'c', 'd', 'e', 'f']\n",
        "\n",
        "# Indices positivos y negativos para acceder a un mismo elemento:\n",
        "\n",
        "# Primer elemento: \n",
        "print(L[0], L[-6])\n",
        "\n",
        "# Último elemento:  \n",
        "print(L[5], L[-1])"
      ]
    },
    {
      "cell_type": "markdown",
      "metadata": {
        "application/vnd.databricks.v1+cell": {
          "inputWidgets": {},
          "nuid": "3ea3125a-29c1-4756-9d7c-6b03605b6137",
          "showTitle": false,
          "title": ""
        },
        "id": "MkZrsJv6SnPA"
      },
      "source": [
        "## 2.1.2 Slicing de Listas\n",
        "Selección de una porción de la lista.\n",
        "```\n",
        "LISTA [inicio : fin]\n",
        "```\n",
        "\n",
        "<img style=\"float: center; width: 500px\" src=\"https://storage.googleapis.com/datasets-academy/slice.png\">"
      ]
    },
    {
      "cell_type": "code",
      "execution_count": null,
      "metadata": {
        "application/vnd.databricks.v1+cell": {
          "inputWidgets": {},
          "nuid": "886b22f6-ffc4-4767-85a8-11bb7b82cf54",
          "showTitle": false,
          "title": ""
        },
        "id": "sIPNtMoFSnPA"
      },
      "outputs": [],
      "source": [
        "# Slicing de 2 elementos\n",
        "L = ['a', 'b', 'c', 'd', 'e', 'f']\n",
        "L[1:3]"
      ]
    },
    {
      "cell_type": "code",
      "execution_count": null,
      "metadata": {
        "application/vnd.databricks.v1+cell": {
          "inputWidgets": {},
          "nuid": "82799f04-c3b7-4e40-97aa-58aa981b5db4",
          "showTitle": false,
          "title": ""
        },
        "id": "zHj0-fI_SnPA"
      },
      "outputs": [],
      "source": [
        "#Slicing desde el inicio de la lista hasta un final establecido\n",
        "L[:4]"
      ]
    },
    {
      "cell_type": "code",
      "execution_count": null,
      "metadata": {
        "application/vnd.databricks.v1+cell": {
          "inputWidgets": {},
          "nuid": "3120a065-b182-47ff-a00b-4b0a1f8d2863",
          "showTitle": false,
          "title": ""
        },
        "id": "RP6g4OWbSnPA"
      },
      "outputs": [],
      "source": [
        "#Slicing inverso\n",
        "L[:-2]"
      ]
    },
    {
      "cell_type": "code",
      "execution_count": null,
      "metadata": {
        "application/vnd.databricks.v1+cell": {
          "inputWidgets": {},
          "nuid": "f3c4f747-39a0-413c-a6e5-b4a45172e3bd",
          "showTitle": false,
          "title": ""
        },
        "id": "-tiUMqTySnPB"
      },
      "outputs": [],
      "source": [
        "#Slicing utilizando la longitud de una lista\n",
        "L[:len(L)]"
      ]
    },
    {
      "cell_type": "code",
      "execution_count": null,
      "metadata": {
        "application/vnd.databricks.v1+cell": {
          "inputWidgets": {},
          "nuid": "10facaeb-0f73-4682-bcb7-1b6b37529425",
          "showTitle": false,
          "title": ""
        },
        "id": "Q2NQEROjSnPB"
      },
      "outputs": [],
      "source": [
        "#Slicing con inicio definido hasta el final de la lista\n",
        "L[3:]"
      ]
    },
    {
      "cell_type": "markdown",
      "metadata": {
        "application/vnd.databricks.v1+cell": {
          "inputWidgets": {},
          "nuid": "b7b3a2a8-05e9-4c39-bd44-5e8f50808a3d",
          "showTitle": false,
          "title": ""
        },
        "id": "fJvqGHtASnPB"
      },
      "source": [
        "# 🌶️ EJERCICIO 4\n",
        "\n",
        "<a id=\"ejercicio2\"></a>\n",
        "<div class=\"alert alert-block alert-info\">\n",
        "En base a lo aprendido, aplique las siguientes acciones al listado:</div>\n",
        "\n",
        "Operaciones con la lista nombre_usuario:\n",
        "1. Se identificó que entre los elementos figura el nombre de una ciudad, elimine el valor de `'Quito'` de la lista con el método `remove`\n",
        "2. Imprima el tercer y último elemento de la lista usando el indexado por posición\n",
        "3. Imprima los nombres desde el primero elemento de la lista hasta el cuarto elemento usando el slicing\n",
        "4. Finalmente contabilice el número de elementos en la lista"
      ]
    },
    {
      "cell_type": "code",
      "execution_count": null,
      "metadata": {
        "application/vnd.databricks.v1+cell": {
          "inputWidgets": {},
          "nuid": "8a786097-ccf0-48d5-8d6b-68ea9cfb0900",
          "showTitle": false,
          "title": ""
        },
        "id": "6lto_ofWSnPB"
      },
      "outputs": [],
      "source": [
        "nombres_usuarios = ['Juan', 'Andrea', 'Pedro', 'Mishell', 'Quito', 'Pablo']"
      ]
    },
    {
      "cell_type": "code",
      "execution_count": null,
      "metadata": {
        "id": "ZRsIIWxSTzOd"
      },
      "outputs": [],
      "source": [
        "#1\n",
        "#Su código aqui"
      ]
    },
    {
      "cell_type": "code",
      "execution_count": null,
      "metadata": {
        "id": "yWbU9LAITzOd"
      },
      "outputs": [],
      "source": [
        "#2\n",
        "#Su código aqui"
      ]
    },
    {
      "cell_type": "code",
      "execution_count": null,
      "metadata": {
        "id": "dt6h-doGTzOd"
      },
      "outputs": [],
      "source": [
        "#3\n",
        "#Su código aqui"
      ]
    },
    {
      "cell_type": "code",
      "execution_count": null,
      "metadata": {
        "id": "9l2JpWOFTzOd"
      },
      "outputs": [],
      "source": [
        "#4\n",
        "#Su código aqui"
      ]
    },
    {
      "cell_type": "markdown",
      "metadata": {
        "application/vnd.databricks.v1+cell": {
          "inputWidgets": {},
          "nuid": "f78c3a08-01d6-4200-b09a-77cd0a1c18b0",
          "showTitle": false,
          "title": ""
        },
        "id": "uTbqM6-wSnPC"
      },
      "source": [
        "# 2.2 Operaciones básicas con listas"
      ]
    },
    {
      "cell_type": "markdown",
      "metadata": {
        "application/vnd.databricks.v1+cell": {
          "inputWidgets": {},
          "nuid": "de5fda1c-e2c1-4b41-804b-06793d2f6cae",
          "showTitle": false,
          "title": ""
        },
        "id": "QCEZG2akSnPC"
      },
      "source": [
        "**Mutabilidad**: Las listas pueden modificar sus elementos (son mutables)"
      ]
    },
    {
      "cell_type": "code",
      "execution_count": null,
      "metadata": {
        "application/vnd.databricks.v1+cell": {
          "inputWidgets": {},
          "nuid": "eb169f8f-2432-466d-a104-e457429efdc7",
          "showTitle": false,
          "title": ""
        },
        "id": "uoWuaJ3mSnPC"
      },
      "outputs": [],
      "source": [
        "A = ['Kan', 'Ely', 'Pedro']\n",
        "A[1] = 'Ana'\n",
        "print(A)"
      ]
    },
    {
      "cell_type": "markdown",
      "metadata": {
        "application/vnd.databricks.v1+cell": {
          "inputWidgets": {},
          "nuid": "84c28342-045f-41ee-9127-d81630268d23",
          "showTitle": false,
          "title": ""
        },
        "id": "xLUkbxq1SnPC"
      },
      "source": [
        "**Eliminar elementos** de una lista con el comando `del` con indice puntual o slicing."
      ]
    },
    {
      "cell_type": "code",
      "execution_count": null,
      "metadata": {
        "application/vnd.databricks.v1+cell": {
          "inputWidgets": {},
          "nuid": "9d419064-1e0f-4e6a-ade4-0febcf237f51",
          "showTitle": false,
          "title": ""
        },
        "id": "SyJGTQ7hSnPD"
      },
      "outputs": [],
      "source": [
        "A = ['Kan', 'Ana', 'Joaquin','Pedro','Ernesto']\n",
        "del(A[-1])\n",
        "print(A)"
      ]
    },
    {
      "cell_type": "code",
      "execution_count": null,
      "metadata": {
        "application/vnd.databricks.v1+cell": {
          "inputWidgets": {},
          "nuid": "97779b08-9c70-4bf3-82d9-8722c0bc0613",
          "showTitle": false,
          "title": ""
        },
        "id": "sAF6RM3OSnPD"
      },
      "outputs": [],
      "source": [
        "del(A[1:2])\n",
        "print(A)"
      ]
    },
    {
      "cell_type": "markdown",
      "metadata": {
        "application/vnd.databricks.v1+cell": {
          "inputWidgets": {},
          "nuid": "d539d096-d51f-446b-bf5f-19da06cae965",
          "showTitle": false,
          "title": ""
        },
        "id": "zW-BbsonSnPD"
      },
      "source": [
        "**Concatenar/Unir** dos listas con el comando `extend`"
      ]
    },
    {
      "cell_type": "code",
      "execution_count": null,
      "metadata": {
        "application/vnd.databricks.v1+cell": {
          "inputWidgets": {},
          "nuid": "60e4336b-71d0-4add-bf02-893ae06440dc",
          "showTitle": false,
          "title": ""
        },
        "id": "7bZM-fKJSnPD"
      },
      "outputs": [],
      "source": [
        "L = [1,3,4]\n",
        "N = [30, 80, 45]\n",
        "\n",
        "L.extend(N)\n",
        "print(L)"
      ]
    },
    {
      "cell_type": "markdown",
      "metadata": {
        "application/vnd.databricks.v1+cell": {
          "inputWidgets": {},
          "nuid": "431753f9-0c59-4eca-bbd2-924bab029466",
          "showTitle": false,
          "title": ""
        },
        "id": "YZKEpW4aSnPD"
      },
      "source": [
        "**Contar** el número de veces que se encuentra un elemento en una lista con `count`"
      ]
    },
    {
      "cell_type": "code",
      "execution_count": null,
      "metadata": {
        "application/vnd.databricks.v1+cell": {
          "inputWidgets": {},
          "nuid": "4bd90899-8ee9-4516-8a10-595c5d70d95d",
          "showTitle": false,
          "title": ""
        },
        "id": "p8U9cAmmSnPE"
      },
      "outputs": [],
      "source": [
        "L = [1, 3, 4, 3, 3, 3, 1]\n",
        "L.count(3)"
      ]
    },
    {
      "cell_type": "markdown",
      "metadata": {
        "application/vnd.databricks.v1+cell": {
          "inputWidgets": {},
          "nuid": "f81d7dcb-0fab-452f-b87f-1b0cd9aac669",
          "showTitle": false,
          "title": ""
        },
        "id": "b13jBy56SnPE"
      },
      "source": [
        "**Obtener** el indice de la posicion de un elemento en una lista con `index`"
      ]
    },
    {
      "cell_type": "code",
      "execution_count": null,
      "metadata": {
        "application/vnd.databricks.v1+cell": {
          "inputWidgets": {},
          "nuid": "26e86e0b-298d-40b6-8f64-78c7376edae4",
          "showTitle": false,
          "title": ""
        },
        "id": "4c7B5ALrSnPE"
      },
      "outputs": [],
      "source": [
        "L.index(4)"
      ]
    },
    {
      "cell_type": "markdown",
      "metadata": {
        "application/vnd.databricks.v1+cell": {
          "inputWidgets": {},
          "nuid": "a9c16877-afe3-414b-939b-483300a412fe",
          "showTitle": false,
          "title": ""
        },
        "id": "mbVC6Ok-SnPG"
      },
      "source": [
        "# 2.3 Diccionarios"
      ]
    },
    {
      "cell_type": "markdown",
      "metadata": {
        "application/vnd.databricks.v1+cell": {
          "inputWidgets": {},
          "nuid": "4a25238e-b8be-44b7-b1f8-3a653d1fd8b2",
          "showTitle": false,
          "title": ""
        },
        "id": "vAlTQ9bCSnPG"
      },
      "source": [
        "1. Nos permiten identificar cada elemento (valor) por una clave. **Importante:** Las claves son únicas, no pueden ser las mismas\n",
        "2. Encerrar el diccionario entre llaves ```{ }```\n",
        "3. Las parejas de clave y valor se separan con comas; mientras que, la clave y el valor se separan con dos puntos ```{clave1: valor1, clave2: valor2}```\n",
        "4. Asignar el diccionario a una variable que la representará, utilizando el operador ```=```\n",
        "5. Se accede a los mismos a través de las claves (no a través de índices de posición)"
      ]
    },
    {
      "cell_type": "code",
      "execution_count": null,
      "metadata": {
        "application/vnd.databricks.v1+cell": {
          "inputWidgets": {},
          "nuid": "b4fbd20f-bf4f-4826-bda2-89b238b6a429",
          "showTitle": false,
          "title": ""
        },
        "id": "2Qtiw7q4SnPG"
      },
      "outputs": [],
      "source": [
        "# claves: Nombre ciudades\n",
        "# valores: Numero de registros de participantes a un evento\n",
        "\n",
        "registro_ciudad = {'Lima': 692, 'Quito': 312, 'Montevideo': 95, 'Californina': 153, 'Medellín': 485}\n",
        "registro_ciudad"
      ]
    },
    {
      "cell_type": "markdown",
      "metadata": {
        "application/vnd.databricks.v1+cell": {
          "inputWidgets": {},
          "nuid": "96350422-48cf-4c06-8eba-e41ee2397980",
          "showTitle": false,
          "title": ""
        },
        "id": "KrlXrY3JSnPG"
      },
      "source": [
        "**Consultar valores** correspondientes a ciertas claves en un Diccionario <br>\n",
        "\n",
        "Para realizar esta consulta, INDEXAMOS con el nombre de la clave en el diccionario"
      ]
    },
    {
      "cell_type": "code",
      "execution_count": null,
      "metadata": {
        "application/vnd.databricks.v1+cell": {
          "inputWidgets": {},
          "nuid": "d8a0108a-ef71-4051-80cb-95e5e1985fc1",
          "showTitle": false,
          "title": ""
        },
        "id": "iZCPvFaiSnPG"
      },
      "outputs": [],
      "source": [
        "registro_ciudad['Quito']"
      ]
    },
    {
      "cell_type": "markdown",
      "metadata": {
        "application/vnd.databricks.v1+cell": {
          "inputWidgets": {},
          "nuid": "8e51f122-1b98-4cef-90d2-a01cfdb5da3d",
          "showTitle": false,
          "title": ""
        },
        "id": "cxBdhnsSSnPG"
      },
      "source": [
        "**Crear una nueva pareja de clave valor**"
      ]
    },
    {
      "cell_type": "code",
      "execution_count": null,
      "metadata": {
        "application/vnd.databricks.v1+cell": {
          "inputWidgets": {},
          "nuid": "4c00a125-2a30-4a75-89cd-3b99e0ba7329",
          "showTitle": false,
          "title": ""
        },
        "id": "rnccBtHMSnPH"
      },
      "outputs": [],
      "source": [
        "registro_ciudad['Roma'] = 358 "
      ]
    },
    {
      "cell_type": "code",
      "execution_count": null,
      "metadata": {
        "application/vnd.databricks.v1+cell": {
          "inputWidgets": {},
          "nuid": "29bbf0f8-44c8-4717-995a-e2437175530e",
          "showTitle": false,
          "title": ""
        },
        "id": "rmODxg5GSnPH"
      },
      "outputs": [],
      "source": [
        "print(registro_ciudad)"
      ]
    },
    {
      "cell_type": "markdown",
      "metadata": {
        "application/vnd.databricks.v1+cell": {
          "inputWidgets": {},
          "nuid": "e896e930-3697-4609-9806-1d06cdb1099e",
          "showTitle": false,
          "title": ""
        },
        "id": "98j-aAy0SnPH"
      },
      "source": [
        "**Impresión de todos los valores y claves** almacenados en un Diccionario"
      ]
    },
    {
      "cell_type": "code",
      "execution_count": null,
      "metadata": {
        "application/vnd.databricks.v1+cell": {
          "inputWidgets": {},
          "nuid": "c7e2ccaf-f338-4992-a7d2-af0b4dfed269",
          "showTitle": false,
          "title": ""
        },
        "id": "0WGeTaPHSnPH"
      },
      "outputs": [],
      "source": [
        "# Impresion de todas las claves (KEYS) de un diccionario\n",
        "registro_ciudad.keys()"
      ]
    },
    {
      "cell_type": "code",
      "execution_count": null,
      "metadata": {
        "application/vnd.databricks.v1+cell": {
          "inputWidgets": {},
          "nuid": "b0350378-b564-4b59-9712-1b6b52f13e37",
          "showTitle": false,
          "title": ""
        },
        "id": "aEDigz9YSnPH"
      },
      "outputs": [],
      "source": [
        "# Impresion de todos los valores (VALUES) de un diccionario\n",
        "registro_ciudad.values()"
      ]
    },
    {
      "cell_type": "markdown",
      "metadata": {
        "application/vnd.databricks.v1+cell": {
          "inputWidgets": {},
          "nuid": "98782716-ca0d-4314-bed0-31429f1d0bfb",
          "showTitle": false,
          "title": ""
        },
        "id": "_7ouxHp_SnPI"
      },
      "source": [
        "**Obtener, eliminar y actualizar** valores almacenados en un Diccionario"
      ]
    },
    {
      "cell_type": "code",
      "execution_count": null,
      "metadata": {
        "application/vnd.databricks.v1+cell": {
          "inputWidgets": {},
          "nuid": "40c5daab-3e9a-481e-bbc2-c2128ecbb913",
          "showTitle": false,
          "title": ""
        },
        "id": "vHrT2qx2SnPI"
      },
      "outputs": [],
      "source": [
        "# Obtener el valor correspondiente a partir del nombre de una clave (get)\n",
        "registro_ciudad.get('Lima')"
      ]
    },
    {
      "cell_type": "code",
      "execution_count": null,
      "metadata": {
        "application/vnd.databricks.v1+cell": {
          "inputWidgets": {},
          "nuid": "8fa9cc9a-70b0-474f-a117-aee8342dc948",
          "showTitle": false,
          "title": ""
        },
        "id": "ByXuz0CmSnPI"
      },
      "outputs": [],
      "source": [
        "# Borrar una pareja de clave: valor a partir del nombre de una clave (pop), finalmente devuelve el valor eliminado de dicha clave\n",
        "registro_ciudad.pop('Quito')"
      ]
    },
    {
      "cell_type": "code",
      "execution_count": null,
      "metadata": {
        "application/vnd.databricks.v1+cell": {
          "inputWidgets": {},
          "nuid": "8013ca9c-9c31-439f-b016-6107b6e05d2b",
          "showTitle": false,
          "title": ""
        },
        "id": "RVPepfTESnPI"
      },
      "outputs": [],
      "source": [
        "print(registro_ciudad)"
      ]
    },
    {
      "cell_type": "code",
      "execution_count": null,
      "metadata": {
        "application/vnd.databricks.v1+cell": {
          "inputWidgets": {},
          "nuid": "1a5624c9-2bf4-402c-a6e7-e0d4d0b0cbac",
          "showTitle": false,
          "title": ""
        },
        "id": "UYvtuvmVSnPJ"
      },
      "outputs": [],
      "source": [
        "# Actualizar el valor de una clave o lo crea si dicha clave no se encuentra (update)\n",
        "registro_ciudad.update({'Roma': 30})\n",
        "registro_ciudad"
      ]
    },
    {
      "cell_type": "markdown",
      "metadata": {
        "application/vnd.databricks.v1+cell": {
          "inputWidgets": {},
          "nuid": "15505f5e-2842-41ff-b872-f37ea9d1723b",
          "showTitle": false,
          "title": ""
        },
        "id": "7O8fe6stSnPE"
      },
      "source": [
        "# 🌶️ EJERCICIO 5\n",
        "\n",
        "<a id=\"ejercicio3\"></a>\n",
        "<div class=\"alert alert-block alert-info\">\n",
        "Poner en práctica lo aprendido realizando operaciones sobre la lista `productos` y `dulces`:</div>\n",
        "\n",
        "Construya una lista llamada `productos` que contega los siguientes valores `detergente`, `pasta`, `arroz` y `lechuga`\n",
        "\n",
        "1. Cambiar el valor de `pasta` por `galletas` dentro del listado, asignando en la posición de dicho valor el nuevo elemento e imprima el listado `productos`\n",
        "2. Crear una lista llamada `dulces` que contega los siguientes valores `chocolates` y `caramelos`, e imprima el listado creado\n",
        "3. Unir ambos listados con el método `extend` e imprima el listado `productos` concatenado\n",
        "4. Eliminar utilizando el slicing los tres primero elementos en el listado `productos` e imprima el listado"
      ]
    },
    {
      "cell_type": "code",
      "execution_count": null,
      "metadata": {
        "application/vnd.databricks.v1+cell": {
          "inputWidgets": {},
          "nuid": "7ce9cf58-820e-49c3-82a6-8fbafb156e7c",
          "showTitle": false,
          "title": ""
        },
        "id": "F6vOgjPsSnPF"
      },
      "outputs": [],
      "source": [
        "#1\n",
        "#Su código aqui"
      ]
    },
    {
      "cell_type": "code",
      "execution_count": null,
      "metadata": {
        "id": "UUab_wmpTzOf"
      },
      "outputs": [],
      "source": [
        "#2\n",
        "#Su código aqui"
      ]
    },
    {
      "cell_type": "code",
      "execution_count": null,
      "metadata": {
        "id": "02ADIUDDTzOf"
      },
      "outputs": [],
      "source": [
        "#3\n",
        "#Su código aqui"
      ]
    },
    {
      "cell_type": "code",
      "execution_count": null,
      "metadata": {
        "id": "d77ZdffPTzOf"
      },
      "outputs": [],
      "source": [
        "#4\n",
        "#Su código aqui"
      ]
    },
    {
      "cell_type": "markdown",
      "metadata": {
        "application/vnd.databricks.v1+cell": {
          "inputWidgets": {},
          "nuid": "bea6db77-fd21-4399-86e2-e0d6232f6774",
          "showTitle": false,
          "title": ""
        },
        "id": "kTQsDxqCSnPJ"
      },
      "source": [
        "# 🌶️ EJERCICIO 6\n",
        "\n",
        "\n",
        "<a id=\"ejercicio4\"></a>\n",
        "<div class=\"alert alert-block alert-info\">\n",
        "A continuación contamos los siguientes datos:</div>\n",
        "\n",
        "\n",
        "| Marca | Transmisión |\n",
        "|-------|-------------|\n",
        "| Mazda | manual      |\n",
        "| Kia   | automática  |\n",
        "<br>\n",
        "\n",
        "1. Construya un diccionario llamado `marca_transmision`, coloque en las claves la marca del vehículo y como valor el tipo de transmisión correspondiente. Finalmente imprimir el diccionario\n",
        "2. Incluir en el diccionario una nueva pareja de clave y valor: clave `Toyota` con el valor de `manual`\n",
        "3. Eliminar la clave y valor de Kia, empleando el método `pop` e imprimir el diccionario\n",
        "4. Actualizar el valor al valor de 400 en la clave Mazda usando el método `update`\n",
        "5. Devolver el valor correspondiente a la clave de Mazda con el método `get`"
      ]
    },
    {
      "cell_type": "code",
      "execution_count": null,
      "metadata": {
        "application/vnd.databricks.v1+cell": {
          "inputWidgets": {},
          "nuid": "a28a0174-b0b0-40e9-9155-a6daf6fb0191",
          "showTitle": false,
          "title": ""
        },
        "id": "PBhlVY_TSnPJ"
      },
      "outputs": [],
      "source": [
        "#1\n",
        "#Su código aqui"
      ]
    },
    {
      "cell_type": "code",
      "execution_count": null,
      "metadata": {
        "id": "QqkDbzcXTzOi"
      },
      "outputs": [],
      "source": [
        "#2\n",
        "#Su código aqui"
      ]
    },
    {
      "cell_type": "code",
      "execution_count": null,
      "metadata": {
        "id": "Cd2INQJTTzOi"
      },
      "outputs": [],
      "source": [
        "#3\n",
        "#Su código aqui"
      ]
    },
    {
      "cell_type": "code",
      "execution_count": null,
      "metadata": {
        "id": "bgAC8TtZTzOi"
      },
      "outputs": [],
      "source": [
        "#4\n",
        "#Su código aqui"
      ]
    },
    {
      "cell_type": "code",
      "execution_count": null,
      "metadata": {
        "id": "7zcDCl-4TzOi"
      },
      "outputs": [],
      "source": [
        "#5\n",
        "#Su código aqui"
      ]
    },
    {
      "cell_type": "markdown",
      "metadata": {
        "application/vnd.databricks.v1+cell": {
          "inputWidgets": {},
          "nuid": "aa83f2c1-3374-45aa-8a80-2bbf6e025643",
          "showTitle": false,
          "title": ""
        },
        "id": "it4oi3qnSnO7"
      },
      "source": [
        "# 2.4 Tuplas\n",
        "1. Colección de datos INMUTABLES (sus elementos no pueden modificarse) \n",
        "2. Encerrar la tupla entre paréntisis `()`\n",
        "3. No requiere especificar el tipo de datos y puede contener elementos de distinto tipo\n",
        "4. Separar cada elemento con coma\n",
        "5. Asignar la tupla a una variable que la representará, utilizando el operador ="
      ]
    },
    {
      "cell_type": "code",
      "execution_count": null,
      "metadata": {
        "application/vnd.databricks.v1+cell": {
          "inputWidgets": {},
          "nuid": "a2bd9fd0-dd4f-4b1a-ac90-f6e1e8c6f9c5",
          "showTitle": false,
          "title": ""
        },
        "id": "6GTsjSzmSnO7"
      },
      "outputs": [],
      "source": [
        "tupla = (100, 20, 0, 300)\n",
        "tupla"
      ]
    },
    {
      "cell_type": "code",
      "execution_count": null,
      "metadata": {
        "application/vnd.databricks.v1+cell": {
          "inputWidgets": {},
          "nuid": "50111342-7e69-441f-9d21-98d15e5bc89d",
          "showTitle": false,
          "title": ""
        },
        "id": "TFPS7d6USnO7"
      },
      "outputs": [],
      "source": [
        "type(tupla)"
      ]
    },
    {
      "cell_type": "markdown",
      "metadata": {
        "application/vnd.databricks.v1+cell": {
          "inputWidgets": {},
          "nuid": "9044d196-0923-4900-8090-6a2de312b82e",
          "showTitle": false,
          "title": ""
        },
        "id": "LZGje5B8SnO7"
      },
      "source": [
        "**Error por Inmutabilidad de Tuplas:** Al tratar de modificar un elemento en una tupla se emite un mensaje de error. \n",
        "\n",
        "**Importante:** Las tuplas son inmutables."
      ]
    },
    {
      "cell_type": "code",
      "source": [
        "tupla[0] = 20"
      ],
      "metadata": {
        "id": "Oa2JylQ_GfFn"
      },
      "execution_count": null,
      "outputs": []
    },
    {
      "cell_type": "markdown",
      "source": [
        "# 🌶️ EJERCICIO 7\n",
        "\n",
        "Trabajas en una oficina de admisiones de la universidad. Al inspeccionar un conjunto de datos de solicitantes universitarios, observa que algunos estudiantes han representado sus calificaciones con letras (\"A\", \"B\", \"C\", \"D\", \"F\"), mientras que otros han representado sus calificaciones con un número entre 0 y 100.\n",
        "\n",
        "Se da cuenta de que, por coherencia, todas las calificaciones deben tener el mismo formato y decide formatearlas todas como letras. Para la conversión, decides asignar:\n",
        "\n",
        "- \"A\" - cualquier nota 90-100, inclusive\n",
        "- \"B\" - cualquier nota 80-89, inclusive\n",
        "- \"C\" - cualquier nota 70-79, inclusive\n",
        "- \"D\" - cualquier nota 60-69, inclusive\n",
        "- \"F\" - cualquier nota <60\n",
        "\n",
        "Escribe una función get_grade() que tome como entrada:\n",
        "\n",
        "> score - un número entero 0-100 correspondiente a una calificación numérica. Debería devolver la calificación de letra que corresponde. \n",
        "\n",
        "Por ejemplo:\n",
        "\n",
        "Una puntuación de 85 corresponde a una calificación B. En otras palabras, get_grade(85) debería devolver \"B\"."
      ],
      "metadata": {
        "id": "tBDiDKaFQ8Rb"
      }
    },
    {
      "cell_type": "code",
      "source": [
        "def get_grade(score):\n",
        "    grade = \"A\"\n",
        "    return grade"
      ],
      "metadata": {
        "id": "f6UkBRd7Q6yU"
      },
      "execution_count": null,
      "outputs": []
    },
    {
      "cell_type": "code",
      "source": [
        "get_grade(85)"
      ],
      "metadata": {
        "id": "8eK0lwjxRmSB"
      },
      "execution_count": null,
      "outputs": []
    },
    {
      "cell_type": "markdown",
      "metadata": {
        "id": "jq3STyesTzOi"
      },
      "source": [
        "<a id=\"ejemplo_markdown\"></a>\n",
        "***\n",
        "# Ejemplos de Markdown\n",
        "\n",
        "En las siguientes celdas hay algunos ejemplos de los que podemos hacer con markdown en las celdas de texto"
      ]
    },
    {
      "cell_type": "markdown",
      "metadata": {
        "id": "PHaD-4iYTzOj"
      },
      "source": [
        "# Ejemplo\n",
        "## Header 2\n",
        "### Header 3\n",
        "#### Header 4\n",
        "##### Header 5\n",
        "###### Header 6"
      ]
    },
    {
      "cell_type": "markdown",
      "metadata": {
        "id": "pjQThgAXTzOj"
      },
      "source": [
        "**Texto en negritas**  \n",
        "*¿Porque el texto de lado se llama Texto en italicas?*  \n",
        "***Negritas italicas***  \n",
        "~~Esto está de tachar~~"
      ]
    },
    {
      "cell_type": "markdown",
      "metadata": {
        "id": "l0xJxc84TzOj"
      },
      "source": [
        "\n",
        "> Esto es un blockquote\n",
        ">> and then some more text\n",
        ">>> and then some more"
      ]
    },
    {
      "cell_type": "markdown",
      "metadata": {
        "id": "WlXwJENcTzOj"
      },
      "source": [
        "\n",
        "**Línea sola**\n",
        "***\n",
        "\n",
        "1. Papa\n",
        "2. Pepino\n",
        "3. Zanahoria\n",
        "\n",
        "**Bullets**\n",
        "\n",
        "- Una\n",
        "- Otra\n",
        "- La tercera\n",
        "\n",
        "**Lista de tareas**\n",
        "\n",
        "- [x] Some task\n",
        "- [ ] Some more task\n"
      ]
    },
    {
      "cell_type": "markdown",
      "metadata": {
        "id": "mn8HL__uTzOj"
      },
      "source": [
        "**Vinculos e imagenes**\n",
        "<div>\n",
        "<img src=\"https://www.usfq.edu.ec/sites/default/files/2020-07/logo_usfq_pq_35.svg\" width=\"200\"/>\n",
        "</div>\n",
        "\n",
        "[Vínculo a Wikipedia](https://en.wikipedia.org)\n",
        "\n",
        "Tambien se puede hacer una refrencia [lareferencia][]\n",
        "\n",
        "[lareferencia]: https://en.wikipedia.org \"Wikipedia\"\n"
      ]
    },
    {
      "cell_type": "markdown",
      "metadata": {
        "id": "cxD0nB3MTzOj"
      },
      "source": [
        "\n",
        "**Código en Python**\n",
        "```python\n",
        "s = \"Python syntax highlighting\"\n",
        "print s\n",
        "```"
      ]
    },
    {
      "cell_type": "markdown",
      "metadata": {
        "id": "LSEwdHQwTzOj"
      },
      "source": [
        "**Tabla**\n",
        "\n",
        "|Header|Header|Header|\n",
        "|------|------|------|\n",
        "|A|B|C|\n",
        "|X|Y|Z|"
      ]
    },
    {
      "cell_type": "markdown",
      "metadata": {
        "id": "RZ-kWPgsTzOj"
      },
      "source": [
        "\n",
        "<span style=\"color:red\">Tambíen puedo poner HTML</span>\n",
        "\n",
        "<div class=\"alert alert-block alert-info\">\n",
        "<b>Tip:</b> Puedo usar cajones azules para resaltar información.</div>\n",
        "\n",
        "<div class=\"alert alert-block alert-warning\">\n",
        "<b>Ejemplo:</b> Tambien en amarillo.\n",
        "</div>\n",
        "\n",
        "<code style=\"background:yellow;color:black\">Y resaltar algo muy fuerte.</code>\n",
        "\n",
        "___\n",
        "___"
      ]
    },
    {
      "cell_type": "code",
      "execution_count": null,
      "metadata": {
        "id": "dBl83uPpTzOk"
      },
      "outputs": [],
      "source": []
    }
  ],
  "metadata": {
    "application/vnd.databricks.v1+notebook": {
      "dashboards": [],
      "language": "python",
      "notebookName": "01 Python - Intro crash course",
      "notebookOrigID": 2219405027168191,
      "widgets": {}
    },
    "colab": {
      "name": "Python_Intro_crash_course__202120.ipynb",
      "provenance": [],
      "toc_visible": true
    },
    "kernelspec": {
      "display_name": "Python 3 (ipykernel)",
      "language": "python",
      "name": "python3"
    },
    "language_info": {
      "codemirror_mode": {
        "name": "ipython",
        "version": 3
      },
      "file_extension": ".py",
      "mimetype": "text/x-python",
      "name": "python",
      "nbconvert_exporter": "python",
      "pygments_lexer": "ipython3",
      "version": "3.8.12"
    }
  },
  "nbformat": 4,
  "nbformat_minor": 0
}