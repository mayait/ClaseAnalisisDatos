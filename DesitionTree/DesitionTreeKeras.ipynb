{
  "nbformat": 4,
  "nbformat_minor": 0,
  "metadata": {
    "colab": {
      "private_outputs": true,
      "provenance": [],
      "authorship_tag": "ABX9TyPUbxufeLfBpHmrZbA8g1kZ",
      "include_colab_link": true
    },
    "kernelspec": {
      "name": "python3",
      "display_name": "Python 3"
    },
    "language_info": {
      "name": "python"
    }
  },
  "cells": [
    {
      "cell_type": "markdown",
      "metadata": {
        "id": "view-in-github",
        "colab_type": "text"
      },
      "source": [
        "<a href=\"https://colab.research.google.com/github/mayait/ClaseAnalisisDatos/blob/main/DesitionTree/DesitionTreeKeras.ipynb\" target=\"_parent\"><img src=\"https://colab.research.google.com/assets/colab-badge.svg\" alt=\"Open In Colab\"/></a>"
      ]
    },
    {
      "cell_type": "markdown",
      "source": [
        "Install the TensorFlow Decision Forests library by placing the following line of code in your new Colab notebook"
      ],
      "metadata": {
        "id": "rzfKbz3vM-Of"
      }
    },
    {
      "cell_type": "markdown",
      "source": [
        "---\n",
        "# Ejercicio 1\n",
        "\n",
        "Dataset: [Credit](https://archive.ics.uci.edu/ml/datasets/bank+marketing)\n",
        "\n",
        "**Source:**\n",
        "\n",
        "[Moro et al., 2014] S. Moro, P. Cortez and P. Rita. A Data-Driven Approach to Predict the Success of Bank Telemarketing. Decision Support Systems, Elsevier, 62:22-31, June 2014\n",
        "\n",
        "**Data Set Information:**\n",
        "\n",
        "The data is related with direct marketing campaigns of a Portuguese banking institution. The marketing campaigns were based on phone calls. Often, more than one contact to the same client was required, in order to access if the product (bank term deposit) would be ('yes') or not ('no') subscribed.There are four datasets:1) bank-additional-full.csv with all examples (41188) and 20 inputs, ordered by date (from May 2008 to November 2010), very close to the data analyzed in [Moro et al., 2014]2) bank-additional.csv with 10% of the examples (4119), randomly selected from 1), and 20 inputs.3) bank-full.csv with all examples and 17 inputs, ordered by date (older version of this dataset with less inputs).4) bank.csv with 10% of the examples and 17 inputs, randomly selected from 3 (older version of this dataset with less inputs).The smallest datasets are provided to test more computationally demanding machine learning algorithms (e.g., SVM).The classification goal is to predict if the client will subscribe (yes/no) a term deposit (variable y).\n",
        "\n",
        "**Attribute Information:**\n",
        "\n",
        "```\n",
        "1 - age (numeric)\n",
        "2 - job : type of job (categorical: 'admin.','blue-collar','entrepreneur','housemaid','management','retired','self-employed','services','student','technician','unemployed','unknown')\n",
        "3 - marital : marital status (categorical: 'divorced','married','single','unknown'; note: 'divorced' means divorced or widowed)\n",
        "4 - education (categorical: 'basic.4y','basic.6y','basic.9y','high.school','illiterate','professional.course','university.degree','unknown')\n",
        "5 - default: has credit in default? (categorical: 'no','yes','unknown')\n",
        "6 - housing: has housing loan? (categorical: 'no','yes','unknown')\n",
        "7 - loan: has personal loan? (categorical: 'no','yes','unknown') # related with the last contact of the current campaign:\n",
        "8 - contact: contact communication type (categorical: 'cellular','telephone')\n",
        "9 - month: last contact month of year (categorical: 'jan', 'feb', 'mar', ..., 'nov', 'dec')\n",
        "10 - day_of_week: last contact day of the week (categorical: 'mon','tue','wed','thu','fri')\n",
        "11 - duration: last contact duration, in seconds (numeric). Important note: this attribute highly affects the output target (e.g., if duration=0 then y='no'). Yet, the duration is not known before a call is performed. Also, after the end of the call y is obviously known. Thus, this input should only be included for benchmark purposes and should be discarded if the intention is to have a realistic predictive model. # other attributes:\n",
        "12 - campaign: number of contacts performed during this campaign and for this client (numeric, includes last contact)\n",
        "13 - pdays: number of days that passed by after the client was last contacted from a previous campaign (numeric; 999 means client was not previously contacted)\n",
        "14 - previous: number of contacts performed before this campaign and for this client (numeric)\n",
        "15 - poutcome: outcome of the previous marketing campaign (categorical: 'failure','nonexistent','success') # social and economic context attributes\n",
        "16 - emp.var.rate: employment variation rate - quarterly indicator (numeric)\n",
        "17 - cons.price.idx: consumer price index - monthly indicator (numeric)\n",
        "18 - cons.conf.idx: consumer confidence index - monthly indicator (numeric)\n",
        "19 - euribor3m: euribor 3 month rate - daily indicator (numeric)\n",
        "20 - nr.employed: number of employees - quarterly indicator (numeric)\n",
        "\n",
        "Output variable (desired target):\n",
        "21 - y - has the client subscribed a term deposit? (binary: 'yes','no')\n",
        "```"
      ],
      "metadata": {
        "id": "vnBI_8M0NILL"
      }
    },
    {
      "cell_type": "code",
      "source": [
        "!pip install tensorflow_decision_forests\n",
        "!pip install keras-tuner"
      ],
      "metadata": {
        "id": "rxx5ppW7NSK-"
      },
      "execution_count": null,
      "outputs": []
    },
    {
      "cell_type": "code",
      "execution_count": null,
      "metadata": {
        "id": "l9kw2mGsMiPU"
      },
      "outputs": [],
      "source": [
        "import pandas as pd\n",
        "import numpy as np\n",
        "import matplotlib.pyplot as plt\n",
        "import seaborn as sns\n",
        "import tensorflow_decision_forests as tfdf\n",
        "\n",
        "# Descargar el archivo automaticamente \n",
        "!wget https://raw.githubusercontent.com/mayait/ClaseAnalisisDatos/main/DesitionTree/data/deposit.csv"
      ]
    },
    {
      "cell_type": "code",
      "source": [
        "df = pd.read_csv(\"deposit.csv\")\n",
        "df.sample(10)"
      ],
      "metadata": {
        "id": "sp8DNfXbN8iI"
      },
      "execution_count": null,
      "outputs": []
    },
    {
      "cell_type": "code",
      "source": [
        "df.shape"
      ],
      "metadata": {
        "id": "1vIBhO_8NhDw"
      },
      "execution_count": null,
      "outputs": []
    },
    {
      "cell_type": "code",
      "source": [],
      "metadata": {
        "id": "AOc1flM1NLO-"
      },
      "execution_count": null,
      "outputs": []
    },
    {
      "cell_type": "code",
      "source": [
        "classes = list(df['y'].unique())\n",
        "print(f\"Label classes: {classes}\")\n",
        "\n",
        "df['y'] = df['y'].map(classes.index)"
      ],
      "metadata": {
        "id": "3Ei-ap2A4yuo"
      },
      "execution_count": null,
      "outputs": []
    },
    {
      "cell_type": "code",
      "source": [
        "np.random.seed(1)\n",
        "# Use the ~10% of the examples as the testing set\n",
        "# and the remaining ~90% of the examples as the training set.\n",
        "test_indices = np.random.rand(len(df)) < 0.1\n",
        "pandas_train_dataset = df[~test_indices]\n",
        "pandas_test_dataset = df[test_indices]\n",
        "\n",
        "print(\"Training examples: \", len(pandas_train_dataset))\n",
        "\n",
        "print(\"Testing examples: \", len(pandas_test_dataset))\n"
      ],
      "metadata": {
        "id": "x0RHoQs866Ki"
      },
      "execution_count": null,
      "outputs": []
    },
    {
      "cell_type": "code",
      "source": [
        "tf_train_dataset = tfdf.keras.pd_dataframe_to_tf_dataset(pandas_train_dataset, label='y')\n",
        "model = tfdf.keras.CartModel()\n",
        "model.fit(tf_train_dataset)"
      ],
      "metadata": {
        "id": "uoLKmqB669Wm"
      },
      "execution_count": null,
      "outputs": []
    },
    {
      "cell_type": "code",
      "source": [
        "tfdf.model_plotter.plot_model_in_colab(model, max_depth=10)"
      ],
      "metadata": {
        "id": "Fzcygbj97VJU"
      },
      "execution_count": null,
      "outputs": []
    },
    {
      "cell_type": "code",
      "source": [
        "model.compile(\"accuracy\")\n",
        "print(\"Train evaluation: \", model.evaluate(tf_train_dataset, return_dict=True))\n",
        "# >> Train evaluation:  {'loss': 0.0, 'accuracy': 0.96116}\n",
        "\n",
        "tf_test_dataset = tfdf.keras.pd_dataframe_to_tf_dataset(pandas_test_dataset, label='y')\n",
        "print(\"Test evaluation: \", model.evaluate(tf_test_dataset, return_dict=True))\n",
        "# >> Test evaluation:  {'loss': 0.0, 'accuracy': 0.97142}"
      ],
      "metadata": {
        "id": "mXhf-qkh7hUk"
      },
      "execution_count": null,
      "outputs": []
    },
    {
      "cell_type": "code",
      "source": [
        "!pip install keras-tuner"
      ],
      "metadata": {
        "id": "R8Q09iY37_HQ"
      },
      "execution_count": null,
      "outputs": []
    },
    {
      "cell_type": "code",
      "source": [
        "import keras_tuner as kt\n",
        "\n",
        "def build_model(hp):\n",
        "  model = tfdf.keras.CartModel(\n",
        "      min_examples=hp.Choice(\"min_examples\",\n",
        "          # Try four possible values for \"min_examples\" hyperparameter.\n",
        "          # min_examples=10 would limit the growth of the decision tree,\n",
        "          # while min_examples=1 would lead to deeper decision trees.\n",
        "         [1, 2, 5, 10]),\n",
        "      validation_ratio=hp.Choice(\"validation_ratio\",\n",
        "         # Three possible values for the \"validation_ratio\" hyperparameter.\n",
        "         [0.0, 0.05, 0.10]),\n",
        "      )\n",
        "  model.compile(\"accuracy\")\n",
        "  return model\n",
        "\n",
        "tuner = kt.RandomSearch(\n",
        "    build_model,\n",
        "    objective=\"val_accuracy\",\n",
        "    max_trials=10,\n",
        "    directory=\"/tmp/tuner\",\n",
        "    project_name=\"tune_cart\")\n",
        "\n",
        "tuner.search(x=tf_train_dataset, validation_data=tf_test_dataset)\n",
        "best_model = tuner.get_best_models()[0]\n",
        "\n",
        "print(\"Best hyperparameters: \", tuner.get_best_hyperparameters()[0].values)\n",
        "# >> Best hyperparameters:  {'min_examples': 2, 'validation_ratio': 0.0}"
      ],
      "metadata": {
        "id": "i6mKWJvf8Lly"
      },
      "execution_count": null,
      "outputs": []
    },
    {
      "cell_type": "code",
      "source": [
        "model = tfdf.keras.CartModel(min_examples=2, validation_ratio=0.0)\n",
        "model.fit(tf_train_dataset)\n",
        "\n",
        "model.compile(\"accuracy\")\n",
        "print(\"Test evaluation: \", model.evaluate(tf_test_dataset, return_dict=True))\n",
        "# >> Test evaluation:  {'loss': 0.0, 'accuracy': 1.0}"
      ],
      "metadata": {
        "id": "_4f74_q18Ony"
      },
      "execution_count": null,
      "outputs": []
    },
    {
      "cell_type": "code",
      "source": [
        "tfdf.model_plotter.plot_model_in_colab(model, max_depth=6)"
      ],
      "metadata": {
        "id": "ZQe_LoWN8ZyT"
      },
      "execution_count": null,
      "outputs": []
    },
    {
      "cell_type": "code",
      "source": [],
      "metadata": {
        "id": "0Ao-qps7N-HJ"
      },
      "execution_count": null,
      "outputs": []
    }
  ]
}