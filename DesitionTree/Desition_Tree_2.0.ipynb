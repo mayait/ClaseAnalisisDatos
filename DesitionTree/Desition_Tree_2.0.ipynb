{
  "cells": [
    {
      "cell_type": "markdown",
      "metadata": {
        "id": "view-in-github",
        "colab_type": "text"
      },
      "source": [
        "<a href=\"https://colab.research.google.com/github/mayait/ClaseAnalisisDatos/blob/main/DesitionTree/Desition_Tree_2.0.ipynb\" target=\"_parent\"><img src=\"https://colab.research.google.com/assets/colab-badge.svg\" alt=\"Open In Colab\"/></a>"
      ]
    },
    {
      "cell_type": "markdown",
      "source": [
        "<a href=\"https://kaggle.com/kernels/welcome?src=https://github.com/mayait/ClaseAnalisisDatos/blob/main/DesitionTree/Desition_Tree_2.0.ipynb\"><img src=\"https://kaggle.com/static/images/open-in-kaggle.svg\" width=120 /></a>\n",
        "\n",
        "<a href=\"https://colab.research.google.com/github/mayait/ClaseAnalisisDatos/blob/main/DesitionTree/Desition_Tree_2.0.ipynb\"><img src=\"https://colab.research.google.com/assets/colab-badge.svg\" width=120 /></a>"
      ],
      "metadata": {
        "id": "MPYfNc03WIv4"
      }
    },
    {
      "cell_type": "code",
      "source": [
        "#@title Nombre del estudiante\n",
        "Estudiante = \"\" #@param {type:\"string\"}\n",
        "Código = \"\" #@param {type:\"string\"}"
      ],
      "metadata": {
        "id": "oEfCT92oL7bC",
        "cellView": "form"
      },
      "execution_count": null,
      "outputs": []
    },
    {
      "cell_type": "markdown",
      "metadata": {
        "id": "JkqoTiTQGnvw"
      },
      "source": [
        "# Árbol de decisión\n",
        "\n",
        "Imagina que estás planificando las actividades de la próxima semana. Las cosas que harás dependerán en gran medida de si tus amigos tienen tiempo y del tiempo que haga afuera.\n",
        "\n",
        "![](https://github.com/mayait/ClaseAnalisisDatos/blob/main/DesitionTree/img/tree_1.png?raw=1)\n",
        "\n",
        "Este cuadro establece reglas de decisión simples, que lo ayudan a decidir qué hacer la próxima semana en función de algunos otros datos. En este caso, es la disponibilidad y las condiciones climáticas de tus amigos.\n",
        "\n",
        "Los árboles de decisión hacen lo mismo. \n",
        "\n",
        "**Construyen un conjunto de reglas de decisión en forma de estructura de árbol, lo que le ayuda a predecir un resultado a partir de los datos de entrada.**"
      ]
    },
    {
      "cell_type": "markdown",
      "source": [
        "# Terminología\n",
        "*   Nodo raíz: población completa o muestra\n",
        "*   Ramificación\n",
        "*   Nodo de decisión\n",
        "*   Nodo terminal y hoja\n",
        "*   Poda\n",
        "*   Rama/sub-árbol\n",
        "*   Nodos padre e hijo\n",
        "![](https://julianmaya.notion.site/image/https%3A%2F%2Fs3-us-west-2.amazonaws.com%2Fsecure.notion-static.com%2F43100fb8-8de3-4c6e-9828-d368ea194cba%2FUntitled.png?table=block&id=13a29d59-7a16-4b1f-b9b6-d3760d80cbf1&spaceId=42f304d0-48ef-446b-8385-5c22fd3187f7&width=2000&userId=&cache=v2)\n"
      ],
      "metadata": {
        "id": "dvTcIY1ai_Yh"
      }
    },
    {
      "cell_type": "markdown",
      "metadata": {
        "id": "PJjv21n_XYwO"
      },
      "source": [
        "## **Tipos de árboles**\n",
        "\n",
        "Los árboles se pueden clasificar en dos tipos que son:\n",
        "\n",
        "1. Árboles de regresión en los cuales la variable respuesta y es cuantitativa.\n",
        "    \n",
        "2. Árboles de clasificación en los cuales la variable respuesta y es cualitativa.\n",
        "\n",
        "![https://fhernanb.github.io/libro_mod_pred/images/tipos_arboles.png](https://fhernanb.github.io/libro_mod_pred/images/tipos_arboles.png)"
      ]
    },
    {
      "cell_type": "markdown",
      "metadata": {
        "id": "6xTm4wzwXYwP"
      },
      "source": [
        "## Árbol de regresión\n",
        "\n",
        "![https://fhernanb.github.io/libro_mod_pred/images/ilustracion_arb_regresion.png](https://fhernanb.github.io/libro_mod_pred/images/ilustracion_arb_regresion.png)"
      ]
    },
    {
      "cell_type": "markdown",
      "metadata": {
        "id": "m9PhuzbJXYwP"
      },
      "source": [
        "## Árbol de clasificación\n",
        "\n",
        "![https://fhernanb.github.io/libro_mod_pred/images/ilustracion_arb_clasi.png](https://fhernanb.github.io/libro_mod_pred/images/ilustracion_arb_clasi.png)"
      ]
    },
    {
      "cell_type": "markdown",
      "source": [
        "## Explicación corta\n",
        "\n",
        "https://www.youtube.com/embed/ZVR2Way4nwQ"
      ],
      "metadata": {
        "id": "dGqLv_pvopc1"
      }
    },
    {
      "cell_type": "markdown",
      "metadata": {
        "id": "Lp6cLTdzXYwQ"
      },
      "source": [
        "\n",
        "## Ventajas\n",
        "\n",
        "Existen múltiples razones por las que los árboles de decisión son uno de los algoritmos de aprendizaje automático de referencia en las aplicaciones de la vida real:\n",
        "\n",
        "- Intuitivo\n",
        "- Informativo\n",
        "- Escalable\n",
        "- Util en exploración de datos: identificar importancia de variables a partir de cientos de variables.\n",
        "- Menos limpieza de datos: outliers y valores faltantes no influencian el modelo (A un cierto grado)\n",
        "-  El tipo de datos no es una restricción\n",
        "\n",
        "## Desventajas\n",
        "\n",
        "- Sobreajuste\n",
        "- Pérdida de información al categorizar variables continuas\n",
        "- Inestabilidad: un pequeño cambio en los datos puede modificar ampliamente la estructura del árbol. Por lo tanto la interpretación no es tan directa como parece.\n",
        "\n",
        "## Business Use-Cases\n",
        "\n",
        "Los árboles de decisión imitan la toma de decisiones humana y, por lo tanto, se pueden usar en una variedad de entornos comerciales.\n",
        "Las empresas suelen utilizarlos para predecir resultados futuros. Por ejemplo:\n",
        "\n",
        "- ¿Qué cliente se mantendrá fiel y cuál abandonará? (Árbol de decisión de clasificación)\n",
        "- ¿En cuánto podemos aumentar las ventas de un cliente, dadas sus opciones de productos? (Árbol de decisión de regresión)\n",
        "- ¿Qué artículo debo recomendar a los lectores de mi blog a continuación? (Árboles de decisión de clasificación)\n",
        "\n",
        "\n",
        "____"
      ]
    },
    {
      "cell_type": "markdown",
      "source": [
        "First we need to learn how to **choose the root** node and here we need to learn one of the criteria to decide the nodes, **Gini Impurity.**\n",
        "\n",
        "![Untitled](https://julianmaya.notion.site/image/https%3A%2F%2Fs3-us-west-2.amazonaws.com%2Fsecure.notion-static.com%2Fa9db87d4-40a5-4cdb-804c-89d6eb87de8c%2FUntitled.png?table=block&id=36ecea21-1799-49c4-bf8a-304e39c3be1a&spaceId=42f304d0-48ef-446b-8385-5c22fd3187f7&width=2000&userId=&cache=v2)\n",
        "\n",
        "## **Overfitting o sobreajuste**\n",
        "\n",
        "![](https://live.staticflickr.com/65535/48057305423_0653b5e58f_b.jpg)"
      ],
      "metadata": {
        "id": "do2lEem8p9rS"
      }
    },
    {
      "cell_type": "markdown",
      "metadata": {
        "id": "yxenMAfbH1QK"
      },
      "source": [
        "---\n",
        "# Ejercicio 1\n",
        "\n",
        "Dataset: [Credit](https://archive.ics.uci.edu/ml/datasets/bank+marketing)\n",
        "\n",
        "**Source:**\n",
        "\n",
        "[Moro et al., 2014] S. Moro, P. Cortez and P. Rita. A Data-Driven Approach to Predict the Success of Bank Telemarketing. Decision Support Systems, Elsevier, 62:22-31, June 2014\n",
        "\n",
        "**Data Set Information:**\n",
        "\n",
        "The data is related with direct marketing campaigns of a Portuguese banking institution. The marketing campaigns were based on phone calls. Often, more than one contact to the same client was required, in order to access if the product (bank term deposit) would be ('yes') or not ('no') subscribed.There are four datasets:1) bank-additional-full.csv with all examples (41188) and 20 inputs, ordered by date (from May 2008 to November 2010), very close to the data analyzed in [Moro et al., 2014]2) bank-additional.csv with 10% of the examples (4119), randomly selected from 1), and 20 inputs.3) bank-full.csv with all examples and 17 inputs, ordered by date (older version of this dataset with less inputs).4) bank.csv with 10% of the examples and 17 inputs, randomly selected from 3 (older version of this dataset with less inputs).The smallest datasets are provided to test more computationally demanding machine learning algorithms (e.g., SVM).The classification goal is to predict if the client will subscribe (yes/no) a term deposit (variable y).\n",
        "\n",
        "**Attribute Information:**\n",
        "\n",
        "```\n",
        "1 - age (numeric)\n",
        "2 - job : type of job (categorical: 'admin.','blue-collar','entrepreneur','housemaid','management','retired','self-employed','services','student','technician','unemployed','unknown')\n",
        "3 - marital : marital status (categorical: 'divorced','married','single','unknown'; note: 'divorced' means divorced or widowed)\n",
        "4 - education (categorical: 'basic.4y','basic.6y','basic.9y','high.school','illiterate','professional.course','university.degree','unknown')\n",
        "5 - default: has credit in default? (categorical: 'no','yes','unknown')\n",
        "6 - housing: has housing loan? (categorical: 'no','yes','unknown')\n",
        "7 - loan: has personal loan? (categorical: 'no','yes','unknown') # related with the last contact of the current campaign:\n",
        "8 - contact: contact communication type (categorical: 'cellular','telephone')\n",
        "9 - month: last contact month of year (categorical: 'jan', 'feb', 'mar', ..., 'nov', 'dec')\n",
        "10 - day_of_week: last contact day of the week (categorical: 'mon','tue','wed','thu','fri')\n",
        "11 - duration: last contact duration, in seconds (numeric). Important note: this attribute highly affects the output target (e.g., if duration=0 then y='no'). Yet, the duration is not known before a call is performed. Also, after the end of the call y is obviously known. Thus, this input should only be included for benchmark purposes and should be discarded if the intention is to have a realistic predictive model. # other attributes:\n",
        "12 - campaign: number of contacts performed during this campaign and for this client (numeric, includes last contact)\n",
        "13 - pdays: number of days that passed by after the client was last contacted from a previous campaign (numeric; 999 means client was not previously contacted)\n",
        "14 - previous: number of contacts performed before this campaign and for this client (numeric)\n",
        "15 - poutcome: outcome of the previous marketing campaign (categorical: 'failure','nonexistent','success') # social and economic context attributes\n",
        "16 - emp.var.rate: employment variation rate - quarterly indicator (numeric)\n",
        "17 - cons.price.idx: consumer price index - monthly indicator (numeric)\n",
        "18 - cons.conf.idx: consumer confidence index - monthly indicator (numeric)\n",
        "19 - euribor3m: euribor 3 month rate - daily indicator (numeric)\n",
        "20 - nr.employed: number of employees - quarterly indicator (numeric)\n",
        "\n",
        "Output variable (desired target):\n",
        "21 - y - has the client subscribed a term deposit? (binary: 'yes','no')\n",
        "```\n",
        "\n"
      ]
    },
    {
      "cell_type": "code",
      "execution_count": null,
      "metadata": {
        "id": "chitj6OSYp-n"
      },
      "outputs": [],
      "source": [
        "import pandas as pd\n",
        "import matplotlib.pyplot as plt\n",
        "import seaborn as sns\n",
        "\n",
        "# Descargar el archivo automaticamente \n",
        "!wget https://raw.githubusercontent.com/mayait/ClaseAnalisisDatos/main/DesitionTree/data/deposit.csv"
      ]
    },
    {
      "cell_type": "markdown",
      "source": [
        "## 1. \n",
        "\n",
        "> Importe el archivo deposit.csv en un dataframe llamado *df*\n",
        "\n",
        "\n"
      ],
      "metadata": {
        "id": "yLSQilGNrZBE"
      }
    },
    {
      "cell_type": "code",
      "source": [
        "df = ____"
      ],
      "metadata": {
        "id": "u1c9Sh9RrYZP"
      },
      "execution_count": null,
      "outputs": []
    },
    {
      "cell_type": "markdown",
      "source": [
        "## 2. \n",
        "\n",
        "> ¿Qué puedes decir sobre la forma del dataframe?\n",
        "\n",
        "> ¿Que porcentaje de clientes se han suscrito en un deposito a plazo y cuantos no lo han hecho?\n",
        "\n",
        "\n",
        "\n"
      ],
      "metadata": {
        "id": "mxva89YouPtf"
      }
    },
    {
      "cell_type": "code",
      "execution_count": null,
      "metadata": {
        "id": "4MFzZLo4utTg"
      },
      "outputs": [],
      "source": [
        "# Tip: Pruebe la funcion value_counts() sobre cualquier columna"
      ]
    },
    {
      "cell_type": "code",
      "execution_count": null,
      "metadata": {
        "id": "Z6Lx6EHgufId"
      },
      "outputs": [],
      "source": [
        "sns.countplot(x = 'y', data=df)\n",
        "plt.xlabel('y', fontsize=12)\n",
        "plt.ylabel('Count', fontsize=13)\n",
        "plt.show()"
      ]
    },
    {
      "cell_type": "code",
      "source": [
        "sns.countplot(x=df.campaign, hue=df.y, palette='Set1')\n",
        "plt.title('Clientes que suscriben deposito a plazo por campaña')\n",
        "plt.xlabel('Campaign, number of contacts performed', fontsize=8)\n",
        "plt.ylabel('Count', fontsize=13)\n",
        "plt.show()"
      ],
      "metadata": {
        "id": "Eu8PlD-_xlo4"
      },
      "execution_count": null,
      "outputs": []
    },
    {
      "cell_type": "code",
      "source": [
        "sns.histplot(x=df.age, hue=df.y, palette='Set1')\n",
        "plt.title('Clientes que suscriben deposito a plazo por edad')\n",
        "plt.xlabel('Edad', fontsize=13)\n",
        "plt.ylabel('Count', fontsize=13)\n",
        "plt.show()"
      ],
      "metadata": {
        "id": "_83cvKHTyW7z"
      },
      "execution_count": null,
      "outputs": []
    },
    {
      "cell_type": "markdown",
      "source": [
        "## 3.\n",
        "\n",
        "\n",
        "> Analiza mediante histogramas la distribución en edad, y otro para balance, intenta que en un mismo histograma puedas separar los valores si y no.\n",
        "No olvides marcar los ejes y el titulo\n",
        "\n",
        "\n",
        "\n"
      ],
      "metadata": {
        "id": "6S-_NKgovzV6"
      }
    },
    {
      "cell_type": "code",
      "source": [
        "sns.histplot(x=___, hue=___, palette='Set1')\n",
        "plt.title('__')\n",
        "plt.xlabel('__')\n",
        "plt.ylabel('__')\n",
        "plt.show()"
      ],
      "metadata": {
        "id": "dvPY0p4exS_6"
      },
      "execution_count": null,
      "outputs": []
    },
    {
      "cell_type": "markdown",
      "source": [
        "# 4.\n",
        "Utiliza un pairplot para comprar la relación entre todas las variables numericas.\n"
      ],
      "metadata": {
        "id": "ipFreS0-0Ce-"
      }
    },
    {
      "cell_type": "code",
      "execution_count": null,
      "metadata": {
        "id": "T4_adCTA-e1Y"
      },
      "outputs": [],
      "source": [
        "sns.pairplot(df, hue='__',palette='Set1', diag_kind = 'kde',)"
      ]
    },
    {
      "cell_type": "markdown",
      "source": [
        "# 5.\n",
        "\n",
        "¿Hay correlación entre las variables? \n",
        "\n",
        "Confirma con un diagrama de coeficientes de correlación"
      ],
      "metadata": {
        "id": "KRj0VZo00TD2"
      }
    },
    {
      "cell_type": "code",
      "source": [
        "sns.heatmap(df.corr(), cmap=\"YlGnBu\", annot=True)"
      ],
      "metadata": {
        "id": "OBD7ZEXL0SBz"
      },
      "execution_count": null,
      "outputs": []
    },
    {
      "cell_type": "markdown",
      "metadata": {
        "id": "7QbaxXYxVHwQ"
      },
      "source": [
        "# Entrenemos un árbol de decisión"
      ]
    },
    {
      "cell_type": "code",
      "execution_count": null,
      "metadata": {
        "id": "aSxoKz8EkqCh"
      },
      "outputs": [],
      "source": [
        "import pandas as pd\n",
        "import numpy as np\n",
        "import seaborn as sns\n",
        "import matplotlib.pyplot as plt\n",
        "import matplotlib.image as mpimg\n",
        "\n",
        "from sklearn.tree import DecisionTreeClassifier, export_graphviz\n",
        "from sklearn import tree\n",
        "from sklearn.tree import export_graphviz\n",
        "\n",
        "df.sample(10)"
      ]
    },
    {
      "cell_type": "markdown",
      "source": [
        "# 6.\n",
        "\n",
        "> ¿Cuantas categorias tiene la variable job?\n",
        "\n",
        "> ¿Cúal es la categoria con mayor frecuencia?\n",
        "\n",
        "\n",
        "\n",
        "```python\n",
        "# Puede usar la función value_counts():\n",
        "dataframe.columna.value_counts()\n",
        "```\n",
        "\n",
        "\n"
      ],
      "metadata": {
        "id": "dw8k0XID1q9c"
      }
    },
    {
      "cell_type": "code",
      "execution_count": null,
      "metadata": {
        "id": "-zVTSEijnZf1"
      },
      "outputs": [],
      "source": [
        "# 6.\n",
        "# dataframe.columna.value_counts()\n",
        "\n"
      ]
    },
    {
      "cell_type": "markdown",
      "source": [
        "## 7.\n",
        "\n",
        "¿Que tipo de dato tiene cada columna? Recuerda el método ```dtypes```"
      ],
      "metadata": {
        "id": "fhKI026G3Hcf"
      }
    },
    {
      "cell_type": "code",
      "source": [
        "# 7\n",
        "# dtypes"
      ],
      "metadata": {
        "id": "4ZUfvchZ3Fsh"
      },
      "execution_count": null,
      "outputs": []
    },
    {
      "cell_type": "markdown",
      "source": [
        "### Separar variables categoricas en dummies"
      ],
      "metadata": {
        "id": "8H5tUE5-39oy"
      }
    },
    {
      "cell_type": "code",
      "execution_count": null,
      "metadata": {
        "id": "iLm8MK91Ve1d"
      },
      "outputs": [],
      "source": [
        "df_dummies = pd.get_dummies(data=df, drop_first=True)"
      ]
    },
    {
      "cell_type": "code",
      "source": [
        "# ¿que columnas nuevas tiene df_dummies?\n",
        "df_dummies.columns"
      ],
      "metadata": {
        "id": "MTt4bB2t5XuJ"
      },
      "execution_count": null,
      "outputs": []
    },
    {
      "cell_type": "code",
      "source": [
        "df_dummies.sample(5)"
      ],
      "metadata": {
        "id": "_gMDYeE95dnX"
      },
      "execution_count": null,
      "outputs": []
    },
    {
      "cell_type": "markdown",
      "source": [
        "# 8.\n",
        "Asigna a la variable ```y``` la columna convertida en númerica que guarda el resultado de que el cliente acepta un deposito a termino. Es decir asigna a la variable y la columna y convertida en dummies."
      ],
      "metadata": {
        "id": "de77BpEb4zLG"
      }
    },
    {
      "cell_type": "code",
      "execution_count": null,
      "metadata": {
        "id": "nO9kGg6kPjNl"
      },
      "outputs": [],
      "source": [
        "y = _______"
      ]
    },
    {
      "cell_type": "markdown",
      "source": [
        "# 9. \n",
        "Asigna en X todas las caracteristicas menos Y"
      ],
      "metadata": {
        "id": "UxtJcv8G82Pb"
      }
    },
    {
      "cell_type": "code",
      "source": [
        "# Recuerda dataframe.drop(['columna'], axis=1)\n",
        "X = _____"
      ],
      "metadata": {
        "id": "3u41ZUFG9GAP"
      },
      "execution_count": null,
      "outputs": []
    },
    {
      "cell_type": "code",
      "execution_count": null,
      "metadata": {
        "id": "qF4jwUg8XSPS"
      },
      "outputs": [],
      "source": [
        "+X.sample(4)"
      ]
    },
    {
      "cell_type": "code",
      "execution_count": null,
      "metadata": {
        "id": "cMI8VsmDoCAB"
      },
      "outputs": [],
      "source": [
        "model = DecisionTreeClassifier( max_depth=3)\n",
        "# model = DecisionTreeClassifier( max_leaf_nodes=5, max_depth=4)\n",
        "# model = DecisionTreeClassifier()\n",
        "\n",
        "model.fit(X,y)"
      ]
    },
    {
      "cell_type": "code",
      "execution_count": null,
      "metadata": {
        "id": "PippIJRvZ0hL"
      },
      "outputs": [],
      "source": [
        "col_names_list = list(X.columns.values)\n",
        "print (\"X: \", col_names_list)"
      ]
    },
    {
      "cell_type": "code",
      "execution_count": null,
      "metadata": {
        "id": "GlBMonxgx846"
      },
      "outputs": [],
      "source": [
        "fig = plt.figure(figsize=(20,20))\n",
        "tree.plot_tree(model, filled=True, rounded=True,  feature_names=col_names_list)\n",
        "plt.show()"
      ]
    },
    {
      "cell_type": "code",
      "execution_count": null,
      "metadata": {
        "id": "h08rvguFYIiH"
      },
      "outputs": [],
      "source": [
        "# Export to pdf\n",
        "export_graphviz(model, out_file='tree.dot', filled=True, \n",
        "               rounded=True, special_characters=True, feature_names=col_names_list)\n",
        "\n",
        "# Convertimos el arbol en Imagen\n",
        "! dot -Tpdf tree.dot -o tree.pdf\n",
        "! dot -Tpng tree.dot -o tree.png"
      ]
    },
    {
      "cell_type": "code",
      "execution_count": null,
      "metadata": {
        "id": "QXeDFW4g1rBS"
      },
      "outputs": [],
      "source": [
        "n_features = len(col_names_list)\n",
        "\n",
        "fig = plt.figure(figsize=(15, 11))\n",
        "fig.tight_layout()\n",
        "plt.bar(range(n_features), model.feature_importances_, color=\"magenta\", align=\"center\", alpha=0.6)\n",
        "plt.xticks(np.arange(n_features), col_names_list, rotation=80, fontsize=11)\n",
        "plt.xlabel(\"Features\", fontsize=14)\n",
        "plt.ylabel(\"Feature Importance\", fontsize=14)\n",
        "plt.savefig(\"Feature_Importance.png\", dpi=300, bbox_inches='tight')# xticks are not clipped with 'bbox'"
      ]
    },
    {
      "cell_type": "markdown",
      "source": [
        "### Calculemos la probabilidad de un cliente aleatorio"
      ],
      "metadata": {
        "id": "KoqY4yCM8Qni"
      }
    },
    {
      "cell_type": "code",
      "execution_count": null,
      "metadata": {
        "id": "iFdukxyme8db"
      },
      "outputs": [],
      "source": [
        "# Valor aleatorio\n",
        "a = X.sample(1)\n",
        "a"
      ]
    },
    {
      "cell_type": "code",
      "execution_count": null,
      "metadata": {
        "id": "KBGK-EGqhUrE"
      },
      "outputs": [],
      "source": [
        "print( \"Si acepta el deposito: \", model.predict_proba(a)[0][1])"
      ]
    },
    {
      "cell_type": "markdown",
      "metadata": {
        "id": "4_4PFDq6aPT7"
      },
      "source": [
        "## 10\n",
        "¿Cómo interpreta la primera condición de división derivada de Python? ¿Cuál es la influencia de la división en la impureza de las muestras?\n",
        "\n"
      ]
    },
    {
      "cell_type": "markdown",
      "source": [
        "## 11\n",
        "¿Que pasa si no limito el número de nodos o la profundidad del árbol?"
      ],
      "metadata": {
        "id": "9CJC4RPa93or"
      }
    }
  ],
  "metadata": {
    "colab": {
      "collapsed_sections": [],
      "name": "DesitionTreeClass.ipynb",
      "provenance": [],
      "include_colab_link": true
    },
    "kernelspec": {
      "display_name": "Python 3",
      "name": "python3"
    },
    "language_info": {
      "codemirror_mode": {
        "name": "ipython",
        "version": 3
      },
      "file_extension": ".py",
      "mimetype": "text/x-python",
      "name": "python",
      "nbconvert_exporter": "python",
      "pygments_lexer": "ipython3",
      "version": "3.9.10"
    }
  },
  "nbformat": 4,
  "nbformat_minor": 0
}