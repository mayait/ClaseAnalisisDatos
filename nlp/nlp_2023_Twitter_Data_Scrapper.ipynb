{
  "cells": [
    {
      "cell_type": "markdown",
      "metadata": {
        "id": "MPYfNc03WIv4"
      },
      "source": [
        "<a href=\"https://kaggle.com/kernels/welcome?src=https://github.com/mayait/ClaseAnalisisDatos/blob/main/nlp/2022_Twitter_Data_Scrapper.ipynb\"><img src=\"https://kaggle.com/static/images/open-in-kaggle.svg\" width=120 /></a>\n",
        "\n",
        "<a href=\"https://colab.research.google.com/github/mayait/ClaseAnalisisDatos/blob/main/nlp/2022_Twitter_Data_Scrapper.ipynb\"><img src=\"https://colab.research.google.com/assets/colab-badge.svg\" width=120 /></a>"
      ]
    },
    {
      "cell_type": "code",
      "execution_count": 4,
      "metadata": {
        "cellView": "form",
        "id": "oEfCT92oL7bC"
      },
      "outputs": [],
      "source": [
        "#@title Nombre del estudiante\n",
        "Estudiante = \"\" #@param {type:\"string\"}\n",
        "Código = \"\" #@param {type:\"string\"}\n",
        "\n"
      ]
    },
    {
      "cell_type": "markdown",
      "metadata": {
        "id": "AdYh71TAa1Is"
      },
      "source": [
        "# \"Datascraping con Twitter\"\n"
      ]
    },
    {
      "cell_type": "markdown",
      "metadata": {
        "id": "KaFZyxpAa1Iw"
      },
      "source": [
        "Uno de los superpoderes de la AI/ML es que nos permite entender el mundo desde la perspectiva de los datos.\n",
        "\n",
        "Twitter es una plataforma que proporciona datos extensos en lenguaje natural, en base a los cuales se puede explorar mucho."
      ]
    },
    {
      "cell_type": "code",
      "execution_count": 5,
      "metadata": {},
      "outputs": [
        {
          "name": "stdout",
          "output_type": "stream",
          "text": [
            "Requirement already satisfied: tweepy in /Users/julianmaya/opt/anaconda3/envs/tensorflow/lib/python3.10/site-packages (4.13.0)\n",
            "Requirement already satisfied: textblob in /Users/julianmaya/opt/anaconda3/envs/tensorflow/lib/python3.10/site-packages (0.17.1)\n",
            "Requirement already satisfied: wordcloud in /Users/julianmaya/opt/anaconda3/envs/tensorflow/lib/python3.10/site-packages (1.8.2.2)\n",
            "Requirement already satisfied: oauthlib<4,>=3.2.0 in /Users/julianmaya/opt/anaconda3/envs/tensorflow/lib/python3.10/site-packages (from tweepy) (3.2.2)\n",
            "Requirement already satisfied: requests-oauthlib<2,>=1.2.0 in /Users/julianmaya/opt/anaconda3/envs/tensorflow/lib/python3.10/site-packages (from tweepy) (1.3.1)\n",
            "Requirement already satisfied: requests<3,>=2.27.0 in /Users/julianmaya/opt/anaconda3/envs/tensorflow/lib/python3.10/site-packages (from tweepy) (2.28.1)\n",
            "Requirement already satisfied: nltk>=3.1 in /Users/julianmaya/opt/anaconda3/envs/tensorflow/lib/python3.10/site-packages (from textblob) (3.8.1)\n",
            "Requirement already satisfied: matplotlib in /Users/julianmaya/opt/anaconda3/envs/tensorflow/lib/python3.10/site-packages (from wordcloud) (3.6.2)\n",
            "Requirement already satisfied: numpy>=1.6.1 in /Users/julianmaya/opt/anaconda3/envs/tensorflow/lib/python3.10/site-packages (from wordcloud) (1.23.5)\n",
            "Requirement already satisfied: pillow in /Users/julianmaya/opt/anaconda3/envs/tensorflow/lib/python3.10/site-packages (from wordcloud) (9.4.0)\n",
            "Requirement already satisfied: tqdm in /Users/julianmaya/opt/anaconda3/envs/tensorflow/lib/python3.10/site-packages (from nltk>=3.1->textblob) (4.64.1)\n",
            "Requirement already satisfied: click in /Users/julianmaya/opt/anaconda3/envs/tensorflow/lib/python3.10/site-packages (from nltk>=3.1->textblob) (8.1.3)\n",
            "Requirement already satisfied: joblib in /Users/julianmaya/opt/anaconda3/envs/tensorflow/lib/python3.10/site-packages (from nltk>=3.1->textblob) (1.2.0)\n",
            "Requirement already satisfied: regex>=2021.8.3 in /Users/julianmaya/opt/anaconda3/envs/tensorflow/lib/python3.10/site-packages (from nltk>=3.1->textblob) (2022.10.31)\n",
            "Requirement already satisfied: charset-normalizer<3,>=2 in /Users/julianmaya/opt/anaconda3/envs/tensorflow/lib/python3.10/site-packages (from requests<3,>=2.27.0->tweepy) (2.1.1)\n",
            "Requirement already satisfied: certifi>=2017.4.17 in /Users/julianmaya/opt/anaconda3/envs/tensorflow/lib/python3.10/site-packages (from requests<3,>=2.27.0->tweepy) (2022.12.7)\n",
            "Requirement already satisfied: urllib3<1.27,>=1.21.1 in /Users/julianmaya/opt/anaconda3/envs/tensorflow/lib/python3.10/site-packages (from requests<3,>=2.27.0->tweepy) (1.26.13)\n",
            "Requirement already satisfied: idna<4,>=2.5 in /Users/julianmaya/opt/anaconda3/envs/tensorflow/lib/python3.10/site-packages (from requests<3,>=2.27.0->tweepy) (3.4)\n",
            "Requirement already satisfied: packaging>=20.0 in /Users/julianmaya/opt/anaconda3/envs/tensorflow/lib/python3.10/site-packages (from matplotlib->wordcloud) (22.0)\n",
            "Requirement already satisfied: contourpy>=1.0.1 in /Users/julianmaya/opt/anaconda3/envs/tensorflow/lib/python3.10/site-packages (from matplotlib->wordcloud) (1.0.6)\n",
            "Requirement already satisfied: cycler>=0.10 in /Users/julianmaya/opt/anaconda3/envs/tensorflow/lib/python3.10/site-packages (from matplotlib->wordcloud) (0.11.0)\n",
            "Requirement already satisfied: pyparsing>=2.2.1 in /Users/julianmaya/opt/anaconda3/envs/tensorflow/lib/python3.10/site-packages (from matplotlib->wordcloud) (3.0.9)\n",
            "Requirement already satisfied: python-dateutil>=2.7 in /Users/julianmaya/opt/anaconda3/envs/tensorflow/lib/python3.10/site-packages (from matplotlib->wordcloud) (2.8.2)\n",
            "Requirement already satisfied: fonttools>=4.22.0 in /Users/julianmaya/opt/anaconda3/envs/tensorflow/lib/python3.10/site-packages (from matplotlib->wordcloud) (4.38.0)\n",
            "Requirement already satisfied: kiwisolver>=1.0.1 in /Users/julianmaya/opt/anaconda3/envs/tensorflow/lib/python3.10/site-packages (from matplotlib->wordcloud) (1.4.4)\n",
            "Requirement already satisfied: six>=1.5 in /Users/julianmaya/opt/anaconda3/envs/tensorflow/lib/python3.10/site-packages (from python-dateutil>=2.7->matplotlib->wordcloud) (1.16.0)\n"
          ]
        }
      ],
      "source": [
        "!pip install tweepy textblob wordcloud"
      ]
    },
    {
      "cell_type": "code",
      "execution_count": 6,
      "metadata": {
        "id": "zrGUxEqWa1Ix"
      },
      "outputs": [],
      "source": [
        "# importing libraries\n",
        "import pandas as pd\n",
        "import tweepy\n",
        "import time\n",
        "import warnings\n",
        "warnings.filterwarnings('ignore')\n",
        "\n",
        "import sys\n",
        "import os\n",
        "import re\n",
        "import tweepy\n",
        "from tweepy import OAuthHandler\n",
        "from textblob import TextBlob\n",
        "\n",
        "import numpy as np\n",
        "import pandas as pd\n",
        "from datetime import datetime, timedelta\n",
        "from IPython.display import clear_output\n",
        "from tqdm import tqdm\n",
        "\n",
        "import matplotlib.pyplot as plt\n",
        "import seaborn as sns\n",
        "%matplotlib inline\n",
        "\n",
        "from os import path\n",
        "from PIL import Image\n",
        "from wordcloud import WordCloud, STOPWORDS"
      ]
    },
    {
      "cell_type": "markdown",
      "metadata": {
        "id": "ojafCihsa1Iz"
      },
      "source": [
        "Para acceder a la API de Twitter, necesitaremos generar las claves. \n",
        "Estas claves se encuentran en la configuración de la aplicación de Twitter en la pestaña Claves y tokens de acceso:\n",
        "\n",
        "[ https://apps.twitter.com/app/new]( https://apps.twitter.com/app/new)"
      ]
    },
    {
      "cell_type": "code",
      "execution_count": 7,
      "metadata": {
        "id": "79kGx-cC1Fbm"
      },
      "outputs": [],
      "source": [
        "#@title Credenciales de Twitter\n",
        "TWITTER_BEARER_TOKEN = \"AAAAAAAAAAAAAAAAAAAAAPY7WQEAAAAArv14iz4pbeglBLonfhMIReDMbaI%3DE4RZce3DXjAoAI39NWFGA5MQUguGN3FPVE1KcfrLIwtbuRGpft\"\n",
        "client = tweepy.Client(TWITTER_BEARER_TOKEN)"
      ]
    },
    {
      "attachments": {},
      "cell_type": "markdown",
      "metadata": {},
      "source": [
        "### Tweepy nos permite conectarnos directamente al API de Twitter y obtener tweets\n",
        "En este ejemplo nos decargamos 10 Tweets de Ecuador"
      ]
    },
    {
      "cell_type": "code",
      "execution_count": 25,
      "metadata": {},
      "outputs": [
        {
          "name": "stdout",
          "output_type": "stream",
          "text": [
            "En democracia ningún pais de America Latina ha logrado disminuir la delincuencia, la violencia, el narcotrafico. Mira el informe que salió en @faznet sobre el decomiso de cocaína en Berlin escondido en plátanos que venían de Ecuador. https://t.co/wwgXAx7MjK\n",
            "@AlberdianoArg @laderechadiario Y pero el caso de Ecuador?\n",
            "@EcuavisaInforma Bien #Chile, y para cuando #Ecuador. 🇪🇨\n",
            "@PoliciaEcuador \n",
            "@AsambleaEcuador\n",
            "@Jajajaland Ecuador esta de luto\n",
            "En #Ecuador 🇪🇨 la locución \"el rato de los ratos\" significa 'la hora de la verdad, el momento decisivo'.\n",
            "\n",
            "#DiccionarioDeAmericanismos 📖\n",
            "@eluniversocom Asamblea constituyente ha beneficiado al Ecuador? La respuesta está en las calles! Y noticias que todos los días Uds ponen en sus portadas\n",
            "#Ecuador #Quito #Guayaquil #Manta #Esmeraldas #Cuenca #Loja #PatriotasEcuatorianos defendamos las #Democracia contra la #AsambleaEcuador, los Iza.  Tambien para exigir cambios a @LassoGuillermo mano fuerte contra la #Corrupcion #criminales.\n",
            "#Autoconvocatoria #RevocatoriaAsamblea\n",
            "112 millones para el Banco de Lasso #BancoGuayaquil Paga hpta!! Deja de robarle al país Chulquero!!! \n",
            "\n",
            "#FueraLassoFuera \n",
            "#LassoDestitucion #Ecuador https://t.co/A3MBYi6ghA\n",
            "Acompáñenme a ver esta triste historia de la vida misma (11,abril,2023).\n",
            "Un querido amigo me remite el link con la publicidad de @Natgeo y de lo beneficioso de eso para el Ecuador... https://t.co/Bmn4b32ITI\n",
            "@pelayodebriones Aparte si mal no recuerdo Fossati dirigio a Qatar y estuvo muy cerca de dirigir a Ecuador. Y ahi no se hizo tanto problema por si era o no de ese pais.\n"
          ]
        }
      ],
      "source": [
        "\n",
        "# La función search_recent_tweets() devuelve un objeto de tipo Response, que contiene los tweets en su atributo data.\n",
        "# El parámetro max_results indica el número máximo de tweets que se devolverán en la respuesta.\n",
        "\n",
        "response = client.search_recent_tweets(\"Ecuador -is:retweet\", max_results=10)\n",
        "tweets = response.data\n",
        "\n",
        "# Iterar a través de los tweets e imprimir el texto\n",
        "for tweet in response.data:\n",
        "    print(tweet.text)\n",
        "\n"
      ]
    },
    {
      "attachments": {},
      "cell_type": "markdown",
      "metadata": {},
      "source": [
        "### Tambien podemos buscar datos de un usuario especifico\n",
        "Necesitamos el ID del usuario, puedes buscarlo aquí\n",
        "\n",
        "https://tweeterid.com/\n",
        "\n",
        "@usfq_ecuador => 66436490"
      ]
    },
    {
      "cell_type": "code",
      "execution_count": 32,
      "metadata": {},
      "outputs": [
        {
          "name": "stdout",
          "output_type": "stream",
          "text": [
            "2023-04-10 22:19:35+00:00 ¿Listos para vivir múltiples experiencias?\n",
            "Atrévanse a descubrir el siguiente nivel de innovación tecnológica.\n",
            "NeoCom 2023: Comunicación, IA y Metaverso.\n",
            "\n",
            "https://t.co/P7UdKbcLTS\n",
            "\n",
            "#neocom #neocom2023 #inteligenciaartificial #ai #metaverso #comunicacion #usfq #seminario  #atrevia https://t.co/ujl4gN5yMI\n",
            "2023-04-10 22:13:57+00:00 Inicia la conferencia de @LeoLopezLujan en la #USFQ; “En busca de la antigua #Tenochtitlan” y la arqueología en la Ciudad de #México. Una magnífica visita y nuevos conocimientos para fortalecer la estrecha relación entre 🇪🇨 y 🇲🇽 en la academia. Bienvenido @LeoLopezLujan 👏🏻 https://t.co/rzuAwheyaq\n",
            "2023-04-10 18:10:54+00:00 RT @USFQ_Derecho: ✅ I ENCUENTRO NACIONAL DE POLITICA CRIMINAL, DERECHO PENAL Y EJECUCIÓN DE PENAS.\n",
            "\n",
            "📅 18, 19, 20 abril 2023\n",
            "📍 Teatro Calder…\n",
            "2023-04-10 17:43:04+00:00 El miércoles 29 de marzo invitamos a los graduados de Relaciones Internacionales de los últimos 5 años de la USFQ. El encuentro permitió identificar oportunidades para mejorar la carrera y se convocó a la Networking Night de RRII. https://t.co/aR0eg9S2K9\n",
            "2023-04-10 01:01:00+00:00 Dos días dedicados a la impresionante historia de #México. En la #USFQ nos visitan, Leonardo López Luján y Elisa Speckman, reconocidos investigadores para brindar dos fascinantes conferencias sobre historia y arqueología. \n",
            "Eventos de entrada libre y organizados por @usfq_cocisoh. https://t.co/fcnR1OiV2n\n",
            "2023-04-06 18:24:24+00:00 RT @jorgegt1975: El martes 11 de abril, 17:00 tendremos el honor de recibir en @USFQ_Ecuador @usfq_cocisoh a Elisa Speckman @Elisa28361332…\n",
            "2023-04-06 18:00:01+00:00 ✅ Establece métodos de implementación y evaluación de sistemas de gestión anticorrupción.\n",
            " ¡Inscríbete!\n",
            "🎓 Certificación compliance: integridad corporativa\n",
            "🌐 Más información: https://t.co/LmYEDzctYI\n",
            "@EE_USFQ https://t.co/mq1B7Gj6ak\n",
            "2023-04-06 15:16:00+00:00 En el siglo XIX en México, como en otros países de América Latina, se le concedía más valor al honor que a la vida. Elisa Speckman, directora del Instituto de Investigaciones Históricas #UNAM, llega a la #USFQ para su conferencia \"Honor, Homicidio y Nota Roja\". ¡Te esperamos! https://t.co/YNPb6F0etC\n",
            "2023-04-05 20:40:12+00:00 RT @jorgegt1975: Tendremos una conferencia de lujo sobre la la antigua Tenochtitlan el lunes 10 de abril en la @USFQ_Ecuador @usfq_cocisoh…\n",
            "2023-04-05 17:15:16+00:00 La arqueología de la capital del imperio mexica, bajo las calles y casas de la moderna Ciudad de México, presenta múltiples retos y fascinantes hallazgos para los especialistas. Leonardo López Luján, reconocido arqueólogo mexicano, visita la USFQ para una conferencia imperdible. https://t.co/veCx25pTpk\n"
          ]
        }
      ],
      "source": [
        "id = '66436490'\n",
        "tweets = client.get_users_tweets(id=id, tweet_fields=['context_annotations','created_at','geo'], max_results=10)\n",
        "for tweet in tweets.data:\n",
        "    print(tweet.created_at, tweet.text)"
      ]
    },
    {
      "attachments": {},
      "cell_type": "markdown",
      "metadata": {},
      "source": [
        "## Una función que extrae Tuits de un tema y los pasa a un DataFrame"
      ]
    },
    {
      "cell_type": "code",
      "execution_count": 28,
      "metadata": {},
      "outputs": [],
      "source": [
        "# Función para obtener tweets recientes\n",
        "\n",
        "def getTweets(keyword, num_tweets):\n",
        "    # Consulta de búsqueda que incluye el término de búsqueda, excluye retweets y selecciona tweets en español\n",
        "    query = f'{keyword} -is:retweet lang:es'\n",
        "\n",
        "    # Uso del paginador de Tweepy para obtener más de 100 tweets recientes a través de la API de Twitter\n",
        "    tweets = []\n",
        "    for tweet in tweepy.Paginator(client.search_recent_tweets,\n",
        "                                  query=query,\n",
        "                                  tweet_fields=['id', 'created_at', 'public_metrics', 'text', 'source'],\n",
        "                                  max_results=100).flatten(limit=num_tweets):\n",
        "\n",
        "        tweets.append(tweet)\n",
        "\n",
        "    result = []\n",
        "\n",
        "    # Función para desempaquetar la lista de tweets en un DataFrame\n",
        "    for tweet in tweets:\n",
        "        result.append({'id': tweet.id,\n",
        "                       'text': tweet.text,\n",
        "                       'created_at': tweet.created_at,\n",
        "                       'source': tweet.source,\n",
        "                       'retweets': tweet.public_metrics['retweet_count'],\n",
        "                       'replies': tweet.public_metrics['reply_count'],\n",
        "                       'likes': tweet.public_metrics['like_count'],\n",
        "                       'quote_count': tweet.public_metrics['quote_count']\n",
        "                       })\n",
        "\n",
        "    # Crear un DataFrame y convertir la columna 'created_at' a objetos datetime\n",
        "    df = pd.DataFrame(result)\n",
        "    df['created_at'] = pd.to_datetime(df['created_at'])\n",
        "    \n",
        "    # Devolver la lista de tweets\n",
        "    return tweets\n"
      ]
    },
    {
      "cell_type": "code",
      "execution_count": 35,
      "metadata": {},
      "outputs": [],
      "source": [
        "tweets_claro = getTweets(\"ClaroEcua\", 100000)"
      ]
    },
    {
      "cell_type": "code",
      "execution_count": 22,
      "metadata": {},
      "outputs": [
        {
          "ename": "ValueError",
          "evalue": "Excel does not support datetimes with timezones. Please ensure that datetimes are timezone unaware before writing to Excel.",
          "output_type": "error",
          "traceback": [
            "\u001b[0;31m---------------------------------------------------------------------------\u001b[0m",
            "\u001b[0;31mValueError\u001b[0m                                Traceback (most recent call last)",
            "Cell \u001b[0;32mIn[22], line 1\u001b[0m\n\u001b[0;32m----> 1\u001b[0m df_tweets_ecuador\u001b[39m.\u001b[39;49mto_excel(\u001b[39m\"\u001b[39;49m\u001b[39mtweets_ecuador.xlsx\u001b[39;49m\u001b[39m\"\u001b[39;49m)\n",
            "File \u001b[0;32m~/opt/anaconda3/envs/tensorflow/lib/python3.10/site-packages/pandas/core/generic.py:2284\u001b[0m, in \u001b[0;36mNDFrame.to_excel\u001b[0;34m(self, excel_writer, sheet_name, na_rep, float_format, columns, header, index, index_label, startrow, startcol, engine, merge_cells, encoding, inf_rep, verbose, freeze_panes, storage_options)\u001b[0m\n\u001b[1;32m   2271\u001b[0m \u001b[39mfrom\u001b[39;00m \u001b[39mpandas\u001b[39;00m\u001b[39m.\u001b[39;00m\u001b[39mio\u001b[39;00m\u001b[39m.\u001b[39;00m\u001b[39mformats\u001b[39;00m\u001b[39m.\u001b[39;00m\u001b[39mexcel\u001b[39;00m \u001b[39mimport\u001b[39;00m ExcelFormatter\n\u001b[1;32m   2273\u001b[0m formatter \u001b[39m=\u001b[39m ExcelFormatter(\n\u001b[1;32m   2274\u001b[0m     df,\n\u001b[1;32m   2275\u001b[0m     na_rep\u001b[39m=\u001b[39mna_rep,\n\u001b[0;32m   (...)\u001b[0m\n\u001b[1;32m   2282\u001b[0m     inf_rep\u001b[39m=\u001b[39minf_rep,\n\u001b[1;32m   2283\u001b[0m )\n\u001b[0;32m-> 2284\u001b[0m formatter\u001b[39m.\u001b[39;49mwrite(\n\u001b[1;32m   2285\u001b[0m     excel_writer,\n\u001b[1;32m   2286\u001b[0m     sheet_name\u001b[39m=\u001b[39;49msheet_name,\n\u001b[1;32m   2287\u001b[0m     startrow\u001b[39m=\u001b[39;49mstartrow,\n\u001b[1;32m   2288\u001b[0m     startcol\u001b[39m=\u001b[39;49mstartcol,\n\u001b[1;32m   2289\u001b[0m     freeze_panes\u001b[39m=\u001b[39;49mfreeze_panes,\n\u001b[1;32m   2290\u001b[0m     engine\u001b[39m=\u001b[39;49mengine,\n\u001b[1;32m   2291\u001b[0m     storage_options\u001b[39m=\u001b[39;49mstorage_options,\n\u001b[1;32m   2292\u001b[0m )\n",
            "File \u001b[0;32m~/opt/anaconda3/envs/tensorflow/lib/python3.10/site-packages/pandas/io/formats/excel.py:840\u001b[0m, in \u001b[0;36mExcelFormatter.write\u001b[0;34m(self, writer, sheet_name, startrow, startcol, freeze_panes, engine, storage_options)\u001b[0m\n\u001b[1;32m    837\u001b[0m     need_save \u001b[39m=\u001b[39m \u001b[39mTrue\u001b[39;00m\n\u001b[1;32m    839\u001b[0m \u001b[39mtry\u001b[39;00m:\n\u001b[0;32m--> 840\u001b[0m     writer\u001b[39m.\u001b[39;49mwrite_cells(\n\u001b[1;32m    841\u001b[0m         formatted_cells,\n\u001b[1;32m    842\u001b[0m         sheet_name,\n\u001b[1;32m    843\u001b[0m         startrow\u001b[39m=\u001b[39;49mstartrow,\n\u001b[1;32m    844\u001b[0m         startcol\u001b[39m=\u001b[39;49mstartcol,\n\u001b[1;32m    845\u001b[0m         freeze_panes\u001b[39m=\u001b[39;49mfreeze_panes,\n\u001b[1;32m    846\u001b[0m     )\n\u001b[1;32m    847\u001b[0m \u001b[39mfinally\u001b[39;00m:\n\u001b[1;32m    848\u001b[0m     \u001b[39m# make sure to close opened file handles\u001b[39;00m\n\u001b[1;32m    849\u001b[0m     \u001b[39mif\u001b[39;00m need_save:\n",
            "File \u001b[0;32m~/opt/anaconda3/envs/tensorflow/lib/python3.10/site-packages/pandas/io/excel/_openpyxl.py:457\u001b[0m, in \u001b[0;36mOpenpyxlWriter.write_cells\u001b[0;34m(self, cells, sheet_name, startrow, startcol, freeze_panes)\u001b[0m\n\u001b[1;32m    452\u001b[0m \u001b[39mif\u001b[39;00m validate_freeze_panes(freeze_panes):\n\u001b[1;32m    453\u001b[0m     wks\u001b[39m.\u001b[39mfreeze_panes \u001b[39m=\u001b[39m wks\u001b[39m.\u001b[39mcell(\n\u001b[1;32m    454\u001b[0m         row\u001b[39m=\u001b[39mfreeze_panes[\u001b[39m0\u001b[39m] \u001b[39m+\u001b[39m \u001b[39m1\u001b[39m, column\u001b[39m=\u001b[39mfreeze_panes[\u001b[39m1\u001b[39m] \u001b[39m+\u001b[39m \u001b[39m1\u001b[39m\n\u001b[1;32m    455\u001b[0m     )\n\u001b[0;32m--> 457\u001b[0m \u001b[39mfor\u001b[39;00m cell \u001b[39min\u001b[39;00m cells:\n\u001b[1;32m    458\u001b[0m     xcell \u001b[39m=\u001b[39m wks\u001b[39m.\u001b[39mcell(\n\u001b[1;32m    459\u001b[0m         row\u001b[39m=\u001b[39mstartrow \u001b[39m+\u001b[39m cell\u001b[39m.\u001b[39mrow \u001b[39m+\u001b[39m \u001b[39m1\u001b[39m, column\u001b[39m=\u001b[39mstartcol \u001b[39m+\u001b[39m cell\u001b[39m.\u001b[39mcol \u001b[39m+\u001b[39m \u001b[39m1\u001b[39m\n\u001b[1;32m    460\u001b[0m     )\n\u001b[1;32m    461\u001b[0m     xcell\u001b[39m.\u001b[39mvalue, fmt \u001b[39m=\u001b[39m \u001b[39mself\u001b[39m\u001b[39m.\u001b[39m_value_with_fmt(cell\u001b[39m.\u001b[39mval)\n",
            "File \u001b[0;32m~/opt/anaconda3/envs/tensorflow/lib/python3.10/site-packages/pandas/io/formats/excel.py:778\u001b[0m, in \u001b[0;36mExcelFormatter.get_formatted_cells\u001b[0;34m(self)\u001b[0m\n\u001b[1;32m    776\u001b[0m \u001b[39mdef\u001b[39;00m \u001b[39mget_formatted_cells\u001b[39m(\u001b[39mself\u001b[39m) \u001b[39m-\u001b[39m\u001b[39m>\u001b[39m Iterable[ExcelCell]:\n\u001b[1;32m    777\u001b[0m     \u001b[39mfor\u001b[39;00m cell \u001b[39min\u001b[39;00m itertools\u001b[39m.\u001b[39mchain(\u001b[39mself\u001b[39m\u001b[39m.\u001b[39m_format_header(), \u001b[39mself\u001b[39m\u001b[39m.\u001b[39m_format_body()):\n\u001b[0;32m--> 778\u001b[0m         cell\u001b[39m.\u001b[39mval \u001b[39m=\u001b[39m \u001b[39mself\u001b[39;49m\u001b[39m.\u001b[39;49m_format_value(cell\u001b[39m.\u001b[39;49mval)\n\u001b[1;32m    779\u001b[0m         \u001b[39myield\u001b[39;00m cell\n",
            "File \u001b[0;32m~/opt/anaconda3/envs/tensorflow/lib/python3.10/site-packages/pandas/io/formats/excel.py:526\u001b[0m, in \u001b[0;36mExcelFormatter._format_value\u001b[0;34m(self, val)\u001b[0m\n\u001b[1;32m    524\u001b[0m         val \u001b[39m=\u001b[39m \u001b[39mfloat\u001b[39m(\u001b[39mself\u001b[39m\u001b[39m.\u001b[39mfloat_format \u001b[39m%\u001b[39m val)\n\u001b[1;32m    525\u001b[0m \u001b[39mif\u001b[39;00m \u001b[39mgetattr\u001b[39m(val, \u001b[39m\"\u001b[39m\u001b[39mtzinfo\u001b[39m\u001b[39m\"\u001b[39m, \u001b[39mNone\u001b[39;00m) \u001b[39mis\u001b[39;00m \u001b[39mnot\u001b[39;00m \u001b[39mNone\u001b[39;00m:\n\u001b[0;32m--> 526\u001b[0m     \u001b[39mraise\u001b[39;00m \u001b[39mValueError\u001b[39;00m(\n\u001b[1;32m    527\u001b[0m         \u001b[39m\"\u001b[39m\u001b[39mExcel does not support datetimes with \u001b[39m\u001b[39m\"\u001b[39m\n\u001b[1;32m    528\u001b[0m         \u001b[39m\"\u001b[39m\u001b[39mtimezones. Please ensure that datetimes \u001b[39m\u001b[39m\"\u001b[39m\n\u001b[1;32m    529\u001b[0m         \u001b[39m\"\u001b[39m\u001b[39mare timezone unaware before writing to Excel.\u001b[39m\u001b[39m\"\u001b[39m\n\u001b[1;32m    530\u001b[0m     )\n\u001b[1;32m    531\u001b[0m \u001b[39mreturn\u001b[39;00m val\n",
            "\u001b[0;31mValueError\u001b[0m: Excel does not support datetimes with timezones. Please ensure that datetimes are timezone unaware before writing to Excel."
          ]
        }
      ],
      "source": [
        "tweets_claro.to_excel(\"tweets_ecuador.xlsx\")"
      ]
    },
    {
      "cell_type": "markdown",
      "metadata": {
        "id": "vj7H6MHFMwhq"
      },
      "source": [
        "# Ejercicio\n",
        "Realiza una busqueda en twitter de un termino en español y otro en inglés, exportalos a Excel en archivos separados."
      ]
    },
    {
      "cell_type": "markdown",
      "metadata": {
        "id": "mLIf7ro_Mtwn"
      },
      "source": [
        "nlp/2022_Twitter_Data_Scrapper.ipynb\n",
        "\n",
        "> Bloque con sangría\n",
        "\n"
      ]
    }
  ],
  "metadata": {
    "colab": {
      "name": "nlp/2022_Twitter_Data_Scrapper.ipynb",
      "provenance": []
    },
    "kernelspec": {
      "display_name": "tensorflow",
      "language": "python",
      "name": "python3"
    },
    "language_info": {
      "codemirror_mode": {
        "name": "ipython",
        "version": 3
      },
      "file_extension": ".py",
      "mimetype": "text/x-python",
      "name": "python",
      "nbconvert_exporter": "python",
      "pygments_lexer": "ipython3",
      "version": "3.10.8"
    },
    "vscode": {
      "interpreter": {
        "hash": "ef347fa111a972b42709d754011b73804350168ffd20ad9dbaeb269a26ad840f"
      }
    }
  },
  "nbformat": 4,
  "nbformat_minor": 0
}
