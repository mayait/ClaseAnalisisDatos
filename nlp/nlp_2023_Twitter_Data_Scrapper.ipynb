{
  "cells": [
    {
      "cell_type": "markdown",
      "metadata": {
        "id": "view-in-github",
        "colab_type": "text"
      },
      "source": [
        "<a href=\"https://colab.research.google.com/github/mayait/ClaseAnalisisDatos/blob/main/nlp/nlp_2023_Twitter_Data_Scrapper.ipynb\" target=\"_parent\"><img src=\"https://colab.research.google.com/assets/colab-badge.svg\" alt=\"Open In Colab\"/></a>"
      ]
    },
    {
      "cell_type": "code",
      "execution_count": null,
      "metadata": {
        "cellView": "form",
        "id": "oEfCT92oL7bC"
      },
      "outputs": [],
      "source": [
        "#@title Nombre del estudiante\n",
        "Estudiante = \"\" #@param {type:\"string\"}\n",
        "Código = \"\" #@param {type:\"string\"}\n",
        "\n"
      ]
    },
    {
      "cell_type": "markdown",
      "metadata": {
        "id": "AdYh71TAa1Is"
      },
      "source": [
        "# \"Datascraping con Twitter\"\n"
      ]
    },
    {
      "cell_type": "markdown",
      "metadata": {
        "id": "KaFZyxpAa1Iw"
      },
      "source": [
        "Uno de los superpoderes de la AI/ML es que nos permite entender el mundo desde la perspectiva de los datos.\n",
        "\n",
        "Twitter es una plataforma que proporciona datos extensos en lenguaje natural, en base a los cuales se puede explorar mucho."
      ]
    },
    {
      "cell_type": "code",
      "execution_count": null,
      "metadata": {
        "id": "OwPpMjc5oDku",
        "outputId": "5d90ef9a-c4ee-4deb-8259-a7c24905aef8"
      },
      "outputs": [
        {
          "name": "stdout",
          "output_type": "stream",
          "text": [
            "Requirement already satisfied: tweepy in /Users/julianmaya/opt/anaconda3/envs/tensorflow/lib/python3.10/site-packages (4.13.0)\n",
            "Requirement already satisfied: textblob in /Users/julianmaya/opt/anaconda3/envs/tensorflow/lib/python3.10/site-packages (0.17.1)\n",
            "Requirement already satisfied: wordcloud in /Users/julianmaya/opt/anaconda3/envs/tensorflow/lib/python3.10/site-packages (1.8.2.2)\n",
            "Requirement already satisfied: oauthlib<4,>=3.2.0 in /Users/julianmaya/opt/anaconda3/envs/tensorflow/lib/python3.10/site-packages (from tweepy) (3.2.2)\n",
            "Requirement already satisfied: requests-oauthlib<2,>=1.2.0 in /Users/julianmaya/opt/anaconda3/envs/tensorflow/lib/python3.10/site-packages (from tweepy) (1.3.1)\n",
            "Requirement already satisfied: requests<3,>=2.27.0 in /Users/julianmaya/opt/anaconda3/envs/tensorflow/lib/python3.10/site-packages (from tweepy) (2.28.1)\n",
            "Requirement already satisfied: nltk>=3.1 in /Users/julianmaya/opt/anaconda3/envs/tensorflow/lib/python3.10/site-packages (from textblob) (3.8.1)\n",
            "Requirement already satisfied: numpy>=1.6.1 in /Users/julianmaya/opt/anaconda3/envs/tensorflow/lib/python3.10/site-packages (from wordcloud) (1.23.5)\n",
            "Requirement already satisfied: pillow in /Users/julianmaya/opt/anaconda3/envs/tensorflow/lib/python3.10/site-packages (from wordcloud) (9.4.0)\n",
            "Requirement already satisfied: matplotlib in /Users/julianmaya/opt/anaconda3/envs/tensorflow/lib/python3.10/site-packages (from wordcloud) (3.6.2)\n",
            "Requirement already satisfied: tqdm in /Users/julianmaya/opt/anaconda3/envs/tensorflow/lib/python3.10/site-packages (from nltk>=3.1->textblob) (4.64.1)\n",
            "Requirement already satisfied: joblib in /Users/julianmaya/opt/anaconda3/envs/tensorflow/lib/python3.10/site-packages (from nltk>=3.1->textblob) (1.2.0)\n",
            "Requirement already satisfied: regex>=2021.8.3 in /Users/julianmaya/opt/anaconda3/envs/tensorflow/lib/python3.10/site-packages (from nltk>=3.1->textblob) (2022.10.31)\n",
            "Requirement already satisfied: click in /Users/julianmaya/opt/anaconda3/envs/tensorflow/lib/python3.10/site-packages (from nltk>=3.1->textblob) (8.1.3)\n",
            "Requirement already satisfied: certifi>=2017.4.17 in /Users/julianmaya/opt/anaconda3/envs/tensorflow/lib/python3.10/site-packages (from requests<3,>=2.27.0->tweepy) (2022.12.7)\n",
            "Requirement already satisfied: charset-normalizer<3,>=2 in /Users/julianmaya/opt/anaconda3/envs/tensorflow/lib/python3.10/site-packages (from requests<3,>=2.27.0->tweepy) (2.1.1)\n",
            "Requirement already satisfied: idna<4,>=2.5 in /Users/julianmaya/opt/anaconda3/envs/tensorflow/lib/python3.10/site-packages (from requests<3,>=2.27.0->tweepy) (3.4)\n",
            "Requirement already satisfied: urllib3<1.27,>=1.21.1 in /Users/julianmaya/opt/anaconda3/envs/tensorflow/lib/python3.10/site-packages (from requests<3,>=2.27.0->tweepy) (1.26.13)\n",
            "Requirement already satisfied: kiwisolver>=1.0.1 in /Users/julianmaya/opt/anaconda3/envs/tensorflow/lib/python3.10/site-packages (from matplotlib->wordcloud) (1.4.4)\n",
            "Requirement already satisfied: contourpy>=1.0.1 in /Users/julianmaya/opt/anaconda3/envs/tensorflow/lib/python3.10/site-packages (from matplotlib->wordcloud) (1.0.6)\n",
            "Requirement already satisfied: python-dateutil>=2.7 in /Users/julianmaya/opt/anaconda3/envs/tensorflow/lib/python3.10/site-packages (from matplotlib->wordcloud) (2.8.2)\n",
            "Requirement already satisfied: fonttools>=4.22.0 in /Users/julianmaya/opt/anaconda3/envs/tensorflow/lib/python3.10/site-packages (from matplotlib->wordcloud) (4.38.0)\n",
            "Requirement already satisfied: packaging>=20.0 in /Users/julianmaya/opt/anaconda3/envs/tensorflow/lib/python3.10/site-packages (from matplotlib->wordcloud) (22.0)\n",
            "Requirement already satisfied: cycler>=0.10 in /Users/julianmaya/opt/anaconda3/envs/tensorflow/lib/python3.10/site-packages (from matplotlib->wordcloud) (0.11.0)\n",
            "Requirement already satisfied: pyparsing>=2.2.1 in /Users/julianmaya/opt/anaconda3/envs/tensorflow/lib/python3.10/site-packages (from matplotlib->wordcloud) (3.0.9)\n",
            "Requirement already satisfied: six>=1.5 in /Users/julianmaya/opt/anaconda3/envs/tensorflow/lib/python3.10/site-packages (from python-dateutil>=2.7->matplotlib->wordcloud) (1.16.0)\n"
          ]
        }
      ],
      "source": [
        "!pip install tweepy textblob wordcloud"
      ]
    },
    {
      "cell_type": "code",
      "execution_count": null,
      "metadata": {
        "id": "zrGUxEqWa1Ix"
      },
      "outputs": [],
      "source": [
        "# importing libraries\n",
        "import pandas as pd\n",
        "import tweepy\n",
        "import time\n",
        "import warnings\n",
        "warnings.filterwarnings('ignore')\n",
        "\n",
        "import sys\n",
        "import os\n",
        "import re\n",
        "import tweepy\n",
        "from tweepy import OAuthHandler\n",
        "from textblob import TextBlob\n",
        "\n",
        "import numpy as np\n",
        "import pandas as pd\n",
        "from datetime import datetime, timedelta\n",
        "from IPython.display import clear_output\n",
        "from tqdm import tqdm\n",
        "\n",
        "import matplotlib.pyplot as plt\n",
        "import seaborn as sns\n",
        "%matplotlib inline\n",
        "\n",
        "from os import path\n",
        "from PIL import Image\n",
        "from wordcloud import WordCloud, STOPWORDS"
      ]
    },
    {
      "cell_type": "markdown",
      "metadata": {
        "id": "ojafCihsa1Iz"
      },
      "source": [
        "Para acceder a la API de Twitter, necesitaremos generar las claves. \n",
        "Estas claves se encuentran en la configuración de la aplicación de Twitter en la pestaña Claves y tokens de acceso:\n",
        "\n",
        "[ https://apps.twitter.com/app/new]( https://apps.twitter.com/app/new)"
      ]
    },
    {
      "cell_type": "code",
      "execution_count": null,
      "metadata": {
        "id": "79kGx-cC1Fbm"
      },
      "outputs": [],
      "source": [
        "#@title Credenciales de Twitter\n",
        "TWITTER_BEARER_TOKEN = \"AAAAAAAAAAAAAAAAAAAAAPY7WQEAAAAArv14iz4pbeglBLonfhMIReDMbaI%3DE4RZce3DXjAoAI39NWFGA5MQUguGN3FPVE1KcfrLIwtbuRGpft\"\n",
        "client = tweepy.Client(TWITTER_BEARER_TOKEN)"
      ]
    },
    {
      "cell_type": "markdown",
      "metadata": {
        "id": "UbeRVoq1oDku"
      },
      "source": [
        "### Tweepy nos permite conectarnos directamente al API de Twitter y obtener tweets\n",
        "En este ejemplo nos decargamos 10 Tweets de Ecuador"
      ]
    },
    {
      "cell_type": "code",
      "execution_count": null,
      "metadata": {
        "id": "C0_gfHtmoDku",
        "outputId": "40639a89-d767-4554-844e-8d790b9ebe24"
      },
      "outputs": [
        {
          "name": "stdout",
          "output_type": "stream",
          "text": [
            "#Ecuador es parte del #AmericasGirlsCanCode\n",
            "Como país impulsamos este proyecto de la ITU  que promueve la Inclusión Digital, ofrece oportunidades de aprendizaje a niñas, jóvenes mujeres y emprendedoras.\n",
            "\n",
            "Movimiento STEM\n",
            "Chicas en Tecnología\n",
            "Meta\n",
            "Vianna Maino https://t.co/FouXmoy9c0\n",
            "📌CONSULADO MÓVIL EN DALLAS-FORT WORTH \n",
            "\n",
            "El 8 de abril de 2023, el Consulado del Ecuador en Houston, para acercar los servicios consulares a los ecuatorianos residentes en el Norte de Texas y en los Estados de Kansas, Arkansas y Oklahoma, realizó un Consulado Móvil en Dallas. https://t.co/2MwJOayKma\n",
            "@fabriciovelav @dariorobinzonec @PrimeraPlanaECU @radiosonorama “Hoy Ecuador es un mejor país”, dicen muchos por ahí pero, estamos en la 💩\n",
            "🔊 #EXCLUSIVA | La Fiscalía deberá demostrar la acusación de asociación ilícita una vez que #SebastiánYunda arribe a Ecuador\n",
            "\n",
            "Los detalles aquí ➡️ https://t.co/ldIjNoGRSE.\n",
            "@BDEcuadorBP @LassoGuillermo @AlcivarRomulo @hcastanierj Excelente trabajo señor gerente @hcastanierj el gobierno del ecuador se encuentra muy bien representando.\n",
            "@donramon_10 Que bien que hayan vendido hacerle la despedida al más grande INEFICIENTE del ECUADOR.\n",
            "El ministro @ja_davalos acompañó al presidente @LassoGuillermo y al canciller @GustavoManriq_M en la reunión con representantes de las embajadas del cuerpo diplomático acreditado en Ecuador, donde se dialogó sobre financiamiento de la biodiversidad y servicios ecosistémicos. https://t.co/D0SCWhVwoh\n",
            "Respecto al acuerdo con la comunidad de Dicaro @EPPETROECUADOR informa:\n",
            "\n",
            "#Ecuador #11Abril https://t.co/RpSjvHwBXW\n",
            "Pues en #Ecuador  tenemos justicia a la carta !!! Según el menú del día... https://t.co/TXtiwesu73\n",
            "#Recuerda | Puedes hacer tus envíos internacionales a USA, Ecuador, Colombia y España a través de nuestro aliado #ServiciosExpresos\n"
          ]
        }
      ],
      "source": [
        "\n",
        "# La función search_recent_tweets() devuelve un objeto de tipo Response, que contiene los tweets en su atributo data.\n",
        "# El parámetro max_results indica el número máximo de tweets que se devolverán en la respuesta.\n",
        "\n",
        "response = client.search_recent_tweets(\"Ecuador -is:retweet\", max_results=10)\n",
        "tweets = response.data\n",
        "\n",
        "# Iterar a través de los tweets e imprimir el texto\n",
        "for tweet in response.data:\n",
        "    print(tweet.text)\n",
        "\n"
      ]
    },
    {
      "cell_type": "markdown",
      "metadata": {
        "id": "vGGZ6L9zoDku"
      },
      "source": [
        "### Tambien podemos buscar datos de un usuario especifico\n",
        "Necesitamos el ID del usuario, puedes buscarlo aquí\n",
        "\n",
        "https://tweeterid.com/\n",
        "\n",
        "@usfq_ecuador => 66436490"
      ]
    },
    {
      "cell_type": "code",
      "execution_count": null,
      "metadata": {
        "id": "P68p7LwCoDkv",
        "outputId": "8b4e6375-c70a-4729-b119-2e5e00dbc264"
      },
      "outputs": [
        {
          "name": "stdout",
          "output_type": "stream",
          "text": [
            "2023-04-10 22:19:35+00:00 ¿Listos para vivir múltiples experiencias?\n",
            "Atrévanse a descubrir el siguiente nivel de innovación tecnológica.\n",
            "NeoCom 2023: Comunicación, IA y Metaverso.\n",
            "\n",
            "https://t.co/P7UdKbcLTS\n",
            "\n",
            "#neocom #neocom2023 #inteligenciaartificial #ai #metaverso #comunicacion #usfq #seminario  #atrevia https://t.co/ujl4gN5yMI\n",
            "2023-04-10 22:13:57+00:00 Inicia la conferencia de @LeoLopezLujan en la #USFQ; “En busca de la antigua #Tenochtitlan” y la arqueología en la Ciudad de #México. Una magnífica visita y nuevos conocimientos para fortalecer la estrecha relación entre 🇪🇨 y 🇲🇽 en la academia. Bienvenido @LeoLopezLujan 👏🏻 https://t.co/rzuAwheyaq\n",
            "2023-04-10 18:10:54+00:00 RT @USFQ_Derecho: ✅ I ENCUENTRO NACIONAL DE POLITICA CRIMINAL, DERECHO PENAL Y EJECUCIÓN DE PENAS.\n",
            "\n",
            "📅 18, 19, 20 abril 2023\n",
            "📍 Teatro Calder…\n",
            "2023-04-10 17:43:04+00:00 El miércoles 29 de marzo invitamos a los graduados de Relaciones Internacionales de los últimos 5 años de la USFQ. El encuentro permitió identificar oportunidades para mejorar la carrera y se convocó a la Networking Night de RRII. https://t.co/aR0eg9S2K9\n",
            "2023-04-10 01:01:00+00:00 Dos días dedicados a la impresionante historia de #México. En la #USFQ nos visitan, Leonardo López Luján y Elisa Speckman, reconocidos investigadores para brindar dos fascinantes conferencias sobre historia y arqueología. \n",
            "Eventos de entrada libre y organizados por @usfq_cocisoh. https://t.co/fcnR1OiV2n\n",
            "2023-04-06 18:24:24+00:00 RT @jorgegt1975: El martes 11 de abril, 17:00 tendremos el honor de recibir en @USFQ_Ecuador @usfq_cocisoh a Elisa Speckman @Elisa28361332…\n",
            "2023-04-06 18:00:01+00:00 ✅ Establece métodos de implementación y evaluación de sistemas de gestión anticorrupción.\n",
            " ¡Inscríbete!\n",
            "🎓 Certificación compliance: integridad corporativa\n",
            "🌐 Más información: https://t.co/LmYEDzctYI\n",
            "@EE_USFQ https://t.co/mq1B7Gj6ak\n",
            "2023-04-06 15:16:00+00:00 En el siglo XIX en México, como en otros países de América Latina, se le concedía más valor al honor que a la vida. Elisa Speckman, directora del Instituto de Investigaciones Históricas #UNAM, llega a la #USFQ para su conferencia \"Honor, Homicidio y Nota Roja\". ¡Te esperamos! https://t.co/YNPb6F0etC\n",
            "2023-04-05 20:40:12+00:00 RT @jorgegt1975: Tendremos una conferencia de lujo sobre la la antigua Tenochtitlan el lunes 10 de abril en la @USFQ_Ecuador @usfq_cocisoh…\n",
            "2023-04-05 17:15:16+00:00 La arqueología de la capital del imperio mexica, bajo las calles y casas de la moderna Ciudad de México, presenta múltiples retos y fascinantes hallazgos para los especialistas. Leonardo López Luján, reconocido arqueólogo mexicano, visita la USFQ para una conferencia imperdible. https://t.co/veCx25pTpk\n"
          ]
        }
      ],
      "source": [
        "id = '66436490'\n",
        "tweets = client.get_users_tweets(id=id, tweet_fields=['context_annotations','created_at','geo'], max_results=10)\n",
        "for tweet in tweets.data:\n",
        "    print(tweet.created_at, tweet.text)"
      ]
    },
    {
      "cell_type": "markdown",
      "metadata": {
        "id": "F7kIXjoyoDkv"
      },
      "source": [
        "## Una función que extrae Tuits de un tema y los pasa a un DataFrame"
      ]
    },
    {
      "cell_type": "code",
      "execution_count": null,
      "metadata": {
        "id": "Se0GKNmAoDkv"
      },
      "outputs": [],
      "source": [
        "# Función para obtener tweets recientes\n",
        "\n",
        "def getTweets(keyword, num_tweets):\n",
        "    # Consulta de búsqueda que incluye el término de búsqueda, excluye retweets y selecciona tweets en español\n",
        "    query = f'{keyword} -is:retweet lang:es'\n",
        "\n",
        "    # Uso del paginador de Tweepy para obtener más de 100 tweets recientes a través de la API de Twitter\n",
        "    tweets = []\n",
        "    for tweet in tweepy.Paginator(client.search_recent_tweets,\n",
        "                                  query=query,\n",
        "                                  tweet_fields=['id', 'created_at', 'public_metrics', 'text', 'source'],\n",
        "                                  max_results=100).flatten(limit=num_tweets):\n",
        "\n",
        "        tweets.append(tweet)\n",
        "\n",
        "    result = []\n",
        "\n",
        "    # Función para desempaquetar la lista de tweets en un DataFrame\n",
        "    for tweet in tweets:\n",
        "        result.append({'id': tweet.id,\n",
        "                       'text': tweet.text,\n",
        "                       'created_at': tweet.created_at,\n",
        "                       'source': tweet.source,\n",
        "                       'retweets': tweet.public_metrics['retweet_count'],\n",
        "                       'replies': tweet.public_metrics['reply_count'],\n",
        "                       'likes': tweet.public_metrics['like_count'],\n",
        "                       'quote_count': tweet.public_metrics['quote_count']\n",
        "                       })\n",
        "\n",
        "    # Crear un DataFrame y convertir la columna 'created_at' a objetos datetime\n",
        "    df = pd.DataFrame(result)\n",
        "    df['created_at'] = pd.to_datetime(df['created_at'])\n",
        "    # Convert timezone-aware datetimes to timezone-naive datetimes\n",
        "    df['created_at'] = df['created_at'].dt.tz_convert(None)     \n",
        "    \n",
        "    # Devolver la lista de tweets\n",
        "    return tweets\n"
      ]
    },
    {
      "cell_type": "code",
      "execution_count": null,
      "metadata": {
        "id": "Tdybi-0DoDkv"
      },
      "outputs": [],
      "source": [
        "tweets_claro = getTweets(\"ClaroEcua\", 100000)"
      ]
    },
    {
      "cell_type": "code",
      "execution_count": null,
      "metadata": {
        "id": "3vYN5C1hoDkv",
        "outputId": "6b33cfa7-e6da-4320-f4d4-1d72d7eb3f1e"
      },
      "outputs": [
        {
          "ename": "NameError",
          "evalue": "name 'tweets_claro' is not defined",
          "output_type": "error",
          "traceback": [
            "\u001b[0;31m---------------------------------------------------------------------------\u001b[0m",
            "\u001b[0;31mNameError\u001b[0m                                 Traceback (most recent call last)",
            "Cell \u001b[0;32mIn[2], line 2\u001b[0m\n\u001b[1;32m      1\u001b[0m \u001b[39m# Convert timezone-aware datetimes to timezone-naive datetimes\u001b[39;00m\n\u001b[0;32m----> 2\u001b[0m tweets_claro\u001b[39m.\u001b[39mto_excel(\u001b[39m\"\u001b[39m\u001b[39mtweets_ecuador.xlsx\u001b[39m\u001b[39m\"\u001b[39m)\n",
            "\u001b[0;31mNameError\u001b[0m: name 'tweets_claro' is not defined"
          ]
        }
      ],
      "source": [
        "# Convert timezone-aware datetimes to timezone-naive datetimes\n",
        "tweets_claro.to_excel(\"tweets_ecuador.xlsx\")"
      ]
    },
    {
      "cell_type": "markdown",
      "metadata": {
        "id": "vj7H6MHFMwhq"
      },
      "source": [
        "# Ejercicio\n",
        "Realiza una busqueda en twitter de un termino en español y otro en inglés, exportalos a Excel en archivos separados."
      ]
    },
    {
      "cell_type": "markdown",
      "metadata": {
        "id": "mLIf7ro_Mtwn"
      },
      "source": [
        "nlp/2022_Twitter_Data_Scrapper.ipynb\n",
        "\n",
        "> Bloque con sangría\n",
        "\n"
      ]
    }
  ],
  "metadata": {
    "colab": {
      "name": "nlp/2022_Twitter_Data_Scrapper.ipynb",
      "provenance": [],
      "include_colab_link": true
    },
    "kernelspec": {
      "display_name": "tensorflow",
      "language": "python",
      "name": "python3"
    },
    "language_info": {
      "codemirror_mode": {
        "name": "ipython",
        "version": 3
      },
      "file_extension": ".py",
      "mimetype": "text/x-python",
      "name": "python",
      "nbconvert_exporter": "python",
      "pygments_lexer": "ipython3",
      "version": "3.10.8"
    },
    "vscode": {
      "interpreter": {
        "hash": "ef347fa111a972b42709d754011b73804350168ffd20ad9dbaeb269a26ad840f"
      }
    }
  },
  "nbformat": 4,
  "nbformat_minor": 0
}