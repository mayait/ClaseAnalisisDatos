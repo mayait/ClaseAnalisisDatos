{
  "cells": [
    {
      "cell_type": "markdown",
      "metadata": {
        "id": "view-in-github",
        "colab_type": "text"
      },
      "source": [
        "<a href=\"https://colab.research.google.com/github/mayait/ClaseAnalisisDatos/blob/main/nlp/nlp_2023_Twitter_Data_Scrapper.ipynb\" target=\"_parent\"><img src=\"https://colab.research.google.com/assets/colab-badge.svg\" alt=\"Open In Colab\"/></a>"
      ]
    },
    {
      "cell_type": "code",
      "execution_count": null,
      "metadata": {
        "cellView": "form",
        "id": "oEfCT92oL7bC"
      },
      "outputs": [],
      "source": [
        "#@title Nombre del estudiante\n",
        "Estudiante = \"\" #@param {type:\"string\"}\n",
        "Código = \"\" #@param {type:\"string\"}\n",
        "\n"
      ]
    },
    {
      "cell_type": "markdown",
      "metadata": {
        "id": "AdYh71TAa1Is"
      },
      "source": [
        "# \"Datascraping con Twitter\"\n"
      ]
    },
    {
      "cell_type": "markdown",
      "metadata": {
        "id": "KaFZyxpAa1Iw"
      },
      "source": [
        "Uno de los superpoderes de la AI/ML es que nos permite entender el mundo desde la perspectiva de los datos.\n",
        "\n",
        "Twitter es una plataforma que proporciona datos extensos en lenguaje natural, en base a los cuales se puede explorar mucho."
      ]
    },
    {
      "cell_type": "code",
      "execution_count": 1,
      "metadata": {
        "colab": {
          "base_uri": "https://localhost:8080/"
        },
        "id": "bJ3GTf8PoI2h",
        "outputId": "a48e3bb6-00c1-447b-d941-8c67034a4f4b"
      },
      "outputs": [
        {
          "output_type": "stream",
          "name": "stdout",
          "text": [
            "Looking in indexes: https://pypi.org/simple, https://us-python.pkg.dev/colab-wheels/public/simple/\n",
            "Requirement already satisfied: tweepy in /usr/local/lib/python3.9/dist-packages (4.13.0)\n",
            "Requirement already satisfied: textblob in /usr/local/lib/python3.9/dist-packages (0.17.1)\n",
            "Requirement already satisfied: wordcloud in /usr/local/lib/python3.9/dist-packages (1.8.2.2)\n",
            "Requirement already satisfied: requests<3,>=2.27.0 in /usr/local/lib/python3.9/dist-packages (from tweepy) (2.27.1)\n",
            "Requirement already satisfied: oauthlib<4,>=3.2.0 in /usr/local/lib/python3.9/dist-packages (from tweepy) (3.2.2)\n",
            "Requirement already satisfied: requests-oauthlib<2,>=1.2.0 in /usr/local/lib/python3.9/dist-packages (from tweepy) (1.3.1)\n",
            "Requirement already satisfied: nltk>=3.1 in /usr/local/lib/python3.9/dist-packages (from textblob) (3.8.1)\n",
            "Requirement already satisfied: pillow in /usr/local/lib/python3.9/dist-packages (from wordcloud) (8.4.0)\n",
            "Requirement already satisfied: matplotlib in /usr/local/lib/python3.9/dist-packages (from wordcloud) (3.7.1)\n",
            "Requirement already satisfied: numpy>=1.6.1 in /usr/local/lib/python3.9/dist-packages (from wordcloud) (1.22.4)\n",
            "Requirement already satisfied: tqdm in /usr/local/lib/python3.9/dist-packages (from nltk>=3.1->textblob) (4.65.0)\n",
            "Requirement already satisfied: joblib in /usr/local/lib/python3.9/dist-packages (from nltk>=3.1->textblob) (1.2.0)\n",
            "Requirement already satisfied: regex>=2021.8.3 in /usr/local/lib/python3.9/dist-packages (from nltk>=3.1->textblob) (2022.10.31)\n",
            "Requirement already satisfied: click in /usr/local/lib/python3.9/dist-packages (from nltk>=3.1->textblob) (8.1.3)\n",
            "Requirement already satisfied: urllib3<1.27,>=1.21.1 in /usr/local/lib/python3.9/dist-packages (from requests<3,>=2.27.0->tweepy) (1.26.15)\n",
            "Requirement already satisfied: charset-normalizer~=2.0.0 in /usr/local/lib/python3.9/dist-packages (from requests<3,>=2.27.0->tweepy) (2.0.12)\n",
            "Requirement already satisfied: certifi>=2017.4.17 in /usr/local/lib/python3.9/dist-packages (from requests<3,>=2.27.0->tweepy) (2022.12.7)\n",
            "Requirement already satisfied: idna<4,>=2.5 in /usr/local/lib/python3.9/dist-packages (from requests<3,>=2.27.0->tweepy) (3.4)\n",
            "Requirement already satisfied: python-dateutil>=2.7 in /usr/local/lib/python3.9/dist-packages (from matplotlib->wordcloud) (2.8.2)\n",
            "Requirement already satisfied: importlib-resources>=3.2.0 in /usr/local/lib/python3.9/dist-packages (from matplotlib->wordcloud) (5.12.0)\n",
            "Requirement already satisfied: contourpy>=1.0.1 in /usr/local/lib/python3.9/dist-packages (from matplotlib->wordcloud) (1.0.7)\n",
            "Requirement already satisfied: fonttools>=4.22.0 in /usr/local/lib/python3.9/dist-packages (from matplotlib->wordcloud) (4.39.3)\n",
            "Requirement already satisfied: packaging>=20.0 in /usr/local/lib/python3.9/dist-packages (from matplotlib->wordcloud) (23.0)\n",
            "Requirement already satisfied: pyparsing>=2.3.1 in /usr/local/lib/python3.9/dist-packages (from matplotlib->wordcloud) (3.0.9)\n",
            "Requirement already satisfied: cycler>=0.10 in /usr/local/lib/python3.9/dist-packages (from matplotlib->wordcloud) (0.11.0)\n",
            "Requirement already satisfied: kiwisolver>=1.0.1 in /usr/local/lib/python3.9/dist-packages (from matplotlib->wordcloud) (1.4.4)\n",
            "Requirement already satisfied: zipp>=3.1.0 in /usr/local/lib/python3.9/dist-packages (from importlib-resources>=3.2.0->matplotlib->wordcloud) (3.15.0)\n",
            "Requirement already satisfied: six>=1.5 in /usr/local/lib/python3.9/dist-packages (from python-dateutil>=2.7->matplotlib->wordcloud) (1.16.0)\n"
          ]
        }
      ],
      "source": [
        "!pip install tweepy textblob wordcloud"
      ]
    },
    {
      "cell_type": "code",
      "execution_count": 2,
      "metadata": {
        "id": "zrGUxEqWa1Ix"
      },
      "outputs": [],
      "source": [
        "# importing libraries\n",
        "import pandas as pd\n",
        "import tweepy\n",
        "import time\n",
        "import warnings\n",
        "warnings.filterwarnings('ignore')\n",
        "\n",
        "import sys\n",
        "import os\n",
        "import re\n",
        "import tweepy\n",
        "from tweepy import OAuthHandler\n",
        "from textblob import TextBlob\n",
        "\n",
        "import numpy as np\n",
        "import pandas as pd\n",
        "from datetime import datetime, timedelta\n",
        "from IPython.display import clear_output\n",
        "from tqdm import tqdm\n",
        "\n",
        "import matplotlib.pyplot as plt\n",
        "import seaborn as sns\n",
        "%matplotlib inline\n",
        "\n",
        "from os import path\n",
        "from PIL import Image\n",
        "from wordcloud import WordCloud, STOPWORDS"
      ]
    },
    {
      "cell_type": "markdown",
      "metadata": {
        "id": "ojafCihsa1Iz"
      },
      "source": [
        "Para acceder a la API de Twitter, necesitaremos generar las claves. \n",
        "Estas claves se encuentran en la configuración de la aplicación de Twitter en la pestaña Claves y tokens de acceso:\n",
        "\n",
        "[ https://apps.twitter.com/app/new]( https://apps.twitter.com/app/new)"
      ]
    },
    {
      "cell_type": "code",
      "execution_count": 3,
      "metadata": {
        "id": "79kGx-cC1Fbm"
      },
      "outputs": [],
      "source": [
        "#@title Credenciales de Twitter\n",
        "TWITTER_BEARER_TOKEN = \"AAAAAAAAAAAAAAAAAAAAAPY7WQEAAAAAWoi%2Bliw1TnD6deNUKnCA0KJSU8Q%3DQY62dMjmxlE7mnu2WED6PnQgoax56QV40ZJeFhb1yHvQ7yrR36\"\n",
        "client = tweepy.Client(TWITTER_BEARER_TOKEN)"
      ]
    },
    {
      "cell_type": "markdown",
      "metadata": {
        "id": "KfI9HUUWoI2i"
      },
      "source": [
        "### Tweepy nos permite conectarnos directamente al API de Twitter y obtener tweets\n",
        "En este ejemplo nos decargamos 10 Tweets de Ecuador"
      ]
    },
    {
      "cell_type": "code",
      "execution_count": 7,
      "metadata": {
        "colab": {
          "base_uri": "https://localhost:8080/"
        },
        "id": "LxtEwLtdoI2i",
        "outputId": "a2cddf67-5c61-4e69-87c6-9557b8df8c9d"
      },
      "outputs": [
        {
          "output_type": "stream",
          "name": "stdout",
          "text": [
            "someone needs smack young sheldon once in a while\n",
            "O tiktok me convenceu a ver young sheldon\n",
            "feeling like young Sheldon\n",
            "Please where can I watch Young Sheldon? It's my new feel good movie\n",
            "@Lashaiwashere Honestly!!! But all I keep remembering is that he dies when Sheldon is young. So I'm waiting\n",
            "he's either gotta be real young like young sheldon young or old as fuck on his deathbed. anything in between is cowardice https://t.co/0r8YSwuhlb\n",
            "My fave character rn is Young Sheldon😭😭\n",
            "Install this app, Watch and download \"Young Sheldon\" at no cost. https://t.co/RPGhqkTd9T https://t.co/PBMwctnihG\n",
            "Young Sheldon : Season 3, Meemaw is having a date with Missy's coach https://t.co/cGHeb7wNQu via @YouTube I love this episode that Annie pots played in\n",
            "Just finished (for now, it's still running) watching Young Sheldon and tried out The Big Bang Theory.. Damn, that shit is uncomfortable, how was that a hit show??\n",
            "if i was american i believe i would talk like that do in young sheldon\n",
            "Today I sobbed violently because of a Young Sheldon episode. No regrets.\n",
            "who needs to spend $10+ a month for streaming services when you can watch 113 parts of young sheldon on tiktok\n",
            "I've just watched episode S06 | E16 of Young Sheldon! https://t.co/GIDDxPptmL #tvtime https://t.co/u37Yjv2UI9\n",
            "Can’t wait to finish these assignments and binge watch young sheldon\n",
            "i started young sheldon 2 days ago i’m actually obsessed\n",
            "How the fuck is Young Sheldon's mom Laurie Metcalf's daughter? I gotta tell my Mom\n",
            "young sheldon got me in a choke hold rn\n",
            "@MartyDWyatt Yes! Or a Young Cosmo like Young Sheldon with Big Bang Theory.\n",
            "I HATE YOUNG SHELDON\n",
            "Its simple, in order to not overthink and cry everyday, I just watch the show Young Sheldon until i go to sleep 😂\n",
            "From the impression I get from the chopped up scenes on my Tiktok, Young Sheldon seems to be a drama about a very unlikable family\n",
            "@brook6786 Young Sheldon\n",
            "YOUNG SHELDON IS A BIG BANG THEORY SPIN-OFF ???\n",
            "they really just made young sheldon for konosuba https://t.co/qywN1t596P\n",
            "@crisistimebabey @Jagmyjello @teabunny_ the ants &amp; young sheldon are real! they understand me 👁️👄👁️\n",
            "                                          💧\n",
            "Looks like am going to watch all episodes of young Sheldon on tiktok at this point\n",
            "@HowThingsW0rk Sounds like the thing Young Sheldon should be doing for setting up his own business !\n",
            "Greatest television show idea of all time: 30 minutes a week of random baby footage\n",
            "\n",
            "It's called Young Young Sheldon\n",
            "@thejstoobs Well I can ignore it like I did the OG and Young Sheldon\n",
            "the way i watched the entire young sheldon series on tiktok\n",
            "Young Sheldon reminds me so much of my youngest little sister 😂\n",
            "@PalesaMbaliee Young Sheldon\n",
            "gonna share a blunt with young sheldon\n",
            "I can't wait to watch \"young sheldon\" after ramadan\n",
            "been watching young sheldon and good god i'm glad i did drugs and ruined my brain because i acted just like him as a kid and grown up sheldon is insufferable\n",
            "@OMokgolela 😂😂😂 one thing about me, I will rewatch \n",
            "\n",
            "Only big bang, it’s my first time watching young sheldon\n",
            "@mubricks Young Sheldon!\n",
            "Just saw another clip of young sheldon not handleling losing to a girl thats also smart like bro i hate that thing\n",
            "i love young sheldon with all my little heart\n",
            "tell me why am i obcessed with young sheldon even though i dont like big bag theory/havent watched a single ep\n",
            "Translation: young Sheldon fanart\n",
            "me watching a whole season of young sheldon cut into 82 different parts on tiktok https://t.co/6eegDF9eEy\n",
            "I’m watching ‘Young Sheldon’ and enjoying it so much. After this I’m watching the big bang\n",
            "@bnubs69 @DomTheVirtuoso I was today years old when I realized that’s what young Sheldon is\n",
            "is young sheldon good?\n",
            "@IamSassyfied Young Sheldon is based on the childhood of the Sheldon in Big Bang Theory.\n",
            "@Techno_Krat Let me call Young Sheldon, He may explain better matters of Quantum physics.\n",
            "My sister got my hooked on Young Sheldon &amp; I’ve been binge watching it\n",
            "🇺🇲 Quiz #Audiences US | Grille Jeudi \n",
            "\n",
            "🔴 B1 : Station 19 \n",
            "🔴 B1 : Grey's Anatomy 21h\n",
            "🔴 B3 : Grey's Anatomy 22h \n",
            "🔴 B4 : Young Sheldon https://t.co/GBlQ38MF8y\n",
            "@user311985 Young sheldon\n",
            "I've just watched episode S06 | E16 of Young Sheldon! https://t.co/DgN8eBNRUd #tvtime https://t.co/ONb7QUQYwN\n",
            "my favorite series now is young sheldon.\n",
            "Marquei como visto Young Sheldon - 6x16 - A Stolen Truck and Going on the Lam https://t.co/kdFBAYLINs #bancodeseries\n",
            "Young Sheldon is actually all that they say it is 😂\n",
            "Fans of Young Sheldon and Big bang theory\n",
            "Who's more dumb between\n",
            "Billy                    and                   Zack\n",
            "\n",
            "@everymovieplug\n",
            "@NetflixNaija https://t.co/lbFv0hqqXp\n",
            "i’m addicted to watching young sheldon on tiktok with those slime or food videos below it’s becoming a problem i have nothing else on my fyp\n",
            "did young sheldon also have autism or did he develop it between the two series\n",
            "Gonna start posting young sheldon clips on tiktok\n",
            "they confirmed a new tbbt spin-off. young sheldon will probably end soon\n",
            "I here confirm am Billy in @ young Sheldon \n",
            "What's your act @Ssentongopeter5\n",
            "@tonygoldmark I feel like fandom culture has gotten better at this, even with how toxic it is. Like people hate that Young Sheldon show, but I noticed that most of the backlash is focused on \"why does this even exist\" and not \"lets shit on that kid playing young Sheldon\". he seems off limits.\n",
            "i love young sheldon so much😭😂\n",
            "@piercetheveirl young sheldon vida?\n",
            "young sheldon fills me with a rage i previously believed only existed in biblical times\n",
            "Sheldon has been young for seven years. The earth must be purged\n",
            "@leemlahmaikano It should be on Netflix \n",
            "If not try https://t.co/MmkzJ4p6nR\n",
            "Na\n",
            "We already have young Sheldon https://t.co/HAdyPAly1K\n",
            "@ednashtummy Killing young sheldon would correct the timeline and prevent the big bamg thery from being a show\n",
            "I've just watched episode S06 | E16 of Young Sheldon! #youngsheldon  https://t.co/i8GNS74cI6 #tvtime https://t.co/xBHlPIgVIt\n",
            "what would you do if you went to the bodega and young sheldon was in the chip aisle\n",
            "After being around while it was on at my family's house: young Sheldon is midly funnier than Big Bang. Decent cast helps. 4/10\n",
            "@pukingguile Young Sheldon 3: Tokyo Drift\n",
            "@sheldon_cameron We must also understand they were young men \n",
            "\n",
            "I get it\n",
            "I live for young Sheldon's content on tiktok. \n",
            "😂🤣\n",
            "@esther17 Right!? Like, young Sheldon was almost too much. Like, quit while you’re ahead!!!\n",
            "@hellsaturated All good 😁🤙🏻 I’m familiar with The Office and Big Bang Theory, tapi kalo nontonnya lewat tiktok keitung gak ya? 😅 atp Ive watched the whole show without actually watching it, especially Young Sheldon\n",
            "@PopBase girl young sheldon is still on air …\n",
            "Young Sheldon hotties while I’m scrolling Tiktok 😗😗😗 https://t.co/IMpGeDuObM\n",
            "@Jagmyjello @teabunny_ perhaps @bitt_chloe 's young sheldon obsession is a result of carbon monoxide poisoning\n",
            "I haven't given much thought to baby Hitler but with young Sheldon it's a yes\n",
            "Still can’t believe people don’t like Young Sheldon… get a life\n",
            "Tonight on CBS Young Sheldon.\n",
            "young sheldon is nice. Big bang theory is shit and not funny at all. Just my preference sorry not sorry https://t.co/sJJ07l0MWs\n",
            "gonna love this young sheldon series😂\n",
            "Scrolling through tiktok and watching clips of that young Sheldon show makes me realize it doesn't matter if u have a high IQ; you're nothing if you don't have EQ lol\n",
            "@PopBase Wasnt young sheldon already a spin off?\n",
            "Young Sheldon gotta be a top 3 spin off\n",
            "oh how to be young sheldon\n",
            "should I watch young sheldon again huhu\n",
            "Young Sheldon acha season hai\n",
            "@mary_margarine Oh, FFS, can't Young Sheldon be enough?\n",
            "@enigma0451 Had a nightmare i forgot to record young sheldon\n",
            "I believe I've seen the whole Young Sheldon on TikTok, I just need to piece it together.\n",
            "Please where can I watch “YOUNG SHELDON” ???\n",
            "I've just watched episode S04 | E08 of Young Sheldon! #youngsheldon  https://t.co/UoeyDOlRzJ #tvtime https://t.co/mYqVpThVpp\n",
            "julia just so confidently went “bob” and showed me a tiktok of young sheldon talking about the dad, and i had to look her dead in the eyes and tell her that it was most certainly not bob from stranger things\n"
          ]
        }
      ],
      "source": [
        "\n",
        "# La función search_recent_tweets() devuelve un objeto de tipo Response, que contiene los tweets en su atributo data.\n",
        "# El parámetro max_results indica el número máximo de tweets que se devolverán en la respuesta.\n",
        "\n",
        "response = client.search_recent_tweets(\"Young Sheldon -is:retweet lang:en\", max_results=100)\n",
        "tweets = response.data\n",
        "\n",
        "# Iterar a través de los tweets e imprimir el texto\n",
        "for tweet in response.data:\n",
        "    print(tweet.text)\n",
        "\n"
      ]
    },
    {
      "cell_type": "markdown",
      "metadata": {
        "id": "z-pcuRU6oI2i"
      },
      "source": [
        "### Tambien podemos buscar datos de un usuario especifico\n",
        "Necesitamos el ID del usuario, puedes buscarlo aquí\n",
        "\n",
        "https://tweeterid.com/\n",
        "\n",
        "@usfq_ecuador => 66436490"
      ]
    },
    {
      "cell_type": "code",
      "execution_count": 8,
      "metadata": {
        "colab": {
          "base_uri": "https://localhost:8080/"
        },
        "id": "Ggo-9ZFdoI2i",
        "outputId": "84bde103-f58f-4b81-f275-ae130675d850"
      },
      "outputs": [
        {
          "output_type": "stream",
          "name": "stdout",
          "text": [
            "2022-04-07 22:43:37+00:00 RT @ShaparrithaCor1: @nayibbukele Señor presidente.muy buen trabjo lo q esta asiendo le.hago un llamada para q vallan a cuscatlan en el can…\n",
            "2022-03-04 15:00:42+00:00 @fco1993 @clubdeviernes No sería más apropiado raterismo\n",
            "2022-01-15 13:32:28+00:00 @Meridian_Ec @Viteri_BelenEc No odies, eso te enferma y enferma a tus personas cercanas. El odio nace de la envidia ¿o es al revés?\n",
            "2021-12-31 22:15:46+00:00 De “derecha a izquierda, pasando por el llamado centro”: ladrones, gastando la plata que no es suya y empobreciendo a los que todavía no nacieron(!). https://t.co/ZuzBRp15RG\n",
            "2021-12-25 22:17:56+00:00 @FreddyP58193593 El socialista basa su existencia en la pobreza y la desigualdad, creando resentimiento, fomentando el odio y alimentando la envidia.\n",
            "2021-12-25 22:13:44+00:00 @GinaLoor1 Difícil o imposible en un grupo social lleno de complejos, resentimientos y envidia que se dice cristiano y, peor, luego de 10 años de fomentar el odio como política nacional.\n",
            "2021-12-25 20:56:31+00:00 @NellySvier1 @EdgarAv78819088 Los latinos sufrimos de la enfermedad de LA IMPORTANCIA. O padecemos el de LA ENVIDIA.\n",
            "2021-12-25 20:55:22+00:00 @anibalcarrera71 Y la ratería\n",
            "2021-12-25 20:54:49+00:00 @Nico6cuerdas Gracias a gente que NO odia o busca menor sufrimiento hay un arado, antibióticos, una lavadora, una computadora, un celular y tantos inventos donde tu cultura NO ha participado.\n",
            "2021-12-25 20:51:34+00:00 @PabloDefina3 ¡La riqueza es relativa o la pobreza!\n",
            " ¿Quién define lo que es demasiado? Un burócrata sentado en su bureau?\n",
            "El estado natural del humano ES LA POBREZA.\n",
            "La CORRUPCION es otra condición NATURAL.\n"
          ]
        }
      ],
      "source": [
        "id = '479831176'\n",
        "tweets = client.get_users_tweets(id=id, tweet_fields=['context_annotations','created_at','geo'], max_results=10)\n",
        "for tweet in tweets.data:\n",
        "    print(tweet.created_at, tweet.text)"
      ]
    },
    {
      "cell_type": "markdown",
      "metadata": {
        "id": "Qnw0R32CoI2i"
      },
      "source": [
        "## Una función que extrae Tuits de un tema y los pasa a un DataFrame"
      ]
    },
    {
      "cell_type": "code",
      "execution_count": 19,
      "metadata": {
        "id": "e_ZsO5UBoI2i"
      },
      "outputs": [],
      "source": [
        "# Función para obtener tweets recientes\n",
        "\n",
        "def getTweets(keyword, num_tweets):\n",
        "    # Consulta de búsqueda que incluye el término de búsqueda, excluye retweets y selecciona tweets en español\n",
        "    query = f'{keyword} -is:retweet lang:en'\n",
        "\n",
        "    # Uso del paginador de Tweepy para obtener más de 100 tweets recientes a través de la API de Twitter\n",
        "    tweets = []\n",
        "    for tweet in tweepy.Paginator(client.search_recent_tweets,\n",
        "                                  query=query,\n",
        "                                  tweet_fields=['id', 'created_at', 'public_metrics', 'text', 'source'],\n",
        "                                  max_results=100).flatten(limit=num_tweets):\n",
        "\n",
        "        tweets.append(tweet)\n",
        "\n",
        "    result = []\n",
        "\n",
        "    # Función para desempaquetar la lista de tweets en un DataFrame\n",
        "    for tweet in tweets:\n",
        "        result.append({'id': tweet.id,\n",
        "                       'text': tweet.text,\n",
        "                       'created_at': tweet.created_at,\n",
        "                       'source': tweet.source,\n",
        "                       'retweets': tweet.public_metrics['retweet_count'],\n",
        "                       'replies': tweet.public_metrics['reply_count'],\n",
        "                       'likes': tweet.public_metrics['like_count'],\n",
        "                       'quote_count': tweet.public_metrics['quote_count']\n",
        "                       })\n",
        "\n",
        "    # Crear un DataFrame y convertir la columna 'created_at' a objetos datetime\n",
        "    df = pd.DataFrame(result)\n",
        "    df['created_at'] = pd.to_datetime(df['created_at'])\n",
        "    # Convert timezone-aware datetimes to timezone-naive datetimes\n",
        "    df['created_at'] = df['created_at'].dt.tz_convert(None)     \n",
        "    \n",
        "    # Devolver la lista de tweets\n",
        "    return df\n"
      ]
    },
    {
      "cell_type": "code",
      "execution_count": 23,
      "metadata": {
        "id": "7Tv2bvmuoI2j"
      },
      "outputs": [],
      "source": [
        "tweets_claro = getTweets(\"usfq\", 1000)"
      ]
    },
    {
      "cell_type": "code",
      "execution_count": 24,
      "metadata": {
        "colab": {
          "base_uri": "https://localhost:8080/",
          "height": 649
        },
        "id": "9McWHKA_oI2j",
        "outputId": "13ccbb58-80cc-4748-d4a7-d8202900cba9"
      },
      "outputs": [
        {
          "output_type": "execute_result",
          "data": {
            "text/plain": [
              "                     id                                               text  \\\n",
              "0   1646560771420061704  #GoldenNeocom2023#NeocomGolden2023 #NeocomGold...   \n",
              "1   1646545812342685697  @USFQ_Ecuador @SebasPalaciosSP @dajomesneisi C...   \n",
              "2   1646539753347588096                neocomgolden2023, #usfq, @COCOAUSFQ   \n",
              "3   1646193465976406030  Apply and come spend your @MSCActions Postdoct...   \n",
              "4   1646139750833684480  If interested, #Tiputini and @USFQ_Ecuador can...   \n",
              "5   1646133659076837378  🚀 Wishing good luck to the HOUN - @CayetanoHer...   \n",
              "6   1645892298775973890  @CaicedoLab @ISCTglobal @ISCT_ESP @MaroonKhour...   \n",
              "7   1645887041756884998  Joining a scientific community is crucial for ...   \n",
              "8   1645405150213730306  🚀 Wishing good luck to the OstheoGlove - @ucat...   \n",
              "9   1645203980434436096  @RichardAlbert @UTexasLaw @ccpconstitute @cons...   \n",
              "10  1644819926882942987  Call for Proposals due May 1: Constructing Tra...   \n",
              "\n",
              "            created_at source  retweets  replies  likes  quote_count  \n",
              "0  2023-04-13 17:07:34   None         0        0      0            0  \n",
              "1  2023-04-13 16:08:07   None         0        0      0            0  \n",
              "2  2023-04-13 15:44:03   None         0        0      0            0  \n",
              "3  2023-04-12 16:48:01   None         1        0      3            0  \n",
              "4  2023-04-12 13:14:35   None         0        0      0            0  \n",
              "5  2023-04-12 12:50:22   None         3        0      4            0  \n",
              "6  2023-04-11 20:51:17   None         0        0      3            0  \n",
              "7  2023-04-11 20:30:24   None         5        1     14            0  \n",
              "8  2023-04-10 12:35:32   None         3        0      4            0  \n",
              "9  2023-04-09 23:16:10   None         0        0      1            0  \n",
              "10 2023-04-08 21:50:04   None         9        0     23            1  "
            ],
            "text/html": [
              "\n",
              "  <div id=\"df-a30f50e0-5456-4c23-b8e3-4658b14a7a27\">\n",
              "    <div class=\"colab-df-container\">\n",
              "      <div>\n",
              "<style scoped>\n",
              "    .dataframe tbody tr th:only-of-type {\n",
              "        vertical-align: middle;\n",
              "    }\n",
              "\n",
              "    .dataframe tbody tr th {\n",
              "        vertical-align: top;\n",
              "    }\n",
              "\n",
              "    .dataframe thead th {\n",
              "        text-align: right;\n",
              "    }\n",
              "</style>\n",
              "<table border=\"1\" class=\"dataframe\">\n",
              "  <thead>\n",
              "    <tr style=\"text-align: right;\">\n",
              "      <th></th>\n",
              "      <th>id</th>\n",
              "      <th>text</th>\n",
              "      <th>created_at</th>\n",
              "      <th>source</th>\n",
              "      <th>retweets</th>\n",
              "      <th>replies</th>\n",
              "      <th>likes</th>\n",
              "      <th>quote_count</th>\n",
              "    </tr>\n",
              "  </thead>\n",
              "  <tbody>\n",
              "    <tr>\n",
              "      <th>0</th>\n",
              "      <td>1646560771420061704</td>\n",
              "      <td>#GoldenNeocom2023#NeocomGolden2023 #NeocomGold...</td>\n",
              "      <td>2023-04-13 17:07:34</td>\n",
              "      <td>None</td>\n",
              "      <td>0</td>\n",
              "      <td>0</td>\n",
              "      <td>0</td>\n",
              "      <td>0</td>\n",
              "    </tr>\n",
              "    <tr>\n",
              "      <th>1</th>\n",
              "      <td>1646545812342685697</td>\n",
              "      <td>@USFQ_Ecuador @SebasPalaciosSP @dajomesneisi C...</td>\n",
              "      <td>2023-04-13 16:08:07</td>\n",
              "      <td>None</td>\n",
              "      <td>0</td>\n",
              "      <td>0</td>\n",
              "      <td>0</td>\n",
              "      <td>0</td>\n",
              "    </tr>\n",
              "    <tr>\n",
              "      <th>2</th>\n",
              "      <td>1646539753347588096</td>\n",
              "      <td>neocomgolden2023, #usfq, @COCOAUSFQ</td>\n",
              "      <td>2023-04-13 15:44:03</td>\n",
              "      <td>None</td>\n",
              "      <td>0</td>\n",
              "      <td>0</td>\n",
              "      <td>0</td>\n",
              "      <td>0</td>\n",
              "    </tr>\n",
              "    <tr>\n",
              "      <th>3</th>\n",
              "      <td>1646193465976406030</td>\n",
              "      <td>Apply and come spend your @MSCActions Postdoct...</td>\n",
              "      <td>2023-04-12 16:48:01</td>\n",
              "      <td>None</td>\n",
              "      <td>1</td>\n",
              "      <td>0</td>\n",
              "      <td>3</td>\n",
              "      <td>0</td>\n",
              "    </tr>\n",
              "    <tr>\n",
              "      <th>4</th>\n",
              "      <td>1646139750833684480</td>\n",
              "      <td>If interested, #Tiputini and @USFQ_Ecuador can...</td>\n",
              "      <td>2023-04-12 13:14:35</td>\n",
              "      <td>None</td>\n",
              "      <td>0</td>\n",
              "      <td>0</td>\n",
              "      <td>0</td>\n",
              "      <td>0</td>\n",
              "    </tr>\n",
              "    <tr>\n",
              "      <th>5</th>\n",
              "      <td>1646133659076837378</td>\n",
              "      <td>🚀 Wishing good luck to the HOUN - @CayetanoHer...</td>\n",
              "      <td>2023-04-12 12:50:22</td>\n",
              "      <td>None</td>\n",
              "      <td>3</td>\n",
              "      <td>0</td>\n",
              "      <td>4</td>\n",
              "      <td>0</td>\n",
              "    </tr>\n",
              "    <tr>\n",
              "      <th>6</th>\n",
              "      <td>1645892298775973890</td>\n",
              "      <td>@CaicedoLab @ISCTglobal @ISCT_ESP @MaroonKhour...</td>\n",
              "      <td>2023-04-11 20:51:17</td>\n",
              "      <td>None</td>\n",
              "      <td>0</td>\n",
              "      <td>0</td>\n",
              "      <td>3</td>\n",
              "      <td>0</td>\n",
              "    </tr>\n",
              "    <tr>\n",
              "      <th>7</th>\n",
              "      <td>1645887041756884998</td>\n",
              "      <td>Joining a scientific community is crucial for ...</td>\n",
              "      <td>2023-04-11 20:30:24</td>\n",
              "      <td>None</td>\n",
              "      <td>5</td>\n",
              "      <td>1</td>\n",
              "      <td>14</td>\n",
              "      <td>0</td>\n",
              "    </tr>\n",
              "    <tr>\n",
              "      <th>8</th>\n",
              "      <td>1645405150213730306</td>\n",
              "      <td>🚀 Wishing good luck to the OstheoGlove - @ucat...</td>\n",
              "      <td>2023-04-10 12:35:32</td>\n",
              "      <td>None</td>\n",
              "      <td>3</td>\n",
              "      <td>0</td>\n",
              "      <td>4</td>\n",
              "      <td>0</td>\n",
              "    </tr>\n",
              "    <tr>\n",
              "      <th>9</th>\n",
              "      <td>1645203980434436096</td>\n",
              "      <td>@RichardAlbert @UTexasLaw @ccpconstitute @cons...</td>\n",
              "      <td>2023-04-09 23:16:10</td>\n",
              "      <td>None</td>\n",
              "      <td>0</td>\n",
              "      <td>0</td>\n",
              "      <td>1</td>\n",
              "      <td>0</td>\n",
              "    </tr>\n",
              "    <tr>\n",
              "      <th>10</th>\n",
              "      <td>1644819926882942987</td>\n",
              "      <td>Call for Proposals due May 1: Constructing Tra...</td>\n",
              "      <td>2023-04-08 21:50:04</td>\n",
              "      <td>None</td>\n",
              "      <td>9</td>\n",
              "      <td>0</td>\n",
              "      <td>23</td>\n",
              "      <td>1</td>\n",
              "    </tr>\n",
              "  </tbody>\n",
              "</table>\n",
              "</div>\n",
              "      <button class=\"colab-df-convert\" onclick=\"convertToInteractive('df-a30f50e0-5456-4c23-b8e3-4658b14a7a27')\"\n",
              "              title=\"Convert this dataframe to an interactive table.\"\n",
              "              style=\"display:none;\">\n",
              "        \n",
              "  <svg xmlns=\"http://www.w3.org/2000/svg\" height=\"24px\"viewBox=\"0 0 24 24\"\n",
              "       width=\"24px\">\n",
              "    <path d=\"M0 0h24v24H0V0z\" fill=\"none\"/>\n",
              "    <path d=\"M18.56 5.44l.94 2.06.94-2.06 2.06-.94-2.06-.94-.94-2.06-.94 2.06-2.06.94zm-11 1L8.5 8.5l.94-2.06 2.06-.94-2.06-.94L8.5 2.5l-.94 2.06-2.06.94zm10 10l.94 2.06.94-2.06 2.06-.94-2.06-.94-.94-2.06-.94 2.06-2.06.94z\"/><path d=\"M17.41 7.96l-1.37-1.37c-.4-.4-.92-.59-1.43-.59-.52 0-1.04.2-1.43.59L10.3 9.45l-7.72 7.72c-.78.78-.78 2.05 0 2.83L4 21.41c.39.39.9.59 1.41.59.51 0 1.02-.2 1.41-.59l7.78-7.78 2.81-2.81c.8-.78.8-2.07 0-2.86zM5.41 20L4 18.59l7.72-7.72 1.47 1.35L5.41 20z\"/>\n",
              "  </svg>\n",
              "      </button>\n",
              "      \n",
              "  <style>\n",
              "    .colab-df-container {\n",
              "      display:flex;\n",
              "      flex-wrap:wrap;\n",
              "      gap: 12px;\n",
              "    }\n",
              "\n",
              "    .colab-df-convert {\n",
              "      background-color: #E8F0FE;\n",
              "      border: none;\n",
              "      border-radius: 50%;\n",
              "      cursor: pointer;\n",
              "      display: none;\n",
              "      fill: #1967D2;\n",
              "      height: 32px;\n",
              "      padding: 0 0 0 0;\n",
              "      width: 32px;\n",
              "    }\n",
              "\n",
              "    .colab-df-convert:hover {\n",
              "      background-color: #E2EBFA;\n",
              "      box-shadow: 0px 1px 2px rgba(60, 64, 67, 0.3), 0px 1px 3px 1px rgba(60, 64, 67, 0.15);\n",
              "      fill: #174EA6;\n",
              "    }\n",
              "\n",
              "    [theme=dark] .colab-df-convert {\n",
              "      background-color: #3B4455;\n",
              "      fill: #D2E3FC;\n",
              "    }\n",
              "\n",
              "    [theme=dark] .colab-df-convert:hover {\n",
              "      background-color: #434B5C;\n",
              "      box-shadow: 0px 1px 3px 1px rgba(0, 0, 0, 0.15);\n",
              "      filter: drop-shadow(0px 1px 2px rgba(0, 0, 0, 0.3));\n",
              "      fill: #FFFFFF;\n",
              "    }\n",
              "  </style>\n",
              "\n",
              "      <script>\n",
              "        const buttonEl =\n",
              "          document.querySelector('#df-a30f50e0-5456-4c23-b8e3-4658b14a7a27 button.colab-df-convert');\n",
              "        buttonEl.style.display =\n",
              "          google.colab.kernel.accessAllowed ? 'block' : 'none';\n",
              "\n",
              "        async function convertToInteractive(key) {\n",
              "          const element = document.querySelector('#df-a30f50e0-5456-4c23-b8e3-4658b14a7a27');\n",
              "          const dataTable =\n",
              "            await google.colab.kernel.invokeFunction('convertToInteractive',\n",
              "                                                     [key], {});\n",
              "          if (!dataTable) return;\n",
              "\n",
              "          const docLinkHtml = 'Like what you see? Visit the ' +\n",
              "            '<a target=\"_blank\" href=https://colab.research.google.com/notebooks/data_table.ipynb>data table notebook</a>'\n",
              "            + ' to learn more about interactive tables.';\n",
              "          element.innerHTML = '';\n",
              "          dataTable['output_type'] = 'display_data';\n",
              "          await google.colab.output.renderOutput(dataTable, element);\n",
              "          const docLink = document.createElement('div');\n",
              "          docLink.innerHTML = docLinkHtml;\n",
              "          element.appendChild(docLink);\n",
              "        }\n",
              "      </script>\n",
              "    </div>\n",
              "  </div>\n",
              "  "
            ]
          },
          "metadata": {},
          "execution_count": 24
        }
      ],
      "source": [
        "tweets_claro"
      ]
    },
    {
      "cell_type": "markdown",
      "metadata": {
        "id": "vj7H6MHFMwhq"
      },
      "source": [
        "# Ejercicio\n",
        "Realiza una busqueda en twitter de un termino en español y otro en inglés, exportalos a Excel en archivos separados."
      ]
    },
    {
      "cell_type": "markdown",
      "metadata": {
        "id": "mLIf7ro_Mtwn"
      },
      "source": [
        "nlp/2022_Twitter_Data_Scrapper.ipynb\n",
        "\n",
        "> Bloque con sangría\n",
        "\n"
      ]
    }
  ],
  "metadata": {
    "colab": {
      "name": "nlp/2022_Twitter_Data_Scrapper.ipynb",
      "provenance": [],
      "include_colab_link": true
    },
    "kernelspec": {
      "display_name": "tensorflow",
      "language": "python",
      "name": "python3"
    },
    "language_info": {
      "codemirror_mode": {
        "name": "ipython",
        "version": 3
      },
      "file_extension": ".py",
      "mimetype": "text/x-python",
      "name": "python",
      "nbconvert_exporter": "python",
      "pygments_lexer": "ipython3",
      "version": "3.10.8"
    },
    "vscode": {
      "interpreter": {
        "hash": "ef347fa111a972b42709d754011b73804350168ffd20ad9dbaeb269a26ad840f"
      }
    }
  },
  "nbformat": 4,
  "nbformat_minor": 0
}