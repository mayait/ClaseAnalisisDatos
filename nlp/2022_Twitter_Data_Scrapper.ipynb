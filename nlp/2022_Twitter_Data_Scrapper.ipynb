{
  "nbformat": 4,
  "nbformat_minor": 0,
  "metadata": {
    "kernelspec": {
      "display_name": "Python [conda env:nlp]",
      "language": "python",
      "name": "conda-env-nlp-py"
    },
    "language_info": {
      "codemirror_mode": {
        "name": "ipython",
        "version": 3
      },
      "file_extension": ".py",
      "mimetype": "text/x-python",
      "name": "python",
      "nbconvert_exporter": "python",
      "pygments_lexer": "ipython3",
      "version": "3.8.5"
    },
    "colab": {
      "name": "2020_12_03_Twitter_Data_Scrapping (3).ipynb",
      "provenance": [],
      "include_colab_link": true
    }
  },
  "cells": [
    {
      "cell_type": "markdown",
      "metadata": {
        "id": "view-in-github",
        "colab_type": "text"
      },
      "source": [
        "<a href=\"https://colab.research.google.com/github/mayait/ClaseAnalisisDatos/blob/main/nlp/2022_Twitter_Data_Scrapper.ipynb\" target=\"_parent\"><img src=\"https://colab.research.google.com/assets/colab-badge.svg\" alt=\"Open In Colab\"/></a>"
      ]
    },
    {
      "cell_type": "markdown",
      "metadata": {
        "id": "AdYh71TAa1Is"
      },
      "source": [
        "# \"Datascraping con Twitter\"\n"
      ]
    },
    {
      "cell_type": "markdown",
      "metadata": {
        "id": "KaFZyxpAa1Iw"
      },
      "source": [
        "Uno de los superpoderes de la AI/ML es que nos permite entender el mundo desde la perspectiva de los datos.\n",
        "Twitter es una plataforma que proporciona datos extensos en lenguaje natural, en base a los cuales se puede explorar mucho."
      ]
    },
    {
      "cell_type": "code",
      "metadata": {
        "id": "zrGUxEqWa1Ix"
      },
      "source": [
        "# importing libraries\n",
        "import pandas as pd\n",
        "import tweepy\n",
        "import time\n",
        "import warnings\n",
        "#warnings.filterwarnings('ignore')\n",
        "\n",
        "import sys\n",
        "import os\n",
        "import re\n",
        "import tweepy\n",
        "from tweepy import OAuthHandler\n",
        "from textblob import TextBlob\n",
        "\n",
        "import numpy as np\n",
        "import pandas as pd\n",
        "from datetime import datetime, timedelta\n",
        "from IPython.display import clear_output\n",
        "from tqdm import tqdm\n",
        "\n",
        "import matplotlib.pyplot as plt\n",
        "import seaborn as sns\n",
        "% matplotlib inline\n",
        "\n",
        "from os import path\n",
        "from PIL import Image\n",
        "from wordcloud import WordCloud, STOPWORDS"
      ],
      "execution_count": null,
      "outputs": []
    },
    {
      "cell_type": "markdown",
      "metadata": {
        "id": "ojafCihsa1Iz"
      },
      "source": [
        "Para acceder a la API de Twitter, necesitaremos 4 elementos de la página de la aplicación de Twitter. Estas claves se encuentran en la configuración de la aplicación de Twitter en la pestaña Claves y tokens de acceso:\n",
        "\n",
        "- consumer key\n",
        "- consumer seceret key\n",
        "- access token key\n",
        "- access token secret key\n",
        "\n",
        "[Detailed info for getting keys](https://www.slickremix.com/docs/how-to-get-api-keys-and-tokens-for-twitter/)"
      ]
    },
    {
      "cell_type": "code",
      "metadata": {
        "id": "yAg813pua1Iz"
      },
      "source": [
        "consumer_key=\"PshLLH4ssju6vpZOxn318nAto\"\n",
        "consumer_secret=\"heVLch5djnTURRFpkKyZMkNs3zDMTbEkrbsvBbBm6chLQDuCz3\"\n",
        "access_token=\"6235072-p0KRSsEZuLLjNTHl4JcA7GIZ9qoW3X9hYUSsMxbFh5\" #\n",
        "access_token_secret=\"dq1vBftPcpU0iGOMQRZZxgGam2WfjU9syLdvmmPhmi9ZP\" # "
      ],
      "execution_count": null,
      "outputs": []
    },
    {
      "cell_type": "code",
      "source": [
        "#@title Enter Twitter Credentials\n",
        "TWITTER_KEY = 'PshLLH4ssju6vpZOxn318nAto' #@param {type:\"string\"}\n",
        "TWITTER_SECRET_KEY = 'heVLch5djnTURRFpkKyZMkNs3zDMTbEkrbsvBbBm6chLQDuCz3' #@param {type:\"string\"}"
      ],
      "metadata": {
        "id": "79kGx-cC1Fbm"
      },
      "execution_count": null,
      "outputs": []
    },
    {
      "cell_type": "code",
      "source": [
        "# Authenticate\n",
        "auth = tweepy.AppAuthHandler(TWITTER_KEY, TWITTER_SECRET_KEY)\n",
        "\n",
        "api = tweepy.API(auth, wait_on_rate_limit=True,\n",
        "\t\t\t\t   wait_on_rate_limit_notify=True)\n",
        "\n",
        "if (not api):\n",
        "    print (\"Can't Authenticate\")\n",
        "    sys.exit(-1)"
      ],
      "metadata": {
        "id": "4aaKPuHl1KgO"
      },
      "execution_count": null,
      "outputs": []
    },
    {
      "cell_type": "code",
      "source": [
        "#@title Twitter Search API Inputs\n",
        "#@markdown ### Enter Search Query:\n",
        "searchQuery = 'Qatar' #@param {type:\"string\"}\n",
        "#@markdown ### Enter Max Tweets To Scrape:\n",
        "#@markdown #### The Twitter API Rate Limit (currently) is 45,000 tweets every 15 minutes.\n",
        "maxTweets = 200 #@param {type:\"slider\", min:0, max:45000, step:100}\n",
        "Filter_Retweets = True #@param {type:\"boolean\"}\n",
        "\n",
        "tweetsPerQry = 100  # this is the max the API permits\n",
        "tweet_lst = []\n",
        "\n",
        "if Filter_Retweets:\n",
        "  searchQuery = searchQuery + ' -filter:retweets'  # to exclude retweets\n",
        "\n",
        "# If results from a specific ID onwards are reqd, set since_id to that ID.\n",
        "# else default to no lower limit, go as far back as API allows\n",
        "sinceId = None\n",
        "\n",
        "# If results only below a specific ID are, set max_id to that ID.\n",
        "# else default to no upper limit, start from the most recent tweet matching the search query.\n",
        "max_id = -10000000000\n",
        "\n",
        "tweetCount = 0\n",
        "print(\"Downloading max {0} tweets\".format(maxTweets))\n",
        "while tweetCount < maxTweets:\n",
        "    try:\n",
        "        if (max_id <= 0):\n",
        "            if (not sinceId):\n",
        "                new_tweets = api.search(q=searchQuery, count=tweetsPerQry, lang=\"en\")\n",
        "            else:\n",
        "                new_tweets = api.search(q=searchQuery, count=tweetsPerQry,\n",
        "                                        lang=\"en\", since_id=sinceId)\n",
        "        else:\n",
        "            if (not sinceId):\n",
        "                new_tweets = api.search(q=searchQuery, count=tweetsPerQry,\n",
        "                                        lang=\"en\", max_id=str(max_id - 1))\n",
        "            else:\n",
        "                new_tweets = api.search(q=searchQuery, count=tweetsPerQry,\n",
        "                                        lang=\"en\", max_id=str(max_id - 1),\n",
        "                                        since_id=sinceId)\n",
        "        if not new_tweets:\n",
        "            print(\"No more tweets found\")\n",
        "            break\n",
        "        for tweet in new_tweets:\n",
        "          if hasattr(tweet, 'reply_count'):\n",
        "            reply_count = tweet.reply_count\n",
        "          else:\n",
        "            reply_count = 0\n",
        "          if hasattr(tweet, 'retweeted'):\n",
        "            retweeted = tweet.retweeted\n",
        "          else:\n",
        "            retweeted = \"NA\"\n",
        "            \n",
        "          # fixup search query to get topic\n",
        "          topic = searchQuery[:searchQuery.find('-')].capitalize().strip()\n",
        "          \n",
        "          # fixup date\n",
        "          tweetDate = tweet.created_at.date()\n",
        "          \n",
        "          tweet_lst.append([tweetDate, topic, \n",
        "                      tweet.id, tweet.user.screen_name, tweet.user.name, tweet.text, tweet.favorite_count, \n",
        "                      reply_count, tweet.retweet_count, retweeted])\n",
        "\n",
        "        tweetCount += len(new_tweets)\n",
        "        print(\"Downloaded {0} tweets\".format(tweetCount))\n",
        "        max_id = new_tweets[-1].id\n",
        "    except tweepy.TweepError as e:\n",
        "        # Just exit if any error\n",
        "        print(\"some error : \" + str(e))\n",
        "        break\n",
        "\n",
        "clear_output()\n",
        "print(\"Downloaded {0} tweets\".format(tweetCount))"
      ],
      "metadata": {
        "colab": {
          "base_uri": "https://localhost:8080/"
        },
        "id": "54JaG0631Pqg",
        "outputId": "f577139f-8c5f-44f2-f928-675ed93927f0"
      },
      "execution_count": null,
      "outputs": [
        {
          "output_type": "stream",
          "name": "stdout",
          "text": [
            "Downloaded 200 tweets\n"
          ]
        }
      ]
    },
    {
      "cell_type": "code",
      "metadata": {
        "id": "ZeqkUydBa1I0"
      },
      "source": [
        "#Accessing twitter API\n",
        "auth=tweepy.OAuthHandler(consumer_key, consumer_secret)\n",
        "auth.set_access_token=(access_token, access_token_secret)\n",
        "api= tweepy.API(auth, wait_on_rate_limit= True)"
      ],
      "execution_count": null,
      "outputs": []
    },
    {
      "cell_type": "code",
      "source": [
        "pd.set_option('display.max_colwidth', -1)\n",
        "\n",
        "# load it into a pandas dataframe\n",
        "tweet_df = pd.DataFrame(tweet_lst, columns=['tweet_dt', 'topic', 'id', 'username', 'name', 'tweet', 'like_count', 'reply_count', 'retweet_count', 'retweeted'])\n",
        "tweet_df.to_csv('tweets.csv')\n",
        "tweet_df.head()"
      ],
      "metadata": {
        "id": "ZGL6-Ezm1uVg"
      },
      "execution_count": null,
      "outputs": []
    },
    {
      "cell_type": "markdown",
      "metadata": {
        "id": "DGN-3jjja1I1"
      },
      "source": [
        "Un problema importante al que nos enfrentamos es que cuando convertimos una lista en un DataSet, si el texto del tweet tiene> 50 caracteres, se trunca. Para resolver este problema, debemos establecer el ancho de la columna de visualización para el dataset de datos de pandas en -1."
      ]
    },
    {
      "cell_type": "code",
      "metadata": {
        "id": "grUsbmV-a1I2"
      },
      "source": [
        "\n",
        "pd.set_option('display.max_colwidth', -1)"
      ],
      "execution_count": null,
      "outputs": []
    },
    {
      "cell_type": "markdown",
      "metadata": {
        "id": "EC_01z3ma1I3"
      },
      "source": [
        "## Obtener tweets de un usuario especifico\n",
        "\n"
      ]
    },
    {
      "cell_type": "code",
      "metadata": {
        "id": "Lvo_seyca1I3"
      },
      "source": [
        "#collapse_show\n",
        "# Doing a function implementation of the tweets\n",
        "# In this case if the tweet is retweeted we wont get full text\n",
        "def get_tweets(username, count):\n",
        "    try:\n",
        "        #creating query methods using parameters\n",
        "        tweets= tweepy.Cursor(api.user_timeline,id= username, tweet_mode=\"extended\").items(count)\n",
        "        tweet_list= [[tweet.created_at, tweet.id, tweet.full_text] for tweet in tweets]\n",
        "        #creating dataframe from tweets list\n",
        "        tweets_df=pd.DataFrame(tweet_list, columns=[\"Date\",\"Tweet_id\",\"Tweet_Text\"])\n",
        "    \n",
        "    except BaseException as e:\n",
        "        print('failed on_status', str(e))\n",
        "        time.sleep(3)\n",
        "        \n",
        "    return tweets_df\n"
      ],
      "execution_count": null,
      "outputs": []
    },
    {
      "cell_type": "code",
      "metadata": {
        "id": "KA35nggia1I4",
        "outputId": "5b8ffcd2-0282-4fd8-a486-0bd2ac2ad2cd",
        "colab": {
          "base_uri": "https://localhost:8080/",
          "height": 276
        }
      },
      "source": [
        "df=get_tweets(\"USFQBSpregrado\",10)"
      ],
      "execution_count": null,
      "outputs": [
        {
          "output_type": "stream",
          "name": "stdout",
          "text": [
            "failed on_status Twitter error response: status code = 404\n"
          ]
        },
        {
          "output_type": "error",
          "ename": "UnboundLocalError",
          "evalue": "ignored",
          "traceback": [
            "\u001b[0;31m---------------------------------------------------------------------------\u001b[0m",
            "\u001b[0;31mUnboundLocalError\u001b[0m                         Traceback (most recent call last)",
            "\u001b[0;32m<ipython-input-47-739d7419a5b9>\u001b[0m in \u001b[0;36m<module>\u001b[0;34m()\u001b[0m\n\u001b[0;32m----> 1\u001b[0;31m \u001b[0mdf\u001b[0m\u001b[0;34m=\u001b[0m\u001b[0mget_tweets\u001b[0m\u001b[0;34m(\u001b[0m\u001b[0;34m\"USFQBSpregrado\"\u001b[0m\u001b[0;34m,\u001b[0m\u001b[0;36m10\u001b[0m\u001b[0;34m)\u001b[0m\u001b[0;34m\u001b[0m\u001b[0;34m\u001b[0m\u001b[0m\n\u001b[0m",
            "\u001b[0;32m<ipython-input-46-82d6932c7ce3>\u001b[0m in \u001b[0;36mget_tweets\u001b[0;34m(username, count)\u001b[0m\n\u001b[1;32m     14\u001b[0m         \u001b[0mtime\u001b[0m\u001b[0;34m.\u001b[0m\u001b[0msleep\u001b[0m\u001b[0;34m(\u001b[0m\u001b[0;36m3\u001b[0m\u001b[0;34m)\u001b[0m\u001b[0;34m\u001b[0m\u001b[0;34m\u001b[0m\u001b[0m\n\u001b[1;32m     15\u001b[0m \u001b[0;34m\u001b[0m\u001b[0m\n\u001b[0;32m---> 16\u001b[0;31m     \u001b[0;32mreturn\u001b[0m \u001b[0mtweets_df\u001b[0m\u001b[0;34m\u001b[0m\u001b[0;34m\u001b[0m\u001b[0m\n\u001b[0m",
            "\u001b[0;31mUnboundLocalError\u001b[0m: local variable 'tweets_df' referenced before assignment"
          ]
        }
      ]
    },
    {
      "cell_type": "markdown",
      "metadata": {
        "id": "R6V5ruoYa1I5"
      },
      "source": [
        "## Obtener tweets de una palabra"
      ]
    },
    {
      "cell_type": "code",
      "metadata": {
        "id": "N1qtirSaa1I6"
      },
      "source": [
        "# Getting text from a  search string\n",
        "text_query=\"#USFQ -filter:retweets\"\n",
        "count=10\n",
        "try:\n",
        "    #creation of query method using parameters\n",
        "    tweets= tweepy.Cursor(api.search, q=text_query, tweet_mode=\"extended\", lang='es').items(count)\n",
        "\n",
        "    #getting the information from twitter object\n",
        "    tweet_list= [[tweet.created_at, tweet.id, tweet.full_text] for tweet in tweets]\n",
        "    #creating a data frame from the list\n",
        "    tweet_df_from_query= pd.DataFrame(tweet_list, columns=['Date','tweet_id', 'tweet_text'])\n",
        "        \n",
        "except BaseException as e:\n",
        "    print('failed_on_status', str(e))\n",
        "    time.sleep(3)"
      ],
      "execution_count": null,
      "outputs": []
    },
    {
      "cell_type": "code",
      "metadata": {
        "id": "uQGvikACa1I6",
        "outputId": "7f05f4b0-066f-4b06-ac4c-37b589a0bff3",
        "colab": {
          "base_uri": "https://localhost:8080/",
          "height": 537
        }
      },
      "source": [
        "tweet_df_from_query"
      ],
      "execution_count": null,
      "outputs": [
        {
          "output_type": "execute_result",
          "data": {
            "text/html": [
              "<div>\n",
              "<style scoped>\n",
              "    .dataframe tbody tr th:only-of-type {\n",
              "        vertical-align: middle;\n",
              "    }\n",
              "\n",
              "    .dataframe tbody tr th {\n",
              "        vertical-align: top;\n",
              "    }\n",
              "\n",
              "    .dataframe thead th {\n",
              "        text-align: right;\n",
              "    }\n",
              "</style>\n",
              "<table border=\"1\" class=\"dataframe\">\n",
              "  <thead>\n",
              "    <tr style=\"text-align: right;\">\n",
              "      <th></th>\n",
              "      <th>Date</th>\n",
              "      <th>tweet_id</th>\n",
              "      <th>tweet_text</th>\n",
              "    </tr>\n",
              "  </thead>\n",
              "  <tbody>\n",
              "    <tr>\n",
              "      <th>0</th>\n",
              "      <td>2021-11-28 18:54:24</td>\n",
              "      <td>1465031337077874693</td>\n",
              "      <td>𝐅𝐥𝐲𝐰𝐡𝐞𝐞𝐥 𝐩𝐚𝐫𝐚 𝐚𝐭𝐫𝐚𝐞𝐫 𝐲 𝐟𝐢𝐝𝐞𝐥𝐢𝐳𝐚𝐫 𝐜𝐥𝐢𝐞𝐧𝐭𝐞𝐬\\n\\n🗓 𝗟𝘂𝗻𝗲𝘀, 𝟮𝟵 𝗡𝗢𝗩 𝟮𝟬𝟮𝟭\\n🕐 𝟭𝟯𝗵𝟬𝟬\\n\\n𝗜𝗻𝘃𝗶𝘁𝗮𝗱𝗮:\\n👩🏻‍🏫 Paola Valencia, profesora del Business School #USFQ.\\n\\nTransmisión ➡️ Facebook Live de @ExponentialSet.\\n\\n¡Te esperamos! https://t.co/6ocPy5cL5c</td>\n",
              "    </tr>\n",
              "    <tr>\n",
              "      <th>1</th>\n",
              "      <td>2021-11-26 23:12:11</td>\n",
              "      <td>1464371433463812099</td>\n",
              "      <td>🐉 En este artículo, Martín González habla sobre el evento realizado por el club de marketing de la USFQ sobre el Neuromarketing. @MarketeersUSFQ #usfq  \\n\\n🐉 Para más información accede al artículo completo en el link de la biografía. https://t.co/v0fY3sjIyc</td>\n",
              "    </tr>\n",
              "    <tr>\n",
              "      <th>2</th>\n",
              "      <td>2021-11-26 21:50:57</td>\n",
              "      <td>1464350993538240514</td>\n",
              "      <td>Quito ha experimentado muchos temblores en su historia. Visita la muestra “A que no vuelva el temblor a sorprendernos furioso” en el Museo del Carmen Alto y conoce cómo han influido en la cultura religiosa de la ciudad.#tomorrowscities #USFQ #DRR @USFQ_Ecuador @MuseoCarmenAlto https://t.co/UrQpywWvLi</td>\n",
              "    </tr>\n",
              "    <tr>\n",
              "      <th>3</th>\n",
              "      <td>2021-11-26 16:22:40</td>\n",
              "      <td>1464268377854287872</td>\n",
              "      <td>🐉  En Aula Magna nos preocupamos por tu bienestar, por eso hoy te traemos 8 consejos para el regreso a clases presenciales. #usfq #aulamagna #educación https://t.co/cIdUGffE4q</td>\n",
              "    </tr>\n",
              "    <tr>\n",
              "      <th>4</th>\n",
              "      <td>2021-11-26 04:15:55</td>\n",
              "      <td>1464085482631876608</td>\n",
              "      <td>Noche de premios, velada especial! \\n\\n#gratitud #graciasadios #graciasgraciasgracias #premioscocoa2021 #usfq #Quito en Ecuador https://t.co/ru4JpScyBJ</td>\n",
              "    </tr>\n",
              "    <tr>\n",
              "      <th>5</th>\n",
              "      <td>2021-11-25 22:38:03</td>\n",
              "      <td>1464000457328795652</td>\n",
              "      <td>🐉 Para este segmento de @usfqalumni entrevistamos a Alba María Cabezas, estudiante graduada en la USFQ, sobre su trayectoria profesional y uno de sus proyectos más importantes ‘Alana food and Play’.\\n#orgullousfqalumni #usfq https://t.co/mwUKy5CJIt</td>\n",
              "    </tr>\n",
              "    <tr>\n",
              "      <th>6</th>\n",
              "      <td>2021-11-25 02:46:54</td>\n",
              "      <td>1463700693492117512</td>\n",
              "      <td>🌎 ¿Emergencia climática, un asunto de derechos humanos? \\n\\nEl derecho a un medio ambiente seguro, limpio, saludable y sostenible también es reconocido como un derecho humano y se debe hacer lo necesario para preservarlo. #usfq #medioambiente #derechoshumanos https://t.co/c9MUmlgVBk</td>\n",
              "    </tr>\n",
              "    <tr>\n",
              "      <th>7</th>\n",
              "      <td>2021-11-25 01:29:07</td>\n",
              "      <td>1463681120235659267</td>\n",
              "      <td>El Centro de Conservación ex-situ 🐸🐸 más fenomenal de América del Sur! @arcasapos. Visita de la Maestría en Ecología #USFQ 🐉🇪🇨.  https://t.co/Nn12DzVDhe https://t.co/SBlJqazdaU</td>\n",
              "    </tr>\n",
              "    <tr>\n",
              "      <th>8</th>\n",
              "      <td>2021-11-24 01:03:36</td>\n",
              "      <td>1463312309292572674</td>\n",
              "      <td>Caso 4: Investigación de estudiantes sobre el comportamiento del segmento de microcrédito y las alternativas de crédito en el Ecuador.  \\n\\n#OikoDataClub #EconomíaIndustrial #Microcrédito #SistemaFinanciero #EconomíaIndustrial #Ecuador #Oikonomics #IIE #Econpuce #USFQ #UDLA #UCE. https://t.co/itPaZw66yK</td>\n",
              "    </tr>\n",
              "    <tr>\n",
              "      <th>9</th>\n",
              "      <td>2021-11-24 00:55:00</td>\n",
              "      <td>1463310144985571335</td>\n",
              "      <td>@USFQ_Alumni @USFQ_Ecuador @MarketeersUSFQ @ClubFNZUSFQ @BHSUSFQ #USFQ Career Talk\\n🗓️ 25 NOV 2021\\n🕗 13h00\\n🗣️ María Emilia Rivadeneira, Asuntos Corporativos y Sostenibilidad en @LATAMAirlines\\n\\nRegistro: https://t.co/2dlCK8GdiW\\n\\nCareer Talks: profesionales brindan consejos y comparten experiencias con nuestros estudiantes 🐲. https://t.co/jzqb6twajK</td>\n",
              "    </tr>\n",
              "  </tbody>\n",
              "</table>\n",
              "</div>"
            ],
            "text/plain": [
              "                 Date  ...                                                                                                                                                                                                                                                                                                                                                           tweet_text\n",
              "0 2021-11-28 18:54:24  ...  𝐅𝐥𝐲𝐰𝐡𝐞𝐞𝐥 𝐩𝐚𝐫𝐚 𝐚𝐭𝐫𝐚𝐞𝐫 𝐲 𝐟𝐢𝐝𝐞𝐥𝐢𝐳𝐚𝐫 𝐜𝐥𝐢𝐞𝐧𝐭𝐞𝐬\\n\\n🗓 𝗟𝘂𝗻𝗲𝘀, 𝟮𝟵 𝗡𝗢𝗩 𝟮𝟬𝟮𝟭\\n🕐 𝟭𝟯𝗵𝟬𝟬\\n\\n𝗜𝗻𝘃𝗶𝘁𝗮𝗱𝗮:\\n👩🏻‍🏫 Paola Valencia, profesora del Business School #USFQ.\\n\\nTransmisión ➡️ Facebook Live de @ExponentialSet.\\n\\n¡Te esperamos! https://t.co/6ocPy5cL5c                                                                                                                   \n",
              "1 2021-11-26 23:12:11  ...  🐉 En este artículo, Martín González habla sobre el evento realizado por el club de marketing de la USFQ sobre el Neuromarketing. @MarketeersUSFQ #usfq  \\n\\n🐉 Para más información accede al artículo completo en el link de la biografía. https://t.co/v0fY3sjIyc                                                                                                 \n",
              "2 2021-11-26 21:50:57  ...  Quito ha experimentado muchos temblores en su historia. Visita la muestra “A que no vuelva el temblor a sorprendernos furioso” en el Museo del Carmen Alto y conoce cómo han influido en la cultura religiosa de la ciudad.#tomorrowscities #USFQ #DRR @USFQ_Ecuador @MuseoCarmenAlto https://t.co/UrQpywWvLi                                                      \n",
              "3 2021-11-26 16:22:40  ...  🐉  En Aula Magna nos preocupamos por tu bienestar, por eso hoy te traemos 8 consejos para el regreso a clases presenciales. #usfq #aulamagna #educación https://t.co/cIdUGffE4q                                                                                                                                                                                    \n",
              "4 2021-11-26 04:15:55  ...  Noche de premios, velada especial! \\n\\n#gratitud #graciasadios #graciasgraciasgracias #premioscocoa2021 #usfq #Quito en Ecuador https://t.co/ru4JpScyBJ                                                                                                                                                                                                            \n",
              "5 2021-11-25 22:38:03  ...  🐉 Para este segmento de @usfqalumni entrevistamos a Alba María Cabezas, estudiante graduada en la USFQ, sobre su trayectoria profesional y uno de sus proyectos más importantes ‘Alana food and Play’.\\n#orgullousfqalumni #usfq https://t.co/mwUKy5CJIt                                                                                                           \n",
              "6 2021-11-25 02:46:54  ...  🌎 ¿Emergencia climática, un asunto de derechos humanos? \\n\\nEl derecho a un medio ambiente seguro, limpio, saludable y sostenible también es reconocido como un derecho humano y se debe hacer lo necesario para preservarlo. #usfq #medioambiente #derechoshumanos https://t.co/c9MUmlgVBk                                                                        \n",
              "7 2021-11-25 01:29:07  ...  El Centro de Conservación ex-situ 🐸🐸 más fenomenal de América del Sur! @arcasapos. Visita de la Maestría en Ecología #USFQ 🐉🇪🇨.  https://t.co/Nn12DzVDhe https://t.co/SBlJqazdaU                                                                                                                                                                                   \n",
              "8 2021-11-24 01:03:36  ...  Caso 4: Investigación de estudiantes sobre el comportamiento del segmento de microcrédito y las alternativas de crédito en el Ecuador.  \\n\\n#OikoDataClub #EconomíaIndustrial #Microcrédito #SistemaFinanciero #EconomíaIndustrial #Ecuador #Oikonomics #IIE #Econpuce #USFQ #UDLA #UCE. https://t.co/itPaZw66yK                                                   \n",
              "9 2021-11-24 00:55:00  ...  @USFQ_Alumni @USFQ_Ecuador @MarketeersUSFQ @ClubFNZUSFQ @BHSUSFQ #USFQ Career Talk\\n🗓️ 25 NOV 2021\\n🕗 13h00\\n🗣️ María Emilia Rivadeneira, Asuntos Corporativos y Sostenibilidad en @LATAMAirlines\\n\\nRegistro: https://t.co/2dlCK8GdiW\\n\\nCareer Talks: profesionales brindan consejos y comparten experiencias con nuestros estudiantes 🐲. https://t.co/jzqb6twajK\n",
              "\n",
              "[10 rows x 3 columns]"
            ]
          },
          "metadata": {},
          "execution_count": 24
        }
      ]
    },
    {
      "cell_type": "markdown",
      "metadata": {
        "id": "9eIX5Y7ga1I7"
      },
      "source": [
        "-----"
      ]
    },
    {
      "cell_type": "markdown",
      "metadata": {
        "id": "JceB30m2a1I8"
      },
      "source": [
        "## Extracting trends of a perticular region"
      ]
    },
    {
      "cell_type": "code",
      "metadata": {
        "id": "IFpfMtZLa1I8",
        "outputId": "7e558db2-a964-4daf-8f3b-d4bb179c0269",
        "colab": {
          "base_uri": "https://localhost:8080/"
        }
      },
      "source": [
        "trend=pd.DataFrame(api.trends_available())\n",
        "str(trend['country'])\n",
        "trend['country']=\"Ecuador\"\n",
        "print(trend)"
      ],
      "execution_count": null,
      "outputs": [
        {
          "output_type": "stream",
          "name": "stdout",
          "text": [
            "            name                          placeType  ...     woeid  countryCode\n",
            "0    Worldwide    {'code': 19, 'name': 'Supername'}  ...  1         None       \n",
            "1    Winnipeg     {'code': 7, 'name': 'Town'}        ...  2972      CA         \n",
            "2    Ottawa       {'code': 7, 'name': 'Town'}        ...  3369      CA         \n",
            "3    Quebec       {'code': 7, 'name': 'Town'}        ...  3444      CA         \n",
            "4    Montreal     {'code': 7, 'name': 'Town'}        ...  3534      CA         \n",
            "..        ...                             ...        ...   ...      ..         \n",
            "462  Vietnam      {'code': 12, 'name': 'Country'}    ...  23424984  VN         \n",
            "463  Petaling     {'code': 7, 'name': 'Town'}        ...  56013632  MY         \n",
            "464  Hulu Langat  {'code': 7, 'name': 'Town'}        ...  56013645  MY         \n",
            "465  Ahsa         {'code': 9, 'name': 'Unknown'}     ...  56120136  SA         \n",
            "466  Okayama      {'code': 7, 'name': 'Town'}        ...  90036018  JP         \n",
            "\n",
            "[467 rows x 7 columns]\n"
          ]
        }
      ]
    },
    {
      "cell_type": "code",
      "metadata": {
        "id": "nfq7pDRua1I8",
        "outputId": "492f9726-e14d-45ec-99c8-292d6b7c63f8",
        "colab": {
          "base_uri": "https://localhost:8080/",
          "height": 312
        }
      },
      "source": [
        "[i['name'] for i in api.trends_place(id=23424848)[0]['trends']]"
      ],
      "execution_count": null,
      "outputs": [
        {
          "output_type": "error",
          "ename": "TweepError",
          "evalue": "ignored",
          "traceback": [
            "\u001b[0;31m---------------------------------------------------------------------------\u001b[0m",
            "\u001b[0;31mTweepError\u001b[0m                                Traceback (most recent call last)",
            "\u001b[0;32m<ipython-input-35-e6e5d723b13e>\u001b[0m in \u001b[0;36m<module>\u001b[0;34m()\u001b[0m\n\u001b[0;32m----> 1\u001b[0;31m \u001b[0;34m[\u001b[0m\u001b[0mi\u001b[0m\u001b[0;34m[\u001b[0m\u001b[0;34m'name'\u001b[0m\u001b[0;34m]\u001b[0m \u001b[0;32mfor\u001b[0m \u001b[0mi\u001b[0m \u001b[0;32min\u001b[0m \u001b[0mapi\u001b[0m\u001b[0;34m.\u001b[0m\u001b[0mtrends_place\u001b[0m\u001b[0;34m(\u001b[0m\u001b[0mcountryCode\u001b[0m\u001b[0;34m=\u001b[0m\u001b[0;34m\"Ecuador\"\u001b[0m\u001b[0;34m)\u001b[0m\u001b[0;34m[\u001b[0m\u001b[0;36m0\u001b[0m\u001b[0;34m]\u001b[0m\u001b[0;34m[\u001b[0m\u001b[0;34m'trends'\u001b[0m\u001b[0;34m]\u001b[0m\u001b[0;34m]\u001b[0m\u001b[0;34m\u001b[0m\u001b[0;34m\u001b[0m\u001b[0m\n\u001b[0m",
            "\u001b[0;32m/usr/local/lib/python3.7/dist-packages/tweepy/binder.py\u001b[0m in \u001b[0;36m_call\u001b[0;34m(*args, **kwargs)\u001b[0m\n\u001b[1;32m    251\u001b[0m                 \u001b[0;32mreturn\u001b[0m \u001b[0mmethod\u001b[0m\u001b[0;34m\u001b[0m\u001b[0;34m\u001b[0m\u001b[0m\n\u001b[1;32m    252\u001b[0m             \u001b[0;32melse\u001b[0m\u001b[0;34m:\u001b[0m\u001b[0;34m\u001b[0m\u001b[0;34m\u001b[0m\u001b[0m\n\u001b[0;32m--> 253\u001b[0;31m                 \u001b[0;32mreturn\u001b[0m \u001b[0mmethod\u001b[0m\u001b[0;34m.\u001b[0m\u001b[0mexecute\u001b[0m\u001b[0;34m(\u001b[0m\u001b[0;34m)\u001b[0m\u001b[0;34m\u001b[0m\u001b[0;34m\u001b[0m\u001b[0m\n\u001b[0m\u001b[1;32m    254\u001b[0m         \u001b[0;32mfinally\u001b[0m\u001b[0;34m:\u001b[0m\u001b[0;34m\u001b[0m\u001b[0;34m\u001b[0m\u001b[0m\n\u001b[1;32m    255\u001b[0m             \u001b[0mmethod\u001b[0m\u001b[0;34m.\u001b[0m\u001b[0msession\u001b[0m\u001b[0;34m.\u001b[0m\u001b[0mclose\u001b[0m\u001b[0;34m(\u001b[0m\u001b[0;34m)\u001b[0m\u001b[0;34m\u001b[0m\u001b[0;34m\u001b[0m\u001b[0m\n",
            "\u001b[0;32m/usr/local/lib/python3.7/dist-packages/tweepy/binder.py\u001b[0m in \u001b[0;36mexecute\u001b[0;34m(self)\u001b[0m\n\u001b[1;32m    232\u001b[0m                     \u001b[0;32mraise\u001b[0m \u001b[0mRateLimitError\u001b[0m\u001b[0;34m(\u001b[0m\u001b[0merror_msg\u001b[0m\u001b[0;34m,\u001b[0m \u001b[0mresp\u001b[0m\u001b[0;34m)\u001b[0m\u001b[0;34m\u001b[0m\u001b[0;34m\u001b[0m\u001b[0m\n\u001b[1;32m    233\u001b[0m                 \u001b[0;32melse\u001b[0m\u001b[0;34m:\u001b[0m\u001b[0;34m\u001b[0m\u001b[0;34m\u001b[0m\u001b[0m\n\u001b[0;32m--> 234\u001b[0;31m                     \u001b[0;32mraise\u001b[0m \u001b[0mTweepError\u001b[0m\u001b[0;34m(\u001b[0m\u001b[0merror_msg\u001b[0m\u001b[0;34m,\u001b[0m \u001b[0mresp\u001b[0m\u001b[0;34m,\u001b[0m \u001b[0mapi_code\u001b[0m\u001b[0;34m=\u001b[0m\u001b[0mapi_error_code\u001b[0m\u001b[0;34m)\u001b[0m\u001b[0;34m\u001b[0m\u001b[0;34m\u001b[0m\u001b[0m\n\u001b[0m\u001b[1;32m    235\u001b[0m \u001b[0;34m\u001b[0m\u001b[0m\n\u001b[1;32m    236\u001b[0m             \u001b[0;31m# Parse the response payload\u001b[0m\u001b[0;34m\u001b[0m\u001b[0;34m\u001b[0m\u001b[0;34m\u001b[0m\u001b[0m\n",
            "\u001b[0;31mTweepError\u001b[0m: [{'code': 34, 'message': 'Sorry, that page does not exist.'}]"
          ]
        }
      ]
    },
    {
      "cell_type": "markdown",
      "metadata": {
        "id": "qDYI0ltFa1I9"
      },
      "source": [
        "----\n"
      ]
    }
  ]
}