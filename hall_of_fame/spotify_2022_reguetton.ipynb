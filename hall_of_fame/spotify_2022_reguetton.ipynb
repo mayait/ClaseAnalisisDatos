{
  "nbformat": 4,
  "nbformat_minor": 0,
  "metadata": {
    "colab": {
      "name": "spotify_2022.ipynb",
      "provenance": [],
      "collapsed_sections": [],
      "include_colab_link": true
    },
    "kernelspec": {
      "name": "python3",
      "display_name": "Python 3"
    }
  },
  "cells": [
    {
      "cell_type": "markdown",
      "metadata": {
        "id": "view-in-github",
        "colab_type": "text"
      },
      "source": [
        "<a href=\"https://colab.research.google.com/github/mayait/ClaseAnalisisDatos/blob/main/hall_of_fame/spotify_2022_reguetton.ipynb\" target=\"_parent\"><img src=\"https://colab.research.google.com/assets/colab-badge.svg\" alt=\"Open In Colab\"/></a>"
      ]
    },
    {
      "cell_type": "markdown",
      "source": [
        "# Deber de Spotify\n",
        "\n",
        "**Dilan Garcés**\n",
        "\n",
        "**Código:320795**\n",
        "\n",
        "A continuación vamos a realizar ciertos análisis entre diferentes artistas del género urbano, entre ellos: Maluma, Bad Bunny, XxxTentacion y Travis Scott. De esta manera, observaremos diferentes características de artistas del mismo idioma en el género urbano, y además, se compararán entre artistas de habla hispana y habla inglesa para determinar quienes son más populares, quienes tinene canciones más bailables, entre otras cosas. \n",
        "\n"
      ],
      "metadata": {
        "id": "bmnH1LFs4LMR"
      }
    },
    {
      "cell_type": "markdown",
      "source": [
        "## You can find below the explanation of each feature ( past/copy from the Spotify website).\n",
        "\n",
        "**Acousticness:** A confidence measure from 0.0 to 1.0 of whether the track is \n",
        "acoustic. 1.0 represents high confidence the track is acoustic.\n",
        "Danceability: Danceability describes how suitable a track is for dancing based on a combination of musical elements including tempo, rhythm stability, beat strength, and overall regularity. A value of 0.0 is least danceable and 1.0 is most danceable.\n",
        "\n",
        "**Energy:** Energy is a measure from 0.0 to 1.0 and represents a perceptual measure of intensity and activity. Typically, energetic tracks feel fast, loud, and noisy. For example, death metal has high energy, while a Bach prelude scores low on the scale. Perceptual features contributing to this attribute include dynamic range, perceived loudness, timbre, onset rate, and general entropy.\n",
        "\n",
        "**Instrumentalness:** Predicts whether a track contains no vocals. “Ooh” and “aah” sounds are treated as instrumental in this context. Rap or spoken word tracks are clearly “vocal”. The closer the instrumentalness value is to 1.0, the greater likelihood the track contains no vocal content. Values above 0.5 are intended to represent instrumental tracks, but confidence is higher as the value approaches 1.0.\n",
        "\n",
        "**Liveness:** Detects the presence of an audience in the recording. Higher liveness values represent an increased probability that the track was performed live. A value above 0.8 provides a strong likelihood that the track is live.\n",
        "Loudness: the overall loudness of a track in decibels (dB). Loudness values are averaged across the entire track and are useful for comparing relative loudness of tracks. Loudness is the quality of a sound that is the primary psychological correlate of physical strength (amplitude). Values typical range between -60 and 0 db.\n",
        "\n",
        "**Speechiness:** Speechiness detects the presence of spoken words in a track. The more exclusively speech-like the recording (e.g. talk show, audiobook, poetry), the closer to 1.0 the attribute value. Values above 0.66 describe tracks that are probably made entirely of spoken words. Values between 0.33 and 0.66 describe tracks that may contain both music and speech, either in sections or layered, including such cases as rap music. Values below 0.33 most likely represent music and other non-speech-like tracks.\n",
        "\n",
        "**Valence:** A measure from 0.0 to 1.0 describing the musical positiveness conveyed by a track. Tracks with high valence sound more positive (e.g. happy, cheerful, euphoric), while tracks with low valence sound more negative (e.g. sad, depressed, angry).\n",
        "\n",
        "**Tempo:** The overall estimated tempo of a track in beats per minute (BPM). In musical terminology, tempo is the speed or pace of a given piece and derives directly from the average beat duration."
      ],
      "metadata": {
        "id": "IXUmfHoq6xpA"
      }
    },
    {
      "cell_type": "code",
      "metadata": {
        "id": "k59GXwvqDhXp",
        "colab": {
          "base_uri": "https://localhost:8080/"
        },
        "outputId": "7d26d23f-d967-43e4-f430-854ecfc5cb72"
      },
      "source": [
        "# Instala SPOTIPY\n",
        "! pip install spotipy"
      ],
      "execution_count": null,
      "outputs": [
        {
          "output_type": "stream",
          "name": "stdout",
          "text": [
            "Collecting spotipy\n",
            "  Downloading spotipy-2.19.0-py3-none-any.whl (27 kB)\n",
            "Collecting urllib3>=1.26.0\n",
            "  Downloading urllib3-1.26.9-py2.py3-none-any.whl (138 kB)\n",
            "\u001b[K     |████████████████████████████████| 138 kB 4.8 MB/s \n",
            "\u001b[?25hRequirement already satisfied: six>=1.15.0 in /usr/local/lib/python3.7/dist-packages (from spotipy) (1.15.0)\n",
            "Collecting requests>=2.25.0\n",
            "  Downloading requests-2.27.1-py2.py3-none-any.whl (63 kB)\n",
            "\u001b[K     |████████████████████████████████| 63 kB 349 kB/s \n",
            "\u001b[?25hRequirement already satisfied: charset-normalizer~=2.0.0 in /usr/local/lib/python3.7/dist-packages (from requests>=2.25.0->spotipy) (2.0.12)\n",
            "Requirement already satisfied: idna<4,>=2.5 in /usr/local/lib/python3.7/dist-packages (from requests>=2.25.0->spotipy) (2.10)\n",
            "Requirement already satisfied: certifi>=2017.4.17 in /usr/local/lib/python3.7/dist-packages (from requests>=2.25.0->spotipy) (2021.10.8)\n",
            "Installing collected packages: urllib3, requests, spotipy\n",
            "  Attempting uninstall: urllib3\n",
            "    Found existing installation: urllib3 1.24.3\n",
            "    Uninstalling urllib3-1.24.3:\n",
            "      Successfully uninstalled urllib3-1.24.3\n",
            "  Attempting uninstall: requests\n",
            "    Found existing installation: requests 2.23.0\n",
            "    Uninstalling requests-2.23.0:\n",
            "      Successfully uninstalled requests-2.23.0\n",
            "\u001b[31mERROR: pip's dependency resolver does not currently take into account all the packages that are installed. This behaviour is the source of the following dependency conflicts.\n",
            "google-colab 1.0.0 requires requests~=2.23.0, but you have requests 2.27.1 which is incompatible.\n",
            "datascience 0.10.6 requires folium==0.2.1, but you have folium 0.8.3 which is incompatible.\u001b[0m\n",
            "Successfully installed requests-2.27.1 spotipy-2.19.0 urllib3-1.26.9\n"
          ]
        }
      ]
    },
    {
      "cell_type": "code",
      "metadata": {
        "id": "WGQqkJPEDkkM",
        "colab": {
          "base_uri": "https://localhost:8080/"
        },
        "outputId": "b2869cac-af74-4457-b6ce-79f72a2092dd"
      },
      "source": [
        "\n",
        "import spotipy\n",
        "spotify = spotipy.Spotify()\n",
        "import sys\n",
        "import pandas as pd\n",
        "from spotipy.oauth2 import SpotifyClientCredentials\n",
        "from bs4 import BeautifulSoup\n",
        "import requests\n",
        "import lxml\n",
        "import json\n",
        "import seaborn as sns\n",
        "import matplotlib\n",
        "import matplotlib.pyplot as plt\n",
        "from sklearn.linear_model import LinearRegression\n",
        "from sklearn.metrics import r2_score\n",
        "import statsmodels.api as sm"
      ],
      "execution_count": null,
      "outputs": [
        {
          "output_type": "stream",
          "name": "stderr",
          "text": [
            "/usr/local/lib/python3.7/dist-packages/statsmodels/tools/_testing.py:19: FutureWarning: pandas.util.testing is deprecated. Use the functions in the public API at pandas.testing instead.\n",
            "  import pandas.util.testing as tm\n"
          ]
        }
      ]
    },
    {
      "cell_type": "code",
      "metadata": {
        "id": "kf5o8TAEDz7J"
      },
      "source": [
        "# credenciales de spotify\n",
        "client_id = \"596e2e654f7c4c6db94977c8d9f4f894\"\n",
        "client_secret = \"2096de29d91a4e7986ae8739f7d88bd5\""
      ],
      "execution_count": null,
      "outputs": []
    },
    {
      "cell_type": "code",
      "metadata": {
        "id": "O1-FwvN3EQ0p"
      },
      "source": [
        "def get_spotify_credentials():\n",
        "    # Esta funcion conecta spotify con tus credenciales\n",
        "    client_credentials_manager = SpotifyClientCredentials(client_id=client_id, client_secret=client_secret)\n",
        "    sp = spotipy.Spotify(client_credentials_manager=client_credentials_manager)\n",
        "    sp.trace = True\n",
        "    return sp"
      ],
      "execution_count": null,
      "outputs": []
    },
    {
      "cell_type": "code",
      "metadata": {
        "id": "PmPhDGstEtgv"
      },
      "source": [
        "def get_spotify_data(artist_name):\n",
        "\n",
        "    # obtner la autorizaciones con espotify\n",
        "    sp = get_spotify_credentials()\n",
        "\n",
        "    # Busquemos el artista\n",
        "    results = sp.search(q='artist:' + artist_name, type='artist')\n",
        "    items = results['artists']['items']\n",
        "    if len(items) > 0:\n",
        "        artist = items[0]\n",
        "\n",
        "    uri = artist['uri']\n",
        "\n",
        "    # Obtengamos los albums\n",
        "    results = sp.artist_albums(uri, album_type='album')\n",
        "    albums = results['items']\n",
        "\n",
        "    while results['next']:\n",
        "        results = sp.next(results)\n",
        "        albums.extend(results['items'])\n",
        "\n",
        "    uris = []\n",
        "    track_names = []\n",
        "    album_names = []\n",
        "\n",
        "    # Saquemos info de los tracks de los albums\n",
        "    for album in albums:\n",
        "        for t in sp.album(album['uri'])['tracks']['items']:\n",
        "            uris.append(t['uri'])\n",
        "            track_names.append(t['name'])\n",
        "            album_names.append(album['name'])\n",
        "    features = []\n",
        "    for i in range(len(uris)// 100 + 1):\n",
        "        fs = sp.audio_features(uris[i*100:min((i+1)*100, len(uris))])\n",
        "        if fs[0] is not None:\n",
        "            features.extend(fs)\n",
        "    print(features)\n",
        "\n",
        "    # Convirtamos esto a un DataFrame de Pandas!\n",
        "    dat = pd.DataFrame(features)\n",
        "    dat['track_name'] = track_names\n",
        "    dat['album'] = album_names\n",
        "    dat['artists'] = artist_name\n",
        "\n",
        "\n",
        "    dat.set_index('track_name', inplace=True)\n",
        "    dat.drop_duplicates(inplace=True)\n",
        "    dat = dat[~dat.index.duplicated(keep='first')]\n",
        "\n",
        "    return dat"
      ],
      "execution_count": null,
      "outputs": []
    },
    {
      "cell_type": "code",
      "metadata": {
        "id": "-c40ilxvMKag"
      },
      "source": [
        "mi_username = \"dilansoccer1\" # TIP: Prueba el usuario \"spotify\" tiene listas increibles!!"
      ],
      "execution_count": null,
      "outputs": []
    },
    {
      "cell_type": "code",
      "metadata": {
        "id": "_LWd55UgPe6i"
      },
      "source": [
        "def get_user_playlist(username=mi_username, sp=get_spotify_credentials()):\n",
        "    playlists = sp.user_playlists(username) # Obtener todos los playlist\n",
        "    while playlists['next']:\n",
        "        for playlist in playlists['items']:\n",
        "            print(\"ID: {} \\t Canciones {}\\t  Nombre: {} \".\n",
        "                  format(playlist['id'], playlist['tracks']['total'], playlist['name']))\n",
        "        playlists = sp.next(playlists)\n",
        "get_user_playlist()"
      ],
      "execution_count": null,
      "outputs": []
    },
    {
      "cell_type": "code",
      "source": [
        "# También podemos definir una función que obtenga los datos de la lista de reproducción de un usuario.\n",
        "\n",
        "def get_spotify_playlist_data(username='spotify', playlist=None, credentials_file=None):\n",
        "\n",
        "    # Pongamos un limite de tracks a Analizar\n",
        "    track_number_limit = 1000\n",
        "\n",
        "    # De nuevo hagamos login en spotify\n",
        "    # Ven lo util de hacer funciones, no tengo que volverlo a escribir todo!!!!\n",
        "    sp = get_spotify_credentials()\n",
        "\n",
        "    # Saquemos todas las playlists de este usuario\n",
        "    p = None\n",
        "    results = sp.user_playlists(username)\n",
        "    playlists = results['items']\n",
        "\n",
        "    if playlist is None: # Quedemonos con la primera en caso que no haya más\n",
        "        playlist = playlists[0]['name']\n",
        "\n",
        "    for pl in playlists:\n",
        "        if pl['name'] is not None and pl['name'].lower() == playlist.lower():\n",
        "            p = pl\n",
        "            break\n",
        "    while results['next'] and p is None:\n",
        "        results = sp.next(results)\n",
        "        playlists = results['items']\n",
        "        for pl in playlists:\n",
        "            if pl['name'] is not None and pl['name'].lower() == playlist.lower():\n",
        "                p = pl\n",
        "                break\n",
        "\n",
        "    if p is None:\n",
        "        print('No hay playlists')\n",
        "        return\n",
        "\n",
        "    results = sp.user_playlist(p['owner']['id'], p['id'], fields=\"tracks,next\")['tracks']\n",
        "    tracks = results['items']\n",
        "    while results['next'] and len(tracks) < track_number_limit:\n",
        "        results = sp.next(results)\n",
        "        if results['items'][0] is not None:\n",
        "            tracks.extend(results['items'])\n",
        "\n",
        "    ts = []\n",
        "    track_names = []\n",
        "\n",
        "    for t in tracks:\n",
        "        track = t['track']\n",
        "        track['album'] = track['album']['name']\n",
        "        track_names.append(t['track']['name'])\n",
        "        artists = []\n",
        "        for a in track['artists']:\n",
        "            artists.append(a['name'])\n",
        "        track['artists'] = ', '.join(artists)\n",
        "        ts.append(track)\n",
        "\n",
        "    uris = []\n",
        "    dat = pd.DataFrame(ts)\n",
        "\n",
        "    dat.drop(['available_markets', 'disc_number', 'external_ids', 'external_urls'], axis=1, inplace=True)\n",
        "\n",
        "    features = []\n",
        "\n",
        "    # loop to take advantage of spotify being able to get data for 100 tracks at once\n",
        "    for i in range(len(dat)// 100 + 1):\n",
        "        fs = sp.audio_features(dat.uri.iloc[i*100:min((i+1)*100, len(dat))])\n",
        "        if fs[0] is not None:\n",
        "            features.extend(fs)\n",
        "\n",
        "    fs = pd.DataFrame(features)\n",
        "\n",
        "    dat = pd.concat([dat, fs], axis=1)\n",
        "    dat['track_name'] = track_names\n",
        "\n",
        "    # ignore live, remix and deluxe album versions\n",
        "    mask = [(('live' not in s.lower()) and ('deluxe' not in s.lower())\n",
        "             and ('remix' not in s.lower())) for s in dat.album.values]\n",
        "    dat = dat[mask]\n",
        "    mask2 = [(('remix' not in s.lower()) and\n",
        "              'remastered' not in s.lower()\n",
        "             and 'version' not in s.lower()) for s in dat.track_name.values]\n",
        "    dat = dat[mask2]\n",
        "\n",
        "    dat.set_index('track_name', inplace=True)\n",
        "    dat = dat[~dat.index.duplicated(keep='first')]\n",
        "    dat = dat.T[~dat.T.index.duplicated(keep='first')].T\n",
        "\n",
        "    return dat"
      ],
      "metadata": {
        "id": "x4VXHzwhBwvi"
      },
      "execution_count": null,
      "outputs": []
    },
    {
      "cell_type": "code",
      "metadata": {
        "id": "Kui03_bvPzfP"
      },
      "source": [
        "Travis_Scott = get_spotify_playlist_data(username=mi_username, playlist=\"travisscott\")\n",
        "Maluma = get_spotify_playlist_data(username=mi_username, playlist=\"maluma\")\n",
        "XxxTentacion = get_spotify_playlist_data(username=mi_username, playlist=\"tentacion\")\n",
        "Bad_Bunny = get_spotify_playlist_data(username=mi_username, playlist=\"badbunny\")"
      ],
      "execution_count": null,
      "outputs": []
    },
    {
      "cell_type": "code",
      "source": [
        "# Convierte en decimal las columnas que vamos a procesar\n",
        "\n",
        "Travis_Scott['duration_ms'] = Travis_Scott['duration_ms'].astype(float)\n",
        "Travis_Scott['popularity'] = Travis_Scott['popularity'].astype(float)\n",
        "Travis_Scott['danceability'] = Travis_Scott['danceability'].astype(float)\n",
        "Travis_Scott['energy'] = Travis_Scott['energy'].astype(float)\n",
        "Travis_Scott['loudness'] = Travis_Scott['loudness'].astype(float)\n",
        "Travis_Scott['mode'] = Travis_Scott['mode'].astype(float)\n",
        "Travis_Scott['speechiness'] = Travis_Scott['speechiness'].astype(float)\n",
        "Travis_Scott['acousticness'] = Travis_Scott['acousticness'].astype(float)\n",
        "Travis_Scott['instrumentalness'] = Travis_Scott['instrumentalness'].astype(float)\n",
        "Travis_Scott['valence'] = Travis_Scott['valence'].astype(float)\n",
        "Travis_Scott['tempo'] = Travis_Scott['tempo'].astype(float)"
      ],
      "metadata": {
        "id": "cme40xEjfu7l"
      },
      "execution_count": null,
      "outputs": []
    },
    {
      "cell_type": "code",
      "source": [
        "Maluma['duration_ms'] = Maluma['duration_ms'].astype(float)\n",
        "Maluma['popularity'] = Maluma['popularity'].astype(float)\n",
        "Maluma['danceability'] = Maluma['danceability'].astype(float)\n",
        "Maluma['energy'] = Maluma['energy'].astype(float)\n",
        "Maluma['loudness'] = Maluma['loudness'].astype(float)\n",
        "Maluma['mode'] = Maluma['mode'].astype(float)\n",
        "Maluma['speechiness'] = Maluma['speechiness'].astype(float)\n",
        "Maluma['acousticness'] = Maluma['acousticness'].astype(float)\n",
        "Maluma['instrumentalness'] = Maluma['instrumentalness'].astype(float)\n",
        "Maluma['valence'] = Maluma['valence'].astype(float)\n",
        "Maluma['tempo'] = Maluma['tempo'].astype(float)"
      ],
      "metadata": {
        "id": "BBUng9hj7vXf"
      },
      "execution_count": null,
      "outputs": []
    },
    {
      "cell_type": "code",
      "source": [
        "XxxTentacion['duration_ms'] = XxxTentacion['duration_ms'].astype(float)\n",
        "XxxTentacion['popularity'] = XxxTentacion['popularity'].astype(float)\n",
        "XxxTentacion['danceability'] = XxxTentacion['danceability'].astype(float)\n",
        "XxxTentacion['energy'] = XxxTentacion['energy'].astype(float)\n",
        "XxxTentacion['loudness'] = XxxTentacion['loudness'].astype(float)\n",
        "XxxTentacion['mode'] = XxxTentacion['mode'].astype(float)\n",
        "XxxTentacion['speechiness'] = XxxTentacion['speechiness'].astype(float)\n",
        "XxxTentacion['acousticness'] = XxxTentacion['acousticness'].astype(float)\n",
        "XxxTentacion['instrumentalness'] = XxxTentacion['instrumentalness'].astype(float)\n",
        "XxxTentacion['valence'] = XxxTentacion['valence'].astype(float)\n",
        "XxxTentacion['tempo'] = XxxTentacion['tempo'].astype(float)"
      ],
      "metadata": {
        "id": "6iqI2Swf7wV4"
      },
      "execution_count": null,
      "outputs": []
    },
    {
      "cell_type": "code",
      "source": [
        "Bad_Bunny['duration_ms'] = Bad_Bunny['duration_ms'].astype(float)\n",
        "Bad_Bunny['popularity'] = Bad_Bunny['popularity'].astype(float)\n",
        "Bad_Bunny['danceability'] = Bad_Bunny['danceability'].astype(float)\n",
        "Bad_Bunny['energy'] = Bad_Bunny['energy'].astype(float)\n",
        "Bad_Bunny['loudness'] = Bad_Bunny['loudness'].astype(float)\n",
        "Bad_Bunny['mode'] = Bad_Bunny['mode'].astype(float)\n",
        "Bad_Bunny['speechiness'] = Bad_Bunny['speechiness'].astype(float)\n",
        "Bad_Bunny['acousticness'] = Bad_Bunny['acousticness'].astype(float)\n",
        "Bad_Bunny['instrumentalness'] = Bad_Bunny['instrumentalness'].astype(float)\n",
        "Bad_Bunny['valence'] = Bad_Bunny['valence'].astype(float)\n",
        "Bad_Bunny['tempo'] = Bad_Bunny['tempo'].astype(float)"
      ],
      "metadata": {
        "id": "e0-PS1-S9Obm"
      },
      "execution_count": null,
      "outputs": []
    },
    {
      "cell_type": "code",
      "source": [
        "# Podemos hacer una lista de todas las columnas que queremos obtener sumatorias\n",
        "columnas = ['valence', 'speechiness', 'instrumentalness', 'energy', 'danceability', 'acousticness', \"popularity\"]"
      ],
      "metadata": {
        "id": "7t9O5d3NJk2m"
      },
      "execution_count": null,
      "outputs": []
    },
    {
      "cell_type": "code",
      "source": [
        "Maluma_data = Maluma[columnas].mean().to_frame().transpose()\n",
        "XxxTentacion_data = XxxTentacion[columnas].mean().to_frame().transpose()\n",
        "Bad_Bunny_data = Bad_Bunny[columnas].mean().to_frame().transpose()\n",
        "Travis_Scott_data = Travis_Scott[columnas].mean().to_frame().transpose()"
      ],
      "metadata": {
        "id": "ZVxNylt2GV8i"
      },
      "execution_count": null,
      "outputs": []
    },
    {
      "cell_type": "code",
      "source": [
        "Maluma_data['playlist'] = \"Maluma\"\n",
        "Bad_Bunny_data['playlist'] = \"Bad_Bunny\"\n",
        "XxxTentacion_data['playlist'] = \"XxxTentacion\"\n",
        "Travis_Scott_data['playlist'] = \"Travis_Scott\"\n"
      ],
      "metadata": {
        "id": "GIvn8bZ5HEa5"
      },
      "execution_count": null,
      "outputs": []
    },
    {
      "cell_type": "markdown",
      "source": [
        "# **Diagrama de Patel** \n",
        "\n",
        "**¿ Qué artista  utiliza mas instrrumentalidad en sus canciones?**"
      ],
      "metadata": {
        "id": "IfyYlGtt7pMx"
      }
    },
    {
      "cell_type": "code",
      "source": [
        "all_means"
      ],
      "metadata": {
        "colab": {
          "base_uri": "https://localhost:8080/",
          "height": 175
        },
        "id": "bwIgGC-zxtJ1",
        "outputId": "5f5270fc-dfad-49b8-9313-5984a561799f"
      },
      "execution_count": null,
      "outputs": [
        {
          "output_type": "execute_result",
          "data": {
            "text/plain": [
              "    valence  speechiness  instrumentalness    energy  danceability  \\\n",
              "0  0.691021     0.132618          0.000065  0.738061      0.746273   \n",
              "0  0.469552     0.126369          0.000167  0.640517      0.740103   \n",
              "0  0.298645     0.079507          0.000234  0.613966      0.662034   \n",
              "0  0.396763     0.184413          0.006662  0.510927      0.682367   \n",
              "\n",
              "   acousticness  popularity      playlist  \n",
              "0      0.272285   75.636364        Maluma  \n",
              "0      0.336638   75.000000     Bad_Bunny  \n",
              "0      0.143325   75.206897  Travis_Scott  \n",
              "0      0.369027   77.166667  XxxTentacion  "
            ],
            "text/html": [
              "\n",
              "  <div id=\"df-4b4223a5-fb67-4e87-8f54-1c7202deb58d\">\n",
              "    <div class=\"colab-df-container\">\n",
              "      <div>\n",
              "<style scoped>\n",
              "    .dataframe tbody tr th:only-of-type {\n",
              "        vertical-align: middle;\n",
              "    }\n",
              "\n",
              "    .dataframe tbody tr th {\n",
              "        vertical-align: top;\n",
              "    }\n",
              "\n",
              "    .dataframe thead th {\n",
              "        text-align: right;\n",
              "    }\n",
              "</style>\n",
              "<table border=\"1\" class=\"dataframe\">\n",
              "  <thead>\n",
              "    <tr style=\"text-align: right;\">\n",
              "      <th></th>\n",
              "      <th>valence</th>\n",
              "      <th>speechiness</th>\n",
              "      <th>instrumentalness</th>\n",
              "      <th>energy</th>\n",
              "      <th>danceability</th>\n",
              "      <th>acousticness</th>\n",
              "      <th>popularity</th>\n",
              "      <th>playlist</th>\n",
              "    </tr>\n",
              "  </thead>\n",
              "  <tbody>\n",
              "    <tr>\n",
              "      <th>0</th>\n",
              "      <td>0.691021</td>\n",
              "      <td>0.132618</td>\n",
              "      <td>0.000065</td>\n",
              "      <td>0.738061</td>\n",
              "      <td>0.746273</td>\n",
              "      <td>0.272285</td>\n",
              "      <td>75.636364</td>\n",
              "      <td>Maluma</td>\n",
              "    </tr>\n",
              "    <tr>\n",
              "      <th>0</th>\n",
              "      <td>0.469552</td>\n",
              "      <td>0.126369</td>\n",
              "      <td>0.000167</td>\n",
              "      <td>0.640517</td>\n",
              "      <td>0.740103</td>\n",
              "      <td>0.336638</td>\n",
              "      <td>75.000000</td>\n",
              "      <td>Bad_Bunny</td>\n",
              "    </tr>\n",
              "    <tr>\n",
              "      <th>0</th>\n",
              "      <td>0.298645</td>\n",
              "      <td>0.079507</td>\n",
              "      <td>0.000234</td>\n",
              "      <td>0.613966</td>\n",
              "      <td>0.662034</td>\n",
              "      <td>0.143325</td>\n",
              "      <td>75.206897</td>\n",
              "      <td>Travis_Scott</td>\n",
              "    </tr>\n",
              "    <tr>\n",
              "      <th>0</th>\n",
              "      <td>0.396763</td>\n",
              "      <td>0.184413</td>\n",
              "      <td>0.006662</td>\n",
              "      <td>0.510927</td>\n",
              "      <td>0.682367</td>\n",
              "      <td>0.369027</td>\n",
              "      <td>77.166667</td>\n",
              "      <td>XxxTentacion</td>\n",
              "    </tr>\n",
              "  </tbody>\n",
              "</table>\n",
              "</div>\n",
              "      <button class=\"colab-df-convert\" onclick=\"convertToInteractive('df-4b4223a5-fb67-4e87-8f54-1c7202deb58d')\"\n",
              "              title=\"Convert this dataframe to an interactive table.\"\n",
              "              style=\"display:none;\">\n",
              "        \n",
              "  <svg xmlns=\"http://www.w3.org/2000/svg\" height=\"24px\"viewBox=\"0 0 24 24\"\n",
              "       width=\"24px\">\n",
              "    <path d=\"M0 0h24v24H0V0z\" fill=\"none\"/>\n",
              "    <path d=\"M18.56 5.44l.94 2.06.94-2.06 2.06-.94-2.06-.94-.94-2.06-.94 2.06-2.06.94zm-11 1L8.5 8.5l.94-2.06 2.06-.94-2.06-.94L8.5 2.5l-.94 2.06-2.06.94zm10 10l.94 2.06.94-2.06 2.06-.94-2.06-.94-.94-2.06-.94 2.06-2.06.94z\"/><path d=\"M17.41 7.96l-1.37-1.37c-.4-.4-.92-.59-1.43-.59-.52 0-1.04.2-1.43.59L10.3 9.45l-7.72 7.72c-.78.78-.78 2.05 0 2.83L4 21.41c.39.39.9.59 1.41.59.51 0 1.02-.2 1.41-.59l7.78-7.78 2.81-2.81c.8-.78.8-2.07 0-2.86zM5.41 20L4 18.59l7.72-7.72 1.47 1.35L5.41 20z\"/>\n",
              "  </svg>\n",
              "      </button>\n",
              "      \n",
              "  <style>\n",
              "    .colab-df-container {\n",
              "      display:flex;\n",
              "      flex-wrap:wrap;\n",
              "      gap: 12px;\n",
              "    }\n",
              "\n",
              "    .colab-df-convert {\n",
              "      background-color: #E8F0FE;\n",
              "      border: none;\n",
              "      border-radius: 50%;\n",
              "      cursor: pointer;\n",
              "      display: none;\n",
              "      fill: #1967D2;\n",
              "      height: 32px;\n",
              "      padding: 0 0 0 0;\n",
              "      width: 32px;\n",
              "    }\n",
              "\n",
              "    .colab-df-convert:hover {\n",
              "      background-color: #E2EBFA;\n",
              "      box-shadow: 0px 1px 2px rgba(60, 64, 67, 0.3), 0px 1px 3px 1px rgba(60, 64, 67, 0.15);\n",
              "      fill: #174EA6;\n",
              "    }\n",
              "\n",
              "    [theme=dark] .colab-df-convert {\n",
              "      background-color: #3B4455;\n",
              "      fill: #D2E3FC;\n",
              "    }\n",
              "\n",
              "    [theme=dark] .colab-df-convert:hover {\n",
              "      background-color: #434B5C;\n",
              "      box-shadow: 0px 1px 3px 1px rgba(0, 0, 0, 0.15);\n",
              "      filter: drop-shadow(0px 1px 2px rgba(0, 0, 0, 0.3));\n",
              "      fill: #FFFFFF;\n",
              "    }\n",
              "  </style>\n",
              "\n",
              "      <script>\n",
              "        const buttonEl =\n",
              "          document.querySelector('#df-4b4223a5-fb67-4e87-8f54-1c7202deb58d button.colab-df-convert');\n",
              "        buttonEl.style.display =\n",
              "          google.colab.kernel.accessAllowed ? 'block' : 'none';\n",
              "\n",
              "        async function convertToInteractive(key) {\n",
              "          const element = document.querySelector('#df-4b4223a5-fb67-4e87-8f54-1c7202deb58d');\n",
              "          const dataTable =\n",
              "            await google.colab.kernel.invokeFunction('convertToInteractive',\n",
              "                                                     [key], {});\n",
              "          if (!dataTable) return;\n",
              "\n",
              "          const docLinkHtml = 'Like what you see? Visit the ' +\n",
              "            '<a target=\"_blank\" href=https://colab.research.google.com/notebooks/data_table.ipynb>data table notebook</a>'\n",
              "            + ' to learn more about interactive tables.';\n",
              "          element.innerHTML = '';\n",
              "          dataTable['output_type'] = 'display_data';\n",
              "          await google.colab.output.renderOutput(dataTable, element);\n",
              "          const docLink = document.createElement('div');\n",
              "          docLink.innerHTML = docLinkHtml;\n",
              "          element.appendChild(docLink);\n",
              "        }\n",
              "      </script>\n",
              "    </div>\n",
              "  </div>\n",
              "  "
            ]
          },
          "metadata": {},
          "execution_count": 28
        }
      ]
    },
    {
      "cell_type": "code",
      "source": [
        "\n",
        " \n",
        "etiquetas = ['Maluma','Bad_Bunny','Travis_Scott','XxxTentacion']\n",
        "valores = [0.000065+1,0.000167+1,0.000234+1,0.006662+1]\n",
        "colores = ['cyan','green','coral','yellow']\n",
        " \n",
        "plt.pie(x=valores, labels=etiquetas, colors = colores,autopct=\"%0.5f %%\")\n",
        " \n",
        "plt.title('Porcentajes de instrumentalidad de los artistas')\n",
        " \n",
        "plt.show()"
      ],
      "metadata": {
        "colab": {
          "base_uri": "https://localhost:8080/",
          "height": 482
        },
        "id": "zskn-iTbxdmV",
        "outputId": "2aef485b-a226-48b4-add1-d7f81faa1cd2"
      },
      "execution_count": null,
      "outputs": [
        {
          "output_type": "display_data",
          "data": {
            "text/plain": [
              "<Figure size 1152x576 with 1 Axes>"
            ],
            "image/png": "[encoded data removed]"
          },
          "metadata": {}
        }
      ]
    },
    {
      "cell_type": "markdown",
      "source": [
        "# Conclusiones:\n",
        "\n",
        "**Gracias al diagrama de pastel podemos concluir ciertas situaciones.**\n",
        "\n",
        "\n",
        "1.   Los artistas del género urbano en el idioma Inglés son los que más instrumentalidad tienen en sus canciones.\n",
        "2.   Los artistas del género urbano en el idioma español son los que menos instrumentalidad usan, es decir, de acuerdo al contexto de lo que es Instrumentalidad tanto Maluma como Bad Bunny rapean menos que los artistas  en Inglés.\n",
        "\n"
      ],
      "metadata": {
        "id": "XKuyR4p_9EqH"
      }
    },
    {
      "cell_type": "markdown",
      "source": [
        "# **¿ Quién es el artista más popular?**"
      ],
      "metadata": {
        "id": "cNZH9L7qggPf"
      }
    },
    {
      "cell_type": "code",
      "source": [
        "\n",
        "sns.distplot(Maluma['popularity'],  kde=True, label='Maluma')\n",
        "sns.distplot(Bad_Bunny['popularity'], kde=True, label='Bad_Bunny')\n",
        "sns.distplot(Travis_Scott['popularity'], kde=True, label='Travis_Scott')\n",
        "sns.distplot(XxxTentacion['popularity'], kde=True, label='XxxTentacion')\n",
        "sns.set(rc = {'figure.figsize':(16,8)})\n",
        "plt.ylabel(\"Frecuencia Relativa\")\n",
        "plt.legend()\n",
        "\n",
        "plt.show()"
      ],
      "metadata": {
        "id": "ipI0PZq9hzKk",
        "colab": {
          "base_uri": "https://localhost:8080/",
          "height": 661
        },
        "outputId": "6752a4b5-9232-4089-db44-c27aad866c71"
      },
      "execution_count": null,
      "outputs": [
        {
          "output_type": "stream",
          "name": "stderr",
          "text": [
            "/usr/local/lib/python3.7/dist-packages/seaborn/distributions.py:2619: FutureWarning: `distplot` is a deprecated function and will be removed in a future version. Please adapt your code to use either `displot` (a figure-level function with similar flexibility) or `histplot` (an axes-level function for histograms).\n",
            "  warnings.warn(msg, FutureWarning)\n",
            "/usr/local/lib/python3.7/dist-packages/seaborn/distributions.py:2619: FutureWarning: `distplot` is a deprecated function and will be removed in a future version. Please adapt your code to use either `displot` (a figure-level function with similar flexibility) or `histplot` (an axes-level function for histograms).\n",
            "  warnings.warn(msg, FutureWarning)\n",
            "/usr/local/lib/python3.7/dist-packages/seaborn/distributions.py:2619: FutureWarning: `distplot` is a deprecated function and will be removed in a future version. Please adapt your code to use either `displot` (a figure-level function with similar flexibility) or `histplot` (an axes-level function for histograms).\n",
            "  warnings.warn(msg, FutureWarning)\n",
            "/usr/local/lib/python3.7/dist-packages/seaborn/distributions.py:2619: FutureWarning: `distplot` is a deprecated function and will be removed in a future version. Please adapt your code to use either `displot` (a figure-level function with similar flexibility) or `histplot` (an axes-level function for histograms).\n",
            "  warnings.warn(msg, FutureWarning)\n"
          ]
        },
        {
          "output_type": "display_data",
          "data": {
            "text/plain": [
              "<Figure size 1152x576 with 1 Axes>"
            ],
            "image/png": "[encoded data removed]"
          },
          "metadata": {}
        }
      ]
    },
    {
      "cell_type": "markdown",
      "source": [
        "# Conclusión:\n",
        "\n",
        "**Podemos observar gracias al histogramas que el cantante Maluma es el que más canciones populares tiene con respecto a Travis Scott, Bad Bunny y por último el cantante XxxTentación. Además, podemos darnos cuenta que el artista Bad Bunny es el que más variación tiene en sus canciones, es decir, tiene ciertas canciones que no llegan a la media de popularidad.**"
      ],
      "metadata": {
        "id": "IqDbeNX3jPCW"
      }
    },
    {
      "cell_type": "markdown",
      "source": [
        "# **Diagramas de dispersión por artistas para determinar si el hecho de que sus canciones son populares significa que son bailables.**"
      ],
      "metadata": {
        "id": "whlKzryyWnOU"
      }
    },
    {
      "cell_type": "code",
      "source": [
        "X = Maluma['popularity'].values.reshape(-1,1)\n",
        "y = Maluma['danceability'].values.reshape(-1,1)\n",
        "\n",
        "#Creamos la regresión\n",
        "reg = LinearRegression()\n",
        "reg.fit(X, y)"
      ],
      "metadata": {
        "colab": {
          "base_uri": "https://localhost:8080/"
        },
        "id": "HHfOpQhlSrG_",
        "outputId": "7dcc0f03-5c32-4063-ef59-e4f08a340419"
      },
      "execution_count": null,
      "outputs": [
        {
          "output_type": "execute_result",
          "data": {
            "text/plain": [
              "LinearRegression()"
            ]
          },
          "metadata": {},
          "execution_count": 30
        }
      ]
    },
    {
      "cell_type": "code",
      "source": [
        "intercepto = reg.intercept_[0]\n",
        "coeficiente = reg.coef_[0][0]"
      ],
      "metadata": {
        "id": "9YFfZv1xS3D2"
      },
      "execution_count": null,
      "outputs": []
    },
    {
      "cell_type": "code",
      "source": [
        "predictions = reg.predict(X)\n",
        "\n",
        "plt.figure(figsize=(16, 8))\n",
        "\n",
        "# Dibujamos un gráfico de dispersión con Matplotlib para dos variables\n",
        "plt.scatter(\n",
        "    Maluma['popularity'],\n",
        "    Maluma['danceability'],\n",
        ")\n",
        "\n",
        "# Dibujamos la linea\n",
        "plt.plot(\n",
        "    Maluma['popularity'],\n",
        "    predictions,\n",
        "    c='red',\n",
        "    linewidth=2\n",
        ")\n",
        "\n",
        "# Ponemos etiquetas al chart\n",
        "plt.xlabel(\"Popularidad\")\n",
        "plt.ylabel(\"Bailable\")\n",
        "plt.show()"
      ],
      "metadata": {
        "colab": {
          "base_uri": "https://localhost:8080/",
          "height": 497
        },
        "id": "9RlDZRQfS4TW",
        "outputId": "36c39fe1-ead8-46f9-c874-74087ed77aca"
      },
      "execution_count": null,
      "outputs": [
        {
          "output_type": "display_data",
          "data": {
            "text/plain": [
              "<Figure size 1152x576 with 1 Axes>"
            ],
            "image/png": "[encoded data removed]"
          },
          "metadata": {
            "needs_background": "light"
          }
        }
      ]
    },
    {
      "cell_type": "markdown",
      "source": [
        "**En este diagrama de dispersión se puede observar que existe una correlación negativa entre las variables, es decir, mientras más popular es una canción del artista Maluma menos bailable es. De esta manera, podemos concluir que no por el hecho de que una canción del artista Maluma sea popular tiene que ser bailable.**"
      ],
      "metadata": {
        "id": "RquK90aUUEiN"
      }
    },
    {
      "cell_type": "code",
      "source": [
        "X = Bad_Bunny['popularity'].values.reshape(-1,1)\n",
        "y = Bad_Bunny['danceability'].values.reshape(-1,1)\n",
        "\n",
        "#Creamos la regresión\n",
        "reg = LinearRegression()\n",
        "reg.fit(X, y)"
      ],
      "metadata": {
        "colab": {
          "base_uri": "https://localhost:8080/"
        },
        "id": "Mi-r_OhAWLRE",
        "outputId": "55618b48-5c06-4744-91a4-49079232aada"
      },
      "execution_count": null,
      "outputs": [
        {
          "output_type": "execute_result",
          "data": {
            "text/plain": [
              "LinearRegression()"
            ]
          },
          "metadata": {},
          "execution_count": 34
        }
      ]
    },
    {
      "cell_type": "code",
      "source": [
        "intercepto = reg.intercept_[0]\n",
        "coeficiente = reg.coef_[0][0]"
      ],
      "metadata": {
        "id": "mGILASejWMKk"
      },
      "execution_count": null,
      "outputs": []
    },
    {
      "cell_type": "code",
      "source": [
        "predictions = reg.predict(X)\n",
        "\n",
        "plt.figure(figsize=(16, 8))\n",
        "\n",
        "# Dibujamos un gráfico de dispersión con Matplotlib para dos variables\n",
        "plt.scatter(\n",
        "    Bad_Bunny['popularity'],\n",
        "    Bad_Bunny['danceability'],\n",
        ")\n",
        "\n",
        "# Dibujamos la linea\n",
        "plt.plot(\n",
        "    Bad_Bunny['popularity'],\n",
        "    predictions,\n",
        "    c='green',\n",
        "    linewidth=2\n",
        ")\n",
        "\n",
        "# Ponemos etiquetas al chart\n",
        "plt.xlabel(\"Popularidad\")\n",
        "plt.ylabel(\"Bailable\")\n",
        "plt.show()"
      ],
      "metadata": {
        "colab": {
          "base_uri": "https://localhost:8080/",
          "height": 497
        },
        "id": "7FOVynumWPFj",
        "outputId": "0ff1d007-6307-4929-a191-fb3abbbcb037"
      },
      "execution_count": null,
      "outputs": [
        {
          "output_type": "display_data",
          "data": {
            "text/plain": [
              "<Figure size 1152x576 with 1 Axes>"
            ],
            "image/png": "[encoded data removed]"
          },
          "metadata": {
            "needs_background": "light"
          }
        }
      ]
    },
    {
      "cell_type": "markdown",
      "source": [
        "**En este diagrama de dispersión se puede observar que existe prácticamente nula correlación entre las variables, es decir,en la muestra del playlist que se recabo para este análisis se evidencia que existe cierta correlación entre canciones que son muy polulares y al mismo tiempo son my bailables. Sin embargo, gracias a la línea de predicción podemos determinar que mientras más polulares sean las canciones menos bailables serán.**"
      ],
      "metadata": {
        "id": "xOl4B0TLXNuk"
      }
    },
    {
      "cell_type": "code",
      "source": [
        "X = XxxTentacion['popularity'].values.reshape(-1,1)\n",
        "y = XxxTentacion['danceability'].values.reshape(-1,1)\n",
        "\n",
        "#Creamos la regresión\n",
        "reg = LinearRegression()\n",
        "reg.fit(X, y)"
      ],
      "metadata": {
        "colab": {
          "base_uri": "https://localhost:8080/"
        },
        "id": "Z4r0Bc31Y2RD",
        "outputId": "27b384b0-8845-440d-c02f-a7e6c441592c"
      },
      "execution_count": null,
      "outputs": [
        {
          "output_type": "execute_result",
          "data": {
            "text/plain": [
              "LinearRegression()"
            ]
          },
          "metadata": {},
          "execution_count": 37
        }
      ]
    },
    {
      "cell_type": "code",
      "source": [
        "intercepto = reg.intercept_[0]\n",
        "coeficiente = reg.coef_[0][0]"
      ],
      "metadata": {
        "id": "YSq4-ocvY3Vb"
      },
      "execution_count": null,
      "outputs": []
    },
    {
      "cell_type": "code",
      "source": [
        "predictions = reg.predict(X)\n",
        "\n",
        "plt.figure(figsize=(16, 8))\n",
        "\n",
        "# Dibujamos un gráfico de dispersión con Matplotlib para dos variables\n",
        "plt.scatter(\n",
        "    XxxTentacion['popularity'],\n",
        "    XxxTentacion['danceability'],\n",
        ")\n",
        "\n",
        "# Dibujamos la linea\n",
        "plt.plot(\n",
        "    XxxTentacion['popularity'],\n",
        "    predictions,\n",
        "    c='blue',\n",
        "    linewidth=2\n",
        ")\n",
        "\n",
        "# Ponemos etiquetas al chart\n",
        "plt.xlabel(\"Popularidad\")\n",
        "plt.ylabel(\"Bailable\")\n",
        "plt.show()"
      ],
      "metadata": {
        "colab": {
          "base_uri": "https://localhost:8080/",
          "height": 497
        },
        "id": "56IaKcZTY5Yr",
        "outputId": "406ddda3-4392-44b9-9f12-8c68d5e8584d"
      },
      "execution_count": null,
      "outputs": [
        {
          "output_type": "display_data",
          "data": {
            "text/plain": [
              "<Figure size 1152x576 with 1 Axes>"
            ],
            "image/png": "[encoded data removed]"
          },
          "metadata": {
            "needs_background": "light"
          }
        }
      ]
    },
    {
      "cell_type": "markdown",
      "source": [
        "**Gracias a este diagrama de dispersión podemos darnos cuenta que existe una correlación positiva entre las variables de Pupularidad y Bailabilidad de las canciones del artista Xxx Tenatacion, es decir, mientras sus canciones sean más populares son más bailables.**"
      ],
      "metadata": {
        "id": "am9ofRRLaLjq"
      }
    },
    {
      "cell_type": "code",
      "source": [
        "X = Travis_Scott['popularity'].values.reshape(-1,1)\n",
        "y = Travis_Scott['danceability'].values.reshape(-1,1)\n",
        "\n",
        "#Creamos la regresión\n",
        "reg = LinearRegression()\n",
        "reg.fit(X, y)"
      ],
      "metadata": {
        "colab": {
          "base_uri": "https://localhost:8080/"
        },
        "id": "ys5MXdhoZMfa",
        "outputId": "ff43a2d4-b8ef-42d1-8148-9bf1a5f2b14d"
      },
      "execution_count": null,
      "outputs": [
        {
          "output_type": "execute_result",
          "data": {
            "text/plain": [
              "LinearRegression()"
            ]
          },
          "metadata": {},
          "execution_count": 46
        }
      ]
    },
    {
      "cell_type": "code",
      "source": [
        "intercepto = reg.intercept_[0]\n",
        "coeficiente = reg.coef_[0][0]"
      ],
      "metadata": {
        "id": "4MwL-89PZOiL"
      },
      "execution_count": null,
      "outputs": []
    },
    {
      "cell_type": "code",
      "source": [
        "predictions = reg.predict(X)\n",
        "\n",
        "plt.figure(figsize=(16, 8))\n",
        "\n",
        "# Dibujamos un gráfico de dispersión con Matplotlib para dos variables\n",
        "plt.scatter(\n",
        "    Travis_Scott['popularity'],\n",
        "    Travis_Scott['danceability'],\n",
        ")\n",
        "\n",
        "# Dibujamos la linea\n",
        "plt.plot(\n",
        "    Travis_Scott['popularity'],\n",
        "    predictions,\n",
        "    c='brown',\n",
        "    linewidth=2\n",
        ")\n",
        "\n",
        "# Ponemos etiquetas al chart\n",
        "plt.xlabel(\"Popularidad\")\n",
        "plt.ylabel(\"Bailable\")\n",
        "plt.show()"
      ],
      "metadata": {
        "colab": {
          "base_uri": "https://localhost:8080/",
          "height": 497
        },
        "id": "4u9q6nIGZQbr",
        "outputId": "7610993d-1416-4ad2-bf36-4ccab60907a0"
      },
      "execution_count": null,
      "outputs": [
        {
          "output_type": "display_data",
          "data": {
            "text/plain": [
              "<Figure size 1152x576 with 1 Axes>"
            ],
            "image/png": "[encoded data removed]"
          },
          "metadata": {
            "needs_background": "light"
          }
        }
      ]
    },
    {
      "cell_type": "markdown",
      "source": [
        "**Gracias a este diagrama de dispersión podemos darnos cuenta que existe una correlación positiva entre las variables de Pupularidad y Bailabilidad de las canciones del artista Travis Scott, es decir, mientras sus canciones sean más populares son más bailables.**"
      ],
      "metadata": {
        "id": "kJy3eYRVa50y"
      }
    },
    {
      "cell_type": "markdown",
      "source": [
        "# Conclusión final:\n",
        "\n",
        "**Nos podemos dar cuenta gracias a los diagramas de dispersión que las canciones del género urbano de artistas de habla hispana tienen una correlación negativa entre sus variables de Popularidad y Bailabilidad, es decir, mientras sus canciones son más populares quiere decir que son menos bailables.**\n",
        "\n",
        "**Mientras que por el contrario, las canciones del género urbano de artistas de habla inglesa tienen una correlación positiva en sus variables de Popularidad y Bailabilidad, es decir, mientras sus canciones son más populares quiere decir que son más bailables.**"
      ],
      "metadata": {
        "id": "4BqCZQSabRxR"
      }
    },
    {
      "cell_type": "markdown",
      "source": [
        "# **¿ Qué cantante tiene la música más alegre?**"
      ],
      "metadata": {
        "id": "RZFwGOU_xjje"
      }
    },
    {
      "cell_type": "code",
      "source": [
        "# Unimos los dataframes"
      ],
      "metadata": {
        "id": "Xpv4aCF8SNz3"
      },
      "execution_count": null,
      "outputs": []
    },
    {
      "cell_type": "code",
      "source": [
        "all_means = pd.concat([Maluma_data,Bad_Bunny_data,Travis_Scott_data,XxxTentacion_data])\n"
      ],
      "metadata": {
        "id": "nMKxlKI1SQG_"
      },
      "execution_count": null,
      "outputs": []
    },
    {
      "cell_type": "code",
      "source": [
        "# el indice de las filas deberia ser el playlist\n",
        "all_means.set_index('playlist')"
      ],
      "metadata": {
        "id": "jSOj6vnZTpFh",
        "colab": {
          "base_uri": "https://localhost:8080/",
          "height": 206
        },
        "outputId": "0bd878f7-4177-4433-8cd9-694e40ed063c"
      },
      "execution_count": null,
      "outputs": [
        {
          "output_type": "execute_result",
          "data": {
            "text/plain": [
              "               valence  speechiness  instrumentalness    energy  danceability  \\\n",
              "playlist                                                                        \n",
              "Maluma        0.691021     0.132618          0.000065  0.738061      0.746273   \n",
              "Bad_Bunny     0.469552     0.126369          0.000167  0.640517      0.740103   \n",
              "Travis_Scott  0.298645     0.079507          0.000234  0.613966      0.662034   \n",
              "XxxTentacion  0.396763     0.184413          0.006662  0.510927      0.682367   \n",
              "\n",
              "              acousticness  popularity  \n",
              "playlist                                \n",
              "Maluma            0.272285   75.636364  \n",
              "Bad_Bunny         0.336638   75.000000  \n",
              "Travis_Scott      0.143325   75.206897  \n",
              "XxxTentacion      0.369027   77.166667  "
            ],
            "text/html": [
              "\n",
              "  <div id=\"df-d72efdf5-ef55-482b-9cfd-b60c6e98cf25\">\n",
              "    <div class=\"colab-df-container\">\n",
              "      <div>\n",
              "<style scoped>\n",
              "    .dataframe tbody tr th:only-of-type {\n",
              "        vertical-align: middle;\n",
              "    }\n",
              "\n",
              "    .dataframe tbody tr th {\n",
              "        vertical-align: top;\n",
              "    }\n",
              "\n",
              "    .dataframe thead th {\n",
              "        text-align: right;\n",
              "    }\n",
              "</style>\n",
              "<table border=\"1\" class=\"dataframe\">\n",
              "  <thead>\n",
              "    <tr style=\"text-align: right;\">\n",
              "      <th></th>\n",
              "      <th>valence</th>\n",
              "      <th>speechiness</th>\n",
              "      <th>instrumentalness</th>\n",
              "      <th>energy</th>\n",
              "      <th>danceability</th>\n",
              "      <th>acousticness</th>\n",
              "      <th>popularity</th>\n",
              "    </tr>\n",
              "    <tr>\n",
              "      <th>playlist</th>\n",
              "      <th></th>\n",
              "      <th></th>\n",
              "      <th></th>\n",
              "      <th></th>\n",
              "      <th></th>\n",
              "      <th></th>\n",
              "      <th></th>\n",
              "    </tr>\n",
              "  </thead>\n",
              "  <tbody>\n",
              "    <tr>\n",
              "      <th>Maluma</th>\n",
              "      <td>0.691021</td>\n",
              "      <td>0.132618</td>\n",
              "      <td>0.000065</td>\n",
              "      <td>0.738061</td>\n",
              "      <td>0.746273</td>\n",
              "      <td>0.272285</td>\n",
              "      <td>75.636364</td>\n",
              "    </tr>\n",
              "    <tr>\n",
              "      <th>Bad_Bunny</th>\n",
              "      <td>0.469552</td>\n",
              "      <td>0.126369</td>\n",
              "      <td>0.000167</td>\n",
              "      <td>0.640517</td>\n",
              "      <td>0.740103</td>\n",
              "      <td>0.336638</td>\n",
              "      <td>75.000000</td>\n",
              "    </tr>\n",
              "    <tr>\n",
              "      <th>Travis_Scott</th>\n",
              "      <td>0.298645</td>\n",
              "      <td>0.079507</td>\n",
              "      <td>0.000234</td>\n",
              "      <td>0.613966</td>\n",
              "      <td>0.662034</td>\n",
              "      <td>0.143325</td>\n",
              "      <td>75.206897</td>\n",
              "    </tr>\n",
              "    <tr>\n",
              "      <th>XxxTentacion</th>\n",
              "      <td>0.396763</td>\n",
              "      <td>0.184413</td>\n",
              "      <td>0.006662</td>\n",
              "      <td>0.510927</td>\n",
              "      <td>0.682367</td>\n",
              "      <td>0.369027</td>\n",
              "      <td>77.166667</td>\n",
              "    </tr>\n",
              "  </tbody>\n",
              "</table>\n",
              "</div>\n",
              "      <button class=\"colab-df-convert\" onclick=\"convertToInteractive('df-d72efdf5-ef55-482b-9cfd-b60c6e98cf25')\"\n",
              "              title=\"Convert this dataframe to an interactive table.\"\n",
              "              style=\"display:none;\">\n",
              "        \n",
              "  <svg xmlns=\"http://www.w3.org/2000/svg\" height=\"24px\"viewBox=\"0 0 24 24\"\n",
              "       width=\"24px\">\n",
              "    <path d=\"M0 0h24v24H0V0z\" fill=\"none\"/>\n",
              "    <path d=\"M18.56 5.44l.94 2.06.94-2.06 2.06-.94-2.06-.94-.94-2.06-.94 2.06-2.06.94zm-11 1L8.5 8.5l.94-2.06 2.06-.94-2.06-.94L8.5 2.5l-.94 2.06-2.06.94zm10 10l.94 2.06.94-2.06 2.06-.94-2.06-.94-.94-2.06-.94 2.06-2.06.94z\"/><path d=\"M17.41 7.96l-1.37-1.37c-.4-.4-.92-.59-1.43-.59-.52 0-1.04.2-1.43.59L10.3 9.45l-7.72 7.72c-.78.78-.78 2.05 0 2.83L4 21.41c.39.39.9.59 1.41.59.51 0 1.02-.2 1.41-.59l7.78-7.78 2.81-2.81c.8-.78.8-2.07 0-2.86zM5.41 20L4 18.59l7.72-7.72 1.47 1.35L5.41 20z\"/>\n",
              "  </svg>\n",
              "      </button>\n",
              "      \n",
              "  <style>\n",
              "    .colab-df-container {\n",
              "      display:flex;\n",
              "      flex-wrap:wrap;\n",
              "      gap: 12px;\n",
              "    }\n",
              "\n",
              "    .colab-df-convert {\n",
              "      background-color: #E8F0FE;\n",
              "      border: none;\n",
              "      border-radius: 50%;\n",
              "      cursor: pointer;\n",
              "      display: none;\n",
              "      fill: #1967D2;\n",
              "      height: 32px;\n",
              "      padding: 0 0 0 0;\n",
              "      width: 32px;\n",
              "    }\n",
              "\n",
              "    .colab-df-convert:hover {\n",
              "      background-color: #E2EBFA;\n",
              "      box-shadow: 0px 1px 2px rgba(60, 64, 67, 0.3), 0px 1px 3px 1px rgba(60, 64, 67, 0.15);\n",
              "      fill: #174EA6;\n",
              "    }\n",
              "\n",
              "    [theme=dark] .colab-df-convert {\n",
              "      background-color: #3B4455;\n",
              "      fill: #D2E3FC;\n",
              "    }\n",
              "\n",
              "    [theme=dark] .colab-df-convert:hover {\n",
              "      background-color: #434B5C;\n",
              "      box-shadow: 0px 1px 3px 1px rgba(0, 0, 0, 0.15);\n",
              "      filter: drop-shadow(0px 1px 2px rgba(0, 0, 0, 0.3));\n",
              "      fill: #FFFFFF;\n",
              "    }\n",
              "  </style>\n",
              "\n",
              "      <script>\n",
              "        const buttonEl =\n",
              "          document.querySelector('#df-d72efdf5-ef55-482b-9cfd-b60c6e98cf25 button.colab-df-convert');\n",
              "        buttonEl.style.display =\n",
              "          google.colab.kernel.accessAllowed ? 'block' : 'none';\n",
              "\n",
              "        async function convertToInteractive(key) {\n",
              "          const element = document.querySelector('#df-d72efdf5-ef55-482b-9cfd-b60c6e98cf25');\n",
              "          const dataTable =\n",
              "            await google.colab.kernel.invokeFunction('convertToInteractive',\n",
              "                                                     [key], {});\n",
              "          if (!dataTable) return;\n",
              "\n",
              "          const docLinkHtml = 'Like what you see? Visit the ' +\n",
              "            '<a target=\"_blank\" href=https://colab.research.google.com/notebooks/data_table.ipynb>data table notebook</a>'\n",
              "            + ' to learn more about interactive tables.';\n",
              "          element.innerHTML = '';\n",
              "          dataTable['output_type'] = 'display_data';\n",
              "          await google.colab.output.renderOutput(dataTable, element);\n",
              "          const docLink = document.createElement('div');\n",
              "          docLink.innerHTML = docLinkHtml;\n",
              "          element.appendChild(docLink);\n",
              "        }\n",
              "      </script>\n",
              "    </div>\n",
              "  </div>\n",
              "  "
            ]
          },
          "metadata": {},
          "execution_count": 22
        }
      ]
    },
    {
      "cell_type": "code",
      "source": [
        "all_means.plot(kind='bar', y=\"valence\",x=\"playlist\")"
      ],
      "metadata": {
        "id": "nCjNyxa2SuyM",
        "colab": {
          "base_uri": "https://localhost:8080/",
          "height": 583
        },
        "outputId": "6058beaf-0ec3-4de6-ab4b-b37cf327fb67"
      },
      "execution_count": null,
      "outputs": [
        {
          "output_type": "execute_result",
          "data": {
            "text/plain": [
              "<matplotlib.axes._subplots.AxesSubplot at 0x7fa4bc8c2090>"
            ]
          },
          "metadata": {},
          "execution_count": 111
        },
        {
          "output_type": "display_data",
          "data": {
            "text/plain": [
              "<Figure size 1728x576 with 1 Axes>"
            ],
            "image/png": "[encoded data removed]"
          },
          "metadata": {}
        }
      ]
    },
    {
      "cell_type": "markdown",
      "source": [
        "# **Conclusiones**\n",
        "\n",
        "**Gracias al diagrama de barras se puede observar que el cantante Maluma es quien posee las canciones más alegres entre todos los demás artistas. Al mismo tiempo, podemos observar que el cantante Travis Scott vive en una depresión total con respecto a los demás artistas.**\n",
        "\n",
        "**Además, podemos hacer cierta relación y determinar que los cantante del género urbano de habla hispana tienen canciones más alegres que los cantantes de habla inglesa.**"
      ],
      "metadata": {
        "id": "SJRXgfUcyHJ1"
      }
    },
    {
      "cell_type": "markdown",
      "source": [
        "# **¿ Qué artista tiene más energía en sus canciones**"
      ],
      "metadata": {
        "id": "qdSpgW0ENlG_"
      }
    },
    {
      "cell_type": "code",
      "source": [
        "sns.distplot(Maluma['energy'],  kde=True, label='Maluma')\n",
        "sns.distplot(Bad_Bunny['energy'], kde=True, label='Bad_Bunny')\n",
        "sns.distplot(XxxTentacion['energy'], kde=True, label='Bad_Bunny')\n",
        "sns.distplot(Travis_Scott['energy'], kde=True, label='Bad_Bunny')\n",
        "\n",
        "\n",
        "plt.ylabel(\"Frecuencia Relativa\")\n",
        "plt.legend()\n",
        "\n",
        "plt.show()"
      ],
      "metadata": {
        "id": "rdRRIrzWA7aA",
        "colab": {
          "base_uri": "https://localhost:8080/",
          "height": 661
        },
        "outputId": "d3cd07e2-8cdf-4bf6-929d-64d990058115"
      },
      "execution_count": null,
      "outputs": [
        {
          "output_type": "stream",
          "name": "stderr",
          "text": [
            "/usr/local/lib/python3.7/dist-packages/seaborn/distributions.py:2619: FutureWarning: `distplot` is a deprecated function and will be removed in a future version. Please adapt your code to use either `displot` (a figure-level function with similar flexibility) or `histplot` (an axes-level function for histograms).\n",
            "  warnings.warn(msg, FutureWarning)\n",
            "/usr/local/lib/python3.7/dist-packages/seaborn/distributions.py:2619: FutureWarning: `distplot` is a deprecated function and will be removed in a future version. Please adapt your code to use either `displot` (a figure-level function with similar flexibility) or `histplot` (an axes-level function for histograms).\n",
            "  warnings.warn(msg, FutureWarning)\n",
            "/usr/local/lib/python3.7/dist-packages/seaborn/distributions.py:2619: FutureWarning: `distplot` is a deprecated function and will be removed in a future version. Please adapt your code to use either `displot` (a figure-level function with similar flexibility) or `histplot` (an axes-level function for histograms).\n",
            "  warnings.warn(msg, FutureWarning)\n",
            "/usr/local/lib/python3.7/dist-packages/seaborn/distributions.py:2619: FutureWarning: `distplot` is a deprecated function and will be removed in a future version. Please adapt your code to use either `displot` (a figure-level function with similar flexibility) or `histplot` (an axes-level function for histograms).\n",
            "  warnings.warn(msg, FutureWarning)\n"
          ]
        },
        {
          "output_type": "display_data",
          "data": {
            "text/plain": [
              "<Figure size 1152x576 with 1 Axes>"
            ],
            "image/png": "[encoded data removed]"
          },
          "metadata": {}
        }
      ]
    },
    {
      "cell_type": "markdown",
      "source": [
        "# Conclusiones:\n",
        "\n",
        "\n",
        "**1.   Gracias al diagrama se puede identificar que el artista Maluma es quien realiza sus canciones con más energía, es decir, sus pistas son más fuertes, rápidas y ruidosas que los demás.**\n",
        "\n",
        "\n",
        "**2.   Se puede observar que el artista Bad Bunny es quien posee mayor varianza en sus pistas, es decir, en muchas de ellas tiene más energía que en otras.**\n",
        "\n"
      ],
      "metadata": {
        "id": "272Td9IqN0t_"
      }
    },
    {
      "cell_type": "markdown",
      "source": [
        "# **Conclusiones Genrales**"
      ],
      "metadata": {
        "id": "ppl3_K1bIS5J"
      }
    },
    {
      "cell_type": "code",
      "source": [
        "Maluma.boxplot(column=['speechiness', 'acousticness' ],figsize=(15,3));\n"
      ],
      "metadata": {
        "id": "-APP0IpJ-qnD",
        "colab": {
          "base_uri": "https://localhost:8080/",
          "height": 213
        },
        "outputId": "dd8871ba-be80-48fd-b1c0-5902fa98dfe6"
      },
      "execution_count": null,
      "outputs": [
        {
          "output_type": "display_data",
          "data": {
            "text/plain": [
              "<Figure size 1080x216 with 1 Axes>"
            ],
            "image/png": "[encoded data removed]"
          },
          "metadata": {}
        }
      ]
    },
    {
      "cell_type": "markdown",
      "source": [
        "\n",
        "\n",
        "*   Se puede observar en el diagrama de cajas y bigotes de Acousticness que el artista Maluma tiene un 50% de sus canciones dentro de un rango de canciones que no terminan de ser acústicas como tal, con un outlayer, es decir, una canción que es muy acústica.\n",
        "*   Se puede observar en el diagrama de cajas y bigotes de Speechiness que el artista Maluma tiene un 50% de sus canciones dentro de un rango de canciones que representan que el artista en su gran mayoría de canciones utiliza sinplemente música con ciertos outlayer, es decir, canciones que son tanto música como momentos hablados.\n",
        "\n",
        "\n",
        "\n",
        "\n",
        "\n"
      ],
      "metadata": {
        "id": "93EkU3L5IfU6"
      }
    },
    {
      "cell_type": "code",
      "source": [
        "\n",
        "XxxTentacion.boxplot(column=['speechiness', 'acousticness' ],figsize=(15,3));"
      ],
      "metadata": {
        "colab": {
          "base_uri": "https://localhost:8080/",
          "height": 213
        },
        "id": "XHxP57OOFZ7s",
        "outputId": "5018f469-9eb1-470e-f207-5e358548b0db"
      },
      "execution_count": null,
      "outputs": [
        {
          "output_type": "display_data",
          "data": {
            "text/plain": [
              "<Figure size 1080x216 with 1 Axes>"
            ],
            "image/png": "[encoded data removed]"
          },
          "metadata": {}
        }
      ]
    },
    {
      "cell_type": "markdown",
      "source": [
        "*   Se puede observar en el diagrama de cajas y bigotes de Acousticness que el artista XxxTentacion tiene un 50% de sus canciones dentro de un rango de canciones que van desde poco acústicas a muy acústicas, y el 50% e canciones restantes estarían en su mayoria en muy acústicas.\n",
        "*   Se puede observar en el diagrama de cajas y bigotes de Speechiness que el artista XxxTentacion tiene un 50% de sus canciones dentro de un rango de canciones que representan que el artista en su gran mayoría de canciones utiliza sinplemente música, y el otro 50% son canciones que tampoco utilizan momentos hablados.\n"
      ],
      "metadata": {
        "id": "nbWmvgXxMJKw"
      }
    },
    {
      "cell_type": "code",
      "source": [
        "Travis_Scott.boxplot(column=['speechiness', 'acousticness' ],figsize=(15,3));"
      ],
      "metadata": {
        "colab": {
          "base_uri": "https://localhost:8080/",
          "height": 214
        },
        "id": "YoaEyM8bGx_q",
        "outputId": "b56316f8-5a3c-4edf-af0c-75d3f83ed060"
      },
      "execution_count": null,
      "outputs": [
        {
          "output_type": "display_data",
          "data": {
            "text/plain": [
              "<Figure size 1080x216 with 1 Axes>"
            ],
            "image/png": "[encoded data removed]"
          },
          "metadata": {}
        }
      ]
    },
    {
      "cell_type": "markdown",
      "source": [
        "*   Se puede observar en el diagrama de cajas y bigotes de Acousticness que el artista Travis Scott tiene un 50% de sus canciones dentro de un rango de canciones que van desde poco acústicas a acústicas, y el 50% e canciones restantes estarían en su mayoria en muy acústicas.\n",
        "*   Se puede observar en el diagrama de cajas y bigotes de Speechiness que el artista Travis Scott  tiene un 50% de sus canciones dentro de un rango de canciones que representan que el artista en su gran mayoría de canciones utiliza sinplemente música, y existen ciertos outlyers que nos indican que en varias canciones el cantante si utiliza momentos hablados en sus canciones."
      ],
      "metadata": {
        "id": "5eMtCYWFM3SX"
      }
    },
    {
      "cell_type": "code",
      "source": [
        "Bad_Bunny.boxplot(column=['speechiness', 'acousticness' ],figsize=(15,3));"
      ],
      "metadata": {
        "colab": {
          "base_uri": "https://localhost:8080/",
          "height": 213
        },
        "id": "ChwNnhS5H4Ai",
        "outputId": "8df5b22f-3adc-4573-c6cb-c6091a3d0e48"
      },
      "execution_count": null,
      "outputs": [
        {
          "output_type": "display_data",
          "data": {
            "text/plain": [
              "<Figure size 1080x216 with 1 Axes>"
            ],
            "image/png": "[encoded data removed]"
          },
          "metadata": {}
        }
      ]
    },
    {
      "cell_type": "markdown",
      "source": [
        "*   Se puede observar en el diagrama de cajas y bigotes de Acousticness que el artista Bad Bunny tiene un 50% de sus canciones dentro de un rango de canciones que van desde poco acústicas a muy acústicas, y cieto outlayer que nos indica una canción muy acústica dentro de su playlist.\n",
        "*   Se puede observar en el diagrama de cajas y bigotes de Speechiness que el artista Bad Bunny tiene un 50% de sus canciones dentro de un rango de canciones que representan que el artista en su gran mayoría de canciones utiliza sinplemente música, y el otro 50% son canciones que tampoco utilizan momentos hablados."
      ],
      "metadata": {
        "id": "o7brTxhGNOko"
      }
    }
  ]
}