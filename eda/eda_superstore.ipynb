{
  "nbformat": 4,
  "nbformat_minor": 0,
  "metadata": {
    "colab": {
      "name": "EDA - SuperStore.ipynb",
      "provenance": [],
      "authorship_tag": "ABX9TyOz5mvkMGSNHEvmXGatV6N5",
      "include_colab_link": true
    },
    "kernelspec": {
      "name": "python3",
      "display_name": "Python 3"
    },
    "language_info": {
      "name": "python"
    }
  },
  "cells": [
    {
      "cell_type": "markdown",
      "metadata": {
        "id": "view-in-github",
        "colab_type": "text"
      },
      "source": [
        "<a href=\"https://colab.research.google.com/github/mayait/ClaseAnalisisDatos/blob/main/eda/eda_superstore.ipynb\" target=\"_parent\"><img src=\"https://colab.research.google.com/assets/colab-badge.svg\" alt=\"Open In Colab\"/></a>"
      ]
    },
    {
      "cell_type": "markdown",
      "source": [
        "<a href=\"https://kaggle.com/kernels/welcome?src=https://github.com/mayait/ClaseAnalisisDatos/blob/main/python101/intro_to_python.ipynb\"><img src=\"https://kaggle.com/static/images/open-in-kaggle.svg\" width=120 /></a>\n",
        "\n",
        "<a href=\"https://colab.research.google.com/github/mayait/ClaseAnalisisDatos/blob/main/python101/intro_to_python.ipynb\"><img src=\"https://colab.research.google.com/assets/colab-badge.svg\" width=120 /></a>"
      ],
      "metadata": {
        "id": "MPYfNc03WIv4"
      }
    },
    {
      "cell_type": "code",
      "source": [
        "#@title Nombre del estudiante\n",
        "Estudiante = \"\" #@param {type:\"string\"}\n",
        "Código = \"\" #@param {type:\"string\"}"
      ],
      "metadata": {
        "id": "oEfCT92oL7bC",
        "cellView": "form"
      },
      "execution_count": null,
      "outputs": []
    },
    {
      "cell_type": "markdown",
      "metadata": {
        "id": "2iC8KkmSTzOK"
      },
      "source": [
        "\n",
        "<img src=\"https://usfq.leanlabs.co/static/img/logo-bp.png\" width=\"200\"/>\n",
        "\n",
        "# **Exploratory Data Analysis Superstore**\n"
      ]
    }
  ]
}